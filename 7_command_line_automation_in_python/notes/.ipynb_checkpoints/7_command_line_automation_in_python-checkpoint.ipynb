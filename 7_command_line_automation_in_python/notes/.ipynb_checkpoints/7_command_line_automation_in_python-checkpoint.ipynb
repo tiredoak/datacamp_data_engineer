{
 "cells": [
  {
   "cell_type": "markdown",
   "metadata": {},
   "source": [
    "# IPython shell commands"
   ]
  },
  {
   "cell_type": "markdown",
   "metadata": {},
   "source": [
    "The 3 Laws of Automation:\n",
    "\n",
    "1. Any task that is talked about being automated, will be automated\n",
    "2. If it isn't, it's broken\n",
    "3. If a human is doing it, a machine will eventually do it better\n",
    "\n",
    "Learning Objectives:\n",
    "- IPython shell commands\n",
    "- Shell commands with subprocess\n",
    "    - e.g. capturing the output of shell commands and sending as input to processes\n",
    "- Walking the file system\n",
    "    - e.g. find files matching a pattern or look for a specific file type\n",
    "- Command-line functions\n",
    "    - e.g. automate tasks using a library, run scripts in cron\n",
    "    \n",
    "## Using IPython with shell commands\n",
    "    \n",
    "To use shell commands, just precede it with `!`"
   ]
  },
  {
   "cell_type": "code",
   "execution_count": 1,
   "metadata": {},
   "outputs": [
    {
     "name": "stdout",
     "output_type": "stream",
     "text": [
      "Filesystem                Size   Used  Avail Capacity iused               ifree %iused  Mounted on\r\n",
      "/dev/disk1s1             233Gi  138Gi   86Gi    62% 1179390 9223372036853596417    0%   /\r\n",
      "devfs                    408Ki  408Ki    0Bi   100%    1412                   0  100%   /dev\r\n",
      "/dev/disk1s4             233Gi  8.0Gi   86Gi     9%       8 9223372036854775799    0%   /private/var/vm\r\n",
      "map -hosts                 0Bi    0Bi    0Bi   100%       0                   0  100%   /net\r\n",
      "map auto_home              0Bi    0Bi    0Bi   100%       0                   0  100%   /home\r\n",
      "EgnyteDriveFS@egnytefs0  233Gi  147Gi   86Gi    64% 1179390 9223372036853596417    0%   /Volumes/jellyfish\r\n",
      "/dev/disk1s3             233Gi  487Mi   86Gi     1%      34 9223372036854775773    0%   /Volumes/Recovery\r\n"
     ]
    }
   ],
   "source": [
    "# returns an SList datatype\n",
    "!df -h"
   ]
  },
  {
   "cell_type": "code",
   "execution_count": 2,
   "metadata": {},
   "outputs": [],
   "source": [
    "# we can assign the output to a python variable\n",
    "ls = !ls"
   ]
  },
  {
   "cell_type": "code",
   "execution_count": 4,
   "metadata": {},
   "outputs": [
    {
     "data": {
      "text/plain": [
       "IPython.utils.text.SList"
      ]
     },
     "execution_count": 4,
     "metadata": {},
     "output_type": "execute_result"
    }
   ],
   "source": [
    "# the type is SList\n",
    "type(ls)"
   ]
  },
  {
   "cell_type": "markdown",
   "metadata": {},
   "source": [
    "> `!` only works in Jupyter, it will throw an error in python"
   ]
  },
  {
   "cell_type": "markdown",
   "metadata": {},
   "source": [
    "## Passing python programs to the interpreter\n",
    "\n",
    "There are two ways:\n",
    "1. Passing a script to the Python interpreter"
   ]
  },
  {
   "cell_type": "code",
   "execution_count": 7,
   "metadata": {},
   "outputs": [],
   "source": [
    "# Create a simple script \n",
    "!echo \"print('hello world!')\" > hello_world.py"
   ]
  },
  {
   "cell_type": "code",
   "execution_count": 8,
   "metadata": {},
   "outputs": [
    {
     "name": "stdout",
     "output_type": "stream",
     "text": [
      "hello world!\r\n"
     ]
    }
   ],
   "source": [
    "!python hello_world.py"
   ]
  },
  {
   "cell_type": "markdown",
   "metadata": {},
   "source": [
    "2. Passing a program to the Python interpreter via `-c`"
   ]
  },
  {
   "cell_type": "code",
   "execution_count": 9,
   "metadata": {},
   "outputs": [
    {
     "name": "stdout",
     "output_type": "stream",
     "text": [
      "2020-02-12 14:17:25.603871\r\n"
     ]
    }
   ],
   "source": [
    "!python -c \"import datetime; print(datetime.datetime.now())\""
   ]
  },
  {
   "cell_type": "markdown",
   "metadata": {},
   "source": [
    "## Using python and shell together\n",
    "\n",
    "We can assign a shell variable to python."
   ]
  },
  {
   "cell_type": "code",
   "execution_count": 20,
   "metadata": {},
   "outputs": [
    {
     "data": {
      "text/plain": [
       "1"
      ]
     },
     "execution_count": 20,
     "metadata": {},
     "output_type": "execute_result"
    }
   ],
   "source": [
    "# How many csvs exist in the previous course?\n",
    "csvs = !ls -h ../../6_data_processing_in_shell/notes/*.csv\n",
    "len(csvs)"
   ]
  },
  {
   "cell_type": "code",
   "execution_count": 21,
   "metadata": {},
   "outputs": [
    {
     "data": {
      "text/plain": [
       "100"
      ]
     },
     "execution_count": 21,
     "metadata": {},
     "output_type": "execute_result"
    }
   ],
   "source": [
    "# How many txts exist in the previous course?\n",
    "txts = !ls -h ../../6_data_processing_in_shell/notes/*.txt\n",
    "len(txts)"
   ]
  },
  {
   "cell_type": "markdown",
   "metadata": {},
   "source": [
    "## Capture IPython Shell output\n",
    "\n",
    "One of the most important principles of UNIX is that the OS should b+provide simple tools which can be combined to create sophisticated solutions."
   ]
  },
  {
   "cell_type": "markdown",
   "metadata": {},
   "source": [
    "1. Grab the output with `!`"
   ]
  },
  {
   "cell_type": "code",
   "execution_count": 57,
   "metadata": {},
   "outputs": [],
   "source": [
    "# Grab the 5th col, filesize, and sum it for all printing the sum in the end\n",
    "total_size = !ls -l | awk '{ SUM+=$5} END {print SUM}'"
   ]
  },
  {
   "cell_type": "code",
   "execution_count": 66,
   "metadata": {},
   "outputs": [
    {
     "data": {
      "text/plain": [
       "['7531']"
      ]
     },
     "execution_count": 66,
     "metadata": {},
     "output_type": "execute_result"
    }
   ],
   "source": [
    "total_size"
   ]
  },
  {
   "cell_type": "markdown",
   "metadata": {},
   "source": [
    "2. Grab the output with `%%bash --out output`"
   ]
  },
  {
   "cell_type": "code",
   "execution_count": 67,
   "metadata": {},
   "outputs": [],
   "source": [
    "%%bash --out output\n",
    "ls -l | awk '{ SUM+=$5} END {print SUM}'"
   ]
  },
  {
   "cell_type": "code",
   "execution_count": 68,
   "metadata": {},
   "outputs": [
    {
     "data": {
      "text/plain": [
       "str"
      ]
     },
     "execution_count": 68,
     "metadata": {},
     "output_type": "execute_result"
    }
   ],
   "source": [
    "type(output)"
   ]
  },
  {
   "cell_type": "code",
   "execution_count": 69,
   "metadata": {},
   "outputs": [
    {
     "data": {
      "text/plain": [
       "'8340\\n'"
      ]
     },
     "execution_count": 69,
     "metadata": {},
     "output_type": "execute_result"
    }
   ],
   "source": [
    "output"
   ]
  },
  {
   "cell_type": "markdown",
   "metadata": {},
   "source": [
    "### Comparison\n",
    "\n",
    "They are pretty similar but the first options returns an `SList` file type, which is very useful."
   ]
  },
  {
   "cell_type": "code",
   "execution_count": 70,
   "metadata": {},
   "outputs": [
    {
     "data": {
      "text/plain": [
       "IPython.utils.text.SList"
      ]
     },
     "execution_count": 70,
     "metadata": {},
     "output_type": "execute_result"
    }
   ],
   "source": [
    "type(total_size)"
   ]
  },
  {
   "cell_type": "markdown",
   "metadata": {},
   "source": [
    "### Capturing the STDERR\n",
    "\n",
    "We might want to capture the standard error stream to debug errors later."
   ]
  },
  {
   "cell_type": "markdown",
   "metadata": {},
   "source": [
    "Saves the output into the variable `output`"
   ]
  },
  {
   "cell_type": "code",
   "execution_count": 78,
   "metadata": {},
   "outputs": [],
   "source": [
    "%%bash --out output --err error\n",
    "ls -l | awk '{ SUM+=$5} END {print SUM}'\n",
    "echo \"no error so far\" >&2"
   ]
  },
  {
   "cell_type": "markdown",
   "metadata": {},
   "source": [
    "We now captured the output and the error in different variables"
   ]
  },
  {
   "cell_type": "code",
   "execution_count": 79,
   "metadata": {},
   "outputs": [
    {
     "data": {
      "text/plain": [
       "'no error so far\\n'"
      ]
     },
     "execution_count": 79,
     "metadata": {},
     "output_type": "execute_result"
    }
   ],
   "source": [
    "error"
   ]
  },
  {
   "cell_type": "code",
   "execution_count": 80,
   "metadata": {},
   "outputs": [
    {
     "data": {
      "text/plain": [
       "'10086\\n'"
      ]
     },
     "execution_count": 80,
     "metadata": {},
     "output_type": "execute_result"
    }
   ],
   "source": [
    "output"
   ]
  },
  {
   "cell_type": "markdown",
   "metadata": {},
   "source": [
    "## Automate with SList\n",
    "\n",
    "The SList format comes from the need to interface python with IPython shell commands. An SList object comes by default with three methods:\n",
    "- `fields`\n",
    "- `grep`\n",
    "- `sort`"
   ]
  },
  {
   "cell_type": "markdown",
   "metadata": {},
   "source": [
    "### `fields`\n",
    "\n",
    "`fields` simulates the `awk` command. "
   ]
  },
  {
   "cell_type": "code",
   "execution_count": 81,
   "metadata": {},
   "outputs": [],
   "source": [
    "ls = !ls -l /usr/bin"
   ]
  },
  {
   "cell_type": "code",
   "execution_count": 84,
   "metadata": {},
   "outputs": [
    {
     "data": {
      "text/plain": [
       "IPython.utils.text.SList"
      ]
     },
     "execution_count": 84,
     "metadata": {},
     "output_type": "execute_result"
    }
   ],
   "source": [
    "# Confirming it's an SList\n",
    "type(ls)"
   ]
  },
  {
   "cell_type": "code",
   "execution_count": 95,
   "metadata": {},
   "outputs": [
    {
     "data": {
      "text/plain": [
       "['4 23', '1 22', '1 29']"
      ]
     },
     "execution_count": 95,
     "metadata": {},
     "output_type": "execute_result"
    }
   ],
   "source": [
    "# Grabbing just the modification dates for a few ls entries\n",
    "# Collect whitespace-separated fields\n",
    "ls.fields(1,5)[1:4]"
   ]
  },
  {
   "cell_type": "markdown",
   "metadata": {},
   "source": [
    "### `grep`\n",
    "\n",
    "`grep`-like operations on the output of a shell command."
   ]
  },
  {
   "cell_type": "code",
   "execution_count": 96,
   "metadata": {},
   "outputs": [],
   "source": [
    "ls = !ls -l /usr/bin"
   ]
  },
  {
   "cell_type": "code",
   "execution_count": 98,
   "metadata": {},
   "outputs": [
    {
     "data": {
      "text/plain": [
       "['-rwxr-xr-x   1 root   wheel       1621 23 Feb  2019 kill.d',\n",
       " '-rwxr-xr-x   1 root   wheel      23984 29 Jul  2019 killall',\n",
       " '-rwxr-xr-x   1 root   wheel      30512 29 Jul  2019 pkill']"
      ]
     },
     "execution_count": 98,
     "metadata": {},
     "output_type": "execute_result"
    }
   ],
   "source": [
    "# Find utilities that will kill UNIX processes\n",
    "ls.grep(\"kill\")"
   ]
  },
  {
   "cell_type": "markdown",
   "metadata": {},
   "source": [
    "### `sort`\n",
    "\n",
    "Performs sorting on the output of a shell command.\n",
    "- first argument is which column to sort on\n",
    "- second argument is whether to sort by alphabetical or numerical values"
   ]
  },
  {
   "cell_type": "code",
   "execution_count": 99,
   "metadata": {},
   "outputs": [],
   "source": [
    "disk_usage = !df -h"
   ]
  },
  {
   "cell_type": "code",
   "execution_count": 100,
   "metadata": {},
   "outputs": [
    {
     "data": {
      "text/plain": [
       "['Filesystem                Size   Used  Avail Capacity iused               ifree %iused  Mounted on',\n",
       " 'map -hosts                 0Bi    0Bi    0Bi   100%       0                   0  100%   /net',\n",
       " 'map auto_home              0Bi    0Bi    0Bi   100%       0                   0  100%   /home',\n",
       " '/dev/disk1s4             233Gi  8.0Gi   86Gi     9%       8 9223372036854775799    0%   /private/var/vm',\n",
       " '/dev/disk1s3             233Gi  487Mi   86Gi     1%      34 9223372036854775773    0%   /Volumes/Recovery',\n",
       " 'devfs                    408Ki  408Ki    0Bi   100%    1410                   0  100%   /dev',\n",
       " '/dev/disk1s1             233Gi  138Gi   86Gi    62% 1179826 9223372036853595981    0%   /',\n",
       " 'EgnyteDriveFS@egnytefs0  233Gi  147Gi   86Gi    64% 1179826 9223372036853595981    0%   /Volumes/jellyfish']"
      ]
     },
     "execution_count": 100,
     "metadata": {},
     "output_type": "execute_result"
    }
   ],
   "source": [
    "disk_usage.sort(5, nums = True)"
   ]
  },
  {
   "cell_type": "markdown",
   "metadata": {},
   "source": [
    "### Python lists and SLists\n",
    "\n",
    "We can use some methods from lists on SLists, like `pop`. It's also very easy to convert SLists to python lists with `list()`"
   ]
  },
  {
   "cell_type": "code",
   "execution_count": 103,
   "metadata": {},
   "outputs": [
    {
     "data": {
      "text/plain": [
       "['Filesystem                Size   Used  Avail Capacity iused               ifree %iused  Mounted on',\n",
       " '/dev/disk1s1             233Gi  138Gi   86Gi    62% 1179826 9223372036853595981    0%   /',\n",
       " 'devfs                    408Ki  408Ki    0Bi   100%    1410                   0  100%   /dev',\n",
       " '/dev/disk1s4             233Gi  8.0Gi   86Gi     9%       8 9223372036854775799    0%   /private/var/vm',\n",
       " 'map -hosts                 0Bi    0Bi    0Bi   100%       0                   0  100%   /net',\n",
       " 'map auto_home              0Bi    0Bi    0Bi   100%       0                   0  100%   /home',\n",
       " 'EgnyteDriveFS@egnytefs0  233Gi  147Gi   86Gi    64% 1179826 9223372036853595981    0%   /Volumes/jellyfish',\n",
       " '/dev/disk1s3             233Gi  487Mi   86Gi     1%      34 9223372036854775773    0%   /Volumes/Recovery']"
      ]
     },
     "execution_count": 103,
     "metadata": {},
     "output_type": "execute_result"
    }
   ],
   "source": [
    "list(disk_usage)"
   ]
  },
  {
   "cell_type": "markdown",
   "metadata": {},
   "source": [
    "## Find our jupyter notebooks with `grep`\n"
   ]
  },
  {
   "cell_type": "code",
   "execution_count": 107,
   "metadata": {},
   "outputs": [],
   "source": [
    "files = !ls ~/dev/stuff/sandbox/miguel"
   ]
  },
  {
   "cell_type": "code",
   "execution_count": 108,
   "metadata": {},
   "outputs": [
    {
     "data": {
      "text/plain": [
       "['1_introduction_to_data_engineering-1_introduction_to_data_engineering.ipynb',\n",
       " 'Dataflow.ipynb',\n",
       " 'Untitled.ipynb',\n",
       " 'Untitled1.ipynb',\n",
       " 'Untitled10.ipynb',\n",
       " 'Untitled11.ipynb',\n",
       " 'Untitled12.ipynb',\n",
       " 'Untitled13.ipynb',\n",
       " 'Untitled14.ipynb',\n",
       " 'Untitled15.ipynb',\n",
       " 'Untitled16.ipynb',\n",
       " 'Untitled17.ipynb',\n",
       " 'Untitled18.ipynb',\n",
       " 'Untitled19.ipynb',\n",
       " 'Untitled2.ipynb',\n",
       " 'Untitled20-Copy1.ipynb',\n",
       " 'Untitled20.ipynb',\n",
       " 'Untitled21.ipynb',\n",
       " 'Untitled22.ipynb',\n",
       " 'Untitled23.ipynb',\n",
       " 'Untitled24.ipynb',\n",
       " 'Untitled25.ipynb',\n",
       " 'Untitled26.ipynb',\n",
       " 'Untitled27.ipynb',\n",
       " 'Untitled28.ipynb',\n",
       " 'Untitled29.ipynb',\n",
       " 'Untitled3.ipynb',\n",
       " 'Untitled30.ipynb',\n",
       " 'Untitled31.ipynb',\n",
       " 'Untitled32.ipynb',\n",
       " 'Untitled33.ipynb',\n",
       " 'Untitled35.ipynb',\n",
       " 'Untitled4.ipynb',\n",
       " 'Untitled5.ipynb',\n",
       " 'Untitled6.ipynb',\n",
       " 'Untitled7.ipynb',\n",
       " 'Untitled8.ipynb',\n",
       " 'Untitled9.ipynb',\n",
       " 'adjust-merge_data-Copy1.ipynb',\n",
       " 'adjust-merge_data.ipynb',\n",
       " 'airflow-appsflyer-clean_mmp.ipynb',\n",
       " 'airflow-appsflyer-clean_reports.ipynb',\n",
       " 'airflow-appsflyer-pre_process_reports.ipynb',\n",
       " 'airflow-appsflyer-pull_in_app_events_hourly.ipynb',\n",
       " 'airflow-ds.ipynb',\n",
       " 'airflow-kochava-pre_process_reports.ipynb',\n",
       " 'airflow-merge_appsflyer_installs.ipynb',\n",
       " 'airflow-new_appsflyer_process.ipynb',\n",
       " 'airflow-test_processed_appsflyer_reports.ipynb',\n",
       " 'airflow-test_scripts-Copy1.ipynb',\n",
       " 'airflow-test_scripts-Copy2.ipynb',\n",
       " 'airflow-test_scripts-Copy3.ipynb',\n",
       " 'airflow-test_scripts-appsflyer.ipynb',\n",
       " 'airflow-test_scripts.ipynb',\n",
       " 'analysis-sample_download_of_rankings.ipynb',\n",
       " 'appsflyer_merge.ipynb',\n",
       " 'biquery-sample.ipynb',\n",
       " 'bulk-add_new_keywords.ipynb',\n",
       " 'bulk-change_bids.ipynb',\n",
       " 'bulk-change_daily_caps-Copy1.ipynb',\n",
       " 'bulk-change_daily_caps.ipynb',\n",
       " 'bulk-change_keywords_ebates.ipynb',\n",
       " 'bulk-make_adgroup_copies.ipynb',\n",
       " 'bulk-new_adgroups_ebates.ipynb',\n",
       " 'bulk-repeating_campaigns_for_hotels-Copy1.ipynb',\n",
       " 'bulk-repeating_campaigns_for_hotels-Copy2.ipynb',\n",
       " 'bulk-repeating_campaigns_for_hotels.ipynb',\n",
       " 'bulk-upload_campaigns-Copy1.ipynb',\n",
       " 'bulk-upload_campaigns.ipynb',\n",
       " 'change_bids_under_armour.ipynb',\n",
       " 'clean_processed.ipynb',\n",
       " 'client_analysis.ipynb',\n",
       " 'composer-clean_keywords.ipynb',\n",
       " 'composer-hourly_reports.ipynb',\n",
       " 'create_ebates_reports.ipynb',\n",
       " 'create_ebates_reports_campaigns_keywords_adgroups.ipynb',\n",
       " 'data_engineering_notes.ipynb',\n",
       " 'datacamp-introduction_to_pyspark-getting_to_know_pyspark.ipynb',\n",
       " 'datacamp-introduction_to_pyspark-manipulating_data-Copy1.ipynb',\n",
       " 'datacamp-introduction_to_pyspark-manipulating_data-getting_started_with_machine_learning_pipelines.ipynb',\n",
       " 'datacamp-introduction_to_pyspark-manipulating_data-model_tuning_and_selection.ipynb',\n",
       " 'datacamp-introduction_to_pyspark-manipulating_data.ipynb',\n",
       " 'discovery_to_exact_v2.ipynb',\n",
       " 'ebay_merge_test.ipynb',\n",
       " 'email_notifications_jenny.ipynb',\n",
       " 'football_index_fix.ipynb',\n",
       " 'forecast_search_ads_spend.ipynb',\n",
       " 'gcs-clean_ups.ipynb',\n",
       " 'hotels-airflow-internal_report.ipynb',\n",
       " 'hotels_new_lte_month_type.ipynb',\n",
       " 'hotels_quick_check.ipynb',\n",
       " 'hotelscom-analysis-creative_set_changes.ipynb',\n",
       " 'hotelscom-analysis_q3-Copy1.ipynb',\n",
       " 'hotelscom-analysis_q3-campaigns.ipynb',\n",
       " 'hotelscom-analysis_q3-keywords.ipynb',\n",
       " 'hotelscom-analysis_q3.ipynb',\n",
       " 'hotelscom-monthly_analysis.ipynb',\n",
       " 'hotelscom-new_excel.ipynb',\n",
       " 'keyword_volume_notification.ipynb',\n",
       " 'kochava-test.ipynb',\n",
       " 'louis-last_exercise-Copy1.ipynb',\n",
       " 'louis-last_exercise.ipynb',\n",
       " 'module.ipynb',\n",
       " 'process_in_app_events_accuweather.ipynb',\n",
       " 'pull_events_accuweather.ipynb',\n",
       " 'rakuten-analysis-Copy1.ipynb',\n",
       " 'rakuten-analysis.ipynb',\n",
       " 'rakuten_notebook.ipynb',\n",
       " 'rebates-merge_ftbs.ipynb',\n",
       " 'search_ads_uploader.ipynb',\n",
       " 'sideline_upload_negative_keywords_from_exact_match.ipynb',\n",
       " 'sofi-appsflyer_installs.ipynb',\n",
       " 'under_armour.ipynb',\n",
       " 'utils-break_in_months.ipynb']"
      ]
     },
     "execution_count": 108,
     "metadata": {},
     "output_type": "execute_result"
    }
   ],
   "source": [
    "files.grep(\".ipynb\")"
   ]
  },
  {
   "cell_type": "markdown",
   "metadata": {},
   "source": [
    "# Shell commands with subprocess\n",
    "\n",
    "One of Python's strengths is the ability to glue itself to other languages and systems. There's a Python API for almost everything, including one to interact with the UNIX shell. We can for example:\n",
    "- send data to UNIX processes\n",
    "- listen to output\n",
    "- kill processes\n",
    "\n",
    "## subprocess.run\n",
    "\n",
    "This is the simplest way to run shell commands in Python 3.5+. Takes a list of strings and runs the command without capturing the output."
   ]
  },
  {
   "cell_type": "code",
   "execution_count": 111,
   "metadata": {},
   "outputs": [
    {
     "data": {
      "text/plain": [
       "CompletedProcess(args=['ls', '-l'], returncode=0)"
      ]
     },
     "execution_count": 111,
     "metadata": {},
     "output_type": "execute_result"
    }
   ],
   "source": [
    "import subprocess\n",
    "\n",
    "subprocess.run([\"ls\", \"-l\"])"
   ]
  },
  {
   "cell_type": "markdown",
   "metadata": {},
   "source": [
    "Dealing with Unicode in Python 3+ is more powerful but also more complex. Bytes strings need to be converted to `utf-8` to be processed further. This is accomplished with:\n",
    "\n",
    "`regular_string = res.decode(\"utf-8\")`"
   ]
  },
  {
   "cell_type": "markdown",
   "metadata": {},
   "source": [
    "## Status codes\n",
    "\n",
    "UNIX commands return a status code which represents the status of their completion. \n",
    "- `0` means successful\n",
    "- non-zero means unsuccessful"
   ]
  },
  {
   "cell_type": "code",
   "execution_count": 112,
   "metadata": {},
   "outputs": [
    {
     "name": "stdout",
     "output_type": "stream",
     "text": [
      "total 56\r\n",
      "-rw-r--r--  1 miguel.carvalho  staff  22745 12 Feb 15:43 7_command_line_automation_in_python.ipynb\r\n",
      "-rw-r--r--  1 miguel.carvalho  staff     22 12 Feb 14:16 hello_world.py\r\n",
      "0\r\n"
     ]
    }
   ],
   "source": [
    "# Printing the status code of the last run command\n",
    "# Notice the 0 at the end: was successful\n",
    "!ls -l; echo $?"
   ]
  },
  {
   "cell_type": "code",
   "execution_count": 121,
   "metadata": {},
   "outputs": [
    {
     "name": "stdout",
     "output_type": "stream",
     "text": [
      "0\r\n",
      "ls: illegal option -- -\r\n",
      "usage: ls [-ABCFGHLOPRSTUWabcdefghiklmnopqrstuwx1] [file ...]\r\n"
     ]
    }
   ],
   "source": [
    "# A non-successful example; didn't quite work?\n",
    "!ls --bogus | echo $?"
   ]
  },
  {
   "cell_type": "markdown",
   "metadata": {},
   "source": [
    "### Capturing the status code with the subprocess"
   ]
  },
  {
   "cell_type": "code",
   "execution_count": 125,
   "metadata": {},
   "outputs": [
    {
     "data": {
      "text/plain": [
       "CompletedProcess(args=['ls', '-l'], returncode=0)"
      ]
     },
     "execution_count": 125,
     "metadata": {},
     "output_type": "execute_result"
    }
   ],
   "source": [
    "## Notice how returncode is part of the CompletedProcess object\n",
    "subprocess.run([\"ls\", \"-l\"])"
   ]
  },
  {
   "cell_type": "code",
   "execution_count": 126,
   "metadata": {},
   "outputs": [
    {
     "data": {
      "text/plain": [
       "0"
      ]
     },
     "execution_count": 126,
     "metadata": {},
     "output_type": "execute_result"
    }
   ],
   "source": [
    "## Successful example\n",
    "subprocess.run([\"ls\", \"-l\"]).returncode"
   ]
  },
  {
   "cell_type": "code",
   "execution_count": 127,
   "metadata": {},
   "outputs": [
    {
     "data": {
      "text/plain": [
       "1"
      ]
     },
     "execution_count": 127,
     "metadata": {},
     "output_type": "execute_result"
    }
   ],
   "source": [
    "## Non-successful example\n",
    "subprocess.run([\"ls\", \"--lame\"]).returncode"
   ]
  },
  {
   "cell_type": "markdown",
   "metadata": {},
   "source": [
    "### Control flow for status codes\n",
    "\n",
    "We can check for status codes in a control flow structure to account for possible errors."
   ]
  },
  {
   "cell_type": "code",
   "execution_count": 146,
   "metadata": {},
   "outputs": [],
   "source": [
    "good_user_input = \"--lame\"\n",
    "out = subprocess.run([\"ls\", good_user_input])"
   ]
  },
  {
   "cell_type": "code",
   "execution_count": 147,
   "metadata": {},
   "outputs": [
    {
     "data": {
      "text/plain": [
       "CompletedProcess(args=['ls', '--lame'], returncode=1)"
      ]
     },
     "execution_count": 147,
     "metadata": {},
     "output_type": "execute_result"
    }
   ],
   "source": [
    "out"
   ]
  },
  {
   "cell_type": "code",
   "execution_count": 148,
   "metadata": {},
   "outputs": [
    {
     "name": "stdout",
     "output_type": "stream",
     "text": [
      "Unsuccessful\n"
     ]
    }
   ],
   "source": [
    "if out.returncode == 0:\n",
    "    print(\"Success\")\n",
    "else:\n",
    "    print(\"Unsuccessful\")"
   ]
  },
  {
   "cell_type": "code",
   "execution_count": 151,
   "metadata": {},
   "outputs": [
    {
     "name": "stdout",
     "output_type": "stream",
     "text": [
      "b'This is a test\\n'\n",
      "b'This is a test\\n'\n",
      "b'This is a test\\n'\n",
      "b'This is a test\\n'\n",
      "b'This is a test\\n'\n",
      "b'This is a test\\n'\n",
      "b'This is a test\\n'\n",
      "b'This is a test\\n'\n",
      "b'This is a test'\n",
      "b'      36 test.txt\\n'\n"
     ]
    }
   ],
   "source": [
    "# Running two subprocesses from Python\n",
    "import subprocess\n",
    "\n",
    "# Execute Unix command `head` safely as items in a list\n",
    "with subprocess.Popen([\"head\", \"test.txt\"], stdout=subprocess.PIPE) as head:\n",
    "  \n",
    "  # Print each line of list returned by `stdout.readlines()`\n",
    "    for line in head.stdout.readlines():\n",
    "        print(line)\n",
    "\n",
    "    # Execute Unix command `wc -w` safely as items in a list\n",
    "with subprocess.Popen([\"wc\", \"-w\", \"test.txt\"], stdout=subprocess.PIPE) as word_count:\n",
    "\n",
    "    # Print the string output of standard out of `wc -w`\n",
    "    print(word_count.stdout.read())"
   ]
  },
  {
   "cell_type": "code",
   "execution_count": 152,
   "metadata": {},
   "outputs": [
    {
     "name": "stdout",
     "output_type": "stream",
     "text": [
      "b'USER               PID  %CPU %MEM      VSZ    RSS   TT  STAT STARTED      TIME COMMAND\\n'\n",
      "b'miguel.carvalho  27559  44.5  2.1  5305376 348504   ??  R    Mon09am  33:46.78 /Applications/Google Chrome.app/Contents/Frameworks/Google Chrome Framework.framework/Versions/79.0.3945.130/Helpers/Google Chrome Helper (Renderer).app/Contents/MacOS/Google Chrome Helper (Renderer) --type=renderer --field-trial-handle=1718379636,13713992639962531526,9614059912419605989,131072 --lang=en-GB --metrics-client-id=456e333c-a0e4-4a67-aeb8-dd377343299f --enable-auto-reload --num-raster-threads=4 --enable-zero-copy --enable-gpu-memory-buffer-compositor-resources --enable-main-frame-before-activation --service-request-channel-token=317072197224008168 --renderer-client-id=7410 --no-v8-untrusted-code-mitigations --seatbelt-client=140\\n'\n",
      "b'_windowserver      173  14.7  0.9  8985756 153036   ??  Ss   30Jan20 519:13.67 /System/Library/PrivateFrameworks/SkyLight.framework/Resources/WindowServer -daemon\\n'\n",
      "b'miguel.carvalho   1495  13.8  3.1  6179580 519572   ??  S    30Jan20 379:36.81 /Applications/Google Chrome.app/Contents/MacOS/Google Chrome -psn_0_311372\\n'\n",
      "b'miguel.carvalho  83865   9.5  0.9  6152824 148056   ??  S    Tue10am  30:38.04 /Applications/Signal.app/Contents/Frameworks/Signal Helper (Renderer).app/Contents/MacOS/Signal Helper (Renderer) --type=renderer --field-trial-handle=1718379636,11979823252173767048,15333028790267754431,131072 --disable-features=LayoutNG,SpareRendererForSitePerProcess --lang=en-GB --app-path=/Applications/Signal.app/Contents/Resources/app.asar --no-sandbox --no-zygote --native-window-open --preload=/Applications/Signal.app/Contents/Resources/app.asar/preload.js --background-color=#2090EA --num-raster-threads=4 --enable-zero-copy --enable-gpu-memory-buffer-compositor-resources --enable-main-frame-before-activation --service-request-channel-token=6149424131508292980 --renderer-client-id=4 --no-v8-untrusted-code-mitigations\\n'\n",
      "b'miguel.carvalho   1577   7.6  2.9  6116940 481612   ??  S    30Jan20 212:14.53 /Applications/Google Chrome.app/Contents/Frameworks/Google Chrome Framework.framework/Versions/79.0.3945.130/Helpers/Google Chrome Helper (GPU).app/Contents/MacOS/Google Chrome Helper (GPU) --type=gpu-process --field-trial-handle=1718379636,13713992639962531526,9614059912419605989,131072 --metrics-client-id=456e333c-a0e4-4a67-aeb8-dd377343299f --gpu-preferences=KAAAAAAAAAAgAAAAAAAAAAAAYAAAAAAAEAAAAAAAAAAAAAAAAAAAAOgAAAAcAAAA4AAAAAAAAADoAAAAAAAAAPAAAAAAAAAA+AAAAAAAAAAAAQAAAAAAAAgBAAAAAAAAEAEAAAAAAAAYAQAAAAAAACABAAAAAAAAKAEAAAAAAAAwAQAAAAAAADgBAAAAAAAAQAEAAAAAAABIAQAAAAAAAFABAAAAAAAAWAEAAAAAAABgAQAAAAAAAGgBAAAAAAAAcAEAAAAAAAB4AQAAAAAAAIABAAAAAAAAiAEAAAAAAACQAQAAAAAAAJgBAAAAAAAAoAEAAAAAAACoAQAAAAAAALABAAAAAAAAuAEAAAAAAAAQAAAAAAAAAAAAAAAAAAAAEAAAAAAAAAAAAAAABgAAABAAAAAAAAAAAAAAAAcAAAAQAAAAAAAAAAAAAAAIAAAAEAAAAAAAAAAAAAAACgAAABAAAAAAAAAAAAAAAAsAAAAQAAAAAAAAAAAAAAANAAAAEAAAAAAAAAABAAAAAAAAABAAAAAAAAAAAQAAAAYAAAAQAAAAAAAAAAEAAAAHAAAAEAAAAAAAAAABAAAACAAAABAAAAAAAAAAAQAAAAoAAAAQAAAAAAAAAAEAAAALAAAAEAAAAAAAAAABAAAADQAAABAAAAAAAAAABAAAAAAAAAAQAAAAAAAAAAQAAAAGAAAAEAAAAAAAAAAEAAAABwAAABAAAAAAAAAABAAAAAgAAAAQAAAAAAAAAAQAAAAKAAAAEAAAAAAAAAAEAAAACwAAABAAAAAAAAAABAAAAA0AAAAQAAAAAAAAAAYAAAAAAAAAEAAAAAAAAAAGAAAABgAAABAAAAAAAAAABgAAAAcAAAAQAAAAAAAAAAYAAAAIAAAAEAAAAAAAAAAGAAAACgAAABAAAAAAAAAABgAAAAsAAAAQAAAAAAAAAAYAAAANAAAA --service-request-channel-token=9975727022420425388\\n'\n",
      "b'miguel.carvalho   2010   2.3  0.1  5289824  17308   ??  S    30Jan20  47:26.55 /Library/Application Support/Adobe/Adobe Desktop Common/HEX/Adobe CEF Helper.app/Contents/MacOS/Adobe CEF Helper --type=renderer --disable-pinch --disable-databases --primordial-pipe-token=6F30BF300E96807B95F9C0805AD27305 --lang=en-US --lang=en-US --log-file=/Users/miguel.carvalho/Library/Logs/CreativeCloud/ACC/CEF.log --log-severity=warning --user-agent=Mozilla/5.0 (Macintosh) AppleWebKit/537.36 (KHTML, like Gecko) Safari/537.36 CreativeCloud/4.3.0.256 --num-raster-threads=4 --enable-gpu-rasterization --enable-zero-copy --enable-gpu-memory-buffer-compositor-resources --enable-main-frame-before-activation --content-image-texture-target=0,0,3553;0,1,3553;0,2,3553;0,3,3553;0,4,3553;0,5,3553;0,6,3553;0,7,3553;0,8,3553;0,9,3553;0,10,34037;0,11,34037;0,12,34037;0,13,3553;0,14,3553;0,15,3553;1,0,3553;1,1,3553;1,2,3553;1,3,3553;1,4,3553;1,5,3553;1,6,3553;1,7,3553;1,8,3553;1,9,3553;1,10,34037;1,11,34037;1,12,34037;1,13,3553;1,14,3553;1,15,3553;2,0,3553;2,1,3553;2,2,3553;2,3,3553;2,4,3553;2,5,34037;2,6,3553;2,7,3553;2,8,3553;2,9,3553;2,10,3553;2,11,3553;2,12,34037;2,13,3553;2,14,34037;2,15,34037;3,0,3553;3,1,3553;3,2,3553;3,3,3553;3,4,3553;3,5,34037;3,6,3553;3,7,3553;3,8,3553;3,9,3553;3,10,3553;3,11,3553;3,12,34037;3,13,3553;3,14,34037;3,15,34037 --service-request-channel-token=6F30BF300E96807B95F9C0805AD27305 --renderer-client-id=4\\n'\n",
      "b'miguel.carvalho   1982   2.3  0.1  4639436  22388   ??  S    30Jan20  37:16.60 /Library/Application Support/Adobe/Adobe Desktop Common/HEX/Adobe CEF Helper.app/Contents/MacOS/Adobe CEF Helper --type=gpu-process --lang=en-US --log-file=/Users/miguel.carvalho/Library/Logs/CreativeCloud/ACC/CEF.log --log-severity=warning --user-agent=Mozilla/5.0 (Macintosh) AppleWebKit/537.36 (KHTML, like Gecko) Safari/537.36 CreativeCloud/4.3.0.256 --supports-dual-gpus=false --gpu-driver-bug-workarounds=0,1,10,23,25,36,39,47,53,61,63,64,65,66,68,73,74,76,84,85,86,89,92 --disable-gl-extensions=GL_KHR_blend_equation_advanced GL_KHR_blend_equation_advanced_coherent --gpu-vendor-id=0x8086 --gpu-device-id=0x3ea5 --gpu-driver-vendor --gpu-driver-version --gpu-driver-date --gpu-active-vendor-id=0x8086 --gpu-active-device-id=0x3ea5 --lang=en-US --log-file=/Users/miguel.carvalho/Library/Logs/CreativeCloud/ACC/CEF.log --log-severity=warning --user-agent=Mozilla/5.0 (Macintosh) AppleWebKit/537.36 (KHTML, like Gecko) Safari/537.36 CreativeCloud/4.3.0.256 --service-request-channel-token=1F8217C6B7A5A090564FEE77C4572B5D\\n'\n",
      "b'miguel.carvalho  83863   2.0  0.1  4711488  14536   ??  S    Tue10am   5:32.29 /Applications/Signal.app/Contents/Frameworks/Signal Helper (GPU).app/Contents/MacOS/Signal Helper (GPU) --type=gpu-process --field-trial-handle=1718379636,11979823252173767048,15333028790267754431,131072 --disable-features=LayoutNG,SpareRendererForSitePerProcess --gpu-preferences=IAAAAAAAAAAgAAAAAAAAAAAAYAAAAAAACAAAAAAAAAAIAQAAIAAAAAABAAAAAAAACAEAAAAAAAAQAQAAAAAAABgBAAAAAAAAIAEAAAAAAAAoAQAAAAAAADABAAAAAAAAOAEAAAAAAABAAQAAAAAAAEgBAAAAAAAAUAEAAAAAAABYAQAAAAAAAGABAAAAAAAAaAEAAAAAAABwAQAAAAAAAHgBAAAAAAAAgAEAAAAAAACIAQAAAAAAAJABAAAAAAAAmAEAAAAAAACgAQAAAAAAAKgBAAAAAAAAsAEAAAAAAAC4AQAAAAAAAMABAAAAAAAAyAEAAAAAAADQAQAAAAAAANgBAAAAAAAA4AEAAAAAAADoAQAAAAAAAPABAAAAAAAA+AEAAAAAAAAQAAAAAAAAAAAAAAAAAAAAEAAAAAAAAAAAAAAABgAAABAAAAAAAAAAAAAAAAcAAAAQAAAAAAAAAAAAAAAIAAAAEAAAAAAAAAAAAAAACgAAABAAAAAAAAAAAAAAAAsAAAAQAAAAAAAAAAAAAAANAAAAEAAAAAAAAAAAAAAADgAAABAAAAAAAAAAAQAAAAAAAAAQAAAAAAAAAAEAAAAGAAAAEAAAAAAAAAABAAAABwAAABAAAAAAAAAAAQAAAAgAAAAQAAAAAAAAAAEAAAAKAAAAEAAAAAAAAAABAAAACwAAABAAAAAAAAAAAQAAAA0AAAAQAAAAAAAAAAEAAAAOAAAAEAAAAAAAAAAEAAAAAAAAABAAAAAAAAAABAAAAAYAAAAQAAAAAAAAAAQAAAAHAAAAEAAAAAAAAAAEAAAACAAAABAAAAAAAAAABAAAAAoAAAAQAAAAAAAAAAQAAAALAAAAEAAAAAAAAAAEAAAADQAAABAAAAAAAAAABAAAAA4AAAAQAAAAAAAAAAYAAAAAAAAAEAAAAAAAAAAGAAAABgAAABAAAAAAAAAABgAAAAcAAAAQAAAAAAAAAAYAAAAIAAAAEAAAAAAAAAAGAAAACgAAABAAAAAAAAAABgAAAAsAAAAQAAAAAAAAAAYAAAANAAAAEAAAAAAAAAAGAAAADgAAAA== --service-request-channel-token=7284039010092292872\\n'\n",
      "b'miguel.carvalho  37822   1.8  2.4  5460944 401836   ??  S     8:50pm  19:23.16 /Applications/Google Chrome.app/Contents/Frameworks/Google Chrome Framework.framework/Versions/79.0.3945.130/Helpers/Google Chrome Helper (Renderer).app/Contents/MacOS/Google Chrome Helper (Renderer) --type=renderer --field-trial-handle=1718379636,13713992639962531526,9614059912419605989,131072 --lang=en-GB --metrics-client-id=456e333c-a0e4-4a67-aeb8-dd377343299f --enable-auto-reload --num-raster-threads=4 --enable-zero-copy --enable-gpu-memory-buffer-compositor-resources --enable-main-frame-before-activation --service-request-channel-token=14787525887318038725 --renderer-client-id=8794 --no-v8-untrusted-code-mitigations --seatbelt-client=242\\n'\n",
      "b'jellyadmin        1069   1.7  0.1  4642204  19276   ??  S    30Jan20  36:37.77 /Library/Application Support/Adobe/Adobe Desktop Common/HEX/Adobe CEF Helper.app/Contents/MacOS/Adobe CEF Helper --type=gpu-process --lang=en-US --log-file=/Users/jellyadmin/Library/Logs/CreativeCloud/ACC/CEF.log --log-severity=warning --user-agent=Mozilla/5.0 (Macintosh) AppleWebKit/537.36 (KHTML, like Gecko) Safari/537.36 CreativeCloud/4.3.0.256 --supports-dual-gpus=false --gpu-driver-bug-workarounds=0,1,10,23,25,36,39,47,53,61,63,64,65,66,68,73,74,76,84,85,86,89,92 --disable-gl-extensions=GL_KHR_blend_equation_advanced GL_KHR_blend_equation_advanced_coherent --gpu-vendor-id=0x8086 --gpu-device-id=0x3ea5 --gpu-driver-vendor --gpu-driver-version --gpu-driver-date --gpu-active-vendor-id=0x8086 --gpu-active-device-id=0x3ea5 --lang=en-US --log-file=/Users/jellyadmin/Library/Logs/CreativeCloud/ACC/CEF.log --log-severity=warning --user-agent=Mozilla/5.0 (Macintosh) AppleWebKit/537.36 (KHTML, like Gecko) Safari/537.36 CreativeCloud/4.3.0.256 --service-request-channel-token=8B2CE379FA2547B08BFB1B09075E94C4\\n'\n",
      "b'miguel.carvalho   1520   1.7  1.1  5588060 178712   ??  S    30Jan20   9:22.29 /Applications/Utilities/Terminal.app/Contents/MacOS/Terminal -psn_0_348245\\n'\n",
      "b'_hidd              115   1.7  0.1  4388008   9160   ??  Ss   30Jan20  58:33.97 /usr/libexec/hidd\\n'\n",
      "b'miguel.carvalho   1848   1.2  0.2  4810936  32036   ??  S    30Jan20  32:57.53 /Applications/Utilities/Adobe Creative Cloud/ACC/Creative Cloud.app/Contents/MacOS/Creative Cloud --showwindow=false --onOSstartup=true\\n'\n",
      "b'miguel.carvalho   1597   1.2  0.4  4671296  70316   ??  S    30Jan20  69:48.30 /Applications/Google Chrome.app/Contents/Frameworks/Google Chrome Framework.framework/Versions/79.0.3945.130/Helpers/Google Chrome Helper.app/Contents/MacOS/Google Chrome Helper --type=utility --field-trial-handle=1718379636,13713992639962531526,9614059912419605989,131072 --lang=en-GB --service-sandbox-type=network --enable-audio-service-sandbox --metrics-client-id=456e333c-a0e4-4a67-aeb8-dd377343299f --service-request-channel-token=15497531774126370833 --seatbelt-client=81\\n'\n",
      "b'root              5531   1.2  0.0  4279016   1260   ??  R     4:03pm   0:00.01 ps aux\\n'\n",
      "b'jellyadmin        1148   1.0  0.1  5286896  14444   ??  S    30Jan20  46:46.09 /Library/Application Support/Adobe/Adobe Desktop Common/HEX/Adobe CEF Helper.app/Contents/MacOS/Adobe CEF Helper --type=renderer --disable-pinch --disable-databases --primordial-pipe-token=C2A7A84C106C174EB8B3489DB4F73B4C --lang=en-US --lang=en-US --log-file=/Users/jellyadmin/Library/Logs/CreativeCloud/ACC/CEF.log --log-severity=warning --user-agent=Mozilla/5.0 (Macintosh) AppleWebKit/537.36 (KHTML, like Gecko) Safari/537.36 CreativeCloud/4.3.0.256 --num-raster-threads=4 --enable-gpu-rasterization --enable-zero-copy --enable-gpu-memory-buffer-compositor-resources --enable-main-frame-before-activation --content-image-texture-target=0,0,3553;0,1,3553;0,2,3553;0,3,3553;0,4,3553;0,5,3553;0,6,3553;0,7,3553;0,8,3553;0,9,3553;0,10,34037;0,11,34037;0,12,34037;0,13,3553;0,14,3553;0,15,3553;1,0,3553;1,1,3553;1,2,3553;1,3,3553;1,4,3553;1,5,3553;1,6,3553;1,7,3553;1,8,3553;1,9,3553;1,10,34037;1,11,34037;1,12,34037;1,13,3553;1,14,3553;1,15,3553;2,0,3553;2,1,3553;2,2,3553;2,3,3553;2,4,3553;2,5,34037;2,6,3553;2,7,3553;2,8,3553;2,9,3553;2,10,3553;2,11,3553;2,12,34037;2,13,3553;2,14,34037;2,15,34037;3,0,3553;3,1,3553;3,2,3553;3,3,3553;3,4,3553;3,5,34037;3,6,3553;3,7,3553;3,8,3553;3,9,3553;3,10,3553;3,11,3553;3,12,34037;3,13,3553;3,14,34037;3,15,34037 --service-request-channel-token=C2A7A84C106C174EB8B3489DB4F73B4C --renderer-client-id=4\\n'\n",
      "b'jellyadmin         905   0.7  0.1  4792732  18712   ??  S    30Jan20  32:15.79 /Applications/Utilities/Adobe Creative Cloud/ACC/Creative Cloud.app/Contents/MacOS/Creative Cloud --showwindow=false --onOSstartup=true\\n'\n",
      "b'miguel.carvalho  79343   0.4  0.9  5753800 157840   ??  S     5Feb20  44:53.34 /Users/miguel.carvalho/Applications/Spotify.app/Contents/MacOS/Spotify\\n'\n",
      "b'miguel.carvalho   1835   0.3  0.2  4482536  26308   ??  S    30Jan20   6:48.38 /System/Library/CoreServices/Siri.app/Contents/MacOS/Siri launchd\\n'\n",
      "b'miguel.carvalho  80484   0.3  0.1  4455532  11092   ??  Ss    5Feb20  14:07.06 /Applications/Egnyte Connect.app/Contents/PlugIns/Egnyte Drive Finder Extension.appex/Contents/MacOS/Egnyte Drive Finder Extension\\n'\n",
      "b'root                61   0.2  0.0  4393056   5284   ??  Ss   30Jan20   9:32.79 /Library/Application Support/JAMF/Jamf.app/Contents/MacOS/JamfDaemon.app/Contents/MacOS/JamfDaemon\\n'\n",
      "b'miguel.carvalho  80483   0.1  0.1  4448364  10888   ??  Ss    5Feb20  11:36.00 /Applications/Egnyte Connect.app/Contents/PlugIns/Egnyte Drive Finder Extension.appex/Contents/MacOS/Egnyte Drive Finder Extension\\n'\n",
      "b'miguel.carvalho   1865   0.1  0.3  5178292  42036   ??  S    30Jan20   4:21.75 /Applications/Alfred 3.app/Contents/MacOS/Alfred 3\\n'\n",
      "b'miguel.carvalho   1743   0.1  0.3  4851292  49684   ??  S    30Jan20  10:38.25 /Applications/Google Chrome.app/Contents/Frameworks/Google Chrome Framework.framework/Versions/79.0.3945.130/Helpers/Google Chrome Helper (Renderer).app/Contents/MacOS/Google Chrome Helper (Renderer) --type=renderer --field-trial-handle=1718379636,13713992639962531526,9614059912419605989,131072 --lang=en-GB --metrics-client-id=456e333c-a0e4-4a67-aeb8-dd377343299f --extension-process --enable-auto-reload --num-raster-threads=4 --enable-zero-copy --enable-gpu-memory-buffer-compositor-resources --enable-main-frame-before-activation --service-request-channel-token=18157669339286212585 --renderer-client-id=6 --no-v8-untrusted-code-mitigations --seatbelt-client=71\\n'\n",
      "b'root               399   0.1  0.5  5384312  77696   ??  Ss   30Jan20  31:55.55 /System/Library/Frameworks/CoreServices.framework/Frameworks/Metadata.framework/Versions/A/Support/mds_stores\\n'\n",
      "b'root                91   0.1  0.0  4381860   7400   ??  Ss   30Jan20   3:41.93 /System/Library/CoreServices/launchservicesd\\n'\n",
      "b'root                60   0.1  0.0  4377248   5432   ??  Ss   30Jan20   4:18.67 /System/Library/CoreServices/powerd.bundle/powerd\\n'\n",
      "b'_networkd          183   0.1  0.0  4386248   7476   ??  Ss   30Jan20   9:48.98 /usr/libexec/symptomsd\\n'\n",
      "b'miguel.carvalho  34879   0.0  0.1  4368916  20320   ??  S     5:18pm   0:53.14 /System/Library/Frameworks/CoreServices.framework/Frameworks/Metadata.framework/Versions/A/Support/mdworker_shared -s mdworker -c MDSImporterWorker -m com.apple.mdworker.shared\\n'\n",
      "b'miguel.carvalho  33197   0.0  0.1  4453852  11508   ??  Ss    5:03pm   0:02.70 /Applications/Utilities/Adobe Sync/CoreSync/Core Sync.app/Contents/PlugIns/ACCFinderSync.appex/Contents/MacOS/ACCFinderSync\\n'\n",
      "b'miguel.carvalho  33196   0.0  0.1  4452992  12888   ??  Ss    5:03pm   0:28.87 /Applications/Egnyte Connect.app/Contents/PlugIns/Egnyte Drive Finder Extension.appex/Contents/MacOS/Egnyte Drive Finder Extension\\n'\n",
      "b'miguel.carvalho  33195   0.0  0.0  4879120      8   ??  Ss    5:03pm   0:00.23 /System/Library/Frameworks/Metal.framework/Versions/A/XPCServices/MTLCompilerService.xpc/Contents/MacOS/MTLCompilerService\\n'\n",
      "b'miguel.carvalho  33192   0.0  0.4  5056340  63660   ??  Ss    5:03pm   0:18.98 /System/Library/Frameworks/AppKit.framework/Versions/C/XPCServices/com.apple.appkit.xpc.openAndSavePanelService.xpc/Contents/MacOS/com.apple.appkit.xpc.openAndSavePanelService\\n'\n",
      "b'miguel.carvalho  32342   0.0  0.4  5026980  68116   ??  S     4:57pm   0:19.29 /Applications/TextEdit.app/Contents/MacOS/TextEdit -psn_0_4318238\\n'\n",
      "b'miguel.carvalho  92292   0.0  0.0  4386564   1132   ??  Ss   Tue11am   0:02.80 /System/Library/Frameworks/WebKit.framework/Versions/A/XPCServices/com.apple.WebKit.Networking.xpc/Contents/MacOS/com.apple.WebKit.Networking\\n'\n",
      "b'miguel.carvalho  92291   0.0  0.0 106131936   2244   ??  Ss   Tue11am   0:03.37 /System/Library/Frameworks/WebKit.framework/Versions/A/XPCServices/com.apple.WebKit.WebContent.xpc/Contents/MacOS/com.apple.WebKit.WebContent\\n'\n",
      "b'miguel.carvalho  92236   0.0  0.3  7225120  52588   ??  S    Tue11am   2:27.04 /Applications/Microsoft Excel.app/Contents/MacOS/Microsoft Excel\\n'\n",
      "b'miguel.carvalho  89583   0.0  0.0  4378516   2096   ??  S    Tue10am   0:03.65 /System/Library/Frameworks/CoreMIDI.framework/MIDIServer\\n'\n",
      "b'miguel.carvalho  85369   0.0  0.1  4841872  22564   ??  S    Tue10am   0:02.96 /Applications/Google Chrome.app/Contents/Frameworks/Google Chrome Framework.framework/Versions/79.0.3945.130/Helpers/Google Chrome Helper (Renderer).app/Contents/MacOS/Google Chrome Helper (Renderer) --type=renderer --field-trial-handle=1718379636,13713992639962531526,9614059912419605989,131072 --lang=en-GB --metrics-client-id=456e333c-a0e4-4a67-aeb8-dd377343299f --enable-auto-reload --num-raster-threads=4 --enable-zero-copy --enable-gpu-memory-buffer-compositor-resources --enable-main-frame-before-activation --service-request-channel-token=35561003380028316 --renderer-client-id=8444 --no-v8-untrusted-code-mitigations --seatbelt-client=249\\n'\n",
      "b'miguel.carvalho  85368   0.0  1.2  5231668 200940   ??  S    Tue10am   3:43.96 /Applications/Google Chrome.app/Contents/Frameworks/Google Chrome Framework.framework/Versions/79.0.3945.130/Helpers/Google Chrome Helper (Renderer).app/Contents/MacOS/Google Chrome Helper (Renderer) --type=renderer --field-trial-handle=1718379636,13713992639962531526,9614059912419605989,131072 --lang=en-GB --metrics-client-id=456e333c-a0e4-4a67-aeb8-dd377343299f --enable-auto-reload --num-raster-threads=4 --enable-zero-copy --enable-gpu-memory-buffer-compositor-resources --enable-main-frame-before-activation --service-request-channel-token=10939661279763702565 --renderer-client-id=8443 --no-v8-untrusted-code-mitigations --seatbelt-client=205\\n'\n",
      "b'miguel.carvalho  83864   0.0  0.0  4380756    196   ??  Ss   Tue10am   0:00.15 /System/Library/Frameworks/VideoToolbox.framework/Versions/A/XPCServices/VTDecoderXPCService.xpc/Contents/MacOS/VTDecoderXPCService\\n'\n",
      "b'miguel.carvalho  83858   0.0  0.6  5631708  97068   ??  S    Tue10am   2:03.06 /Applications/Signal.app/Contents/MacOS/Signal -psn_0_4109291\\n'\n",
      "b'root             73276   0.0  0.0  4323256      8   ??  Ss   Mon04pm   0:00.02 /usr/libexec/keybagd -t 15\\n'\n",
      "b'miguel.carvalho  56598   0.0  0.4  5084428  65516   ??  S    Mon01pm   3:19.88 /Applications/Google Chrome.app/Contents/Frameworks/Google Chrome Framework.framework/Versions/79.0.3945.130/Helpers/Google Chrome Helper (Renderer).app/Contents/MacOS/Google Chrome Helper (Renderer) --type=renderer --field-trial-handle=1718379636,13713992639962531526,9614059912419605989,131072 --lang=en-GB --metrics-client-id=456e333c-a0e4-4a67-aeb8-dd377343299f --enable-auto-reload --num-raster-threads=4 --enable-zero-copy --enable-gpu-memory-buffer-compositor-resources --enable-main-frame-before-activation --service-request-channel-token=8519816652232380554 --renderer-client-id=7910 --no-v8-untrusted-code-mitigations --seatbelt-client=251\\n'\n",
      "b'miguel.carvalho  50092   0.0  0.0  4380172    880   ??  S    Mon12pm   0:00.30 /System/Library/PrivateFrameworks/CoreRecents.framework/Versions/A/Support/recentsd\\n'\n",
      "b'root             45341   0.0  0.0  4377580    712   ??  Ss   Mon12pm   0:00.36 /Library/PrivilegedHelperTools/com.adobe.ARMDC.Communicator\\n'\n",
      "b'root             36547   0.0  0.0  4360856    148   ??  Ss   Mon10am   0:00.21 /usr/libexec/tzd\\n'\n",
      "b'miguel.carvalho  30761   0.0  1.4 16995072 240120   ??  S    Mon10am  18:21.80 /Applications/Slack.app/Contents/Frameworks/Slack Helper.app/Contents/MacOS/Slack Helper --type=renderer --autoplay-policy=no-user-gesture-required --force-color-profile=srgb --enable-features=SharedArrayBuffer --disable-features=MacV2Sandbox --service-pipe-token=2021989295472732277 --lang=en-US --standard-schemes=slack-resources,slack-sounds,slack-webapp-dev --secure-schemes=slack-resources,slack-sounds,slack-webapp-dev --app-path=/Applications/Slack.app/Contents/Resources/app.asar --user-agent=Mozilla/5.0 (Macintosh; Intel Mac OS X 10_14_6) AppleWebKit/537.36 (KHTML, like Gecko) Slack/4.0.3 Chrome/69.0.3497.128 Electron/4.2.8 Safari/537.36 MacAppStore/18.7.0 Sonic Slack_SSB/4.0.3 --node-integration=false --webview-tag=false --no-sandbox --preload=/Applications/Slack.app/Contents/Resources/app.asar/dist/ssb-interop.bundle.js --background-color=#FFFFFF --num-raster-threads=4 --enable-zero-copy --enable-gpu-memory-buffer-compositor-resources --enable-main-frame-before-activation --service-request-channel-token=2021989295472732277 --renderer-client-id=6 {\"preloadEnvironment\":{\"resourcePath\":\"/Applications/Slack.app/Contents/Resources/app.asar\",\"isSonic\":true,\"appVersion\":\"4.0.3\",\"teamId\":\"app\",\"windowType\":\"main\"},\"crashReporterOpts\":null,\"perfTimer\":{\"mainPid\":32522,\"BOOT\":[151496,926361176],\"numTeamsAtLaunch\":1,\"SHELL\":[151497,320265875],\"APP_READY\":[151497,408591753],\"APP_CREATED\":[151497,581195142],\"MAIN_WINDOW_CREATING\":[151497,603434332]},\"identifier\":\"slack_preload_metadata_arguments\"}\\n'\n",
      "b'miguel.carvalho  29812   0.0  0.8  5288288 133584   ??  S    Mon09am   8:11.95 /Applications/Google Chrome.app/Contents/Frameworks/Google Chrome Framework.framework/Versions/79.0.3945.130/Helpers/Google Chrome Helper (Renderer).app/Contents/MacOS/Google Chrome Helper (Renderer) --type=renderer --field-trial-handle=1718379636,13713992639962531526,9614059912419605989,131072 --lang=en-GB --metrics-client-id=456e333c-a0e4-4a67-aeb8-dd377343299f --enable-auto-reload --num-raster-threads=4 --enable-zero-copy --enable-gpu-memory-buffer-compositor-resources --enable-main-frame-before-activation --service-request-channel-token=14870715922107574734 --renderer-client-id=7488 --no-v8-untrusted-code-mitigations --seatbelt-client=241\\n'\n",
      "b'miguel.carvalho  98588   0.0  0.0  4308832    708 s004  S+   Fri04pm   0:00.12 -bash\\n'\n",
      "b'root             98581   0.0  0.0  4341528      8 s004  Ss   Fri04pm   0:00.04 login -pf miguel.carvalho\\n'\n",
      "b'miguel.carvalho  95381   0.0  0.0  4332532      8   ??  Ss   Fri04pm   0:00.02 /System/Library/Frameworks/AudioToolbox.framework/XPCServices/com.apple.audio.SandboxHelper.xpc/Contents/MacOS/com.apple.audio.SandboxHelper\\n'\n",
      "b'miguel.carvalho  92119   0.0  1.5  6977164 245564 s003  S+   Fri03pm   4:40.24 /Library/Java/JavaVirtualMachines/adoptopenjdk-8.jdk/Contents/Home/bin/java -cp /usr/local/Cellar/apache-spark/2.4.4/libexec/conf/:/usr/local/Cellar/apache-spark/2.4.4/libexec/jars/* -Dscala.usejavacp=true -Xmx1g org.apache.spark.deploy.SparkSubmit --class org.apache.spark.repl.Main --name Spark shell spark-shell\\n'\n",
      "b'miguel.carvalho  92107   0.0  0.0  4279900      8 s003  S+   Fri03pm   0:00.01 bash /usr/local/Cellar/apache-spark/2.4.4/libexec/bin/spark-shell\\n'\n",
      "b'miguel.carvalho  40518   0.0  0.0  4880168      8   ??  Ss   Fri09am   0:00.33 /System/Library/Frameworks/Metal.framework/Versions/A/XPCServices/MTLCompilerService.xpc/Contents/MacOS/MTLCompilerService\\n'\n",
      "b'_fpsd            40386   0.0  0.0  4343404    228   ??  Ss   Fri09am   0:01.77 /System/Library/PrivateFrameworks/CoreFP.framework/Versions/A/fpsd\\n'\n",
      "b'miguel.carvalho  35351   0.0  0.3  5017216  43784   ??  S    Fri09am   0:48.91 /Applications/Google Chrome.app/Contents/Frameworks/Google Chrome Framework.framework/Versions/79.0.3945.130/Helpers/Google Chrome Helper (Renderer).app/Contents/MacOS/Google Chrome Helper (Renderer) --type=renderer --field-trial-handle=1718379636,13713992639962531526,9614059912419605989,131072 --lang=en-GB --metrics-client-id=456e333c-a0e4-4a67-aeb8-dd377343299f --enable-auto-reload --num-raster-threads=4 --enable-zero-copy --enable-gpu-memory-buffer-compositor-resources --enable-main-frame-before-activation --service-request-channel-token=10719017467515017543 --renderer-client-id=6166 --no-v8-untrusted-code-mitigations --seatbelt-client=217\\n'\n",
      "b'miguel.carvalho  35344   0.0  0.7  5057128 111644   ??  S    Fri09am   2:44.36 /Applications/Google Chrome.app/Contents/Frameworks/Google Chrome Framework.framework/Versions/79.0.3945.130/Helpers/Google Chrome Helper (Renderer).app/Contents/MacOS/Google Chrome Helper (Renderer) --type=renderer --field-trial-handle=1718379636,13713992639962531526,9614059912419605989,131072 --lang=en-GB --metrics-client-id=456e333c-a0e4-4a67-aeb8-dd377343299f --enable-auto-reload --num-raster-threads=4 --enable-zero-copy --enable-gpu-memory-buffer-compositor-resources --enable-main-frame-before-activation --service-request-channel-token=6165989925537948880 --renderer-client-id=6165 --no-v8-untrusted-code-mitigations --seatbelt-client=217\\n'\n",
      "b'miguel.carvalho  32524   0.0  0.0  4380756    196   ??  Ss   Fri08am   0:00.36 /System/Library/Frameworks/VideoToolbox.framework/Versions/A/XPCServices/VTDecoderXPCService.xpc/Contents/MacOS/VTDecoderXPCService\\n'\n",
      "b'miguel.carvalho  32523   0.0  0.3  4769412  44716   ??  S    Fri08am   6:43.34 /Applications/Slack.app/Contents/Frameworks/Slack Helper.app/Contents/MacOS/Slack Helper --type=gpu-process --enable-features=SharedArrayBuffer --disable-features=MacV2Sandbox --gpu-preferences=KAAAAAAAAACAAAAAAQAAAAAAAAAAAGAAAAAAAAAAAAAIAAAAAAAAADgBAAAmAAAAMAEAAAAAAAA4AQAAAAAAAEABAAAAAAAASAEAAAAAAABQAQAAAAAAAFgBAAAAAAAAYAEAAAAAAABoAQAAAAAAAHABAAAAAAAAeAEAAAAAAACAAQAAAAAAAIgBAAAAAAAAkAEAAAAAAACYAQAAAAAAAKABAAAAAAAAqAEAAAAAAACwAQAAAAAAALgBAAAAAAAAwAEAAAAAAADIAQAAAAAAANABAAAAAAAA2AEAAAAAAADgAQAAAAAAAOgBAAAAAAAA8AEAAAAAAAD4AQAAAAAAAAACAAAAAAAACAIAAAAAAAAQAgAAAAAAABgCAAAAAAAAIAIAAAAAAAAoAgAAAAAAADACAAAAAAAAOAIAAAAAAABAAgAAAAAAAEgCAAAAAAAAUAIAAAAAAABYAgAAAAAAABAAAAAAAAAAAAAAAAUAAAAQAAAAAAAAAAAAAAALAAAAEAAAAAAAAAAAAAAADAAAABAAAAAAAAAAAAAAAA0AAAAQAAAAAAAAAAAAAAAPAAAAEAAAAAAAAAAAAAAAEAAAABAAAAAAAAAAAAAAABIAAAAQAAAAAAAAAAAAAAATAAAAEAAAAAAAAAABAAAABQAAABAAAAAAAAAAAQAAAAsAAAAQAAAAAAAAAAEAAAAMAAAAEAAAAAAAAAABAAAADQAAABAAAAAAAAAAAQAAAA8AAAAQAAAAAAAAAAEAAAAQAAAAEAAAAAAAAAABAAAAEgAAABAAAAAAAAAAAQAAABMAAAAQAAAAAAAAAAQAAAAFAAAAEAAAAAAAAAAEAAAACwAAABAAAAAAAAAABAAAAAwAAAAQAAAAAAAAAAQAAAANAAAAEAAAAAAAAAAEAAAADwAAABAAAAAAAAAABAAAABAAAAAQAAAAAAAAAAQAAAASAAAAEAAAAAAAAAAEAAAAEwAAABAAAAAAAAAABgAAAAUAAAAQAAAAAAAAAAYAAAALAAAAEAAAAAAAAAAGAAAADQAAABAAAAAAAAAABgAAAA8AAAAQAAAAAAAAAAYAAAAQAAAAEAAAAAAAAAAGAAAAEgAAABAAAAAAAAAABgAAABMAAAAQAAAAAAAAAAcAAAAFAAAAEAAAAAAAAAAHAAAACwAAABAAAAAAAAAABwAAAA0AAAAQAAAAAAAAAAcAAAAPAAAAEAAAAAAAAAAHAAAAEAAAABAAAAAAAAAABwAAABIAAAAQAAAAAAAAAAcAAAATAAAA --service-request-channel-token=4662333793584850629\\n'\n",
      "b'miguel.carvalho  32522   0.0  0.4  5495096  72252   ??  S    Fri08am  18:10.51 /Applications/Slack.app/Contents/MacOS/Slack\\n'\n",
      "b'miguel.carvalho  30684   0.0  0.0  4484588    308   ??  Ss   Fri08am   0:00.45 /System/Library/Frameworks/SafariServices.framework/Versions/A/XPCServices/com.apple.SafariServices.xpc/Contents/MacOS/com.apple.SafariServices\\n'\n",
      "b'root             28638   0.0  0.0  4341692      8   ??  Ss   Fri08am   0:00.03 /usr/libexec/applessdstatistics\\n'\n",
      "b'miguel.carvalho  86975   0.0  0.0  4333408      8 s003  S    Thu01pm   0:00.18 -bash\\n'\n",
      "b'root             86974   0.0  0.0  4324120      8 s003  Ss   Thu01pm   0:00.03 login -pfl miguel.carvalho /bin/bash -c exec -la bash /bin/bash\\n'\n",
      "b'miguel.carvalho  74729   0.0  0.0  4300640      8 s002  S+   Thu11am   0:00.07 -bash\\n'\n",
      "b'root             74727   0.0  0.0  4341528      8 s002  Ss   Thu11am   0:00.03 login -pfl miguel.carvalho /bin/bash -c exec -la bash /bin/bash\\n'\n",
      "b'miguel.carvalho  45518   0.0  0.1  4915916   9184   ??  S    Thu08am   0:10.60 /System/Library/PrivateFrameworks/UniversalAccess.framework/Versions/A/Resources/universalAccessAuthWarn.app/Contents/MacOS/universalAccessAuthWarn launchd -s\\n'\n",
      "b'miguel.carvalho   6561   0.0  0.0  4381836    696   ??  S     5Feb20   0:00.78 /System/Library/CoreServices/ScopedBookmarkAgent\\n'\n",
      "b'miguel.carvalho  97253   0.0  0.1  4819280   9380   ??  S     5Feb20   0:06.19 /Applications/Google Chrome.app/Contents/Frameworks/Google Chrome Framework.framework/Versions/79.0.3945.130/Helpers/Google Chrome Helper (Renderer).app/Contents/MacOS/Google Chrome Helper (Renderer) --type=renderer --field-trial-handle=1718379636,13713992639962531526,9614059912419605989,131072 --lang=en-GB --metrics-client-id=456e333c-a0e4-4a67-aeb8-dd377343299f --extension-process --enable-auto-reload --num-raster-threads=4 --enable-zero-copy --enable-gpu-memory-buffer-compositor-resources --enable-main-frame-before-activation --service-request-channel-token=5641899657244534494 --renderer-client-id=4372 --no-v8-untrusted-code-mitigations --seatbelt-client=196\\n'\n",
      "b'miguel.carvalho  85520   0.0  0.0  4817572   6680   ??  S     5Feb20   0:05.83 /Applications/Google Chrome.app/Contents/Frameworks/Google Chrome Framework.framework/Versions/79.0.3945.130/Helpers/Google Chrome Helper (Renderer).app/Contents/MacOS/Google Chrome Helper (Renderer) --type=renderer --field-trial-handle=1718379636,13713992639962531526,9614059912419605989,131072 --lang=en-GB --metrics-client-id=456e333c-a0e4-4a67-aeb8-dd377343299f --extension-process --enable-auto-reload --num-raster-threads=4 --enable-zero-copy --enable-gpu-memory-buffer-compositor-resources --enable-main-frame-before-activation --service-request-channel-token=12255470346397379157 --renderer-client-id=4233 --no-v8-untrusted-code-mitigations --seatbelt-client=196\\n'\n",
      "b'miguel.carvalho  82119   0.0  0.0  4324600      8   ??  Ss    5Feb20   0:00.02 /System/Library/Frameworks/AudioToolbox.framework/XPCServices/com.apple.audio.SandboxHelper.xpc/Contents/MacOS/com.apple.audio.SandboxHelper\\n'\n",
      "b'miguel.carvalho  80502   0.0  0.1  4618072  23012   ??  S     5Feb20   3:45.98 /Applications/Egnyte Connect.app/Contents/Resources/EgnyteDriveFS.app/Contents/MacOS/EgnyteDriveFS -apiEndpoint tcp://127.0.0.1:54767 -notificationsEndpoint tcp://127.0.0.1:54768 -driveId 5ECE1753-D1C6-4F70-AF5D-E8E07C461160 -AppleLanguages (en)\\n'\n",
      "b'miguel.carvalho  80494   0.0  0.1  4487676  11664   ??  S     5Feb20   0:19.54 /Applications/Egnyte Connect.app/Contents/Resources/EgnyteSyncService.app/Contents/MacOS/EgnyteSyncService --user_agent Egnyte/3.6.0 (EGD; 167236; en_GB; Mac; 10.14.6; 64bit) --api_endpoint tcp://127.0.0.1:54797 --notify_endpoint tcp://127.0.0.1:54798 --client_id C796C48B-99CA-4B49-828D-259DFCA7BE54 --appdata_path /Users/miguel.carvalho/Library/Application Support/Egnyte Connect/SyncService \\n'\n",
      "b'miguel.carvalho  80482   0.0  0.3  5037076  54620   ??  S     5Feb20   4:49.50 /Applications/Egnyte Connect.app/Contents/MacOS/Egnyte Connect\\n'\n",
      "b'miguel.carvalho  79361   0.0  0.0  4314312      8   ??  Ss    5Feb20   0:00.01 /System/Library/Frameworks/ColorSync.framework/Versions/A/XPCServices/com.apple.ColorSyncXPCAgent.xpc/Contents/MacOS/com.apple.ColorSyncXPCAgent\\n'\n",
      "b'miguel.carvalho  79351   0.0  3.8  7668776 643876   ??  S     5Feb20  44:28.37 /Users/miguel.carvalho/Applications/Spotify.app/Contents/Frameworks/Spotify Helper (Renderer).app/Contents/MacOS/Spotify Helper (Renderer) --type=renderer --log-file=/Users/miguel.carvalho/Library/Logs/Spotify_debug.log --field-trial-handle=1718379636,10748225595930708643,41604109131432741,131072 --disable-features=MimeHandlerViewInCrossProcessFrame --lang=en --log-file=/Users/miguel.carvalho/Library/Logs/Spotify_debug.log --log-severity=disable --product-version=Spotify/1.1.25.559 --disable-scroll-bounce --disable-spell-checking --num-raster-threads=4 --enable-zero-copy --enable-gpu-memory-buffer-compositor-resources --enable-main-frame-before-activation --service-request-channel-token=14673282030013941601 --renderer-client-id=4 --seatbelt-client=93\\n'\n",
      "b'miguel.carvalho  79350   0.0  0.1  4612752  19372   ??  S     5Feb20   2:21.60 /Users/miguel.carvalho/Applications/Spotify.app/Contents/Frameworks/Spotify Helper.app/Contents/MacOS/Spotify Helper --type=utility --field-trial-handle=1718379636,10748225595930708643,41604109131432741,131072 --disable-features=MimeHandlerViewInCrossProcessFrame --lang=en --service-sandbox-type=network --use-mock-keychain --log-file=/Users/miguel.carvalho/Library/Logs/Spotify_debug.log --log-severity=disable --product-version=Spotify/1.1.25.559 --lang=en --log-file=/Users/miguel.carvalho/Library/Logs/Spotify_debug.log --service-request-channel-token=5227113285324300076\\n'\n",
      "b'miguel.carvalho  79348   0.0  0.0  4380756    196   ??  Ss    5Feb20   0:00.66 /System/Library/Frameworks/VideoToolbox.framework/Versions/A/XPCServices/VTDecoderXPCService.xpc/Contents/MacOS/VTDecoderXPCService\\n'\n",
      "b'miguel.carvalho  79347   0.0  0.1  4755336  21508   ??  S     5Feb20  12:27.62 /Users/miguel.carvalho/Applications/Spotify.app/Contents/Frameworks/Spotify Helper (GPU).app/Contents/MacOS/Spotify Helper (GPU) --type=gpu-process --field-trial-handle=1718379636,10748225595930708643,41604109131432741,131072 --disable-features=MimeHandlerViewInCrossProcessFrame --log-file=/Users/miguel.carvalho/Library/Logs/Spotify_debug.log --log-severity=disable --product-version=Spotify/1.1.25.559 --lang=en --gpu-preferences=KAAAAAAAAAAgAAAAAAAAAAAAYAAAAAAAEAAAAAAAAAAAAAAAAAAAAOgAAAAcAAAA4AAAAAAAAADoAAAAAAAAAPAAAAAAAAAA+AAAAAAAAAAAAQAAAAAAAAgBAAAAAAAAEAEAAAAAAAAYAQAAAAAAACABAAAAAAAAKAEAAAAAAAAwAQAAAAAAADgBAAAAAAAAQAEAAAAAAABIAQAAAAAAAFABAAAAAAAAWAEAAAAAAABgAQAAAAAAAGgBAAAAAAAAcAEAAAAAAAB4AQAAAAAAAIABAAAAAAAAiAEAAAAAAACQAQAAAAAAAJgBAAAAAAAAoAEAAAAAAACoAQAAAAAAALABAAAAAAAAuAEAAAAAAAAQAAAAAAAAAAAAAAAAAAAAEAAAAAAAAAAAAAAABgAAABAAAAAAAAAAAAAAAAcAAAAQAAAAAAAAAAAAAAAIAAAAEAAAAAAAAAAAAAAACgAAABAAAAAAAAAAAAAAAAsAAAAQAAAAAAAAAAAAAAANAAAAEAAAAAAAAAABAAAAAAAAABAAAAAAAAAAAQAAAAYAAAAQAAAAAAAAAAEAAAAHAAAAEAAAAAAAAAABAAAACAAAABAAAAAAAAAAAQAAAAoAAAAQAAAAAAAAAAEAAAALAAAAEAAAAAAAAAABAAAADQAAABAAAAAAAAAABAAAAAAAAAAQAAAAAAAAAAQAAAAGAAAAEAAAAAAAAAAEAAAABwAAABAAAAAAAAAABAAAAAgAAAAQAAAAAAAAAAQAAAAKAAAAEAAAAAAAAAAEAAAACwAAABAAAAAAAAAABAAAAA0AAAAQAAAAAAAAAAYAAAAAAAAAEAAAAAAAAAAGAAAABgAAABAAAAAAAAAABgAAAAcAAAAQAAAAAAAAAAYAAAAIAAAAEAAAAAAAAAAGAAAACgAAABAAAAAAAAAABgAAAAsAAAAQAAAAAAAAAAYAAAANAAAA --log-file=/Users/miguel.carvalho/Library/Logs/Spotify_debug.log --service-request-channel-token=13730894560272303374\\n'\n",
      "b'miguel.carvalho  79346   0.0  0.0  4499816   1804   ??  S     5Feb20   0:01.46 /Users/miguel.carvalho/Applications/Spotify.app/Contents/Frameworks/Spotify Helper.app/Contents/MacOS/Spotify Helper --monitor-self-annotation=ptype=crashpad-handler --type=crashpad-handler --max-uploads=5 --max-db-size=20 --max-db-age=5 --database=/Users/miguel.carvalho/Library/Application Support/Spotify/User Data --url=https://crashdump.spotify.com:443/ --annotation=platform=macos --annotation=product=spotify --annotation=version=1.1.25.559 --handshake-fd=8\\n'\n",
      "b'jellyadmin       63550   0.0  0.0  4317580      8   ??  S     4Feb20   0:00.03 /System/Library/Frameworks/CoreSpotlight.framework/CoreSpotlightService\\n'\n",
      "b'miguel.carvalho  47863   0.0  0.0  4851472      8   ??  Ss    3Feb20   0:00.09 /System/Library/Frameworks/Metal.framework/Versions/A/XPCServices/MTLCompilerService.xpc/Contents/MacOS/MTLCompilerService\\n'\n",
      "b'jellyadmin       44018   0.0  0.0  4350360    120   ??  S     3Feb20   0:00.49 /System/Library/PrivateFrameworks/KerberosHelper/Helpers/DiskUnmountWatcher\\n'\n",
      "b'miguel.carvalho  44017   0.0  0.0  4350360    120   ??  S     3Feb20   0:00.49 /System/Library/PrivateFrameworks/KerberosHelper/Helpers/DiskUnmountWatcher\\n'\n",
      "b'miguel.carvalho  43030   0.0  0.0  4377228   2968   ??  S     3Feb20   0:04.20 /System/Library/PrivateFrameworks/ProtectedCloudStorage.framework/Helpers/ProtectedCloudKeySyncing\\n'\n",
      "b'root             41891   0.0  0.0  4384776   4832   ??  Ss    3Feb20   0:04.93 /usr/libexec/rtcreportingd\\n'\n",
      "b'miguel.carvalho  41191   0.0  0.0  4878948      8   ??  Ss    3Feb20   0:00.11 /System/Library/Frameworks/Metal.framework/Versions/A/XPCServices/MTLCompilerService.xpc/Contents/MacOS/MTLCompilerService\\n'\n",
      "b'root             27655   0.0  0.1  4447120   8792   ??  Ss    1Feb20   0:06.44 /Library/ManagedAntivirusMaster/daemon\\n'\n",
      "b'jellyadmin       27508   0.0  0.0  4426288   3124   ??  Ss    1Feb20   0:02.18 /System/Library/Frameworks/MediaLibrary.framework/Versions/A/XPCServices/com.apple.MediaLibraryService.xpc/Contents/MacOS/com.apple.MediaLibraryService\\n'\n",
      "b'miguel.carvalho  27507   0.0  0.0  4433260   2924   ??  Ss    1Feb20   0:02.17 /System/Library/Frameworks/MediaLibrary.framework/Versions/A/XPCServices/com.apple.MediaLibraryService.xpc/Contents/MacOS/com.apple.MediaLibraryService\\n'\n",
      "b'root             27505   0.0  0.1  4399992  13460   ??  Ss    1Feb20   0:06.94 /System/Library/PrivateFrameworks/PackageKit.framework/Resources/installd\\n'\n",
      "b'root             27504   0.0  0.0  4376860   1372   ??  Ss    1Feb20   0:00.76 /System/Library/PrivateFrameworks/PackageKit.framework/Resources/system_installd\\n'\n",
      "b'root             27493   0.0  0.0  4353024   3412   ??  Ss    1Feb20   0:02.60 /usr/libexec/diskmanagementd\\n'\n",
      "b'root             27492   0.0  0.0  4380844   1152   ??  Ss    1Feb20   1:26.44 /System/Library/PrivateFrameworks/StorageKit.framework/Resources/storagekitd\\n'\n",
      "b'root             16653   0.0  0.0  4350308    120   ??  Ss    1Feb20   0:00.54 /usr/libexec/tailspind\\n'\n",
      "b'root              4928   0.0  0.0  4332792      8   ??  Ss    1Feb20   0:00.01 /usr/sbin/aslmanager -s /var/log/eventmonitor\\n'\n",
      "b'root             61987   0.0  0.0  4422056   2384   ??  Ss   31Jan20   0:06.01 /System/Library/PrivateFrameworks/CommerceKit.framework/Versions/A/Resources/storedownloadd daemon\\n'\n",
      "b'root             61976   0.0  0.0  4380176    940   ??  Ss   31Jan20   0:04.67 /System/Library/PrivateFrameworks/AuthKit.framework/Versions/A/Support/akd\\n'\n",
      "b'root             61974   0.0  0.0  4386524   1240   ??  Ss   31Jan20   0:02.91 /System/Library/PrivateFrameworks/CommerceKit.framework/Versions/A/XPCServices/com.apple.CommerceKit.TransactionService.xpc/Contents/MacOS/com.apple.CommerceKit.TransactionService\\n'\n",
      "b'root             61969   0.0  0.0  4389396   3116   ??  Ss   31Jan20   0:06.43 /System/Library/PrivateFrameworks/CommerceKit.framework/Versions/A/Resources/commerced\\n'\n",
      "b'root             61967   0.0  0.0  4351544    996   ??  Ss   31Jan20   0:01.13 /System/Library/PrivateFrameworks/CommerceKit.framework/Versions/A/Resources/storeaccountd daemon\\n'\n",
      "b'root             61966   0.0  0.0  4387756   5696   ??  Ss   31Jan20   0:07.27 /System/Library/PrivateFrameworks/CommerceKit.framework/Versions/A/Resources/storeassetd daemon\\n'\n",
      "b'root             61964   0.0  0.0  4377548   1372   ??  Ss   31Jan20   0:01.94 /System/Library/PrivateFrameworks/CommerceKit.framework/Versions/A/Resources/storelegacy daemon\\n'\n",
      "b'miguel.carvalho  45201   0.0  0.0  4380272    852   ??  S    31Jan20   0:01.47 /System/Library/PrivateFrameworks/DistributedEvaluation.framework/Versions/A/XPCServices/com.apple.siri-distributed-evaluation.xpc/Contents/MacOS/com.apple.siri-distributed-evaluation\\n'\n",
      "b'jellyadmin       45200   0.0  0.0  4378224    848   ??  S    31Jan20   0:01.46 /System/Library/PrivateFrameworks/DistributedEvaluation.framework/Versions/A/XPCServices/com.apple.siri-distributed-evaluation.xpc/Contents/MacOS/com.apple.siri-distributed-evaluation\\n'\n",
      "b'miguel.carvalho  45199   0.0  0.0  4377308    884   ??  S    31Jan20   0:01.28 /System/Library/PrivateFrameworks/IMDPersistence.framework/IMAutomaticHistoryDeletionAgent.app/Contents/MacOS/IMAutomaticHistoryDeletionAgent\\n'\n",
      "b'jellyadmin       45160   0.0  0.0  4377308    740   ??  S    31Jan20   0:01.16 /System/Library/PrivateFrameworks/IMDPersistence.framework/IMAutomaticHistoryDeletionAgent.app/Contents/MacOS/IMAutomaticHistoryDeletionAgent\\n'\n",
      "b'miguel.carvalho  45122   0.0  0.0  4349892    244   ??  S    31Jan20   0:00.73 /System/Library/CoreServices/EscrowSecurityAlert.app/Contents/MacOS/EscrowSecurityAlert\\n'\n",
      "b'_datadetectors   44679   0.0  0.0  4357848      8   ??  Ss   31Jan20   0:02.76 /usr/libexec/DataDetectorsSourceAccess\\n'\n",
      "b'miguel.carvalho  44615   0.0  0.0  4379608    208   ??  S    31Jan20   0:01.13 /System/Library/PrivateFrameworks/UsageTracking.framework/Versions/A/UsageTrackingAgent\\n'\n",
      "b'root             44614   0.0  0.0  4309176      8   ??  SNs  31Jan20   0:00.01 /usr/libexec/periodic-wrapper weekly\\n'\n",
      "b'miguel.carvalho  44497   0.0  0.0  4376612    592   ??  S    31Jan20   0:00.87 /System/Library/PrivateFrameworks/QuickLookThumbnailing.framework/Support/com.apple.quicklook.ThumbnailsAgent\\n'\n",
      "b'miguel.carvalho  44496   0.0  0.0  4351396    132   ??  S    31Jan20   0:01.58 /usr/libexec/silhouette\\n'\n",
      "b'jellyadmin       44443   0.0  0.0  4379160    856   ??  Ss   31Jan20   0:01.04 /System/Library/Frameworks/iTunesLibrary.framework/Versions/A/XPCServices/com.apple.iTunesLibraryService.xpc/Contents/MacOS/com.apple.iTunesLibraryService\\n'\n",
      "b'jellyadmin       44442   0.0  0.0  4349920    180   ??  Ss   31Jan20   0:00.94 /System/Library/PrivateFrameworks/AssistantServices.framework/Versions/A/XPCServices/media-indexer.xpc/Contents/MacOS/media-indexer\\n'\n",
      "b'root             44416   0.0  0.0  4378328   1500   ??  Ss   31Jan20   0:03.36 /usr/bin/sysdiagnose\\n'\n",
      "b'jellyadmin       44414   0.0  0.0  4376612    600   ??  S    31Jan20   0:00.89 /System/Library/PrivateFrameworks/QuickLookThumbnailing.framework/Support/com.apple.quicklook.ThumbnailsAgent\\n'\n",
      "b'jellyadmin       44413   0.0  0.0  4351396    132   ??  S    31Jan20   0:01.75 /usr/libexec/silhouette\\n'\n",
      "b'root             44298   0.0  0.0  4317368      8   ??  SNs  31Jan20   0:00.03 /usr/libexec/periodic-wrapper daily\\n'\n",
      "b'_softwareupdate  44089   0.0  0.0  4350960    236   ??  Ss   31Jan20   0:00.91 /System/Library/CoreServices/Software Update.app/Contents/Resources/softwareupdate_download_service\\n'\n",
      "b'_softwareupdate  43847   0.0  0.0  4350956    480   ??  S    31Jan20   0:05.43 /usr/sbin/distnoted agent\\n'\n",
      "b'_softwareupdate  43845   0.0  0.0  4317408    396   ??  S    31Jan20   0:12.84 /usr/sbin/cfprefsd agent\\n'\n",
      "b'_atsserver       43840   0.0  0.0  4378548    168   ??  Ss   31Jan20   0:00.98 /System/Library/Frameworks/ApplicationServices.framework/Frameworks/ATS.framework/Support/fontd\\n'\n",
      "b'miguel.carvalho  43816   0.0  0.0  4377056   1984   ??  Ss   31Jan20   0:00.93 /System/Library/PrivateFrameworks/FMClient.framework/Versions/A/XPCServices/FMIPClientXPCService.xpc/Contents/MacOS/FMIPClientXPCService\\n'\n",
      "b'miguel.carvalho  43815   0.0  0.0  4377156   1480   ??  S    31Jan20   0:01.10 /usr/libexec/siriknowledged\\n'\n",
      "b'miguel.carvalho  43814   0.0  0.0  4389224   2172   ??  Ss   31Jan20   0:01.07 /System/Library/Frameworks/iTunesLibrary.framework/Versions/A/XPCServices/com.apple.iTunesLibraryService.xpc/Contents/MacOS/com.apple.iTunesLibraryService\\n'\n",
      "b'miguel.carvalho  41605   0.0  0.0  4342168      8   ??  S    30Jan20   0:00.03 /System/Library/CoreServices/ReportCrash agent\\n'\n",
      "b'miguel.carvalho  38751   0.0  0.0  5202920   5168   ??  Ss   30Jan20   0:14.40 /System/Library/Frameworks/Quartz.framework/Versions/A/Frameworks/QuickLookUI.framework/Versions/A/XPCServices/QuickLookUIService.xpc/Contents/MacOS/QuickLookUIService\\n'\n",
      "b'miguel.carvalho  38702   0.0  0.0  4869700      8   ??  Ss   30Jan20   0:00.07 /System/Library/Frameworks/Metal.framework/Versions/A/XPCServices/MTLCompilerService.xpc/Contents/MacOS/MTLCompilerService\\n'\n",
      "b'jellyadmin       38142   0.0  0.0  4333976      8   ??  S    30Jan20   0:00.04 /System/Library/CoreServices/ReportCrash agent\\n'\n",
      "b'miguel.carvalho  35604   0.0  0.0  5243140   6272   ??  Ss   30Jan20   0:22.11 /System/Library/Frameworks/Quartz.framework/Versions/A/Frameworks/QuickLookUI.framework/Versions/A/XPCServices/QuickLookUIService.xpc/Contents/MacOS/QuickLookUIService\\n'\n",
      "b'miguel.carvalho  35559   0.0  0.1  4452932  10268   ??  Ss   30Jan20   0:21.57 /Applications/Utilities/Adobe Sync/CoreSync/Core Sync.app/Contents/PlugIns/ACCFinderSync.appex/Contents/MacOS/ACCFinderSync\\n'\n",
      "b'_assetcache      32772   0.0  0.0  4380220   1504   ??  Ss   30Jan20   0:01.32 /usr/libexec/AssetCache/AssetCache\\n'\n",
      "b'_assetcache      32771   0.0  0.0  4384948   3408   ??  Ss   30Jan20   0:05.54 /System/Library/PrivateFrameworks/AssetCacheServices.framework/Versions/A/XPCServices/AssetCacheLocatorService.xpc/Contents/MacOS/AssetCacheLocatorService -d\\n'\n",
      "b'miguel.carvalho  17147   0.0  0.0  4351368    104   ??  S    30Jan20   0:00.23 /usr/libexec/USBAgent\\n'\n",
      "b'_spotlight        9302   0.0  0.0  4378508    132   ??  S    30Jan20   0:02.53 /System/Library/Frameworks/CoreServices.framework/Frameworks/Metadata.framework/Versions/A/Support/mdworker -s mdworker-sizing -c MDSSizingWorker -m com.apple.mdworker.sizing\\n'\n",
      "b'miguel.carvalho   9064   0.0  0.0  4369564   1280   ??  Ss   30Jan20   0:00.79 /System/Library/PrivateFrameworks/AssistantServices.framework/Versions/A/XPCServices/com.apple.siri.ClientFlow.ClientScripter.xpc/Contents/MacOS/com.apple.siri.ClientFlow.ClientScripter\\n'\n",
      "b'miguel.carvalho   9063   0.0  0.1  4396004  17848   ??  S    30Jan20   0:24.65 /System/Library/PrivateFrameworks/AssistantServices.framework/Versions/A/Support/assistant_service\\n'\n",
      "b'miguel.carvalho   7983   0.0  0.0 92658212   3420   ??  S    30Jan20   0:03.65 /Applications/Google Chrome.app/Contents/Frameworks/Google Chrome Framework.framework/Versions/79.0.3945.130/Helpers/Google Chrome Helper (Plugin).app/Contents/MacOS/Google Chrome Helper (Plugin) --type=nacl-loader --metrics-client-id=456e333c-a0e4-4a67-aeb8-dd377343299f --service-request-channel-token=17222590141578900025 --seatbelt-client=316\\n'\n",
      "b'miguel.carvalho   7979   0.0  0.0  4835632   7960   ??  S    30Jan20   0:12.16 /Applications/Google Chrome.app/Contents/Frameworks/Google Chrome Framework.framework/Versions/79.0.3945.130/Helpers/Google Chrome Helper (Renderer).app/Contents/MacOS/Google Chrome Helper (Renderer) --type=renderer --field-trial-handle=1718379636,13713992639962531526,9614059912419605989,131072 --lang=en-GB --metrics-client-id=456e333c-a0e4-4a67-aeb8-dd377343299f --extension-process --enable-auto-reload --num-raster-threads=4 --enable-zero-copy --enable-gpu-memory-buffer-compositor-resources --enable-main-frame-before-activation --service-request-channel-token=9605838897287299517 --renderer-client-id=220 --no-v8-untrusted-code-mitigations --seatbelt-client=316\\n'\n",
      "b'miguel.carvalho   7978   0.0  0.1  5037992  18356   ??  S    30Jan20   0:23.77 /Applications/Google Chrome.app/Contents/Frameworks/Google Chrome Framework.framework/Versions/79.0.3945.130/Helpers/Google Chrome Helper (Renderer).app/Contents/MacOS/Google Chrome Helper (Renderer) --type=renderer --field-trial-handle=1718379636,13713992639962531526,9614059912419605989,131072 --lang=en-GB --metrics-client-id=456e333c-a0e4-4a67-aeb8-dd377343299f --extension-process --enable-auto-reload --num-raster-threads=4 --enable-zero-copy --enable-gpu-memory-buffer-compositor-resources --enable-main-frame-before-activation --service-request-channel-token=11998784405884821446 --renderer-client-id=219 --no-v8-untrusted-code-mitigations --seatbelt-client=316\\n'\n",
      "b'miguel.carvalho   7977   0.0  0.0  4830832   6808   ??  S    30Jan20   0:10.37 /Applications/Google Chrome.app/Contents/Frameworks/Google Chrome Framework.framework/Versions/79.0.3945.130/Helpers/Google Chrome Helper (Renderer).app/Contents/MacOS/Google Chrome Helper (Renderer) --type=renderer --field-trial-handle=1718379636,13713992639962531526,9614059912419605989,131072 --lang=en-GB --metrics-client-id=456e333c-a0e4-4a67-aeb8-dd377343299f --extension-process --enable-auto-reload --num-raster-threads=4 --enable-zero-copy --enable-gpu-memory-buffer-compositor-resources --enable-main-frame-before-activation --service-request-channel-token=5016789036224452894 --renderer-client-id=218 --no-v8-untrusted-code-mitigations --seatbelt-client=386\\n'\n",
      "b'miguel.carvalho   7976   0.0  0.3  4960460  57524   ??  S    30Jan20   1:24.20 /Applications/Google Chrome.app/Contents/Frameworks/Google Chrome Framework.framework/Versions/79.0.3945.130/Helpers/Google Chrome Helper (Renderer).app/Contents/MacOS/Google Chrome Helper (Renderer) --type=renderer --field-trial-handle=1718379636,13713992639962531526,9614059912419605989,131072 --lang=en-GB --metrics-client-id=456e333c-a0e4-4a67-aeb8-dd377343299f --extension-process --enable-auto-reload --num-raster-threads=4 --enable-zero-copy --enable-gpu-memory-buffer-compositor-resources --enable-main-frame-before-activation --service-request-channel-token=15912141534302321726 --renderer-client-id=217 --no-v8-untrusted-code-mitigations --seatbelt-client=386\\n'\n",
      "b'miguel.carvalho   7974   0.0  0.1  4825500  18596   ??  S    30Jan20   0:14.44 /Applications/Google Chrome.app/Contents/Frameworks/Google Chrome Framework.framework/Versions/79.0.3945.130/Helpers/Google Chrome Helper (Renderer).app/Contents/MacOS/Google Chrome Helper (Renderer) --type=renderer --field-trial-handle=1718379636,13713992639962531526,9614059912419605989,131072 --lang=en-GB --metrics-client-id=456e333c-a0e4-4a67-aeb8-dd377343299f --extension-process --enable-auto-reload --num-raster-threads=4 --enable-zero-copy --enable-gpu-memory-buffer-compositor-resources --enable-main-frame-before-activation --service-request-channel-token=17423890463540977214 --renderer-client-id=215 --no-v8-untrusted-code-mitigations --seatbelt-client=385\\n'\n",
      "b'miguel.carvalho   7973   0.0  0.0  4824388   7148   ??  S    30Jan20   0:10.90 /Applications/Google Chrome.app/Contents/Frameworks/Google Chrome Framework.framework/Versions/79.0.3945.130/Helpers/Google Chrome Helper (Renderer).app/Contents/MacOS/Google Chrome Helper (Renderer) --type=renderer --field-trial-handle=1718379636,13713992639962531526,9614059912419605989,131072 --lang=en-GB --metrics-client-id=456e333c-a0e4-4a67-aeb8-dd377343299f --extension-process --enable-auto-reload --num-raster-threads=4 --enable-zero-copy --enable-gpu-memory-buffer-compositor-resources --enable-main-frame-before-activation --service-request-channel-token=203700022554832823 --renderer-client-id=214 --no-v8-untrusted-code-mitigations --seatbelt-client=385\\n'\n",
      "b'miguel.carvalho   6818   0.0  0.0  4387708    196   ??  Ss   30Jan20   0:02.30 /System/Library/Frameworks/VideoToolbox.framework/Versions/A/XPCServices/VTDecoderXPCService.xpc/Contents/MacOS/VTDecoderXPCService\\n'\n",
      "b'miguel.carvalho   6817   0.0  0.0  4350292    120   ??  S    30Jan20   0:00.62 /System/Library/Frameworks/MediaAccessibility.framework/Versions/A/XPCServices/com.apple.accessibility.mediaaccessibilityd.xpc/Contents/MacOS/com.apple.accessibility.mediaaccessibilityd\\n'\n",
      "b'miguel.carvalho   6810   0.0  0.0  4388820    144   ??  Ss   30Jan20   0:00.82 /System/Library/PrivateFrameworks/AssistantServices.framework/Versions/A/XPCServices/com.apple.siri.ClientFlow.ClientScripter.xpc/Contents/MacOS/com.apple.siri.ClientFlow.ClientScripter\\n'\n",
      "b'miguel.carvalho   6802   0.0  0.0  4349912    680   ??  Ss   30Jan20   0:01.18 /System/Library/CoreServices/ControlStrip.app/Contents/XPCServices/com.apple.DFRSystemExtra.Siri.xpc/Contents/MacOS/com.apple.DFRSystemExtra.Siri\\n'\n",
      "b'miguel.carvalho   6003   0.0  0.0  4380276   1016   ??  S    30Jan20   0:01.71 /System/Library/Frameworks/CoreServices.framework/Frameworks/Metadata.framework/Versions/A/Support/mdwrite\\n'\n",
      "b'miguel.carvalho   5769   0.0  0.1  4927896  13060   ??  S    30Jan20   0:22.94 /System/Library/CoreServices/OSDUIHelper.app/Contents/MacOS/OSDUIHelper\\n'\n",
      "b'root              5355   0.0  0.0  4853088      8   ??  Ss   30Jan20   0:00.32 /System/Library/Frameworks/Metal.framework/Versions/A/XPCServices/MTLCompilerService.xpc/Contents/MacOS/MTLCompilerService\\n'\n",
      "b'jellyadmin        4230   0.0  0.0  4515816   1444   ??  S    30Jan20   0:05.31 /System/Library/Frameworks/CoreServices.framework/Frameworks/Metadata.framework/Versions/A/Support/corespotlightd\\n'\n",
      "b'miguel.carvalho   4229   0.0  0.0  4487672   1936   ??  S    30Jan20   0:05.69 /System/Library/Frameworks/CoreServices.framework/Frameworks/Metadata.framework/Versions/A/Support/corespotlightd\\n'\n",
      "b'jellyadmin        4228   0.0  0.0  4377560    208   ??  S    30Jan20   0:01.16 /System/Library/PrivateFrameworks/UsageTracking.framework/Versions/A/UsageTrackingAgent\\n'\n",
      "b'root              4202   0.0  0.0  4349804    284   ??  Ss   30Jan20   0:00.82 /System/Library/PrivateFrameworks/CommerceKit.framework/Versions/A/Resources/storeinstalld\\n'\n",
      "b'miguel.carvalho   4187   0.0  0.0  4381328   2868   ??  S    30Jan20   0:02.52 /System/Library/CoreServices/mapspushd\\n'\n",
      "b'jellyadmin        4186   0.0  0.0  4379280   2300   ??  S    30Jan20   0:02.52 /System/Library/CoreServices/mapspushd\\n'\n",
      "b'miguel.carvalho   4156   0.0  0.0  4376392    236   ??  S    30Jan20   0:01.13 /System/Library/PrivateFrameworks/PhotoAnalysis.framework/Versions/A/Support/photoanalysisd\\n'\n",
      "b'jellyadmin        4130   0.0  0.0  4376392    236   ??  S    30Jan20   0:01.15 /System/Library/PrivateFrameworks/PhotoAnalysis.framework/Versions/A/Support/photoanalysisd\\n'\n",
      "b'root              4127   0.0  0.0  4382764    944   ??  Ss   30Jan20   0:03.42 /usr/libexec/dprivacyd\\n'\n",
      "b'miguel.carvalho   4110   0.0  0.0  4391368   3868   ??  S    30Jan20   0:13.92 /System/Library/PrivateFrameworks/AppStoreDaemon.framework/Support/appstoreagent\\n'\n",
      "b'jellyadmin        4085   0.0  0.0  4379824    260   ??  S    30Jan20   0:00.88 /System/Library/PrivateFrameworks/CommerceKit.framework/Versions/A/Resources/storedownloadd\\n'\n",
      "b'jellyadmin        4075   0.0  0.0  4389104   3736   ??  S    30Jan20   0:13.76 /System/Library/PrivateFrameworks/AppStoreDaemon.framework/Support/appstoreagent\\n'\n",
      "b'miguel.carvalho   3809   0.0  0.0  4408044   2764   ??  S    30Jan20   0:08.20 /usr/libexec/avconferenced\\n'\n",
      "b'jellyadmin        3808   0.0  0.0  4405996   2652   ??  S    30Jan20   0:08.30 /usr/libexec/avconferenced\\n'\n",
      "b'root              3440   0.0  0.0  4383280    152   ??  Ss   30Jan20   0:01.22 /System/Library/CoreServices/ReportCrash daemon\\n'\n",
      "b'miguel.carvalho   3147   0.0  0.0  4325364      8   ??  Ss   30Jan20   0:00.01 /System/Library/Frameworks/AudioToolbox.framework/XPCServices/com.apple.audio.SandboxHelper.xpc/Contents/MacOS/com.apple.audio.SandboxHelper\\n'\n",
      "b'miguel.carvalho   3146   0.0  0.0  4603444   5720   ??  S    30Jan20   5:53.28 /Applications/Google Chrome.app/Contents/Frameworks/Google Chrome Framework.framework/Versions/79.0.3945.130/Helpers/Google Chrome Helper.app/Contents/MacOS/Google Chrome Helper --type=utility --field-trial-handle=1718379636,13713992639962531526,9614059912419605989,131072 --lang=en-GB --service-sandbox-type=audio --enable-audio-service-sandbox --message-loop-type-ui --metrics-client-id=456e333c-a0e4-4a67-aeb8-dd377343299f --service-request-channel-token=7705230729435134065 --seatbelt-client=247\\n'\n",
      "b'miguel.carvalho   3143   0.0  0.5  5050984  81168   ??  S    30Jan20   3:32.09 /Applications/Google Chrome.app/Contents/Frameworks/Google Chrome Framework.framework/Versions/79.0.3945.130/Helpers/Google Chrome Helper (Renderer).app/Contents/MacOS/Google Chrome Helper (Renderer) --type=renderer --field-trial-handle=1718379636,13713992639962531526,9614059912419605989,131072 --lang=en-GB --metrics-client-id=456e333c-a0e4-4a67-aeb8-dd377343299f --enable-auto-reload --num-raster-threads=4 --enable-zero-copy --enable-gpu-memory-buffer-compositor-resources --enable-main-frame-before-activation --service-request-channel-token=18026005401056191772 --renderer-client-id=44 --no-v8-untrusted-code-mitigations --seatbelt-client=217\\n'\n",
      "b'miguel.carvalho   3098   0.0  0.0  4421032    244   ??  S    30Jan20   0:01.72 /System/Library/Frameworks/ApplicationServices.framework/Frameworks/ATS.framework/Support/atsd\\n'\n",
      "b'miguel.carvalho   3019   0.0  0.0  4382244    720   ??  S    30Jan20   0:01.32 /System/Library/PrivateFrameworks/PhotoLibraryPrivate.framework/Versions/A/Support/photolibraryd\\n'\n",
      "b'miguel.carvalho   3018   0.0  0.0  4376788   2148   ??  S    30Jan20   0:01.50 /System/Library/PrivateFrameworks/CloudPhotoServices.framework/Versions/A/Frameworks/CloudPhotosConfigurationXPC.framework/Versions/A/XPCServices/com.apple.CloudPhotosConfiguration.xpc/Contents/MacOS/com.apple.CloudPhotosConfiguration\\n'\n",
      "b'miguel.carvalho   3011   0.0  0.1  4436448   9224   ??  S    30Jan20   0:35.05 /System/Library/CoreServices/cloudphotosd.app/Contents/MacOS/cloudphotosd\\n'\n",
      "b'jellyadmin        3008   0.0  0.0  4382244    572   ??  S    30Jan20   0:02.01 /System/Library/PrivateFrameworks/PhotoLibraryPrivate.framework/Versions/A/Support/photolibraryd\\n'\n",
      "b'jellyadmin        3007   0.0  0.0  4376512   1400   ??  S    30Jan20   0:01.29 /System/Library/PrivateFrameworks/CloudPhotoServices.framework/Versions/A/Frameworks/CloudPhotosConfigurationXPC.framework/Versions/A/XPCServices/com.apple.CloudPhotosConfiguration.xpc/Contents/MacOS/com.apple.CloudPhotosConfiguration\\n'\n",
      "b'jellyadmin        3006   0.0  0.0  4410980    228   ??  S    30Jan20   0:01.71 /System/Library/Frameworks/ApplicationServices.framework/Frameworks/ATS.framework/Support/atsd\\n'\n",
      "b'jellyadmin        3004   0.0  0.0  4430296   4236   ??  S    30Jan20   0:32.07 /System/Library/CoreServices/cloudphotosd.app/Contents/MacOS/cloudphotosd\\n'\n",
      "b'miguel.carvalho   2531   0.0  0.0  4379140    596   ??  S    30Jan20   0:04.00 /System/Library/Frameworks/ColorSync.framework/Support/colorsync.useragent\\n'\n",
      "b'jellyadmin        2530   0.0  0.0  4349768    520   ??  S    30Jan20   0:03.90 /System/Library/Frameworks/ColorSync.framework/Support/colorsync.useragent\\n'\n",
      "b'jellyadmin        2522   0.0  0.0  4414008   4524   ??  S    30Jan20   0:16.21 /System/Library/PreferencePanes/Displays.prefPane/Contents/Resources/MirrorDisplays.app/Contents/MacOS/MirrorDisplays\\n'\n",
      "b'miguel.carvalho   2521   0.0  0.1  4429524  11276   ??  S    30Jan20   0:19.45 /System/Library/PreferencePanes/Displays.prefPane/Contents/Resources/MirrorDisplays.app/Contents/MacOS/MirrorDisplays\\n'\n",
      "b'miguel.carvalho   2500   0.0  0.0  4355528    132   ??  S    30Jan20   0:01.66 /System/Library/PrivateFrameworks/PrintingPrivate.framework/Versions/A/PrintUITool\\n'\n",
      "b'jellyadmin        2485   0.0  0.0  4350040    936   ??  S    30Jan20   0:00.94 /usr/libexec/assertiond\\n'\n",
      "b'miguel.carvalho   2484   0.0  0.0  4350040   1016   ??  S    30Jan20   0:01.35 /usr/libexec/assertiond\\n'\n",
      "b'jellyadmin        2482   0.0  0.0  4378708    148   ??  S    30Jan20   0:00.89 /System/Library/Frameworks/AudioToolbox.framework/AudioComponentRegistrar\\n'\n",
      "b'jellyadmin        2478   0.0  0.0  4414404   8108   ??  S    30Jan20   0:24.33 /System/Library/CoreServices/PowerChime.app/Contents/MacOS/PowerChime\\n'\n",
      "b'miguel.carvalho   2477   0.0  0.1  4413876  12048   ??  S    30Jan20   0:27.36 /System/Library/CoreServices/PowerChime.app/Contents/MacOS/PowerChime\\n'\n",
      "b'miguel.carvalho   2463   0.0  0.0  4496512   1304   ??  S    30Jan20   0:59.91 /System/Library/CoreServices/SafariSupport.bundle/Contents/MacOS/SafariBookmarksSyncAgent\\n'\n",
      "b'jellyadmin        2462   0.0  0.0  4494464   1280   ??  S    30Jan20   0:59.84 /System/Library/CoreServices/SafariSupport.bundle/Contents/MacOS/SafariBookmarksSyncAgent\\n'\n",
      "b'Jellyuser         2455   0.0  0.0  4380728   3712   ??  S    30Jan20   0:04.14 /usr/libexec/trustd --agent\\n'\n",
      "b'Jellyuser         2420   0.0  0.0  4380036    828   ??  S    30Jan20   0:00.89 /usr/libexec/lsd\\n'\n",
      "b'Jellyuser         2419   0.0  0.0  4350956    468   ??  S    30Jan20   0:05.86 /usr/sbin/distnoted agent\\n'\n",
      "b'Jellyuser         2418   0.0  0.0  4350176    776   ??  S    30Jan20   0:13.90 /usr/sbin/cfprefsd agent\\n'\n",
      "b'miguel.carvalho   2359   0.0  0.3  5079472  49344   ??  Ss   30Jan20   7:10.37 /System/Library/CoreServices/Siri.app/Contents/XPCServices/SiriNCService.xpc/Contents/MacOS/SiriNCService\\n'\n",
      "b'_spotlight        2313   0.0  0.0  4350956    976   ??  S    30Jan20   0:06.98 /usr/sbin/distnoted agent\\n'\n",
      "b'root              2282   0.0  0.0  4388168   2640   ??  Ss   30Jan20   0:06.10 /usr/libexec/mobileactivationd\\n'\n",
      "b'miguel.carvalho   2062   0.0  0.2  5988468  30336   ??  S    30Jan20   5:26.33 /System/Library/PrivateFrameworks/CoreSuggestions.framework/Versions/A/Support/suggestd\\n'\n",
      "b'miguel.carvalho   2061   0.0  0.0  4391552   4356   ??  S    30Jan20   0:08.01 /usr/libexec/keyboardservicesd\\n'\n",
      "b'miguel.carvalho   2055   0.0  1.1  4999204 181604   ??  S    30Jan20  20:44.59 /System/Library/Services/AppleSpell.service/Contents/MacOS/AppleSpell\\n'\n",
      "b'miguel.carvalho   2049   0.0  0.0  4350200      8   ??  Ss   30Jan20   0:00.02 /System/Library/Frameworks/AudioToolbox.framework/XPCServices/com.apple.audio.SandboxHelper.xpc/Contents/MacOS/com.apple.audio.SandboxHelper\\n'\n",
      "b'miguel.carvalho   2034   0.0  0.0  4382624    496   ??  Ss   30Jan20   0:00.93 /System/Library/PrivateFrameworks/CommerceKit.framework/Versions/A/XPCServices/com.apple.CommerceKit.TransactionService.xpc/Contents/MacOS/com.apple.CommerceKit.TransactionService\\n'\n",
      "b'miguel.carvalho   2032   0.0  0.1  4414760  12304   ??  S    30Jan20   0:16.55 /System/Library/PrivateFrameworks/CommerceKit.framework/Resources/LaterAgent.app/Contents/MacOS/LaterAgent\\n'\n",
      "b'miguel.carvalho   2031   0.0  0.0  4377564    896   ??  S    30Jan20   0:00.88 /System/Library/PrivateFrameworks/CommerceKit.framework/Versions/A/Resources/storelegacy\\n'\n",
      "b'miguel.carvalho   2027   0.0  0.0  4351004   2204   ??  S    30Jan20   0:02.39 /System/Library/CoreServices/Software Update.app/Contents/Resources/softwareupdate_notify_agent\\n'\n",
      "b'miguel.carvalho   2011   0.0  0.0  4349796   2164   ??  S    30Jan20   4:18.81 /Applications/Utilities/Adobe Sync/CoreSync/Core Sync.app/Contents/Frameworks/AdobeCrashReporter.framework/Versions/A/AdobeCRDaemon.app/Contents/MacOS/AdobeCRDaemon 2008 Core Sync 2.4.3.114 /Applications/Utilities/Adobe Sync/CoreSync/Core Sync.app/Contents/Resources/CreativeCloudIcons.icns /Applications/Utilities/Adobe Sync/CoreSync/Core Sync.app/Contents/Frameworks/AdobeCrashReporter.framework/Versions/A/Adobe Crash Reporter.app/Contents/MacOS/Adobe Crash Reporter 0       \\n'\n",
      "b'miguel.carvalho   2009   0.0  0.1  5016956  13172   ??  S    30Jan20   0:24.16 /Applications/Utilities/Adobe Creative Cloud/CCXProcess/CCXProcess.app/Contents/MacOS/../libs/node /Applications/Utilities/Adobe Creative Cloud/CCXProcess/CCXProcess.app/Contents/MacOS/../js/main.js\\n'\n",
      "b'miguel.carvalho   2008   0.0  0.1  4992876  12612   ??  S    30Jan20   0:48.27 /Applications/Utilities/Adobe Sync/CoreSync/Core Sync.app/Contents/MacOS/Core Sync\\n'\n",
      "b'miguel.carvalho   2005   0.0  0.0  4349796   2152   ??  S    30Jan20   4:19.65 /Library/Application Support/Adobe/Adobe Desktop Common/ADS/Adobe Desktop Service.app/Contents/Frameworks/AdobeCrashReporter.framework/Versions/A/AdobeCRDaemon.app/Contents/MacOS/AdobeCRDaemon 2000 Adobe Desktop Service 4.3 /Library/Application Support/Adobe/Adobe Desktop Common/ADS/Adobe Desktop Service.app/Contents/Resources/AdobeDesktopService.icns /Library/Application Support/Adobe/Adobe Desktop Common/ADS/Adobe Desktop Service.app/Contents/Frameworks/AdobeCrashReporter.framework/Versions/A/Adobe Crash Reporter.app/Contents/MacOS/Adobe Crash Reporter 1       \\n'\n",
      "b'_applepay         2004   0.0  0.0  4376524    372   ??  Ss   30Jan20   0:01.29 /usr/libexec/seld\\n'\n",
      "b'miguel.carvalho   2002   0.0  0.0  4385112   1704   ??  S    30Jan20   0:04.71 /System/Library/PrivateFrameworks/CacheDelete.framework/deleted\\n'\n",
      "b'miguel.carvalho   2001   0.0  0.0  5253412   5544   ??  S    30Jan20   0:08.93 /Library/Application Support/Adobe/Adobe Desktop Common/HEX/Adobe CEF Helper.app/Contents/MacOS/Adobe CEF Helper --type=renderer --disable-pinch --disable-databases --primordial-pipe-token=E580CE09B7E4FC49E44ABB8A8EE9134B --lang=en-US --lang=en-US --log-file=/Users/miguel.carvalho/Library/Logs/CreativeCloud/ACC/CEF.log --log-severity=warning --user-agent=Mozilla/5.0 (Macintosh) AppleWebKit/537.36 (KHTML, like Gecko) Safari/537.36 CreativeCloud/4.3.0.256 --num-raster-threads=4 --enable-gpu-rasterization --enable-zero-copy --enable-gpu-memory-buffer-compositor-resources --enable-main-frame-before-activation --content-image-texture-target=0,0,3553;0,1,3553;0,2,3553;0,3,3553;0,4,3553;0,5,3553;0,6,3553;0,7,3553;0,8,3553;0,9,3553;0,10,34037;0,11,34037;0,12,34037;0,13,3553;0,14,3553;0,15,3553;1,0,3553;1,1,3553;1,2,3553;1,3,3553;1,4,3553;1,5,3553;1,6,3553;1,7,3553;1,8,3553;1,9,3553;1,10,34037;1,11,34037;1,12,34037;1,13,3553;1,14,3553;1,15,3553;2,0,3553;2,1,3553;2,2,3553;2,3,3553;2,4,3553;2,5,34037;2,6,3553;2,7,3553;2,8,3553;2,9,3553;2,10,3553;2,11,3553;2,12,34037;2,13,3553;2,14,34037;2,15,34037;3,0,3553;3,1,3553;3,2,3553;3,3,3553;3,4,3553;3,5,34037;3,6,3553;3,7,3553;3,8,3553;3,9,3553;3,10,3553;3,11,3553;3,12,34037;3,13,3553;3,14,34037;3,15,34037 --service-request-channel-token=E580CE09B7E4FC49E44ABB8A8EE9134B --renderer-client-id=3\\n'\n",
      "b'miguel.carvalho   2000   0.0  0.2   918748  31416   ??  S    30Jan20   3:08.49 /Library/Application Support/Adobe/Adobe Desktop Common/ADS/Adobe Desktop Service.app/Contents/MacOS/Adobe Desktop Service --onOSstartup=true --showwindow=false --waitForRegistration=true\\n'\n",
      "b'miguel.carvalho   1988   0.0  0.0  4380756    196   ??  Ss   30Jan20   0:01.04 /System/Library/Frameworks/VideoToolbox.framework/Versions/A/XPCServices/VTDecoderXPCService.xpc/Contents/MacOS/VTDecoderXPCService\\n'\n",
      "b'miguel.carvalho   1984   0.0  0.0  4388200    624   ??  Ss   30Jan20   0:01.11 /System/Library/Frameworks/iTunesLibrary.framework/Versions/A/XPCServices/com.apple.iTunesLibraryService.xpc/Contents/MacOS/com.apple.iTunesLibraryService\\n'\n",
      "b'miguel.carvalho   1962   0.0  0.0  4349920    180   ??  Ss   30Jan20   0:00.96 /System/Library/PrivateFrameworks/AssistantServices.framework/Versions/A/XPCServices/media-indexer.xpc/Contents/MacOS/media-indexer\\n'\n",
      "b'miguel.carvalho   1954   0.0  0.0  4349796   2248   ??  S    30Jan20   4:03.37 /Applications/Utilities/Adobe Creative Cloud/ACC/Creative Cloud.app/Contents/Frameworks/AdobeCrashReporter.framework/Versions/A/AdobeCRDaemon.app/Contents/MacOS/AdobeCRDaemon 1848 Creative Cloud 4.3 /Applications/Utilities/Adobe Creative Cloud/ACC/Creative Cloud.app/Contents/Resources/CreativeCloud.icns /Applications/Utilities/Adobe Creative Cloud/ACC/Creative Cloud.app/Contents/Frameworks/AdobeCrashReporter.framework/Versions/A/Adobe Crash Reporter.app/Contents/MacOS/Adobe Crash Reporter 1       \\n'\n",
      "b'miguel.carvalho   1948   0.0  0.1  4414780  10052   ??  S    30Jan20   0:18.60 /System/Library/CoreServices/RemoteManagement/SSMenuAgent.app/Contents/MacOS/SSMenuAgent\\n'\n",
      "b'miguel.carvalho   1947   0.0  0.0  4352968    540   ??  S    30Jan20   0:00.67 /usr/libexec/spindump_agent\\n'\n",
      "b'miguel.carvalho   1944   0.0  0.0   718804   5256   ??  S    30Jan20   1:55.20 /Applications/Utilities/Adobe Application Manager/IPC/AdobeIPCBroker.app/Contents/MacOS/AdobeIPCBroker -launchedbyvulcan /Applications/Utilities/Adobe Creative Cloud/ACC/Creative Cloud.app/Contents/MacOS/Creative Cloud\\n'\n",
      "b'miguel.carvalho   1937   0.0  0.1  4964688  13016   ??  S    30Jan20   0:23.46 /Applications/GeekTool.app/Contents/PlugIns/GeekTool.prefPane/Contents/Resources/GeekTool Helper.app/Contents/MacOS/GeekTool Helper\\n'\n",
      "b'miguel.carvalho   1876   0.0  0.0  4423976   2996   ??  S    30Jan20   0:18.46 /System/Library/Frameworks/ApplicationServices.framework/Frameworks/SpeechSynthesis.framework/Resources/com.apple.speech.speechsynthesisd\\n'\n",
      "b'miguel.carvalho   1873   0.0  0.0  4350536    120   ??  S    30Jan20   0:00.66 /System/Library/Frameworks/ApplicationServices.framework/Frameworks/PrintCore.framework/Versions/A/printtool agent\\n'\n",
      "b'miguel.carvalho   1863   0.0  0.2  4988208  26400   ??  S    30Jan20  10:15.75 /Applications/Magnet.app/Contents/MacOS/Magnet\\n'\n",
      "b'miguel.carvalho   1862   0.0  0.1  4994840  14064   ??  S    30Jan20   0:22.74 /System/Library/Frameworks/LocalAuthentication.framework/Support/coreautha.bundle/Contents/MacOS/coreautha\\n'\n",
      "b'miguel.carvalho   1860   0.0  0.0  4406084   8180   ??  S    30Jan20   2:03.90 /Library/PrivilegedHelperTools/DisplayLink/DisplayLinkUserAgent.bundle/Contents/MacOS/DisplayLinkUserAgent\\n'\n",
      "b'miguel.carvalho   1856   0.0  0.0  4391644   4064   ??  S    30Jan20   0:06.70 /usr/libexec/adprivacyd\\n'\n",
      "b'miguel.carvalho   1851   0.0  0.0  4380032   3436   ??  S    30Jan20   0:05.95 /System/Library/CoreServices/diagnostics_agent\\n'\n",
      "b'miguel.carvalho   1849   0.0  0.1  4424240  11596   ??  S    30Jan20   0:22.30 /System/Library/PrivateFrameworks/Noticeboard.framework/Versions/A/Resources/nbagent.app/Contents/MacOS/nbagent\\n'\n",
      "b'miguel.carvalho   1845   0.0  0.0  4378100   2256   ??  S    30Jan20   0:19.72 /System/Library/CoreServices/cloudpaird\\n'\n",
      "b'miguel.carvalho   1844   0.0  0.0  4384632   1912   ??  S    30Jan20   0:04.16 /usr/libexec/knowledge-agent\\n'\n",
      "b'miguel.carvalho   1842   0.0  0.1  4921004  10392   ??  S    30Jan20   0:19.42 /System/Library/CoreServices/AirPlayUIAgent.app/Contents/MacOS/AirPlayUIAgent --launchd\\n'\n",
      "b'miguel.carvalho   1841   0.0  0.0  4389584   5700   ??  S    30Jan20   0:28.05 /Library/Application Support/Adobe/AdobeGCClient/AGMService -mode=logon\\n'\n",
      "b'miguel.carvalho   1838   0.0  0.1  4467560  16724   ??  S    30Jan20   1:07.48 Applications/NoMAD.app/Contents/MacOS/NoMAD\\n'\n",
      "b'miguel.carvalho   1837   0.0  0.0        0      0   ??  ?N   30Jan20   0:00.00 /Library/ManagedAntivirus/AVP/EndpointSecurityforMac.app/Contents/MacOS/EndpointSecurityforMac\\n'\n",
      "b'miguel.carvalho   1836   0.0  0.0  4381940   1364   ??  S    30Jan20   0:05.68 /System/Library/Image Capture/Support/icdd\\n'\n",
      "b'miguel.carvalho   1833   0.0  0.0  4379812    232   ??  S    30Jan20   0:01.67 /usr/libexec/dmd\\n'\n",
      "b'miguel.carvalho   1830   0.0  0.0  4379664   4816   ??  SN   30Jan20   0:09.31 /usr/local/jamf/bin/jamfAgent\\n'\n",
      "b'miguel.carvalho   1829   0.0  0.1  4462040  13984   ??  S    30Jan20   3:34.03 /Applications/MSP Anywhere Agent TakeControl.app/Contents/Resources/MSP Anywhere Service Configurator.app/Contents/MacOS/MSP Anywhere Service Configurator\\n'\n",
      "b'miguel.carvalho   1827   0.0  0.0  4376432    560   ??  S    30Jan20   0:01.14 /System/Library/CoreServices/SocialPushAgent.app/Contents/MacOS/SocialPushAgent\\n'\n",
      "b'miguel.carvalho   1826   0.0  0.1  4432668  12320   ??  S    30Jan20   1:21.65 /Applications/Utilities/Advanced Monitoring Agent.app/Contents/MacOS/Advanced Monitoring Agent serve\\n'\n",
      "b'miguel.carvalho   1823   0.0  0.1  4473080  12216   ??  S    30Jan20   0:45.33 /Applications/MSP Anywhere Agent TakeControl.app/Contents/MacOS/MSP Anywhere Agent\\n'\n",
      "b'miguel.carvalho   1820   0.0  0.0  4379772   2772   ??  S    30Jan20   2:38.49 /System/Library/PrivateFrameworks/CoreSpeech.framework/corespeechd\\n'\n",
      "b'jellyadmin        1783   0.0  0.0  4379436    812   ??  S    30Jan20   0:12.18 /System/Library/CoreServices/RemoteManagement/ARDAgent.app/Contents/MacOS/ARDAgent\\n'\n",
      "b'miguel.carvalho   1782   0.0  0.0  4317024      8 s001  S    30Jan20   0:00.04 -bash\\n'\n",
      "b'root              1780   0.0  0.0  4331288      8 s001  Ss   30Jan20   0:00.02 login -pfl miguel.carvalho /bin/bash -c exec -la bash /bin/bash\\n'\n",
      "b'miguel.carvalho   1779   0.0  0.0  4350332   1272   ??  S    30Jan20   0:05.47 /System/Library/Frameworks/ApplicationServices.framework/Versions/A/Frameworks/HIServices.framework/Versions/A/XPCServices/com.apple.hiservices-xpcservice.xpc/Contents/MacOS/com.apple.hiservices-xpcservice\\n'\n",
      "b'miguel.carvalho   1778   0.0  0.0  4381872    260   ??  S    30Jan20   0:00.96 /System/Library/PrivateFrameworks/CommerceKit.framework/Versions/A/Resources/storedownloadd\\n'\n",
      "b'miguel.carvalho   1774   0.0  0.0  4395072   7620   ??  S    30Jan20   0:09.48 /System/Library/PrivateFrameworks/CommerceKit.framework/Versions/A/Resources/storeassetd\\n'\n",
      "b'miguel.carvalho   1745   0.0  0.2  4836196  35080   ??  S    30Jan20   0:26.64 /Applications/Google Chrome.app/Contents/Frameworks/Google Chrome Framework.framework/Versions/79.0.3945.130/Helpers/Google Chrome Helper (Renderer).app/Contents/MacOS/Google Chrome Helper (Renderer) --type=renderer --field-trial-handle=1718379636,13713992639962531526,9614059912419605989,131072 --lang=en-GB --metrics-client-id=456e333c-a0e4-4a67-aeb8-dd377343299f --extension-process --enable-auto-reload --num-raster-threads=4 --enable-zero-copy --enable-gpu-memory-buffer-compositor-resources --enable-main-frame-before-activation --service-request-channel-token=16380399887473610999 --renderer-client-id=7 --no-v8-untrusted-code-mitigations --seatbelt-client=71\\n'\n",
      "b'miguel.carvalho   1741   0.0  0.7  4994364 111456   ??  S    30Jan20   6:46.78 /Applications/Google Chrome.app/Contents/Frameworks/Google Chrome Framework.framework/Versions/79.0.3945.130/Helpers/Google Chrome Helper (Renderer).app/Contents/MacOS/Google Chrome Helper (Renderer) --type=renderer --field-trial-handle=1718379636,13713992639962531526,9614059912419605989,131072 --lang=en-GB --metrics-client-id=456e333c-a0e4-4a67-aeb8-dd377343299f --extension-process --enable-auto-reload --num-raster-threads=4 --enable-zero-copy --enable-gpu-memory-buffer-compositor-resources --enable-main-frame-before-activation --service-request-channel-token=17944090938747328906 --renderer-client-id=5 --no-v8-untrusted-code-mitigations --seatbelt-client=71\\n'\n",
      "b'miguel.carvalho   1740   0.0  0.0  4378980    180   ??  S    30Jan20   0:02.25 /usr/libexec/videosubscriptionsd\\n'\n",
      "b'miguel.carvalho   1723   0.0  0.1  4419480  10268   ??  S    30Jan20   0:17.20 /System/Library/PrivateFrameworks/CommerceKit.framework/Versions/A/Resources/storeuid.app/Contents/MacOS/storeuid\\n'\n",
      "b'miguel.carvalho   1715   0.0  0.0  4380176    172   ??  S    30Jan20   0:00.87 /System/Library/CoreServices/Menu Extras/SafeEjectGPUExtra.menu/Contents/XPCServices/SafeEjectGPUService.xpc/Contents/MacOS/SafeEjectGPUService\\n'\n",
      "b'miguel.carvalho   1710   0.0  0.0  4831512      8   ??  S    30Jan20   0:00.02 SafeEjectGPUAgent\\n'\n",
      "b'miguel.carvalho   1688   0.0  0.0  4349848    148   ??  S    30Jan20   0:00.72 /System/Library/PrivateFrameworks/CharacterPicker.framework/Versions/A/XPCServices/com.apple.CharacterPicker.FileService.xpc/Contents/MacOS/com.apple.CharacterPicker.FileService\\n'\n",
      "b'root              1686   0.0  0.0  4378692   2844   ??  Ss   30Jan20   3:54.84 /System/Library/PrivateFrameworks/AmbientDisplay.framework/Versions/A/XPCServices/com.apple.AmbientDisplayAgent.xpc/Contents/MacOS/com.apple.AmbientDisplayAgent\\n'\n",
      "b'miguel.carvalho   1681   0.0  0.1  5094164  10500   ??  Ss   30Jan20   1:47.67 /System/Library/Input Methods/EmojiFunctionRowIM.app/Contents/PlugIns/EmojiFunctionRowIM_Extension.appex/Contents/MacOS/EmojiFunctionRowIM_Extension\\n'\n",
      "b'miguel.carvalho   1680   0.0  0.0  5001704   6912   ??  Ss   30Jan20   0:25.44 /System/Library/Input Methods/PressAndHold.app/Contents/PlugIns/PAH_Extension.appex/Contents/MacOS/PAH_Extension\\n'\n",
      "b'miguel.carvalho   1675   0.0  0.0  4389212   3308   ??  S    30Jan20   0:14.54 /System/Library/Frameworks/InputMethodKit.framework/Resources/imklaunchagent\\n'\n",
      "b'_applepay         1641   0.0  0.0  4377628   2460   ??  Ss   30Jan20   0:04.85 /usr/libexec/nfcd\\n'\n",
      "b'miguel.carvalho   1640   0.0  0.1  4936452  11980   ??  S    30Jan20   0:34.21 /System/Library/CoreServices/NowPlayingTouchUI.app/Contents/MacOS/NowPlayingTouchUI\\n'\n",
      "b'miguel.carvalho   1639   0.0  0.0  4349972    176   ??  S    30Jan20   0:00.39 /System/Library/PrivateFrameworks/CoreFollowUp.framework/Versions/A/Support/followupd\\n'\n",
      "b'miguel.carvalho   1634   0.0  0.0  4382836   3628   ??  S    30Jan20   0:04.66 /System/Library/PrivateFrameworks/PassKitCore.framework/passd\\n'\n",
      "b'miguel.carvalho   1625   0.0  0.0  4382636   3504   ??  S    30Jan20   0:01.48 /System/Library/CoreServices/pbs\\n'\n",
      "b'miguel.carvalho   1617   0.0  0.0  4387824    148   ??  S    30Jan20   0:00.98 /System/Library/Frameworks/AudioToolbox.framework/AudioComponentRegistrar\\n'\n",
      "b'miguel.carvalho   1616   0.0  0.0  4352876    672   ??  S    30Jan20   0:01.44 /usr/libexec/loginitemregisterd\\n'\n",
      "b'miguel.carvalho   1615   0.0  0.0  4351556    120   ??  S    30Jan20   0:00.63 /System/Library/Frameworks/CryptoTokenKit.framework/ctkd -tw\\n'\n",
      "b'jellyadmin        1610   0.0  0.0  4415544   5420   ??  S    30Jan20   0:24.01 /usr/libexec/studentd\\n'\n",
      "b'jellyadmin        1609   0.0  0.0  4908264   4700   ??  S    30Jan20   0:16.79 /System/Library/Frameworks/LocalAuthentication.framework/Support/coreautha.bundle/Contents/MacOS/coreautha\\n'\n",
      "b'miguel.carvalho   1607   0.0  0.0  4351120    984   ??  S    30Jan20   0:00.80 /System/Library/Frameworks/CryptoTokenKit.framework/ctkahp.bundle/Contents/MacOS/ctkahp\\n'\n",
      "b'miguel.carvalho   1606   0.0  0.0  4390172    196   ??  Ss   30Jan20   0:18.07 /System/Library/Frameworks/VideoToolbox.framework/Versions/A/XPCServices/VTDecoderXPCService.xpc/Contents/MacOS/VTDecoderXPCService\\n'\n",
      "b'miguel.carvalho   1605   0.0  0.0  4379440   2968   ??  S    30Jan20   0:05.26 /System/Library/PrivateFrameworks/FileProvider.framework/Support/fileproviderd\\n'\n",
      "b'miguel.carvalho   1604   0.0  0.0  4379944   1452   ??  Ss   30Jan20   0:01.66 /System/Library/PrivateFrameworks/IMFoundation.framework/XPCServices/IMRemoteURLConnectionAgent.xpc/Contents/MacOS/IMRemoteURLConnectionAgent\\n'\n",
      "b'miguel.carvalho   1598   0.0  0.0  4333408      8 s000  S+   30Jan20   0:00.19 -bash\\n'\n",
      "b'miguel.carvalho   1592   0.0  0.0  4379100    208   ??  S    30Jan20   0:01.04 /System/Library/PrivateFrameworks/CallHistory.framework/Support/CallHistoryPluginHelper\\n'\n",
      "b'jellyadmin        1586   0.0  0.0  4350920    308   ??  S    30Jan20   0:00.66 /usr/libexec/spindump_agent\\n'\n",
      "b'miguel.carvalho   1579   0.0  0.0  4350464      8   ??  Ss   30Jan20   0:00.03 /Applications/Google Chrome.app/Contents/Frameworks/Google Chrome Framework.framework/Versions/79.0.3945.130/XPCServices/AlertNotificationService.xpc/Contents/MacOS/AlertNotificationService\\n'\n",
      "b'root              1578   0.0  0.2  4510288  26272   ??  Ss   30Jan20   0:08.98 /usr/sbin/spindump\\n'\n",
      "b'miguel.carvalho   1576   0.0  0.0  4350172      8   ??  Ss   30Jan20   0:00.02 /System/Library/PrivateFrameworks/login.framework/Versions/A/XPCServices/LoginUserService.xpc/Contents/MacOS/LoginUserService\\n'\n",
      "b'miguel.carvalho   1572   0.0  0.0  4379436   2292   ??  Ss   30Jan20   0:07.63 /System/Library/PrivateFrameworks/CoreWLANKit.framework/Versions/A/XPCServices/WiFiProxy.xpc/Contents/MacOS/WiFiProxy\\n'\n",
      "b'root              1571   0.0  0.0  4349720      8 s000  Ss   30Jan20   0:00.03 login -pfl miguel.carvalho /bin/bash -c exec -la bash /bin/bash\\n'\n",
      "b'root              1570   0.0  0.0  4351556    212   ??  Ss   30Jan20   0:00.63 /System/Library/PrivateFrameworks/AssetCacheServicesExtensions.framework/XPCServices/AssetCacheManagerService.xpc/Contents/MacOS/AssetCacheManagerService\\n'\n",
      "b'miguel.carvalho   1568   0.0  0.1  4417004  10400   ??  S    30Jan20   0:18.84 /System/Library/CoreServices/CoreLocationAgent.app/Contents/MacOS/CoreLocationAgent\\n'\n",
      "b'miguel.carvalho   1566   0.0  0.1  4453020  10096   ??  Ss   30Jan20   0:22.16 /Applications/Utilities/Adobe Sync/CoreSync/Core Sync.app/Contents/PlugIns/ACCFinderSync.appex/Contents/MacOS/ACCFinderSync\\n'\n",
      "b'miguel.carvalho   1560   0.0  0.1  4922772  13092   ??  Ss   30Jan20   0:19.92 /System/Library/CoreServices/Dock.app/Contents/XPCServices/com.apple.dock.extra.xpc/Contents/MacOS/com.apple.dock.extra\\n'\n",
      "b'miguel.carvalho   1559   0.0  0.0  4396540   4676   ??  S    30Jan20   0:12.01 /System/Library/PrivateFrameworks/GeoServices.framework/Versions/A/XPCServices/com.apple.geod.xpc/Contents/MacOS/com.apple.geod\\n'\n",
      "b'miguel.carvalho   1558   0.0  0.0  4395168   4316   ??  S    30Jan20   0:13.70 /System/Library/PrivateFrameworks/CommerceKit.framework/Versions/A/Resources/commerce\\n'\n",
      "b'miguel.carvalho   1555   0.0  0.0  4353608   1284   ??  S    30Jan20   0:01.56 /System/Library/PrivateFrameworks/CommerceKit.framework/Versions/A/Resources/storeaccountd\\n'\n",
      "b'miguel.carvalho   1553   0.0  0.1  4478960  21052   ??  S    30Jan20   0:37.64 /System/Library/CoreServices/iconservicesagent\\n'\n",
      "b'miguel.carvalho   1552   0.0  0.0  4394784   3240   ??  S    30Jan20   0:11.91 /System/Library/PrivateFrameworks/CoreParsec.framework/parsecd\\n'\n",
      "b'miguel.carvalho   1551   0.0  0.0  4380292   1556   ??  S    30Jan20   0:02.22 /System/Library/PrivateFrameworks/AuthKit.framework/Versions/A/Support/akd\\n'\n",
      "b'miguel.carvalho   1546   0.0  0.0  4355088    788   ??  S    30Jan20   0:00.28 /Applications/Google Chrome.app/Contents/Frameworks/Google Chrome Framework.framework/Versions/79.0.3945.130/Helpers/chrome_crashpad_handler --monitor-self-annotation=ptype=crashpad-handler --database=/Users/miguel.carvalho/Library/Application Support/Google/Chrome/Crashpad --metrics-dir=/Users/miguel.carvalho/Library/Application Support/Google/Chrome --url=https://clients2.google.com/cr/report --annotation=channel= --annotation=plat=OS X --annotation=prod=Chrome_Mac --annotation=ver=79.0.3945.130 --handshake-fd=8\\n'\n",
      "b'miguel.carvalho   1543   0.0  0.0  4377236    168   ??  S    30Jan20   0:00.92 /System/Library/PrivateFrameworks/FamilyCircle.framework/Versions/A/Resources/familycircled\\n'\n",
      "b'miguel.carvalho   1540   0.0  0.4  5074548  59984   ??  S    30Jan20   5:13.90 /System/Library/CoreServices/Spotlight.app/Contents/MacOS/Spotlight\\n'\n",
      "b'miguel.carvalho   1539   0.0  0.1  4385160   8676   ??  S    30Jan20   0:29.68 /usr/libexec/pkd\\n'\n",
      "b'miguel.carvalho   1537   0.0  0.0  4349736   1340   ??  S    30Jan20   0:02.38 /System/Library/PrivateFrameworks/MediaRemote.framework/Support/mediaremoteagent\\n'\n",
      "b'miguel.carvalho   1535   0.0  0.0  4380640   4336   ??  S    30Jan20   1:35.89 /System/Library/PrivateFrameworks/ViewBridge.framework/Versions/A/XPCServices/ViewBridgeAuxiliary.xpc/Contents/MacOS/ViewBridgeAuxiliary\\n'\n",
      "b'miguel.carvalho   1533   0.0  1.3  5480488 215448   ??  S    30Jan20  12:51.05 /System/Library/CoreServices/Finder.app/Contents/MacOS/Finder\\n'\n",
      "b'miguel.carvalho   1532   0.0  0.4  5089588  60384   ??  S    30Jan20   7:40.80 /System/Library/CoreServices/SystemUIServer.app/Contents/MacOS/SystemUIServer\\n'\n",
      "b'miguel.carvalho   1530   0.0  0.1  5227840  23008   ??  S    30Jan20   2:57.31 /System/Library/CoreServices/Dock.app/Contents/MacOS/Dock\\n'\n",
      "b'miguel.carvalho   1529   0.0  0.1  4434368   8656   ??  S    30Jan20   0:20.96 /System/Library/CoreServices/talagent\\n'\n",
      "b'miguel.carvalho   1528   0.0  0.0  4349696   1084   ??  Ss   30Jan20   0:01.30 /System/Library/PrivateFrameworks/IMFoundation.framework/XPCServices/IMRemoteURLConnectionAgent.xpc/Contents/MacOS/IMRemoteURLConnectionAgent\\n'\n",
      "b'miguel.carvalho   1526   0.0  0.0  4379928   1312   ??  Ss   30Jan20   0:01.59 /System/Library/PrivateFrameworks/IMFoundation.framework/XPCServices/IMRemoteURLConnectionAgent.xpc/Contents/MacOS/IMRemoteURLConnectionAgent\\n'\n",
      "b'miguel.carvalho   1523   0.0  0.0  4378252   1340   ??  S    30Jan20   0:01.62 /usr/libexec/fmfd\\n'\n",
      "b'miguel.carvalho   1522   0.0  0.0  4386524   8188   ??  Ss   30Jan20   0:09.98 /System/Library/PrivateFrameworks/CalendarNotification.framework/Versions/A/XPCServices/CalNCService.xpc/Contents/MacOS/CalNCService\\n'\n",
      "b'miguel.carvalho   1521   0.0  0.0  4351864   2396   ??  S    30Jan20   0:03.47 /usr/libexec/pboard\\n'\n",
      "b'miguel.carvalho   1519   0.0  0.1  4396576  10408   ??  S    30Jan20   1:27.84 /usr/libexec/sharingd\\n'\n",
      "b'miguel.carvalho   1518   0.0  0.0  4380816   4264   ??  S    30Jan20   0:41.20 /System/Library/PrivateFrameworks/UserActivity.framework/Agents/useractivityd\\n'\n",
      "b'miguel.carvalho   1517   0.0  0.0  4384532   1492   ??  S    30Jan20   0:02.09 /System/Library/PrivateFrameworks/MessagesKit.framework/Resources/soagent.app/Contents/MacOS/soagent\\n'\n",
      "b'miguel.carvalho   1515   0.0  0.0  4379928   1352   ??  Ss   30Jan20   0:01.59 /System/Library/PrivateFrameworks/IMFoundation.framework/XPCServices/IMRemoteURLConnectionAgent.xpc/Contents/MacOS/IMRemoteURLConnectionAgent\\n'\n",
      "b'miguel.carvalho   1514   0.0  0.0  4377568   2676   ??  S    30Jan20   0:02.26 /System/Library/PrivateFrameworks/CloudDocsDaemon.framework/Versions/A/Support/bird\\n'\n",
      "b'miguel.carvalho   1513   0.0  0.1  4420664  15356   ??  S    30Jan20   0:35.13 /System/Library/PrivateFrameworks/AssistantServices.framework/Versions/A/Support/assistantd\\n'\n",
      "b'miguel.carvalho   1512   0.0  0.0  4385000   1940   ??  S    30Jan20   0:01.34 /usr/libexec/swcd\\n'\n",
      "b'miguel.carvalho   1511   0.0  0.0  4386460   4012   ??  S    30Jan20   0:05.83 /usr/libexec/nsurlstoraged\\n'\n",
      "b'miguel.carvalho   1509   0.0  0.0  4387280   6400   ??  S    30Jan20   2:48.95 /System/Library/Frameworks/ApplicationServices.framework/Frameworks/ATS.framework/Support/fontd\\n'\n",
      "b'miguel.carvalho   1508   0.0  0.1  4422276   9588   ??  S    30Jan20   0:28.40 /usr/libexec/studentd\\n'\n",
      "b'miguel.carvalho   1507   0.0  0.2  5224732  32612   ??  S    30Jan20   1:06.08 /System/Library/CoreServices/NotificationCenter.app/Contents/MacOS/NotificationCenter\\n'\n",
      "b'miguel.carvalho   1506   0.0  0.0  4383208   2376   ??  S    30Jan20   0:13.29 /System/Library/CoreServices/RemoteManagement/ARDAgent.app/Contents/MacOS/ARDAgent\\n'\n",
      "b'miguel.carvalho   1504   0.0  0.1  4406596  10080   ??  S    30Jan20   0:17.23 /System/Library/CoreServices/WiFiAgent.app/Contents/MacOS/WiFiAgent\\n'\n",
      "b'miguel.carvalho   1502   0.0  0.0  4350316    120   ??  S    30Jan20   0:00.60 /System/Library/CoreServices/APFSUserAgent\\n'\n",
      "b'miguel.carvalho   1501   0.0  0.1  4411924  17400   ??  S    30Jan20   0:20.43 /System/Library/PrivateFrameworks/CalendarAgent.framework/Executables/CalendarAgent\\n'\n",
      "b'miguel.carvalho   1499   0.0  0.2  4943900  34344   ??  S    30Jan20   2:50.45 /System/Library/CoreServices/ControlStrip.app/Contents/MacOS/ControlStrip\\n'\n",
      "b'miguel.carvalho   1498   0.0  0.0  4380380   1388   ??  S    30Jan20   0:04.66 /usr/libexec/networkserviceproxy\\n'\n",
      "b'miguel.carvalho   1497   0.0  0.0  4388088   6992   ??  S    30Jan20   0:16.68 /usr/libexec/routined LAUNCHED_BY_LAUNCHD\\n'\n",
      "b'miguel.carvalho   1496   0.0  0.0  4391312   6936   ??  S    30Jan20   0:09.37 /usr/sbin/usernoted\\n'\n",
      "b'miguel.carvalho   1494   0.0  0.0  4378024   4084   ??  S    30Jan20   0:09.64 /usr/libexec/rapportd\\n'\n",
      "b'miguel.carvalho   1493   0.0  0.0  4380232   3632   ??  S    30Jan20   0:03.32 /usr/libexec/secinitd\\n'\n",
      "b'miguel.carvalho   1492   0.0  0.0  4388988   4216   ??  S    30Jan20   0:02.31 /System/Library/CoreServices/sharedfilelistd\\n'\n",
      "b'miguel.carvalho   1491   0.0  0.0  4349888    716   ??  S    30Jan20   0:02.16 /System/Library/Frameworks/AddressBook.framework/Executables/ContactsAccountsService\\n'\n",
      "b'jellyadmin        1489   0.0  0.0  4400360   4844   ??  S    30Jan20   0:13.71 /System/Library/CoreServices/Keychain Circle Notification.app/Contents/MacOS/Keychain Circle Notification\\n'\n",
      "b'miguel.carvalho   1487   0.0  0.0  4350044    740   ??  S    30Jan20   0:00.83 /System/Library/Frameworks/Security.framework/Versions/A/Resources/CloudKeychainProxy.bundle/Contents/MacOS/CloudKeychainProxy\\n'\n",
      "b'miguel.carvalho   1486   0.0  0.0  4379948   1288   ??  S    30Jan20   0:01.48 /System/Library/PrivateFrameworks/IMDPersistence.framework/XPCServices/IMDPersistenceAgent.xpc/Contents/MacOS/IMDPersistenceAgent\\n'\n",
      "b'miguel.carvalho   1485   0.0  0.0  4389952   2044   ??  S    30Jan20   0:08.21 /usr/libexec/nsurlsessiond\\n'\n",
      "b'miguel.carvalho   1484   0.0  0.0  4380380   3396   ??  S    30Jan20   0:05.84 /System/Library/PrivateFrameworks/IMCore.framework/imagent.app/Contents/MacOS/imagent\\n'\n",
      "b'miguel.carvalho   1483   0.0  0.0  4384576   5604   ??  S    30Jan20   0:04.58 /System/Library/PrivateFrameworks/TCC.framework/Resources/tccd\\n'\n",
      "b'miguel.carvalho   1482   0.0  0.0  4388980   5156   ??  S    30Jan20   0:08.69 /System/Library/PrivateFrameworks/IDS.framework/identityservicesd.app/Contents/MacOS/identityservicesd\\n'\n",
      "b'miguel.carvalho   1481   0.0  0.0  4381016   3664   ??  S    30Jan20   0:07.03 /System/Library/Frameworks/Accounts.framework/Versions/A/Support/accountsd\\n'\n",
      "b'miguel.carvalho   1479   0.0  0.0  4387868   4004   ??  S    30Jan20   0:07.20 /System/Library/PrivateFrameworks/TelephonyUtilities.framework/callservicesd\\n'\n",
      "b'miguel.carvalho   1478   0.0  0.1  4397184  10056   ??  S    30Jan20   0:16.42 /System/Library/PrivateFrameworks/CloudKitDaemon.framework/Support/cloudd\\n'\n",
      "b'miguel.carvalho   1477   0.0  0.0  4381660   1716   ??  S    30Jan20   0:07.66 /System/Library/CoreServices/backgroundtaskmanagementagent\\n'\n",
      "b'miguel.carvalho   1476   0.0  0.0  4381272   5116   ??  S    30Jan20   0:06.88 /usr/libexec/secd\\n'\n",
      "b'miguel.carvalho   1474   0.0  0.2  4410124  30616   ??  S    30Jan20   3:57.73 /usr/libexec/trustd --agent\\n'\n",
      "b'miguel.carvalho   1473   0.0  0.0  4392400   6564   ??  S    30Jan20   0:06.03 /usr/libexec/lsd\\n'\n",
      "b'miguel.carvalho   1472   0.0  0.0  4390056   6084   ??  S    30Jan20   0:32.40 /System/Library/Frameworks/CoreTelephony.framework/Support/CommCenter -L\\n'\n",
      "b'miguel.carvalho   1470   0.0  0.0  4350956   5012   ??  S    30Jan20   1:58.80 /usr/sbin/distnoted agent\\n'\n",
      "b'miguel.carvalho   1467   0.0  0.0  4379692   6448   ??  S    30Jan20   0:49.42 /usr/libexec/UserEventAgent (Aqua)\\n'\n",
      "b'jellyadmin        1466   0.0  0.0  4349972    112   ??  S    30Jan20   0:00.24 /System/Library/PrivateFrameworks/CoreFollowUp.framework/Versions/A/Support/followupd\\n'\n",
      "b'miguel.carvalho   1383   0.0  0.0  4350892   3532   ??  S    30Jan20  15:08.34 /usr/sbin/cfprefsd agent\\n'\n",
      "b'miguel.carvalho   1382   0.0  0.0  4376776   3128   ??  S    30Jan20   0:02.41 /System/Library/Frameworks/LocalAuthentication.framework/Support/coreauthd\\n'\n",
      "b'miguel.carvalho   1335   0.0  0.2  4511204  37012   ??  S    30Jan20   1:24.77 /System/Library/CoreServices/loginwindow.app/Contents/MacOS/loginwindow\\n'\n",
      "b'_spotlight        1270   0.0  0.0  4380592   4544   ??  S    30Jan20   0:04.64 /usr/libexec/trustd --agent\\n'\n",
      "b'jellyadmin        1209   0.0  0.1  6001248  21160   ??  S    30Jan20   5:16.46 /System/Library/PrivateFrameworks/CoreSuggestions.framework/Versions/A/Support/suggestd\\n'\n",
      "b'jellyadmin        1208   0.0  0.0  4387488   2460   ??  S    30Jan20   0:07.41 /usr/libexec/keyboardservicesd\\n'\n",
      "b'jellyadmin        1207   0.0  0.0  4439704   7276   ??  S    30Jan20   0:06.52 /System/Library/Services/AppleSpell.service/Contents/MacOS/AppleSpell\\n'\n",
      "b'jellyadmin        1194   0.0  0.0  4380576    496   ??  Ss   30Jan20   0:00.88 /System/Library/PrivateFrameworks/CommerceKit.framework/Versions/A/XPCServices/com.apple.CommerceKit.TransactionService.xpc/Contents/MacOS/com.apple.CommerceKit.TransactionService\\n'\n",
      "b'jellyadmin        1193   0.0  0.0  4404156   4956   ??  S    30Jan20   0:13.85 /System/Library/PrivateFrameworks/CommerceKit.framework/Resources/LaterAgent.app/Contents/MacOS/LaterAgent\\n'\n",
      "b'jellyadmin        1192   0.0  0.0  4392340   6000   ??  S    30Jan20   0:09.00 /System/Library/PrivateFrameworks/CommerceKit.framework/Versions/A/Resources/storeassetd\\n'\n",
      "b'jellyadmin        1191   0.0  0.0  4377564    876   ??  S    30Jan20   0:00.83 /System/Library/PrivateFrameworks/CommerceKit.framework/Versions/A/Resources/storelegacy\\n'\n",
      "b'root              1189   0.0  0.1  4389308  11716   ??  Ss   30Jan20   0:01.22 /System/Library/CoreServices/Software Update.app/Contents/Resources/suhelperd\\n'\n",
      "b'_softwareupdate   1188   0.0  0.5  4571352  85704   ??  Ss   30Jan20   2:46.99 /System/Library/CoreServices/Software Update.app/Contents/Resources/softwareupdated\\n'\n",
      "b'jellyadmin        1186   0.0  0.0  4351004   2124   ??  S    30Jan20   0:02.27 /System/Library/CoreServices/Software Update.app/Contents/Resources/softwareupdate_notify_agent\\n'\n",
      "b'root              1180   0.0  0.0  4382444   2352   ??  Ss   30Jan20   0:04.15 /System/Library/CoreServices/iconservicesagent runAsRoot\\n'\n",
      "b'jellyadmin        1149   0.0  0.0  4349796   1624   ??  S    30Jan20   2:43.64 /Applications/Utilities/Adobe Sync/CoreSync/Core Sync.app/Contents/Frameworks/AdobeCrashReporter.framework/Versions/A/AdobeCRDaemon.app/Contents/MacOS/AdobeCRDaemon 1146 Core Sync 2.4.3.114 /Applications/Utilities/Adobe Sync/CoreSync/Core Sync.app/Contents/Resources/CreativeCloudIcons.icns /Applications/Utilities/Adobe Sync/CoreSync/Core Sync.app/Contents/Frameworks/AdobeCrashReporter.framework/Versions/A/Adobe Crash Reporter.app/Contents/MacOS/Adobe Crash Reporter 0       \\n'\n",
      "b'jellyadmin        1147   0.0  0.1  5009372  13140   ??  S    30Jan20   0:24.05 /Applications/Utilities/Adobe Creative Cloud/CCXProcess/CCXProcess.app/Contents/MacOS/../libs/node /Applications/Utilities/Adobe Creative Cloud/CCXProcess/CCXProcess.app/Contents/MacOS/../js/main.js\\n'\n",
      "b'jellyadmin        1146   0.0  0.0  4987860   7208   ??  S    30Jan20   0:45.95 /Applications/Utilities/Adobe Sync/CoreSync/Core Sync.app/Contents/MacOS/Core Sync\\n'\n",
      "b'jellyadmin        1127   0.0  0.0  4349796   1648   ??  S    30Jan20   2:43.53 /Library/Application Support/Adobe/Adobe Desktop Common/ADS/Adobe Desktop Service.app/Contents/Frameworks/AdobeCrashReporter.framework/Versions/A/AdobeCRDaemon.app/Contents/MacOS/AdobeCRDaemon 1083 Adobe Desktop Service 4.3 /Library/Application Support/Adobe/Adobe Desktop Common/ADS/Adobe Desktop Service.app/Contents/Resources/AdobeDesktopService.icns /Library/Application Support/Adobe/Adobe Desktop Common/ADS/Adobe Desktop Service.app/Contents/Frameworks/AdobeCrashReporter.framework/Versions/A/Adobe Crash Reporter.app/Contents/MacOS/Adobe Crash Reporter 1       \\n'\n",
      "b'jellyadmin        1087   0.0  0.0  5240432   3040   ??  S    30Jan20   0:07.95 /Library/Application Support/Adobe/Adobe Desktop Common/HEX/Adobe CEF Helper.app/Contents/MacOS/Adobe CEF Helper --type=renderer --disable-pinch --disable-databases --primordial-pipe-token=520C0E9E9BF22B12EA36BF4607A56262 --lang=en-US --lang=en-US --log-file=/Users/jellyadmin/Library/Logs/CreativeCloud/ACC/CEF.log --log-severity=warning --user-agent=Mozilla/5.0 (Macintosh) AppleWebKit/537.36 (KHTML, like Gecko) Safari/537.36 CreativeCloud/4.3.0.256 --num-raster-threads=4 --enable-gpu-rasterization --enable-zero-copy --enable-gpu-memory-buffer-compositor-resources --enable-main-frame-before-activation --content-image-texture-target=0,0,3553;0,1,3553;0,2,3553;0,3,3553;0,4,3553;0,5,3553;0,6,3553;0,7,3553;0,8,3553;0,9,3553;0,10,34037;0,11,34037;0,12,34037;0,13,3553;0,14,3553;0,15,3553;1,0,3553;1,1,3553;1,2,3553;1,3,3553;1,4,3553;1,5,3553;1,6,3553;1,7,3553;1,8,3553;1,9,3553;1,10,34037;1,11,34037;1,12,34037;1,13,3553;1,14,3553;1,15,3553;2,0,3553;2,1,3553;2,2,3553;2,3,3553;2,4,3553;2,5,34037;2,6,3553;2,7,3553;2,8,3553;2,9,3553;2,10,3553;2,11,3553;2,12,34037;2,13,3553;2,14,34037;2,15,34037;3,0,3553;3,1,3553;3,2,3553;3,3,3553;3,4,3553;3,5,34037;3,6,3553;3,7,3553;3,8,3553;3,9,3553;3,10,3553;3,11,3553;3,12,34037;3,13,3553;3,14,34037;3,15,34037 --service-request-channel-token=520C0E9E9BF22B12EA36BF4607A56262 --renderer-client-id=3\\n'\n",
      "b'jellyadmin        1083   0.0  0.1   914052  14948   ??  S    30Jan20   3:00.19 /Library/Application Support/Adobe/Adobe Desktop Common/ADS/Adobe Desktop Service.app/Contents/MacOS/Adobe Desktop Service --onOSstartup=true --showwindow=false --waitForRegistration=true\\n'\n",
      "b'jellyadmin        1076   0.0  0.0  4378708    196   ??  Ss   30Jan20   0:01.00 /System/Library/Frameworks/VideoToolbox.framework/Versions/A/XPCServices/VTDecoderXPCService.xpc/Contents/MacOS/VTDecoderXPCService\\n'\n",
      "b'_gamecontrollerd  1067   0.0  0.0  4350400   1512   ??  Ss   30Jan20   0:16.94 /usr/libexec/gamecontrollerd\\n'\n",
      "b'jellyadmin        1063   0.0  0.0  4349796   1808   ??  S    30Jan20   2:31.30 /Applications/Utilities/Adobe Creative Cloud/ACC/Creative Cloud.app/Contents/Frameworks/AdobeCrashReporter.framework/Versions/A/AdobeCRDaemon.app/Contents/MacOS/AdobeCRDaemon 905 Creative Cloud 4.3 /Applications/Utilities/Adobe Creative Cloud/ACC/Creative Cloud.app/Contents/Resources/CreativeCloud.icns /Applications/Utilities/Adobe Creative Cloud/ACC/Creative Cloud.app/Contents/Frameworks/AdobeCrashReporter.framework/Versions/A/Adobe Crash Reporter.app/Contents/MacOS/Adobe Crash Reporter 1       \\n'\n",
      "b'root              1062   0.0  0.0  4377748    224   ??  Ss   30Jan20   0:01.51 /usr/libexec/dmd\\n'\n",
      "b'jellyadmin        1053   0.0  0.0  4341888      8   ??  S    30Jan20   0:00.02 /System/Library/PrivateFrameworks/CloudServices.framework/Versions/A/XPCServices/com.apple.sbd.xpc/Contents/MacOS/com.apple.sbd\\n'\n",
      "b'jellyadmin        1045   0.0  0.0  4378128    172   ??  S    30Jan20   0:00.88 /System/Library/CoreServices/Menu Extras/SafeEjectGPUExtra.menu/Contents/XPCServices/SafeEjectGPUService.xpc/Contents/MacOS/SafeEjectGPUService\\n'\n",
      "b'jellyadmin        1041   0.0  0.0  4823320      8   ??  S    30Jan20   0:00.02 SafeEjectGPUAgent\\n'\n",
      "b'jellyadmin        1039   0.0  0.0  4379064   1348   ??  S    30Jan20   0:02.67 /System/Library/PrivateFrameworks/CacheDelete.framework/deleted\\n'\n",
      "b'jellyadmin        1008   0.0  0.0   713076   2144   ??  S    30Jan20   1:52.59 /Applications/Utilities/Adobe Application Manager/IPC/AdobeIPCBroker.app/Contents/MacOS/AdobeIPCBroker -launchedbyvulcan /Applications/Utilities/Adobe Creative Cloud/ACC/Creative Cloud.app/Contents/MacOS/Creative Cloud\\n'\n",
      "b'jellyadmin         983   0.0  0.0  4377812   1032   ??  Ss   30Jan20   0:01.56 /System/Library/PrivateFrameworks/IMFoundation.framework/XPCServices/IMRemoteURLConnectionAgent.xpc/Contents/MacOS/IMRemoteURLConnectionAgent\\n'\n",
      "b'jellyadmin         977   0.0  0.0  4377452    328   ??  S    30Jan20   0:00.73 /System/Library/CoreServices/pbs\\n'\n",
      "b'jellyadmin         965   0.0  0.0  4404312   4904   ??  S    30Jan20   0:16.66 /System/Library/CoreServices/CoreLocationAgent.app/Contents/MacOS/CoreLocationAgent\\n'\n",
      "b'jellyadmin         964   0.0  0.0  4961384   7292   ??  S    30Jan20   0:25.53 /Applications/GeekTool.app/Contents/PlugIns/GeekTool.prefPane/Contents/Resources/GeekTool Helper.app/Contents/MacOS/GeekTool Helper\\n'\n",
      "b'jellyadmin         949   0.0  0.0  4378980    180   ??  S    30Jan20   0:02.19 /usr/libexec/videosubscriptionsd\\n'\n",
      "b'root               939   0.0  0.0  4377708    532   ??  Ss   30Jan20   0:02.42 /usr/libexec/findmydeviced\\n'\n",
      "b'jellyadmin         936   0.0  0.0  4349848    148   ??  S    30Jan20   0:00.71 /System/Library/PrivateFrameworks/CharacterPicker.framework/Versions/A/XPCServices/com.apple.CharacterPicker.FileService.xpc/Contents/MacOS/com.apple.CharacterPicker.FileService\\n'\n",
      "b'jellyadmin         933   0.0  0.0  4350172      8   ??  Ss   30Jan20   0:00.02 /System/Library/PrivateFrameworks/login.framework/Versions/A/XPCServices/LoginUserService.xpc/Contents/MacOS/LoginUserService\\n'\n",
      "b'jellyadmin         932   0.0  0.0  4905528   1344   ??  Ss   30Jan20   0:07.46 /System/Library/Input Methods/EmojiFunctionRowIM.app/Contents/PlugIns/EmojiFunctionRowIM_Extension.appex/Contents/MacOS/EmojiFunctionRowIM_Extension\\n'\n",
      "b'jellyadmin         930   0.0  0.0  4376836   2080   ??  Ss   30Jan20   0:05.72 /System/Library/PrivateFrameworks/CoreWLANKit.framework/Versions/A/XPCServices/WiFiProxy.xpc/Contents/MacOS/WiFiProxy\\n'\n",
      "b'_fpsd              929   0.0  0.0  4354012    560   ??  Ss   30Jan20   0:01.69 /System/Library/PrivateFrameworks/CoreADI.framework/adid\\n'\n",
      "b'jellyadmin         928   0.0  0.0  4351556    120   ??  S    30Jan20   0:00.64 /System/Library/Frameworks/CryptoTokenKit.framework/ctkd -tw\\n'\n",
      "b'jellyadmin         925   0.0  0.0  4377052    208   ??  S    30Jan20   0:01.04 /System/Library/PrivateFrameworks/CallHistory.framework/Support/CallHistoryPluginHelper\\n'\n",
      "b'jellyadmin         924   0.0  0.0  4381592   1960   ??  S    30Jan20   0:06.06 /System/Library/PrivateFrameworks/AuthKit.framework/Versions/A/Support/akd\\n'\n",
      "b'jellyadmin         923   0.0  0.0  4351560   1280   ??  S    30Jan20   0:01.56 /System/Library/PrivateFrameworks/CommerceKit.framework/Versions/A/Resources/storeaccountd\\n'\n",
      "b'jellyadmin         922   0.0  0.0  4351120    148   ??  S    30Jan20   0:00.74 /System/Library/Frameworks/CryptoTokenKit.framework/ctkahp.bundle/Contents/MacOS/ctkahp\\n'\n",
      "b'jellyadmin         919   0.0  0.0  4395156   7964   ??  S    30Jan20   0:11.03 /System/Library/PrivateFrameworks/GeoServices.framework/Versions/A/XPCServices/com.apple.geod.xpc/Contents/MacOS/com.apple.geod\\n'\n",
      "b'jellyadmin         918   0.0  0.0  4393180   4428   ??  S    30Jan20   0:13.73 /System/Library/PrivateFrameworks/CommerceKit.framework/Versions/A/Resources/commerce\\n'\n",
      "b'jellyadmin         917   0.0  0.0  4448144   4996   ??  Ss   30Jan20   0:20.06 /Applications/Utilities/Adobe Sync/CoreSync/Core Sync.app/Contents/PlugIns/ACCFinderSync.appex/Contents/MacOS/ACCFinderSync\\n'\n",
      "b'root               916   0.0  0.0  4350728   2608   ??  Ss   30Jan20   0:00.80 /usr/sbin/filecoordinationd\\n'\n",
      "b'jellyadmin         915   0.0  0.0  4917024   8256   ??  Ss   30Jan20   0:17.74 /System/Library/CoreServices/Dock.app/Contents/XPCServices/com.apple.dock.extra.xpc/Contents/MacOS/com.apple.dock.extra\\n'\n",
      "b'root               914   0.0  0.0  4351000    976   ??  Ss   30Jan20   0:00.24 /System/Library/Frameworks/CryptoTokenKit.framework/ctkahp.bundle/Contents/MacOS/ctkahp -d\\n'\n",
      "b'jellyadmin         912   0.0  0.0  4399324   4160   ??  S    30Jan20   0:32.18 /Library/PrivilegedHelperTools/DisplayLink/DisplayLinkUserAgent.bundle/Contents/MacOS/DisplayLinkUserAgent\\n'\n",
      "b'jellyadmin         910   0.0  0.0  4390404   3912   ??  S    30Jan20   0:06.42 /usr/libexec/adprivacyd\\n'\n",
      "b'jellyadmin         907   0.0  0.0  4377500   1844   ??  S    30Jan20   0:01.71 /System/Library/CoreServices/diagnostics_agent\\n'\n",
      "b'jellyadmin         906   0.0  0.0  4412540   4936   ??  S    30Jan20   0:19.70 /System/Library/PrivateFrameworks/Noticeboard.framework/Versions/A/Resources/nbagent.app/Contents/MacOS/nbagent\\n'\n",
      "b'jellyadmin         903   0.0  0.0  4378144   1400   ??  S    30Jan20   0:15.63 /System/Library/CoreServices/cloudpaird\\n'\n",
      "b'jellyadmin         902   0.0  0.0  4382584   1972   ??  S    30Jan20   0:04.21 /usr/libexec/knowledge-agent\\n'\n",
      "b'jellyadmin         901   0.0  0.0  4908212   5024   ??  S    30Jan20   0:17.12 /System/Library/CoreServices/AirPlayUIAgent.app/Contents/MacOS/AirPlayUIAgent --launchd\\n'\n",
      "b'jellyadmin         900   0.0  0.0  4380544   2112   ??  S    30Jan20   0:02.20 /Library/Application Support/Adobe/AdobeGCClient/AGMService -mode=logon\\n'\n",
      "b'jellyadmin         898   0.0  0.0  4421156   8340   ??  S    30Jan20   0:27.29 Applications/NoMAD.app/Contents/MacOS/NoMAD\\n'\n",
      "b'jellyadmin         897   0.0  0.0        0      0   ??  ?N   30Jan20   0:00.00 /Library/ManagedAntivirus/AVP/EndpointSecurityforMac.app/Contents/MacOS/EndpointSecurityforMac\\n'\n",
      "b'jellyadmin         896   0.0  0.0  4377844    864   ??  S    30Jan20   0:04.73 /System/Library/Image Capture/Support/icdd\\n'\n",
      "b'jellyadmin         895   0.0  0.0  4380112   2452   ??  S    30Jan20   0:14.42 /System/Library/Frameworks/InputMethodKit.framework/Resources/imklaunchagent\\n'\n",
      "b'jellyadmin         894   0.0  0.0  4377764    232   ??  S    30Jan20   0:01.58 /usr/libexec/dmd\\n'\n",
      "b'jellyadmin         892   0.0  0.0  4377616    840   ??  SN   30Jan20   0:02.07 /usr/local/jamf/bin/jamfAgent\\n'\n",
      "b'jellyadmin         891   0.0  0.0  4454908   8332   ??  S    30Jan20   2:58.63 /Applications/MSP Anywhere Agent TakeControl.app/Contents/Resources/MSP Anywhere Service Configurator.app/Contents/MacOS/MSP Anywhere Service Configurator\\n'\n",
      "b'jellyadmin         889   0.0  0.0  4376432    660   ??  S    30Jan20   0:01.15 /System/Library/CoreServices/SocialPushAgent.app/Contents/MacOS/SocialPushAgent\\n'\n",
      "b'jellyadmin         888   0.0  0.0  4418720   7080   ??  S    30Jan20   1:18.69 /Applications/Utilities/Advanced Monitoring Agent.app/Contents/MacOS/Advanced Monitoring Agent serve\\n'\n",
      "b'jellyadmin         885   0.0  0.0  4436932   6808   ??  S    30Jan20   0:42.32 /Applications/MSP Anywhere Agent TakeControl.app/Contents/MacOS/MSP Anywhere Agent\\n'\n",
      "b'jellyadmin         883   0.0  0.0  4377820   2780   ??  S    30Jan20   2:17.01 /System/Library/PrivateFrameworks/CoreSpeech.framework/corespeechd\\n'\n",
      "b'jellyadmin         882   0.0  0.0  4406272   4308   ??  S    30Jan20   0:05.66 /System/Library/CoreServices/iconservicesagent\\n'\n",
      "b'jellyadmin         881   0.0  0.0  4391620   3184   ??  S    30Jan20   0:10.88 /System/Library/PrivateFrameworks/CoreParsec.framework/parsecd\\n'\n",
      "b'jellyadmin         876   0.0  0.0  4404088   4548   ??  S    30Jan20   0:16.18 /System/Library/CoreServices/RemoteManagement/SSMenuAgent.app/Contents/MacOS/SSMenuAgent\\n'\n",
      "b'jellyadmin         874   0.0  0.0  4349696    964   ??  Ss   30Jan20   0:01.28 /System/Library/PrivateFrameworks/IMFoundation.framework/XPCServices/IMRemoteURLConnectionAgent.xpc/Contents/MacOS/IMRemoteURLConnectionAgent\\n'\n",
      "b'jellyadmin         873   0.0  0.0  4349736   1296   ??  S    30Jan20   0:02.22 /System/Library/PrivateFrameworks/MediaRemote.framework/Support/mediaremoteagent\\n'\n",
      "b'jellyadmin         872   0.0  0.0  4377132    168   ??  S    30Jan20   0:00.90 /System/Library/PrivateFrameworks/FamilyCircle.framework/Versions/A/Resources/familycircled\\n'\n",
      "b'jellyadmin         871   0.0  0.0  4377812    972   ??  Ss   30Jan20   0:01.51 /System/Library/PrivateFrameworks/IMFoundation.framework/XPCServices/IMRemoteURLConnectionAgent.xpc/Contents/MacOS/IMRemoteURLConnectionAgent\\n'\n",
      "b'jellyadmin         870   0.0  0.0  4378376    740   ??  S    30Jan20   0:01.63 /usr/libexec/fmfd\\n'\n",
      "b'jellyadmin         869   0.0  0.0  4378696   2552   ??  S    30Jan20   0:15.35 /System/Library/PrivateFrameworks/UserActivity.framework/Agents/useractivityd\\n'\n",
      "b'jellyadmin         868   0.0  0.0  4387264   7304   ??  S    30Jan20   1:11.78 /usr/libexec/sharingd\\n'\n",
      "b'jellyadmin         867   0.0  0.0  4382528    932   ??  S    30Jan20   0:01.94 /System/Library/PrivateFrameworks/MessagesKit.framework/Resources/soagent.app/Contents/MacOS/soagent\\n'\n",
      "b'jellyadmin         866   0.0  0.0  4381820   1292   ??  S    30Jan20   0:04.22 /usr/libexec/nsurlstoraged\\n'\n",
      "b'jellyadmin         864   0.0  0.0  4377812   1168   ??  Ss   30Jan20   0:01.56 /System/Library/PrivateFrameworks/IMFoundation.framework/XPCServices/IMRemoteURLConnectionAgent.xpc/Contents/MacOS/IMRemoteURLConnectionAgent\\n'\n",
      "b'jellyadmin         863   0.0  0.0  4382392   3292   ??  S    30Jan20   0:03.95 /System/Library/PrivateFrameworks/AssistantServices.framework/Versions/A/Support/assistantd\\n'\n",
      "b'jellyadmin         861   0.0  0.0  4382940   3552   ??  Ss   30Jan20   0:08.22 /System/Library/PrivateFrameworks/CalendarNotification.framework/Versions/A/XPCServices/CalNCService.xpc/Contents/MacOS/CalNCService\\n'\n",
      "b'jellyadmin         860   0.0  0.0  4378368   2172   ??  S    30Jan20   0:01.11 /usr/libexec/swcd\\n'\n",
      "b'jellyadmin         858   0.0  0.0  4400844   3528   ??  S    30Jan20   0:14.74 /System/Library/CoreServices/WiFiAgent.app/Contents/MacOS/WiFiAgent\\n'\n",
      "b'jellyadmin         857   0.0  0.0  4349892    244   ??  S    30Jan20   0:00.77 /System/Library/CoreServices/EscrowSecurityAlert.app/Contents/MacOS/EscrowSecurityAlert\\n'\n",
      "b'jellyadmin         856   0.0  0.0  4377228   2820   ??  S    30Jan20   0:05.04 /System/Library/PrivateFrameworks/ProtectedCloudStorage.framework/Helpers/ProtectedCloudKeySyncing\\n'\n",
      "b'jellyadmin         855   0.0  0.0  4349732    148   ??  S    30Jan20   0:00.35 /System/Library/PrivateFrameworks/CoreCDP.framework/Versions/A/Resources/cdpd\\n'\n",
      "b'root               853   0.0  0.0  4349756    148   ??  Ss   30Jan20   0:00.71 /System/Library/CoreServices/CrashReporterSupportHelper server-init\\n'\n",
      "b'jellyadmin         852   0.0  0.0  4350316    120   ??  S    30Jan20   0:00.59 /System/Library/CoreServices/APFSUserAgent\\n'\n",
      "b'jellyadmin         850   0.0  0.1  4960268  18820   ??  S    30Jan20   0:29.05 /System/Library/CoreServices/NotificationCenter.app/Contents/MacOS/NotificationCenter\\n'\n",
      "b'jellyadmin         849   0.0  0.0  4386148   6232   ??  S    30Jan20   0:08.44 /System/Library/PrivateFrameworks/CalendarAgent.framework/Executables/CalendarAgent\\n'\n",
      "b'jellyadmin         848   0.0  0.0  4378332   1364   ??  S    30Jan20   0:04.66 /usr/libexec/networkserviceproxy\\n'\n",
      "b'jellyadmin         847   0.0  0.0  4350044    764   ??  S    30Jan20   0:00.76 /System/Library/Frameworks/Security.framework/Versions/A/Resources/CloudKeychainProxy.bundle/Contents/MacOS/CloudKeychainProxy\\n'\n",
      "b'jellyadmin         846   0.0  0.2  4948332  29436   ??  S    30Jan20   2:04.92 /System/Library/CoreServices/ControlStrip.app/Contents/MacOS/ControlStrip\\n'\n",
      "b'jellyadmin         845   0.0  0.0  4379752   4952   ??  S    30Jan20   0:05.63 /usr/sbin/usernoted\\n'\n",
      "b'jellyadmin         844   0.0  0.0  4386016   5972   ??  S    30Jan20   0:16.88 /usr/libexec/routined LAUNCHED_BY_LAUNCHD\\n'\n",
      "b'jellyadmin         843   0.0  0.0  4379320   1316   ??  S    30Jan20   0:08.71 /System/Library/Frameworks/ApplicationServices.framework/Frameworks/ATS.framework/Support/fontd\\n'\n",
      "b'root               842   0.0  0.0  4377812   2788   ??  Ss   30Jan20   0:17.29 /usr/sbin/wirelessproxd\\n'\n",
      "b'jellyadmin         841   0.0  0.2  6318888  27904   ??  S    30Jan20   3:32.00 /System/Library/CoreServices/Spotlight.app/Contents/MacOS/Spotlight\\n'\n",
      "b'jellyadmin         840   0.0  0.0  4379616   1720   ??  S    30Jan20   0:02.77 /usr/libexec/secinitd\\n'\n",
      "b'jellyadmin         838   0.0  0.0  4349888    712   ??  S    30Jan20   0:02.09 /System/Library/Frameworks/AddressBook.framework/Executables/ContactsAccountsService\\n'\n",
      "b'jellyadmin         836   0.0  0.0  4387708    940   ??  S    30Jan20   0:06.98 /usr/libexec/nsurlsessiond\\n'\n",
      "b'jellyadmin         835   0.0  0.0  4377944    948   ??  S    30Jan20   0:01.45 /System/Library/PrivateFrameworks/IMDPersistence.framework/XPCServices/IMDPersistenceAgent.xpc/Contents/MacOS/IMDPersistenceAgent\\n'\n",
      "b'jellyadmin         833   0.0  0.0  4377568   1924   ??  S    30Jan20   0:02.14 /System/Library/PrivateFrameworks/CloudDocsDaemon.framework/Versions/A/Support/bird\\n'\n",
      "b'jellyadmin         832   0.0  0.0  4377512   1772   ??  S    30Jan20   0:13.37 /System/Library/PrivateFrameworks/ViewBridge.framework/Versions/A/XPCServices/ViewBridgeAuxiliary.xpc/Contents/MacOS/ViewBridgeAuxiliary\\n'\n",
      "b'jellyadmin         831   0.0  0.0  4378332   3324   ??  S    30Jan20   0:05.58 /System/Library/PrivateFrameworks/IMCore.framework/imagent.app/Contents/MacOS/imagent\\n'\n",
      "b'jellyadmin         830   0.0  0.0  4379036   1784   ??  S    30Jan20   0:01.82 /System/Library/PrivateFrameworks/TCC.framework/Resources/tccd\\n'\n",
      "b'jellyadmin         829   0.0  0.0  4380832   3600   ??  S    30Jan20   0:08.04 /System/Library/Frameworks/Accounts.framework/Versions/A/Support/accountsd\\n'\n",
      "b'jellyadmin         828   0.0  0.0  4383760   3616   ??  S    30Jan20   0:18.84 /usr/libexec/pkd\\n'\n",
      "b'jellyadmin         826   0.0  0.1  4392132   9472   ??  S    30Jan20   0:16.91 /System/Library/PrivateFrameworks/CloudKitDaemon.framework/Support/cloudd\\n'\n",
      "b'jellyadmin         825   0.0  0.0  4378580   2124   ??  S    30Jan20   0:01.30 /System/Library/CoreServices/sharedfilelistd\\n'\n",
      "b'jellyadmin         824   0.0  0.0  4386992   4936   ??  S    30Jan20   0:08.66 /System/Library/PrivateFrameworks/IDS.framework/identityservicesd.app/Contents/MacOS/identityservicesd\\n'\n",
      "b'jellyadmin         821   0.0  0.0  4385820   4128   ??  S    30Jan20   0:07.09 /System/Library/PrivateFrameworks/TelephonyUtilities.framework/callservicesd\\n'\n",
      "b'root               820   0.0  0.0  4377696   2580   ??  Ss   30Jan20   0:12.95 /usr/sbin/WirelessRadioManagerd\\n'\n",
      "b'jellyadmin         814   0.0  0.0  4378024   4016   ??  S    30Jan20   0:09.49 /usr/libexec/rapportd\\n'\n",
      "b'root               812   0.0  0.0  4388100   2600   ??  Ss   30Jan20   0:06.68 /usr/sbin/systemsoundserverd\\n'\n",
      "b'jellyadmin         811   0.0  0.0  4350816    700   ??  S    30Jan20   0:00.48 /usr/libexec/pboard\\n'\n",
      "b'jellyadmin         810   0.0  0.0  4381272   4880   ??  S    30Jan20   0:05.80 /usr/libexec/secd\\n'\n",
      "b'jellyadmin         806   0.0  0.2  6512452  32708   ??  S    30Jan20   5:43.44 /System/Library/CoreServices/Finder.app/Contents/MacOS/Finder\\n'\n",
      "b'jellyadmin         804   0.0  0.8  5218344 128572   ??  S    30Jan20   4:46.43 /System/Library/CoreServices/SystemUIServer.app/Contents/MacOS/SystemUIServer\\n'\n",
      "b'jellyadmin         803   0.0  0.1  4976848  10048   ??  S    30Jan20   0:46.67 /System/Library/CoreServices/Dock.app/Contents/MacOS/Dock\\n'\n",
      "b'jellyadmin         802   0.0  0.0  4400748   5748   ??  S    30Jan20   0:18.88 /System/Library/CoreServices/talagent\\n'\n",
      "b'jellyadmin         801   0.0  0.0  4377832   1040   ??  S    30Jan20   0:07.21 /System/Library/CoreServices/backgroundtaskmanagementagent\\n'\n",
      "b'jellyadmin         798   0.0  0.0  4400260   6108   ??  S    30Jan20   0:14.11 /usr/libexec/trustd --agent\\n'\n",
      "b'jellyadmin         796   0.0  0.0  4385868   5264   ??  S    30Jan20   0:02.34 /usr/libexec/lsd\\n'\n",
      "b'jellyadmin         795   0.0  0.0  4390180   5784   ??  S    30Jan20   0:32.30 /System/Library/Frameworks/CoreTelephony.framework/Support/CommCenter -L\\n'\n",
      "b'jellyadmin         792   0.0  0.0  4350956   2924   ??  S    30Jan20   1:12.53 /usr/sbin/distnoted agent\\n'\n",
      "b'jellyadmin         789   0.0  0.0  4379684   6004   ??  S    30Jan20   0:48.89 /usr/libexec/UserEventAgent (Aqua)\\n'\n",
      "b'root               752   0.0  0.0  4326812    536   ??  Ss   30Jan20   0:00.03 /usr/libexec/securityd_service\\n'\n",
      "b'root               530   0.0  0.0  4377100    160   ??  Ss   30Jan20   0:00.79 /System/Library/PrivateFrameworks/EmbeddedOSInstall.framework/Versions/A/XPCServices/EmbeddedOSInstallService.xpc/Contents/MacOS/EmbeddedOSInstallService\\n'\n",
      "b'root               513   0.0  0.0  4376552    520   ??  Ss   30Jan20   0:01.78 /usr/libexec/biokitaggdd\\n'\n",
      "b'jellyadmin         502   0.0  0.0  4350396   2836   ??  S    30Jan20   6:47.71 /usr/sbin/cfprefsd agent\\n'\n",
      "b'root               501   0.0  0.0  4378244   4296   ??  Ss   30Jan20   0:21.51 /usr/libexec/biometrickitd --launchd\\n'\n",
      "b'jellyadmin         500   0.0  0.0  4376544    192   ??  S    30Jan20   0:00.93 /System/Library/Frameworks/LocalAuthentication.framework/Support/coreauthd\\n'\n",
      "b'root               499   0.0  0.0  4377924   4360   ??  Ss   30Jan20   5:08.55 /System/Library/PrivateFrameworks/FamilyControls.framework/Resources/parentalcontrolsd\\n'\n",
      "b'root               498   0.0  0.0  4379108   4972   ??  Ss   30Jan20   1:52.30 /System/Library/Frameworks/LocalAuthentication.framework/Support/coreauthd\\n'\n",
      "b'root               489   0.0  0.0  4356432   3040   ??  Ss   30Jan20   0:05.62 /System/Library/PrivateFrameworks/PerformanceAnalysis.framework/Versions/A/XPCServices/com.apple.PerformanceAnalysis.animationperfd.xpc/Contents/MacOS/com.apple.PerformanceAnalysis.animationperfd\\n'\n",
      "b'root               488   0.0  0.0  4350956    472   ??  S    30Jan20   0:05.55 /usr/sbin/distnoted agent\\n'\n",
      "b'root               479   0.0  0.0  4342320    508   ??  Ss   30Jan20   0:01.20 /System/Library/Frameworks/GSS.framework/Helpers/GSSCred\\n'\n",
      "b'root               476   0.0  0.0  4350384   2332   ??  Ss   30Jan20   0:01.78 /System/Library/PrivateFrameworks/SystemAdministration.framework/XPCServices/writeconfig.xpc/Contents/MacOS/writeconfig\\n'\n",
      "b'root               475   0.0  0.0  4350212   1280   ??  Ss   30Jan20   0:00.46 /System/Library/PrivateFrameworks/AccountPolicy.framework/XPCServices/com.apple.AccountPolicyHelper.xpc/Contents/MacOS/com.apple.AccountPolicyHelper\\n'\n",
      "b'root               472   0.0  0.0  4350280    100   ??  Ss   30Jan20   0:00.56 /System/Library/Frameworks/CoreMediaIO.framework/Versions/A/XPCServices/com.apple.cmio.registerassistantservice.xpc/Contents/MacOS/com.apple.cmio.registerassistantservice\\n'\n",
      "b'root               470   0.0  0.0  4384852    732   ??  Ss   30Jan20   0:01.10 /System/Library/CoreServices/sharedfilelistd\\n'\n",
      "b'root               465   0.0  0.0  4378252    812   ??  S    30Jan20   0:05.40 /usr/sbin/systemstats --logger-helper /private/var/db/systemstats\\n'\n",
      "b'root               461   0.0  0.0  4351456   1012   ??  Ss   30Jan20  31:56.24 /usr/libexec/sysmond\\n'\n",
      "b'root               445   0.0  0.0  4350548      8   ??  Ss   30Jan20   0:00.41 /usr/libexec/colorsyncd\\n'\n",
      "b'root               444   0.0  0.0  4349780    132   ??  Ss   30Jan20   0:02.10 /usr/libexec/colorsync.displayservices\\n'\n",
      "b'root               443   0.0  0.0  4400740    420   ??  Ss   30Jan20   0:00.66 /System/Library/Frameworks/OpenGL.framework/Versions/A/Libraries/CVMServer\\n'\n",
      "b'root               438   0.0  0.1  4476608  12516   ??  Ss   30Jan20  17:24.46 /usr/libexec/TouchBarServer\\n'\n",
      "b'root               404   0.0  0.0  4378708    672   ??  Ss   30Jan20   0:00.99 /usr/libexec/secinitd\\n'\n",
      "b'_captiveagent      402   0.0  0.0  4378560    612   ??  Ss   30Jan20   0:01.19 /usr/libexec/captiveagent\\n'\n",
      "b'root               392   0.0  0.0  4316964    224   ??  Ss   30Jan20   0:01.84 /usr/libexec/thermald\\n'\n",
      "b'root               354   0.0  0.0  4351664    148   ??  Ss   30Jan20   0:00.92 /System/Library/Frameworks/AudioToolbox.framework/AudioComponentRegistrar -daemon\\n'\n",
      "b'root               302   0.0  0.0  4382336   7112   ??  Ss   30Jan20   0:24.63 /System/Library/PrivateFrameworks/TCC.framework/Resources/tccd system\\n'\n",
      "b'root               296   0.0  0.0  4350824    704   ??  Ss   30Jan20   0:13.76 /usr/libexec/watchdogd\\n'\n",
      "b'_analyticsd        289   0.0  0.0  4378992   2388   ??  Ss   30Jan20   0:13.15 /System/Library/PrivateFrameworks/CoreAnalytics.framework/Support/analyticsd\\n'\n",
      "b'root               239   0.0  0.0        0      0   ??  ?s   30Jan20   0:00.00 /Library/ManagedAntivirus/AVP/common.bundle/BDCoreIssues\\n'\n",
      "b'root               238   0.0  0.0        0      0   ??  ?s   30Jan20   0:00.00 /Library/ManagedAntivirus/AVP/BDLDaemon\\n'\n",
      "b'root               237   0.0  0.0        0      0   ??  ?s   30Jan20   0:00.00 /Library/ManagedAntivirus/AVP/antivirus.bundle/BDUpdDaemon\\n'\n",
      "b'root               221   0.0  0.0  4388348   3256   ??  Ss   30Jan20   0:12.07 /System/Library/CoreServices/SubmitDiagInfo server-init\\n'\n",
      "b'_softwareupdate    219   0.0  0.0  4351980   4348   ??  Ss   30Jan20   0:04.61 /System/Library/PrivateFrameworks/BridgeOSSoftwareUpdate.framework/Support/bosUpdateProxy\\n'\n",
      "b'root               217   0.0  0.0  4333528    304   ??  Ss   30Jan20   0:00.10 /usr/libexec/smd\\n'\n",
      "b'root               216   0.0  0.0  4378880    316   ??  Ss   30Jan20   0:03.37 /usr/sbin/cupsd -l\\n'\n",
      "b'_cmiodalassistants   215   0.0  0.0  4407680   2168   ??  Ss   30Jan20   0:26.82 /System/Library/Frameworks/CoreMediaIO.framework/Resources/VDC.plugin/Contents/Resources/VDCAssistant\\n'\n",
      "b'root               214   0.0  0.0  4377512    356   ??  Ss   30Jan20   0:02.42 /usr/libexec/usbd\\n'\n",
      "b'root               213   0.0  0.1  4388544  10032   ??  Ss   30Jan20   5:22.15 /usr/libexec/airportd\\n'\n",
      "b'root               212   0.0  0.0  4349732    600   ??  Ss   30Jan20   0:00.67 /usr/libexec/apfsd\\n'\n",
      "b'root               211   0.0  0.0  4325200    516   ??  Ss   30Jan20   0:00.20 /System/Library/CryptoTokenKit/com.apple.ifdreader.slotd/Contents/MacOS/com.apple.ifdreader\\n'\n",
      "b'root               210   0.0  0.0  4316928      8   ??  Ss   30Jan20   0:00.01 /usr/libexec/multiversed\\n'\n",
      "b'_nsurlstoraged     207   0.0  0.0  4350376   1552   ??  Ss   30Jan20   0:01.43 /usr/libexec/nsurlstoraged --privileged\\n'\n",
      "b'root               206   0.0  0.0  4353652   2076   ??  Ss   30Jan20   0:01.42 /System/Library/Frameworks/Security.framework/Versions/A/XPCServices/com.apple.CodeSigningHelper.xpc/Contents/MacOS/com.apple.CodeSigningHelper\\n'\n",
      "b'root               204   0.0  0.0  4352424    768   ??  Ss   30Jan20   0:40.55 /System/Library/PrivateFrameworks/CoreSymbolication.framework/coresymbolicationd\\n'\n",
      "b'root               203   0.0  0.0  4377432    840   ??  Ss   30Jan20   0:15.50 /usr/sbin/mDNSResponderHelper\\n'\n",
      "b'_mdnsresponder     201   0.0  0.0  4380340   3804   ??  Ss   30Jan20   1:30.36 /usr/sbin/mDNSResponder\\n'\n",
      "b'root               197   0.0  0.0  4351332   1780   ??  Ss   30Jan20   0:30.06 /System/Library/CoreServices/backupd.bundle/Contents/Resources/backupd\\n'\n",
      "b'root               196   0.0  0.0  4381840   5656   ??  Ss   30Jan20   0:48.26 /System/Library/PrivateFrameworks/WirelessDiagnostics.framework/Support/awdd\\n'\n",
      "b'root               193   0.0  0.1  4392016   9656   ??  Ss   30Jan20   0:09.06 /usr/libexec/lsd runAsRoot\\n'\n",
      "b'_nsurlsessiond     186   0.0  0.0  4388824   3828   ??  Ss   30Jan20   0:11.02 /usr/libexec/nsurlsessiond --privileged\\n'\n",
      "b'root               182   0.0  0.1  4385884  10456   ??  Ss   30Jan20   0:10.94 /usr/libexec/mobileassetd\\n'\n",
      "b'root               179   0.0  0.0  4383080   3240   ??  Ss   30Jan20   0:06.95 /usr/libexec/nehelper\\n'\n",
      "b'_coreaudiod        177   0.0  0.1  4403140  14300   ??  Ss   30Jan20  26:14.17 /usr/sbin/coreaudiod\\n'\n",
      "b'root               175   0.0  0.0  4383864   8116   ??  Ss   30Jan20   1:05.95 /System/Library/PrivateFrameworks/CoreDuetContext.framework/Resources/contextstored\\n'\n",
      "b'root               174   0.0  0.1  4391520  14572   ??  Ss   30Jan20   2:11.10 /usr/libexec/trustd\\n'\n",
      "b'_ctkd              166   0.0  0.0  4351448      8   ??  Ss   30Jan20   0:00.02 /System/Library/Frameworks/CryptoTokenKit.framework/ctkd -s\\n'\n",
      "b'root               160   0.0  0.0  4323620      8   ??  Ss   30Jan20   0:00.02 /System/Library/Frameworks/PCSC.framework/Versions/A/XPCServices/com.apple.ctkpcscd.xpc/Contents/MacOS/com.apple.ctkpcscd\\n'\n",
      "b'root               131   0.0  0.1  4420976  12712   ??  Ss   30Jan20   5:10.00 /usr/libexec/syspolicyd\\n'\n",
      "b'root               130   0.0  0.0  4350552    940   ??  Ss   30Jan20   0:00.57 aslmanager\\n'\n",
      "b'root               129   0.0  0.0  4351488   4348   ??  Ss   30Jan20  18:40.47 /usr/sbin/cfprefsd daemon\\n'\n",
      "b'root               128   0.0  0.0  4449108   4556   ??  Ss   30Jan20   2:35.93 /System/Library/CoreServices/coreservicesd\\n'\n",
      "b'root               126   0.0  0.0  4380268   5852   ??  Ss   30Jan20   0:26.77 /System/Library/Frameworks/Security.framework/Versions/A/XPCServices/authd.xpc/Contents/MacOS/authd\\n'\n",
      "b'root               125   0.0  0.0  4389932   2980   ??  Ss   30Jan20   0:02.48 /usr/libexec/taskgated\\n'\n",
      "b'_distnote          124   0.0  0.0  4350956   1644   ??  Ss   30Jan20   1:29.70 /usr/sbin/distnoted daemon\\n'\n",
      "b'root               120   0.0  0.0  4383916   3556   ??  Ss   30Jan20   0:08.92 /usr/libexec/amfid\\n'\n",
      "b'root               119   0.0  0.0  4309500   2556   ??  Ss   30Jan20   7:39.84 /usr/sbin/notifyd\\n'\n",
      "b'root               118   0.0  0.0  4378180   3060   ??  Ss   30Jan20   0:19.33 /usr/libexec/AirPlayXPCHelper\\n'\n",
      "b'root               117   0.0  0.0  4377996   2816   ??  Ss   30Jan20   2:10.76 /usr/libexec/corebrightnessd --launchd\\n'\n",
      "b'root               113   0.0  0.0  4383716   5784   ??  Ss   30Jan20   1:45.50 /usr/sbin/bluetoothd\\n'\n",
      "b'root               111   0.0  0.0  4394120   2652   ??  Ss   30Jan20   3:09.05 /Library/PrivilegedHelperTools/DisplayLink/DisplayLinkManager\\n'\n",
      "b'root               110   0.0  0.0  4333780      8   ??  Ss   30Jan20   0:00.03 /usr/sbin/KernelEventAgent\\n'\n",
      "b'root               109   0.0  0.0  4384164   1180   ??  Ss   30Jan20   0:01.93 /System/Library/PrivateFrameworks/GenerationalStorage.framework/Versions/A/Support/revisiond\\n'\n",
      "b'root               108   0.0  0.0  4349888   1500   ??  Ss   30Jan20   0:04.83 /System/Library/CoreServices/logind\\n'\n",
      "b'jellyadmin         107   0.0  0.1  4943780   8604   ??  Ss   30Jan20   0:31.94 /System/Library/CoreServices/loginwindow.app/Contents/MacOS/loginwindow console\\n'\n",
      "b'root               103   0.0  0.0  4378444    900   ??  Ss   30Jan20   0:01.56 /System/Library/PrivateFrameworks/Heimdal.framework/Helpers/kdc\\n'\n",
      "b'root               102   0.0  0.0  4382752   6032   ??  Ss   30Jan20   1:04.35 /usr/libexec/dasd\\n'\n",
      "b'_displaypolicyd    100   0.0  0.0  4352944    956   ??  Ss   30Jan20   0:05.94 /usr/libexec/displaypolicyd -k 1\\n'\n",
      "b'root                99   0.0  0.0  4342100      8   ??  Ss   30Jan20   0:00.04 autofsd\\n'\n",
      "b'_locationd          97   0.0  0.0  4383768   5316   ??  Ss   30Jan20   1:22.62 /usr/libexec/locationd\\n'\n",
      "b'_usbmuxd            95   0.0  0.0  4377220    924   ??  Ss   30Jan20   0:04.97 /System/Library/PrivateFrameworks/MobileDevice.framework/Versions/A/Resources/usbmuxd -launchd\\n'\n",
      "b'root                94   0.0  0.0  4394792   7384   ??  Ss   30Jan20   0:31.85 /usr/sbin/securityd -i\\n'\n",
      "b'_timed              92   0.0  0.0  4376644   2696   ??  Ss   30Jan20   0:11.92 /usr/libexec/timed\\n'\n",
      "b'root                90   0.0  0.0  4377884    660   ??  Ss   30Jan20   0:01.06 /System/Library/PrivateFrameworks/Noticeboard.framework/Versions/A/Resources/nbstated\\n'\n",
      "b'root                89   0.0  0.0  4408844    172   ??  Ss   30Jan20   0:00.31 /Library/PrivilegedHelperTools/com.docker.vmnetd\\n'\n",
      "b'root                88   0.0  0.0  4393356   6296   ??  Ss   30Jan20   3:29.94 /Applications/MSP Anywhere Agent TakeControl.app/Contents/Resources/MSP Anywhere Daemon\\n'\n",
      "b'root                87   0.0  0.0  4381412   7544   ??  Ss   30Jan20   0:55.48 /System/Library/PrivateFrameworks/ApplePushService.framework/apsd\\n'\n",
      "b'root                86   0.0  0.1  4418028  15272   ??  Ss   30Jan20   5:02.45 /usr/local/rmmagent/rmmagentd serve\\n'\n",
      "b'root                85   0.0  0.0        0      0   ??  ?Ns  30Jan20   0:00.00 /Library/ManagedAntivirus/AVP/enterprise.bundle/epagd\\n'\n",
      "b'root                84   0.0  0.1  4400936   9400   ??  Ss   30Jan20   4:20.46 /usr/libexec/opendirectoryd\\n'\n",
      "b'root                80   0.0  0.0  4384052   5900   ??  Ss   30Jan20   0:12.82 /usr/libexec/coreduetd\\n'\n",
      "b'root                79   0.0  0.0  4355628   1112   ??  Ss   30Jan20   0:03.24 /System/Library/CoreServices/backupd.bundle/Contents/Resources/backupd-helper -launchd\\n'\n",
      "b'root                75   0.0  0.0  4376460   2640   ??  Ss   30Jan20   0:15.17 /usr/libexec/diskarbitrationd\\n'\n",
      "b'_iconservices       74   0.0  0.0  4351356   1036   ??  Ss   30Jan20   0:00.11 /System/Library/CoreServices/iconservicesd\\n'\n",
      "b'root                73   0.0  0.0  4349648    552   ??  Ss   30Jan20   0:00.27 /Library/PrivilegedHelperTools/com.nordvpn.osx.helper\\n'\n",
      "b'root                72   0.0  0.3  4592280  51800   ??  Ss   30Jan20  15:18.14 /System/Library/Frameworks/CoreServices.framework/Frameworks/Metadata.framework/Support/mds\\n'\n",
      "b'root                64   0.0  0.3  4520264  47172   ??  Ss   30Jan20   4:30.34 /usr/libexec/logd\\n'\n",
      "b'root                59   0.0  0.1  4387188   8548   ??  Ss   30Jan20   3:34.37 /usr/libexec/configd\\n'\n",
      "b'root                57   0.0  0.3  4413464  43472   ??  Ss   30Jan20   9:42.01 /usr/sbin/systemstats --daemon\\n'\n",
      "b'_appleevents        56   0.0  0.0  4380424   3112   ??  Ss   30Jan20   0:02.21 /System/Library/CoreServices/appleeventsd --server\\n'\n",
      "b'root                52   0.0  0.0  4379200   5040   ??  Ss   30Jan20   0:24.78 /System/Library/PrivateFrameworks/MediaRemote.framework/Support/mediaremoted\\n'\n",
      "b'root                51   0.0  0.0  4384376   4760   ??  Ss   30Jan20   1:00.46 /Applications/MSP Anywhere Agent TakeControl.app/Contents/Resources/MSP Anywhere Helper\\n'\n",
      "b'root                50   0.0  0.0  4385296   4204   ??  SNs  30Jan20   0:10.31 /usr/local/jamf/bin/jamf launchDaemon\\n'\n",
      "b'root                48   0.0  0.0  5309136   6480   ??  Ss   30Jan20  14:54.31 /System/Library/Frameworks/CoreServices.framework/Versions/A/Frameworks/FSEvents.framework/Versions/A/Support/fseventsd\\n'\n",
      "b'root                47   0.0  0.1  4389064  14240   ??  Ss   30Jan20   0:42.64 /usr/libexec/kextd\\n'\n",
      "b'root                46   0.0  0.0  4325344    476   ??  Ss   30Jan20   0:10.44 /System/Library/PrivateFrameworks/Uninstall.framework/Resources/uninstalld\\n'\n",
      "b'root                43   0.0  0.0  4379304   5224   ??  Ss   30Jan20   0:54.12 /usr/libexec/UserEventAgent (System)\\n'\n",
      "b'root                42   0.0  0.0  4351400   1104   ??  Ss   30Jan20   2:18.79 /usr/sbin/syslogd\\n'\n",
      "b'root                 1   0.0  0.1  4376892  20504   ??  Ss   30Jan20  37:44.83 /sbin/launchd\\n'\n",
      "b'root             27662   0.0  0.0        0      0   ??  Z     1Feb20   0:00.00 (gzip)\\n'\n",
      "b'miguel.carvalho   5303   0.0  0.2  4789496  37156   ??  S     4:01pm   0:00.09 /Applications/Google Chrome.app/Contents/Frameworks/Google Chrome Framework.framework/Versions/79.0.3945.130/Helpers/Google Chrome Helper (Renderer).app/Contents/MacOS/Google Chrome Helper (Renderer) --type=renderer --field-trial-handle=1718379636,13713992639962531526,9614059912419605989,131072 --lang=en-GB --metrics-client-id=456e333c-a0e4-4a67-aeb8-dd377343299f --enable-auto-reload --num-raster-threads=4 --enable-zero-copy --enable-gpu-memory-buffer-compositor-resources --enable-main-frame-before-activation --service-request-channel-token=1028794870910598962 --renderer-client-id=8929 --no-v8-untrusted-code-mitigations --seatbelt-client=294\\n'\n",
      "b'jellyadmin        5094   0.0  0.1  4335368  14192   ??  S     4:00pm   0:00.06 /System/Library/Frameworks/CoreServices.framework/Frameworks/Metadata.framework/Versions/A/Support/mdworker_shared -s mdworker -c MDSImporterWorker -m com.apple.mdworker.shared\\n'\n",
      "b'miguel.carvalho   4987   0.0  0.2  4444908  39552   ??  Ss    3:59pm   0:00.72 /Applications/Egnyte Connect.app/Contents/PlugIns/Egnyte Drive Finder Extension.appex/Contents/MacOS/Egnyte Drive Finder Extension\\n'\n",
      "b'miguel.carvalho   4986   0.0  0.3  4448212  51992   ??  Ss    3:59pm   0:00.20 /Applications/Utilities/Adobe Sync/CoreSync/Core Sync.app/Contents/PlugIns/ACCFinderSync.appex/Contents/MacOS/ACCFinderSync\\n'\n",
      "b'root              4977   0.0  0.1  4327956   9704   ??  Ss    3:59pm   0:00.02 automountd\\n'\n",
      "b'miguel.carvalho   4964   0.0  0.1  4404428  16940   ??  S     3:59pm   0:00.11 /System/Library/CoreServices/CoreServicesUIAgent.app/Contents/MacOS/CoreServicesUIAgent\\n'\n",
      "b'miguel.carvalho   4856   0.0  0.2  4391912  27380   ??  S     3:59pm   0:00.37 /Applications/Sublime Text.app/Contents/MacOS/plugin_host 4854 --auto-shell-env\\n'\n",
      "b'root              4855   0.0  0.0  4376628   7012   ??  Ss    3:59pm   0:00.07 /usr/sbin/ocspd\\n'\n",
      "b'miguel.carvalho   4854   0.0  0.6  5144236  98076   ??  S     3:59pm   0:04.30 /Applications/Sublime Text.app/Contents/MacOS/Sublime Text\\n'\n",
      "b'miguel.carvalho   4708   0.0  1.7  5391436 280168   ??  S     3:58pm   0:15.06 /Applications/Google Chrome.app/Contents/Frameworks/Google Chrome Framework.framework/Versions/79.0.3945.130/Helpers/Google Chrome Helper (Renderer).app/Contents/MacOS/Google Chrome Helper (Renderer) --type=renderer --field-trial-handle=1718379636,13713992639962531526,9614059912419605989,131072 --lang=en-GB --metrics-client-id=456e333c-a0e4-4a67-aeb8-dd377343299f --enable-auto-reload --num-raster-threads=4 --enable-zero-copy --enable-gpu-memory-buffer-compositor-resources --enable-main-frame-before-activation --service-request-channel-token=16599738833576019934 --renderer-client-id=8911 --no-v8-untrusted-code-mitigations --seatbelt-client=193\\n'\n",
      "b'jellyadmin       98281   0.0  0.1  4391576  15824   ??  S     3:06pm   0:00.21 /System/Library/CoreServices/CoreServicesUIAgent.app/Contents/MacOS/CoreServicesUIAgent\\n'\n",
      "b'miguel.carvalho  98155   0.0  0.3  4990804  50012   ??  S     3:05pm   0:00.99 /Applications/System Preferences.app/Contents/MacOS/System Preferences\\n'\n",
      "b'_spotlight       94657   0.0  0.1  4358528  15980   ??  S     2:35pm   0:00.44 /System/Library/Frameworks/CoreServices.framework/Frameworks/Metadata.framework/Versions/A/Support/mdworker_shared -s mdworker -c MDSImporterWorker -m com.apple.mdworker.shared\\n'\n",
      "b'_spotlight       88650   0.0  0.1  4358528  16096   ??  S     1:45pm   0:00.33 /System/Library/Frameworks/CoreServices.framework/Frameworks/Metadata.framework/Versions/A/Support/mdworker_shared -s mdworker -c MDSImporterWorker -m com.apple.mdworker.shared\\n'\n",
      "b'_spotlight       87634   0.0  0.1  4371984  24840   ??  S     1:36pm   0:00.29 /System/Library/Frameworks/CoreServices.framework/Frameworks/Metadata.framework/Versions/A/Support/mdworker_shared -s mdworker -c MDSImporterWorker -m com.apple.mdworker.shared\\n'\n",
      "b'_spotlight       87621   0.0  0.2  4368896  26652   ??  S     1:36pm   0:00.18 /System/Library/Frameworks/CoreServices.framework/Frameworks/Metadata.framework/Versions/A/Support/mdworker_shared -s mdworker -c MDSImporterWorker -m com.apple.mdworker.shared\\n'\n",
      "b'root             85596   0.0  0.0  4342484   6036   ??  Ss    1:18pm   0:00.03 /System/Library/PrivateFrameworks/InstallerDiagnostics.framework/Versions/A/Resources/installerdiagd\\n'\n",
      "b'root             85595   0.0  0.1  4358640  10588   ??  Ss    1:18pm   0:00.02 /System/Library/PrivateFrameworks/BridgeOSInstallReporting.framework/Resources/bosreporter\\n'\n",
      "b'miguel.carvalho  72595   0.0  0.1  4378324  21088   ??  S    11:26am   0:00.40 /System/Library/Frameworks/CoreServices.framework/Frameworks/Metadata.framework/Versions/A/Support/mdworker_shared -s mdworker -c MDSImporterWorker -m com.apple.mdworker.shared\\n'\n",
      "b'root             71351   0.0  0.0  4309176    852   ??  SNs  11:16am   0:00.01 /usr/libexec/periodic-wrapper monthly\\n'\n",
      "b'miguel.carvalho  48075   0.0  0.0  4333408   1788 s005  S+    8:47am   0:00.17 -bash\\n'\n",
      "b'root             48074   0.0  0.0  4332312   6032 s005  Ss    8:47am   0:00.04 login -pfl miguel.carvalho /bin/bash -c exec -la bash /bin/bash\\n'\n",
      "b'_netbios         46474   0.0  0.1  4351776   8784   ??  SNs   8:32am   0:00.12 /usr/sbin/netbiosd\\n'\n",
      "b'miguel.carvalho  39896   0.0  0.6  5064116 105248   ??  S     9:08pm   0:05.38 /Applications/Google Chrome.app/Contents/Frameworks/Google Chrome Framework.framework/Versions/79.0.3945.130/Helpers/Google Chrome Helper (Renderer).app/Contents/MacOS/Google Chrome Helper (Renderer) --type=renderer --field-trial-handle=1718379636,13713992639962531526,9614059912419605989,131072 --lang=en-GB --metrics-client-id=456e333c-a0e4-4a67-aeb8-dd377343299f --enable-auto-reload --num-raster-threads=4 --enable-zero-copy --enable-gpu-memory-buffer-compositor-resources --enable-main-frame-before-activation --service-request-channel-token=4992904050010053488 --renderer-client-id=8802 --no-v8-untrusted-code-mitigations --seatbelt-client=188\\n'\n",
      "b'root             37074   0.0  0.1  4383276  13116   ??  Ss    8:45pm   2:15.20 /usr/libexec/sandboxd\\n'\n",
      "b'miguel.carvalho  36932   0.0  0.1  4364748  14640   ??  S     7:34pm   0:50.48 /System/Library/Frameworks/CoreServices.framework/Frameworks/Metadata.framework/Versions/A/Support/mdworker_shared -s mdworker -c MDSImporterWorker -m com.apple.mdworker.shared\\n'\n",
      "b'root             35776   0.0  0.1  4378816   8428   ??  Ss    5:25pm   0:17.54 /usr/libexec/PerfPowerServices\\n'\n",
      "b'miguel.carvalho  34887   0.0  0.1  4370672  21744   ??  S     5:18pm   0:52.72 /System/Library/Frameworks/CoreServices.framework/Frameworks/Metadata.framework/Versions/A/Support/mdworker_shared -s mdworker -c MDSImporterWorker -m com.apple.mdworker.shared\\n'\n",
      "b'miguel.carvalho  34880   0.0  0.1  4370592  20792   ??  S     5:18pm   1:00.12 /System/Library/Frameworks/CoreServices.framework/Frameworks/Metadata.framework/Versions/A/Support/mdworker_shared -s mdworker -c MDSImporterWorker -m com.apple.mdworker.shared\\n'\n"
     ]
    }
   ],
   "source": [
    "import subprocess\n",
    "\n",
    "# Use subprocess to run the `ps aux` command that lists running processes\n",
    "with subprocess.Popen([\"ps\", \"aux\"], stdout=subprocess.PIPE) as proc:\n",
    "    process_output = proc.stdout.readlines()\n",
    "    \n",
    "# Look through each line in the output and skip it if it contains \"python\"\n",
    "for line in process_output:\n",
    "    if b\"python\" in line:\n",
    "        continue\n",
    "    print(line)"
   ]
  },
  {
   "cell_type": "code",
   "execution_count": 153,
   "metadata": {},
   "outputs": [
    {
     "name": "stdout",
     "output_type": "stream",
     "text": [
      "USER               PID  %CPU %MEM      VSZ    RSS   TT  STAT STARTED      TIME COMMAND\r\n",
      "miguel.carvalho  83865  10.9  0.9  6153080 148308   ??  R    Tue10am  30:39.71 /Applications/Si\r\n",
      "miguel.carvalho  27559   5.5  2.1  5343480 347624   ??  R    Mon09am  33:50.64 /Applications/Go\r\n",
      "miguel.carvalho   1495   4.2  3.1  6179320 519324   ??  S    30Jan20 379:38.44 /Applications/Go\r\n",
      "root               438   3.4  0.1  4476828  12540   ??  Ss   30Jan20  17:24.64 /usr/libexec/Tou\r\n",
      "_windowserver      173   3.1  0.9  8981064 152224   ??  Ss   30Jan20 519:16.18 /System/Library/\r\n",
      "miguel.carvalho   2055   1.6  1.1  4999204 181628   ??  S    30Jan20  20:44.70 /System/Library/\r\n",
      "miguel.carvalho  83863   1.5  0.1  4711488  14536   ??  R    Tue10am   5:32.60 /Applications/Si\r\n",
      "miguel.carvalho  37822   0.6  2.4  5436332 401800   ??  S     8:50pm  19:23.28 /Applications/Go\r\n",
      "jellyadmin        1148   0.5  0.1  5286896  14444   ??  S    30Jan20  46:46.27 /Library/Applica\r\n",
      "miguel.carvalho   1577   0.4  2.9  6065104 482684   ??  S    30Jan20 212:15.04 /Applications/Go\r\n",
      "_hidd              115   0.4  0.1  4388008   9160   ??  Ss   30Jan20  58:34.35 /usr/libexec/hid\r\n",
      "miguel.carvalho   1835   0.4  0.2  4482536  26308   ??  S    30Jan20   6:48.41 /System/Library/\r\n",
      "jellyadmin        1069   0.4  0.1  4642204  19276   ??  S    30Jan20  36:37.90 /Library/Applica\r\n",
      "miguel.carvalho   2010   0.3  0.1  5289824  17308   ??  S    30Jan20  47:26.73 /Library/Applica\r\n",
      "miguel.carvalho   1865   0.3  0.3  5178292  42036   ??  S    30Jan20   4:21.77 /Applications/Al\r\n",
      "jellyadmin         905   0.3  0.1  4792732  18712   ??  S    30Jan20  32:15.92 /Applications/Ut\r\n",
      "miguel.carvalho  79343   0.3  0.9  5753800 157840   ??  S     5Feb20  44:53.43 /Users/miguel.ca\r\n",
      "miguel.carvalho  80484   0.3  0.1  4455532  11092   ??  Ss    5Feb20  14:07.14 /Applications/Eg\r\n",
      "root                91   0.2  0.0  4382384   7400   ??  Ss   30Jan20   3:41.95 /System/Library/\r\n",
      "miguel.carvalho   2011   0.2  0.0  4349796   2164   ??  S    30Jan20   4:18.82 /Applications/Ut\r\n",
      "miguel.carvalho   2005   0.2  0.0  4349796   2152   ??  S    30Jan20   4:19.67 /Library/Applica\r\n",
      "miguel.carvalho   1743   0.2  0.3  4851292  49688   ??  S    30Jan20  10:38.29 /Applications/Go\r\n",
      "miguel.carvalho  85368   0.2  1.2  5231668 201036   ??  S    Tue10am   3:44.01 /Applications/Go\r\n",
      "miguel.carvalho   1597   0.2  0.4  4671296  70320   ??  S    30Jan20  69:48.40 /Applications/Go\r\n",
      "root                 1   0.2  0.1  4376892  20504   ??  Ss   30Jan20  37:45.05 /sbin/launchd\r\n",
      "miguel.carvalho  35344   0.1  0.7  5057128 111644   ??  S    Fri09am   2:44.38 /Applications/Go\r\n",
      "miguel.carvalho   4987   0.1  0.2  4444908  39552   ??  Ss    3:59pm   0:00.73 /Applications/Eg\r\n",
      "miguel.carvalho   2359   0.1  0.3  5079472  49344   ??  Ss   30Jan20   7:10.38 /System/Library/\r\n",
      "miguel.carvalho  74508   0.1  0.2  4365564  35388 s001  S+   Thu11am   3:28.90 /Users/miguel.ca\r\n",
      "miguel.carvalho  80483   0.1  0.1  4448364  10888   ??  Ss    5Feb20  11:36.06 /Applications/Eg\r\n",
      "jellyadmin        1063   0.1  0.0  4349796   1808   ??  S    30Jan20   2:31.31 /Applications/Ut\r\n",
      "miguel.carvalho   1982   0.1  0.1  4639436  22388   ??  S    30Jan20  37:16.72 /Library/Applica\r\n",
      "miguel.carvalho   1535   0.1  0.0  4380640   4336   ??  S    30Jan20   1:35.90 /System/Library/\r\n",
      "miguel.carvalho  79351   0.1  3.8  7660572 643876   ??  S     5Feb20  44:28.40 /Users/miguel.ca\r\n",
      "miguel.carvalho   1848   0.1  0.2  4810936  32040   ??  S    30Jan20  32:57.65 /Applications/Ut\r\n",
      "root                60   0.1  0.0  4377248   5432   ??  Ss   30Jan20   4:18.69 /System/Library/\r\n",
      "_networkd          183   0.1  0.0  4386248   7472   ??  Ss   30Jan20   9:49.00 /usr/libexec/sym\r\n",
      "miguel.carvalho  24509   0.0  0.1  4917584   9752   ??  Ss   Tue03pm   0:09.33 /Users/miguel.ca\r\n",
      "miguel.carvalho   3994   0.0  0.4  4575800  74840   ??  Ss   Tue12pm   0:15.95 /Users/miguel.ca\r\n",
      "miguel.carvalho  92292   0.0  0.0  4386564   1132   ??  Ss   Tue11am   0:02.80 /System/Library/\r\n",
      "miguel.carvalho  92291   0.0  0.0 106131936   2244   ??  Ss   Tue11am   0:03.37 /System/Library/\r\n",
      "miguel.carvalho  92236   0.0  0.3  7224596  52612   ??  S    Tue11am   2:27.05 /Applications/Mi\r\n",
      "miguel.carvalho  89583   0.0  0.0  4378516   2096   ??  S    Tue10am   0:03.66 /System/Library/\r\n",
      "miguel.carvalho  85369   0.0  0.1  4841872  22564   ??  S    Tue10am   0:02.97 /Applications/Go\r\n",
      "miguel.carvalho  83864   0.0  0.0  4380756    196   ??  Ss   Tue10am   0:00.15 /System/Library/\r\n",
      "miguel.carvalho  83858   0.0  0.6  5631708  97068   ??  S    Tue10am   2:03.12 /Applications/Si\r\n",
      "miguel.carvalho  82923   0.0  0.2  4917748  36848   ??  Ss   Tue09am   1:22.25 /Users/miguel.ca\r\n",
      "root             73276   0.0  0.0  4323256      8   ??  Ss   Mon04pm   0:00.02 /usr/libexec/key\r\n",
      "miguel.carvalho  56598   0.0  0.4  5084428  65516   ??  S    Mon01pm   3:19.88 /Applications/Go\r\n",
      "miguel.carvalho  50092   0.0  0.0  4380172    880   ??  S    Mon12pm   0:00.30 /System/Library/\r\n",
      "root             45341   0.0  0.0  4377580    712   ??  Ss   Mon12pm   0:00.36 /Library/Privile\r\n",
      "miguel.carvalho  43767   0.0  0.1  4872472   9008   ??  Ss   Mon11am   0:07.53 /Users/miguel.ca\r\n",
      "root             36547   0.0  0.0  4360856    148   ??  Ss   Mon10am   0:00.21 /usr/libexec/tzd\r\n",
      "miguel.carvalho  30761   0.0  1.4 16995072 240228   ??  S    Mon10am  18:21.83 /Applications/Sl\r\n",
      "miguel.carvalho  29812   0.0  0.8  5288288 133584   ??  S    Mon09am   8:11.95 /Applications/Go\r\n",
      "miguel.carvalho  28055   0.0  0.2  4921840  33932   ??  Ss   Mon09am   0:16.04 /Users/miguel.ca\r\n",
      "miguel.carvalho  27725   0.0  1.1  6998820 178724   ??  S    Mon09am   3:43.18 /Library/Java/Ja\r\n",
      "miguel.carvalho  27707   0.0  0.0  4587484   4772   ??  Ss   Mon09am   0:22.96 /Users/miguel.ca\r\n",
      "miguel.carvalho  98588   0.0  0.0  4308832    708 s004  S+   Fri04pm   0:00.12 -bash\r\n",
      "root             98581   0.0  0.0  4341528      8 s004  Ss   Fri04pm   0:00.04 login -pf miguel\r\n",
      "miguel.carvalho  95381   0.0  0.0  4332532      8   ??  Ss   Fri04pm   0:00.02 /System/Library/\r\n",
      "miguel.carvalho  92119   0.0  1.5  6977164 245564 s003  S+   Fri03pm   4:40.28 /Library/Java/Ja\r\n",
      "miguel.carvalho  92107   0.0  0.0  4279900      8 s003  S+   Fri03pm   0:00.01 bash /usr/local/\r\n",
      "miguel.carvalho  70510   0.0  0.0  4575872    808   ??  Ss   Fri02pm   0:07.37 /Users/miguel.ca\r\n",
      "miguel.carvalho  40518   0.0  0.0  4880168      8   ??  Ss   Fri09am   0:00.33 /System/Library/\r\n",
      "_fpsd            40386   0.0  0.0  4343404    228   ??  Ss   Fri09am   0:01.77 /System/Library/\r\n",
      "miguel.carvalho  35351   0.0  0.3  5017216  43784   ??  S    Fri09am   0:48.91 /Applications/Go\r\n",
      "miguel.carvalho  33060   0.0  0.0  4622052    808   ??  Ss   Fri09am   0:08.42 /Users/miguel.ca\r\n",
      "miguel.carvalho  32524   0.0  0.0  4380756    196   ??  Ss   Fri08am   0:00.36 /System/Library/\r\n",
      "miguel.carvalho  32523   0.0  0.3  4767748  44716   ??  S    Fri08am   6:43.34 /Applications/Sl\r\n",
      "miguel.carvalho  32522   0.0  0.4  5495608  72316   ??  S    Fri08am  18:10.61 /Applications/Sl\r\n",
      "miguel.carvalho  30684   0.0  0.0  4484588    308   ??  Ss   Fri08am   0:00.45 /System/Library/\r\n",
      "root             28638   0.0  0.0  4341692      8   ??  Ss   Fri08am   0:00.03 /usr/libexec/app\r\n",
      "miguel.carvalho  86975   0.0  0.0  4333408      8 s003  S    Thu01pm   0:00.18 -bash\r\n",
      "root             86974   0.0  0.0  4324120      8 s003  Ss   Thu01pm   0:00.03 login -pfl migue\r\n",
      "miguel.carvalho  79606   0.0  0.0  4904168   1600   ??  Ss   Thu12pm   0:46.72 /Users/miguel.ca\r\n",
      "miguel.carvalho  76617   0.0  0.1  4910860  17028   ??  Ss   Thu11am   0:43.71 /Users/miguel.ca\r\n",
      "miguel.carvalho  74729   0.0  0.0  4300640      8 s002  S+   Thu11am   0:00.07 -bash\r\n",
      "root             74727   0.0  0.0  4341528      8 s002  Ss   Thu11am   0:00.03 login -pfl migue\r\n",
      "miguel.carvalho  45518   0.0  0.1  4915916   9184   ??  S    Thu08am   0:10.60 /System/Library/\r\n",
      "miguel.carvalho   6561   0.0  0.0  4381836    696   ??  S     5Feb20   0:00.78 /System/Library/\r\n",
      "miguel.carvalho  97253   0.0  0.1  4819280   9380   ??  S     5Feb20   0:06.19 /Applications/Go\r\n",
      "miguel.carvalho  85520   0.0  0.0  4817572   6680   ??  S     5Feb20   0:05.83 /Applications/Go\r\n",
      "miguel.carvalho  82119   0.0  0.0  4324600      8   ??  Ss    5Feb20   0:00.02 /System/Library/\r\n",
      "miguel.carvalho  80502   0.0  0.1  4618072  23012   ??  S     5Feb20   3:46.00 /Applications/Eg\r\n",
      "miguel.carvalho  80494   0.0  0.1  4487676  11664   ??  S     5Feb20   0:19.54 /Applications/Eg\r\n",
      "miguel.carvalho  80482   0.0  0.3  5036552  54600   ??  S     5Feb20   4:49.52 /Applications/Eg\r\n",
      "miguel.carvalho  79361   0.0  0.0  4314312      8   ??  Ss    5Feb20   0:00.01 /System/Library/\r\n",
      "miguel.carvalho  79350   0.0  0.1  4612752  19372   ??  S     5Feb20   2:21.60 /Users/miguel.ca\r\n",
      "miguel.carvalho  79348   0.0  0.0  4380756    196   ??  Ss    5Feb20   0:00.66 /System/Library/\r\n",
      "miguel.carvalho  79347   0.0  0.1  4755336  21508   ??  S     5Feb20  12:27.63 /Users/miguel.ca\r\n",
      "miguel.carvalho  79346   0.0  0.0  4499816   1804   ??  S     5Feb20   0:01.46 /Users/miguel.ca\r\n",
      "jellyadmin       63550   0.0  0.0  4317580      8   ??  S     4Feb20   0:00.03 /System/Library/\r\n",
      "miguel.carvalho  47863   0.0  0.0  4851472      8   ??  Ss    3Feb20   0:00.09 /System/Library/\r\n",
      "jellyadmin       44018   0.0  0.0  4350360    120   ??  S     3Feb20   0:00.49 /System/Library/\r\n",
      "miguel.carvalho  44017   0.0  0.0  4350360    120   ??  S     3Feb20   0:00.49 /System/Library/\r\n",
      "miguel.carvalho  43030   0.0  0.0  4377228   2968   ??  S     3Feb20   0:04.20 /System/Library/\r\n",
      "root             41891   0.0  0.0  4384776   4832   ??  Ss    3Feb20   0:04.93 /usr/libexec/rtc\r\n",
      "miguel.carvalho  41191   0.0  0.0  4878948      8   ??  Ss    3Feb20   0:00.11 /System/Library/\r\n",
      "root             27655   0.0  0.1  4447120   8792   ??  Ss    1Feb20   0:06.44 /Library/Managed\r\n",
      "jellyadmin       27508   0.0  0.0  4426288   3124   ??  Ss    1Feb20   0:02.18 /System/Library/\r\n",
      "miguel.carvalho  27507   0.0  0.0  4433260   2924   ??  Ss    1Feb20   0:02.17 /System/Library/\r\n",
      "root             27505   0.0  0.1  4399992  13460   ??  Ss    1Feb20   0:06.94 /System/Library/\r\n",
      "root             27504   0.0  0.0  4376860   1372   ??  Ss    1Feb20   0:00.76 /System/Library/\r\n",
      "root             27493   0.0  0.0  4353024   3412   ??  Ss    1Feb20   0:02.60 /usr/libexec/dis\r\n",
      "root             27492   0.0  0.0  4380844   1156   ??  Ss    1Feb20   1:26.45 /System/Library/\r\n",
      "root             16653   0.0  0.0  4350308    120   ??  Ss    1Feb20   0:00.54 /usr/libexec/tai\r\n",
      "root              4928   0.0  0.0  4332792      8   ??  Ss    1Feb20   0:00.01 /usr/sbin/aslman\r\n",
      "root             61987   0.0  0.0  4422056   2384   ??  Ss   31Jan20   0:06.01 /System/Library/\r\n",
      "root             61976   0.0  0.0  4380176    940   ??  Ss   31Jan20   0:04.67 /System/Library/\r\n",
      "root             61974   0.0  0.0  4386524   1240   ??  Ss   31Jan20   0:02.91 /System/Library/\r\n",
      "root             61969   0.0  0.0  4389396   3116   ??  Ss   31Jan20   0:06.43 /System/Library/\r\n",
      "root             61967   0.0  0.0  4351544    996   ??  Ss   31Jan20   0:01.13 /System/Library/\r\n",
      "root             61966   0.0  0.0  4387756   5696   ??  Ss   31Jan20   0:07.27 /System/Library/\r\n",
      "root             61964   0.0  0.0  4377548   1372   ??  Ss   31Jan20   0:01.94 /System/Library/\r\n",
      "miguel.carvalho  45201   0.0  0.0  4380272    852   ??  S    31Jan20   0:01.47 /System/Library/\r\n",
      "jellyadmin       45200   0.0  0.0  4378224    848   ??  S    31Jan20   0:01.46 /System/Library/\r\n",
      "miguel.carvalho  45199   0.0  0.0  4377308    884   ??  S    31Jan20   0:01.28 /System/Library/\r\n",
      "jellyadmin       45160   0.0  0.0  4377308    740   ??  S    31Jan20   0:01.16 /System/Library/\r\n",
      "miguel.carvalho  45122   0.0  0.0  4349892    244   ??  S    31Jan20   0:00.73 /System/Library/\r\n",
      "_datadetectors   44679   0.0  0.0  4357848      8   ??  Ss   31Jan20   0:02.76 /usr/libexec/Dat\r\n",
      "miguel.carvalho  44615   0.0  0.0  4379608    208   ??  S    31Jan20   0:01.13 /System/Library/\r\n",
      "root             44614   0.0  0.0  4309176      8   ??  SNs  31Jan20   0:00.01 /usr/libexec/per\r\n",
      "miguel.carvalho  44497   0.0  0.0  4376612    592   ??  S    31Jan20   0:00.87 /System/Library/\r\n",
      "miguel.carvalho  44496   0.0  0.0  4351396    132   ??  S    31Jan20   0:01.58 /usr/libexec/sil\r\n",
      "jellyadmin       44443   0.0  0.0  4379160    856   ??  Ss   31Jan20   0:01.04 /System/Library/\r\n",
      "jellyadmin       44442   0.0  0.0  4349920    180   ??  Ss   31Jan20   0:00.94 /System/Library/\r\n",
      "root             44416   0.0  0.0  4378328   1500   ??  Ss   31Jan20   0:03.36 /usr/bin/sysdiag\r\n",
      "jellyadmin       44414   0.0  0.0  4376612    600   ??  S    31Jan20   0:00.89 /System/Library/\r\n",
      "jellyadmin       44413   0.0  0.0  4351396    132   ??  S    31Jan20   0:01.75 /usr/libexec/sil\r\n",
      "root             44298   0.0  0.0  4317368      8   ??  SNs  31Jan20   0:00.03 /usr/libexec/per\r\n",
      "_softwareupdate  44089   0.0  0.0  4350960    236   ??  Ss   31Jan20   0:00.91 /System/Library/\r\n",
      "_softwareupdate  43847   0.0  0.0  4350956    480   ??  S    31Jan20   0:05.43 /usr/sbin/distno\r\n",
      "_softwareupdate  43845   0.0  0.0  4317408    396   ??  S    31Jan20   0:12.84 /usr/sbin/cfpref\r\n",
      "_atsserver       43840   0.0  0.0  4378548    168   ??  Ss   31Jan20   0:00.98 /System/Library/\r\n",
      "miguel.carvalho  43816   0.0  0.0  4377056   1984   ??  Ss   31Jan20   0:00.93 /System/Library/\r\n",
      "miguel.carvalho  43815   0.0  0.0  4377156   1480   ??  S    31Jan20   0:01.10 /usr/libexec/sir\r\n",
      "miguel.carvalho  43814   0.0  0.0  4389224   2172   ??  Ss   31Jan20   0:01.07 /System/Library/\r\n",
      "miguel.carvalho  41605   0.0  0.0  4342168      8   ??  S    30Jan20   0:00.03 /System/Library/\r\n",
      "miguel.carvalho  38751   0.0  0.0  5202920   5168   ??  Ss   30Jan20   0:14.40 /System/Library/\r\n",
      "miguel.carvalho  38702   0.0  0.0  4869700      8   ??  Ss   30Jan20   0:00.07 /System/Library/\r\n",
      "jellyadmin       38142   0.0  0.0  4333976      8   ??  S    30Jan20   0:00.04 /System/Library/\r\n",
      "miguel.carvalho  35604   0.0  0.0  5243140   6272   ??  Ss   30Jan20   0:22.11 /System/Library/\r\n",
      "miguel.carvalho  35559   0.0  0.1  4452932  10268   ??  Ss   30Jan20   0:21.57 /Applications/Ut\r\n",
      "_assetcache      32772   0.0  0.0  4380220   1504   ??  Ss   30Jan20   0:01.32 /usr/libexec/Ass\r\n",
      "_assetcache      32771   0.0  0.0  4384948   3408   ??  Ss   30Jan20   0:05.54 /System/Library/\r\n",
      "miguel.carvalho  17147   0.0  0.0  4351368    104   ??  S    30Jan20   0:00.23 /usr/libexec/USB\r\n",
      "_spotlight        9302   0.0  0.0  4378508    132   ??  S    30Jan20   0:02.53 /System/Library/\r\n",
      "miguel.carvalho   9064   0.0  0.0  4369564   1280   ??  Ss   30Jan20   0:00.79 /System/Library/\r\n",
      "miguel.carvalho   9063   0.0  0.1  4396004  17848   ??  S    30Jan20   0:24.65 /System/Library/\r\n",
      "miguel.carvalho   7983   0.0  0.0 92658212   3420   ??  S    30Jan20   0:03.65 /Applications/Go\r\n",
      "miguel.carvalho   7979   0.0  0.0  4835632   7960   ??  S    30Jan20   0:12.16 /Applications/Go\r\n",
      "miguel.carvalho   7978   0.0  0.1  5037992  18356   ??  S    30Jan20   0:23.77 /Applications/Go\r\n",
      "miguel.carvalho   7977   0.0  0.0  4830832   6808   ??  S    30Jan20   0:10.37 /Applications/Go\r\n",
      "miguel.carvalho   7976   0.0  0.3  4960460  57524   ??  S    30Jan20   1:24.20 /Applications/Go\r\n",
      "miguel.carvalho   7974   0.0  0.1  4825500  18596   ??  S    30Jan20   0:14.44 /Applications/Go\r\n",
      "miguel.carvalho   7973   0.0  0.0  4824388   7148   ??  S    30Jan20   0:10.90 /Applications/Go\r\n",
      "miguel.carvalho   6818   0.0  0.0  4387708    196   ??  Ss   30Jan20   0:02.30 /System/Library/\r\n",
      "miguel.carvalho   6817   0.0  0.0  4350292    120   ??  S    30Jan20   0:00.62 /System/Library/\r\n",
      "miguel.carvalho   6810   0.0  0.0  4388820    144   ??  Ss   30Jan20   0:00.82 /System/Library/\r\n",
      "miguel.carvalho   6802   0.0  0.0  4349912    680   ??  Ss   30Jan20   0:01.18 /System/Library/\r\n",
      "miguel.carvalho   6003   0.0  0.0  4380276   1016   ??  S    30Jan20   0:01.71 /System/Library/\r\n",
      "miguel.carvalho   5769   0.0  0.1  4927896  13060   ??  S    30Jan20   0:22.94 /System/Library/\r\n",
      "root              5355   0.0  0.0  4853088      8   ??  Ss   30Jan20   0:00.32 /System/Library/\r\n",
      "jellyadmin        4230   0.0  0.0  4515816   1444   ??  S    30Jan20   0:05.31 /System/Library/\r\n",
      "miguel.carvalho   4229   0.0  0.0  4487672   1936   ??  S    30Jan20   0:05.69 /System/Library/\r\n",
      "jellyadmin        4228   0.0  0.0  4377560    208   ??  S    30Jan20   0:01.16 /System/Library/\r\n",
      "root              4202   0.0  0.0  4349804    284   ??  Ss   30Jan20   0:00.82 /System/Library/\r\n",
      "miguel.carvalho   4187   0.0  0.0  4381328   2868   ??  S    30Jan20   0:02.52 /System/Library/\r\n",
      "jellyadmin        4186   0.0  0.0  4379280   2300   ??  S    30Jan20   0:02.52 /System/Library/\r\n",
      "miguel.carvalho   4156   0.0  0.0  4376392    236   ??  S    30Jan20   0:01.13 /System/Library/\r\n",
      "jellyadmin        4130   0.0  0.0  4376392    236   ??  S    30Jan20   0:01.15 /System/Library/\r\n",
      "root              4127   0.0  0.0  4382764    944   ??  Ss   30Jan20   0:03.42 /usr/libexec/dpr\r\n",
      "miguel.carvalho   4110   0.0  0.0  4391368   3868   ??  S    30Jan20   0:13.92 /System/Library/\r\n",
      "jellyadmin        4085   0.0  0.0  4379824    260   ??  S    30Jan20   0:00.88 /System/Library/\r\n",
      "jellyadmin        4075   0.0  0.0  4389104   3736   ??  S    30Jan20   0:13.76 /System/Library/\r\n",
      "miguel.carvalho   3809   0.0  0.0  4408044   2764   ??  S    30Jan20   0:08.20 /usr/libexec/avc\r\n",
      "jellyadmin        3808   0.0  0.0  4405996   2652   ??  S    30Jan20   0:08.30 /usr/libexec/avc\r\n",
      "root              3440   0.0  0.0  4383280    152   ??  Ss   30Jan20   0:01.22 /System/Library/\r\n",
      "miguel.carvalho   3147   0.0  0.0  4325364      8   ??  Ss   30Jan20   0:00.01 /System/Library/\r\n",
      "miguel.carvalho   3146   0.0  0.0  4611648   5732   ??  S    30Jan20   5:53.28 /Applications/Go\r\n",
      "miguel.carvalho   3143   0.0  0.5  5050984  81168   ??  S    30Jan20   3:32.10 /Applications/Go\r\n",
      "miguel.carvalho   3098   0.0  0.0  4421032    244   ??  S    30Jan20   0:01.72 /System/Library/\r\n",
      "miguel.carvalho   3019   0.0  0.0  4382244    720   ??  S    30Jan20   0:01.32 /System/Library/\r\n",
      "miguel.carvalho   3018   0.0  0.0  4376788   2148   ??  S    30Jan20   0:01.50 /System/Library/\r\n",
      "miguel.carvalho   3011   0.0  0.1  4436972   9224   ??  S    30Jan20   0:35.06 /System/Library/\r\n",
      "jellyadmin        3008   0.0  0.0  4382244    572   ??  S    30Jan20   0:02.01 /System/Library/\r\n",
      "jellyadmin        3007   0.0  0.0  4376512   1400   ??  S    30Jan20   0:01.29 /System/Library/\r\n",
      "jellyadmin        3006   0.0  0.0  4410980    228   ??  S    30Jan20   0:01.71 /System/Library/\r\n",
      "jellyadmin        3004   0.0  0.0  4430820   4236   ??  S    30Jan20   0:32.07 /System/Library/\r\n",
      "miguel.carvalho   2531   0.0  0.0  4379140    596   ??  S    30Jan20   0:04.00 /System/Library/\r\n",
      "jellyadmin        2530   0.0  0.0  4349768    520   ??  S    30Jan20   0:03.90 /System/Library/\r\n",
      "jellyadmin        2522   0.0  0.0  4414008   4524   ??  S    30Jan20   0:16.21 /System/Library/\r\n",
      "miguel.carvalho   2521   0.0  0.1  4429524  11276   ??  S    30Jan20   0:19.45 /System/Library/\r\n",
      "miguel.carvalho   2500   0.0  0.0  4355528    132   ??  S    30Jan20   0:01.66 /System/Library/\r\n",
      "jellyadmin        2485   0.0  0.0  4350040    936   ??  S    30Jan20   0:00.94 /usr/libexec/ass\r\n",
      "miguel.carvalho   2484   0.0  0.0  4350040   1016   ??  S    30Jan20   0:01.35 /usr/libexec/ass\r\n",
      "jellyadmin        2482   0.0  0.0  4378708    148   ??  S    30Jan20   0:00.89 /System/Library/\r\n",
      "jellyadmin        2478   0.0  0.0  4414404   8108   ??  S    30Jan20   0:24.33 /System/Library/\r\n",
      "miguel.carvalho   2477   0.0  0.1  4413876  12048   ??  S    30Jan20   0:27.36 /System/Library/\r\n",
      "miguel.carvalho   2463   0.0  0.0  4496512   1304   ??  S    30Jan20   0:59.91 /System/Library/\r\n",
      "jellyadmin        2462   0.0  0.0  4494464   1280   ??  S    30Jan20   0:59.84 /System/Library/\r\n",
      "Jellyuser         2455   0.0  0.0  4380728   3712   ??  S    30Jan20   0:04.14 /usr/libexec/tru\r\n",
      "Jellyuser         2420   0.0  0.0  4380036    828   ??  S    30Jan20   0:00.89 /usr/libexec/lsd\r\n",
      "Jellyuser         2419   0.0  0.0  4350956    468   ??  S    30Jan20   0:05.86 /usr/sbin/distno\r\n",
      "Jellyuser         2418   0.0  0.0  4350176    776   ??  S    30Jan20   0:13.90 /usr/sbin/cfpref\r\n",
      "_spotlight        2313   0.0  0.0  4350956    976   ??  S    30Jan20   0:06.98 /usr/sbin/distno\r\n",
      "root              2282   0.0  0.0  4388168   2640   ??  Ss   30Jan20   0:06.10 /usr/libexec/mob\r\n",
      "miguel.carvalho   2062   0.0  0.2  5988468  30336   ??  S    30Jan20   5:26.33 /System/Library/\r\n",
      "miguel.carvalho   2061   0.0  0.0  4391552   4356   ??  S    30Jan20   0:08.01 /usr/libexec/key\r\n",
      "miguel.carvalho   2049   0.0  0.0  4350200      8   ??  Ss   30Jan20   0:00.02 /System/Library/\r\n",
      "miguel.carvalho   2034   0.0  0.0  4382624    496   ??  Ss   30Jan20   0:00.93 /System/Library/\r\n",
      "miguel.carvalho   2032   0.0  0.1  4414760  12304   ??  S    30Jan20   0:16.55 /System/Library/\r\n",
      "miguel.carvalho   2031   0.0  0.0  4377564    896   ??  S    30Jan20   0:00.88 /System/Library/\r\n",
      "miguel.carvalho   2027   0.0  0.0  4351004   2204   ??  S    30Jan20   0:02.39 /System/Library/\r\n",
      "miguel.carvalho   2009   0.0  0.1  5016956  13172   ??  S    30Jan20   0:24.16 /Applications/Ut\r\n",
      "miguel.carvalho   2008   0.0  0.1  4992876  12612   ??  S    30Jan20   0:48.27 /Applications/Ut\r\n",
      "_applepay         2004   0.0  0.0  4376524    372   ??  Ss   30Jan20   0:01.29 /usr/libexec/sel\r\n",
      "miguel.carvalho   2002   0.0  0.0  4385112   1704   ??  S    30Jan20   0:04.71 /System/Library/\r\n",
      "miguel.carvalho   2001   0.0  0.0  5253412   5544   ??  S    30Jan20   0:08.93 /Library/Applica\r\n",
      "miguel.carvalho   2000   0.0  0.2   918748  31416   ??  S    30Jan20   3:08.50 /Library/Applica\r\n",
      "miguel.carvalho   1988   0.0  0.0  4380756    196   ??  Ss   30Jan20   0:01.04 /System/Library/\r\n",
      "miguel.carvalho   1984   0.0  0.0  4388200    624   ??  Ss   30Jan20   0:01.11 /System/Library/\r\n",
      "miguel.carvalho   1962   0.0  0.0  4349920    180   ??  Ss   30Jan20   0:00.96 /System/Library/\r\n",
      "miguel.carvalho   1954   0.0  0.0  4349796   2248   ??  S    30Jan20   4:03.38 /Applications/Ut\r\n",
      "miguel.carvalho   1948   0.0  0.1  4414780  10052   ??  S    30Jan20   0:18.60 /System/Library/\r\n",
      "miguel.carvalho   1947   0.0  0.0  4352968    540   ??  S    30Jan20   0:00.67 /usr/libexec/spi\r\n",
      "miguel.carvalho   1944   0.0  0.0   718804   5256   ??  S    30Jan20   1:55.21 /Applications/Ut\r\n",
      "miguel.carvalho   1937   0.0  0.1  4964688  13016   ??  S    30Jan20   0:23.46 /Applications/Ge\r\n",
      "miguel.carvalho   1876   0.0  0.0  4423976   2996   ??  S    30Jan20   0:18.46 /System/Library/\r\n",
      "miguel.carvalho   1873   0.0  0.0  4350536    120   ??  S    30Jan20   0:00.66 /System/Library/\r\n",
      "miguel.carvalho   1863   0.0  0.2  4988208  26400   ??  S    30Jan20  10:15.77 /Applications/Ma\r\n",
      "miguel.carvalho   1862   0.0  0.1  4994840  14064   ??  S    30Jan20   0:22.74 /System/Library/\r\n",
      "miguel.carvalho   1860   0.0  0.0  4406084   8180   ??  S    30Jan20   2:03.91 /Library/Privile\r\n",
      "miguel.carvalho   1856   0.0  0.0  4391644   4064   ??  S    30Jan20   0:06.70 /usr/libexec/adp\r\n",
      "miguel.carvalho   1851   0.0  0.0  4380032   3436   ??  S    30Jan20   0:05.95 /System/Library/\r\n",
      "miguel.carvalho   1849   0.0  0.1  4424240  11596   ??  S    30Jan20   0:22.30 /System/Library/\r\n",
      "miguel.carvalho   1845   0.0  0.0  4378100   2256   ??  S    30Jan20   0:19.72 /System/Library/\r\n",
      "miguel.carvalho   1844   0.0  0.0  4384632   1912   ??  S    30Jan20   0:04.16 /usr/libexec/kno\r\n",
      "miguel.carvalho   1842   0.0  0.1  4921004  10392   ??  S    30Jan20   0:19.42 /System/Library/\r\n",
      "miguel.carvalho   1841   0.0  0.0  4389584   5700   ??  S    30Jan20   0:28.05 /Library/Applica\r\n",
      "miguel.carvalho   1838   0.0  0.1  4467560  16724   ??  S    30Jan20   1:07.48 Applications/NoM\r\n",
      "miguel.carvalho   1837   0.0  0.0        0      0   ??  ?N   30Jan20   0:00.00 /Library/Managed\r\n",
      "miguel.carvalho   1836   0.0  0.0  4381940   1364   ??  S    30Jan20   0:05.68 /System/Library/\r\n",
      "miguel.carvalho   1833   0.0  0.0  4379812    232   ??  S    30Jan20   0:01.67 /usr/libexec/dmd\r\n",
      "miguel.carvalho   1830   0.0  0.0  4379664   4816   ??  SN   30Jan20   0:09.31 /usr/local/jamf/\r\n",
      "miguel.carvalho   1829   0.0  0.1  4462564  13996   ??  S    30Jan20   3:34.04 /Applications/MS\r\n",
      "miguel.carvalho   1827   0.0  0.0  4376432    560   ??  S    30Jan20   0:01.14 /System/Library/\r\n",
      "miguel.carvalho   1826   0.0  0.1  4432668  12320   ??  S    30Jan20   1:21.65 /Applications/Ut\r\n",
      "miguel.carvalho   1823   0.0  0.1  4473080  12220   ??  S    30Jan20   0:45.34 /Applications/MS\r\n",
      "miguel.carvalho   1820   0.0  0.0  4379772   2772   ??  S    30Jan20   2:38.49 /System/Library/\r\n",
      "jellyadmin        1783   0.0  0.0  4379436    812   ??  S    30Jan20   0:12.18 /System/Library/\r\n",
      "miguel.carvalho   1782   0.0  0.0  4317024      8 s001  S    30Jan20   0:00.04 -bash\r\n",
      "root              1780   0.0  0.0  4331288      8 s001  Ss   30Jan20   0:00.02 login -pfl migue\r\n",
      "miguel.carvalho   1779   0.0  0.0  4350332   1272   ??  S    30Jan20   0:05.47 /System/Library/\r\n",
      "miguel.carvalho   1778   0.0  0.0  4381872    260   ??  S    30Jan20   0:00.96 /System/Library/\r\n",
      "miguel.carvalho   1774   0.0  0.0  4395072   7620   ??  S    30Jan20   0:09.48 /System/Library/\r\n",
      "miguel.carvalho   1745   0.0  0.2  4836196  35080   ??  S    30Jan20   0:26.64 /Applications/Go\r\n",
      "miguel.carvalho   1741   0.0  0.7  4994364 111456   ??  S    30Jan20   6:46.79 /Applications/Go\r\n",
      "miguel.carvalho   1740   0.0  0.0  4378980    180   ??  S    30Jan20   0:02.25 /usr/libexec/vid\r\n",
      "miguel.carvalho   1723   0.0  0.1  4419480  10272   ??  S    30Jan20   0:17.20 /System/Library/\r\n",
      "miguel.carvalho   1715   0.0  0.0  4380176    172   ??  S    30Jan20   0:00.87 /System/Library/\r\n",
      "miguel.carvalho   1710   0.0  0.0  4831512      8   ??  S    30Jan20   0:00.02 SafeEjectGPUAgen\r\n",
      "miguel.carvalho   1688   0.0  0.0  4349848    148   ??  S    30Jan20   0:00.72 /System/Library/\r\n",
      "root              1686   0.0  0.0  4378692   2844   ??  Ss   30Jan20   3:54.85 /System/Library/\r\n",
      "miguel.carvalho   1681   0.0  0.1  5094688  10520   ??  Ss   30Jan20   1:47.68 /System/Library/\r\n",
      "miguel.carvalho   1680   0.0  0.0  5001704   6928   ??  Ss   30Jan20   0:25.45 /System/Library/\r\n",
      "miguel.carvalho   1675   0.0  0.0  4389212   3308   ??  S    30Jan20   0:14.54 /System/Library/\r\n",
      "_applepay         1641   0.0  0.0  4377628   2460   ??  Ss   30Jan20   0:04.85 /usr/libexec/nfc\r\n",
      "miguel.carvalho   1640   0.0  0.1  4936452  11980   ??  S    30Jan20   0:34.21 /System/Library/\r\n",
      "miguel.carvalho   1639   0.0  0.0  4349972    176   ??  S    30Jan20   0:00.39 /System/Library/\r\n",
      "miguel.carvalho   1634   0.0  0.0  4382836   3700   ??  S    30Jan20   0:04.66 /System/Library/\r\n",
      "miguel.carvalho   1625   0.0  0.0  4382636   3504   ??  S    30Jan20   0:01.48 /System/Library/\r\n",
      "miguel.carvalho   1617   0.0  0.0  4387824    148   ??  S    30Jan20   0:00.98 /System/Library/\r\n",
      "miguel.carvalho   1616   0.0  0.0  4352876    672   ??  S    30Jan20   0:01.44 /usr/libexec/log\r\n",
      "miguel.carvalho   1615   0.0  0.0  4351556    120   ??  S    30Jan20   0:00.63 /System/Library/\r\n",
      "jellyadmin        1610   0.0  0.0  4415544   5420   ??  S    30Jan20   0:24.01 /usr/libexec/stu\r\n",
      "jellyadmin        1609   0.0  0.0  4908264   4700   ??  S    30Jan20   0:16.79 /System/Library/\r\n",
      "miguel.carvalho   1607   0.0  0.0  4351120    984   ??  S    30Jan20   0:00.80 /System/Library/\r\n",
      "miguel.carvalho   1606   0.0  0.0  4390172    196   ??  Ss   30Jan20   0:18.07 /System/Library/\r\n",
      "miguel.carvalho   1605   0.0  0.0  4379440   2968   ??  S    30Jan20   0:05.26 /System/Library/\r\n",
      "miguel.carvalho   1604   0.0  0.0  4379944   1452   ??  Ss   30Jan20   0:01.66 /System/Library/\r\n",
      "miguel.carvalho   1598   0.0  0.0  4333408      8 s000  S+   30Jan20   0:00.19 -bash\r\n",
      "miguel.carvalho   1592   0.0  0.0  4379100    208   ??  S    30Jan20   0:01.04 /System/Library/\r\n",
      "jellyadmin        1586   0.0  0.0  4350920    308   ??  S    30Jan20   0:00.66 /usr/libexec/spi\r\n",
      "miguel.carvalho   1579   0.0  0.0  4350464      8   ??  Ss   30Jan20   0:00.03 /Applications/Go\r\n",
      "root              1578   0.0  0.2  4510288  26272   ??  Ss   30Jan20   0:08.98 /usr/sbin/spindu\r\n",
      "miguel.carvalho   1576   0.0  0.0  4350172      8   ??  Ss   30Jan20   0:00.02 /System/Library/\r\n",
      "miguel.carvalho   1572   0.0  0.0  4379436   2292   ??  Ss   30Jan20   0:07.63 /System/Library/\r\n",
      "root              1571   0.0  0.0  4349720      8 s000  Ss   30Jan20   0:00.03 login -pfl migue\r\n",
      "root              1570   0.0  0.0  4351556    212   ??  Ss   30Jan20   0:00.63 /System/Library/\r\n",
      "miguel.carvalho   1568   0.0  0.1  4417004  10400   ??  S    30Jan20   0:18.84 /System/Library/\r\n",
      "miguel.carvalho   1566   0.0  0.1  4453020  10096   ??  Ss   30Jan20   0:22.16 /Applications/Ut\r\n",
      "miguel.carvalho   1560   0.0  0.1  4922772  13092   ??  Ss   30Jan20   0:19.92 /System/Library/\r\n",
      "miguel.carvalho   1559   0.0  0.0  4396540   4676   ??  S    30Jan20   0:12.01 /System/Library/\r\n",
      "miguel.carvalho   1558   0.0  0.0  4395168   4316   ??  S    30Jan20   0:13.70 /System/Library/\r\n",
      "miguel.carvalho   1555   0.0  0.0  4353608   1284   ??  S    30Jan20   0:01.56 /System/Library/\r\n",
      "miguel.carvalho   1553   0.0  0.1  4478960  21052   ??  S    30Jan20   0:37.64 /System/Library/\r\n",
      "miguel.carvalho   1552   0.0  0.0  4394784   3240   ??  S    30Jan20   0:11.91 /System/Library/\r\n",
      "miguel.carvalho   1551   0.0  0.0  4380292   1556   ??  S    30Jan20   0:02.22 /System/Library/\r\n",
      "miguel.carvalho   1546   0.0  0.0  4355088    788   ??  S    30Jan20   0:00.28 /Applications/Go\r\n",
      "miguel.carvalho   1543   0.0  0.0  4377236    168   ??  S    30Jan20   0:00.92 /System/Library/\r\n",
      "miguel.carvalho   1540   0.0  0.4  5074548  59984   ??  S    30Jan20   5:13.90 /System/Library/\r\n",
      "miguel.carvalho   1539   0.0  0.1  4385160   8676   ??  S    30Jan20   0:29.68 /usr/libexec/pkd\r\n",
      "miguel.carvalho   1537   0.0  0.0  4349736   1340   ??  S    30Jan20   0:02.38 /System/Library/\r\n",
      "miguel.carvalho   1533   0.0  1.3  5481012 215464   ??  S    30Jan20  12:51.05 /System/Library/\r\n",
      "miguel.carvalho   1532   0.0  0.4  5089588  60384   ??  S    30Jan20   7:40.80 /System/Library/\r\n",
      "miguel.carvalho   1530   0.0  0.1  5227840  23008   ??  S    30Jan20   2:57.31 /System/Library/\r\n",
      "miguel.carvalho   1529   0.0  0.1  4434368   8656   ??  S    30Jan20   0:20.96 /System/Library/\r\n",
      "miguel.carvalho   1528   0.0  0.0  4349696   1084   ??  Ss   30Jan20   0:01.30 /System/Library/\r\n",
      "miguel.carvalho   1526   0.0  0.0  4379928   1312   ??  Ss   30Jan20   0:01.59 /System/Library/\r\n",
      "miguel.carvalho   1523   0.0  0.0  4378252   1340   ??  S    30Jan20   0:01.62 /usr/libexec/fmf\r\n",
      "miguel.carvalho   1522   0.0  0.0  4386524   8188   ??  Ss   30Jan20   0:09.98 /System/Library/\r\n",
      "miguel.carvalho   1521   0.0  0.0  4350816   2356   ??  S    30Jan20   0:03.47 /usr/libexec/pbo\r\n",
      "miguel.carvalho   1520   0.0  1.1  5588096 178728   ??  S    30Jan20   9:22.40 /Applications/Ut\r\n",
      "miguel.carvalho   1519   0.0  0.1  4396576  10408   ??  S    30Jan20   1:27.84 /usr/libexec/sha\r\n",
      "miguel.carvalho   1518   0.0  0.0  4379244   4208   ??  S    30Jan20   0:41.20 /System/Library/\r\n",
      "miguel.carvalho   1517   0.0  0.0  4384532   1492   ??  S    30Jan20   0:02.09 /System/Library/\r\n",
      "miguel.carvalho   1515   0.0  0.0  4379928   1352   ??  Ss   30Jan20   0:01.59 /System/Library/\r\n",
      "miguel.carvalho   1514   0.0  0.0  4377568   2676   ??  S    30Jan20   0:02.26 /System/Library/\r\n",
      "miguel.carvalho   1513   0.0  0.1  4420140  15344   ??  S    30Jan20   0:35.13 /System/Library/\r\n",
      "miguel.carvalho   1512   0.0  0.0  4385000   1940   ??  S    30Jan20   0:01.34 /usr/libexec/swc\r\n",
      "miguel.carvalho   1511   0.0  0.0  4386460   4012   ??  S    30Jan20   0:05.83 /usr/libexec/nsu\r\n",
      "miguel.carvalho   1509   0.0  0.0  4387280   6400   ??  S    30Jan20   2:48.95 /System/Library/\r\n",
      "miguel.carvalho   1508   0.0  0.1  4422276   9588   ??  S    30Jan20   0:28.41 /usr/libexec/stu\r\n",
      "miguel.carvalho   1507   0.0  0.2  5224732  32612   ??  S    30Jan20   1:06.08 /System/Library/\r\n",
      "miguel.carvalho   1506   0.0  0.0  4383208   2376   ??  S    30Jan20   0:13.29 /System/Library/\r\n",
      "miguel.carvalho   1504   0.0  0.1  4406596  10080   ??  S    30Jan20   0:17.23 /System/Library/\r\n",
      "miguel.carvalho   1502   0.0  0.0  4350316    120   ??  S    30Jan20   0:00.60 /System/Library/\r\n",
      "miguel.carvalho   1501   0.0  0.1  4411924  17400   ??  S    30Jan20   0:20.43 /System/Library/\r\n",
      "miguel.carvalho   1499   0.0  0.2  4946012  34420   ??  S    30Jan20   2:50.47 /System/Library/\r\n",
      "miguel.carvalho   1498   0.0  0.0  4380380   1388   ??  S    30Jan20   0:04.66 /usr/libexec/net\r\n",
      "miguel.carvalho   1497   0.0  0.0  4388088   6992   ??  S    30Jan20   0:16.68 /usr/libexec/rou\r\n",
      "miguel.carvalho   1496   0.0  0.0  4391312   6936   ??  S    30Jan20   0:09.37 /usr/sbin/userno\r\n",
      "miguel.carvalho   1494   0.0  0.0  4378024   4084   ??  S    30Jan20   0:09.64 /usr/libexec/rap\r\n",
      "miguel.carvalho   1493   0.0  0.0  4380232   3632   ??  S    30Jan20   0:03.32 /usr/libexec/sec\r\n",
      "miguel.carvalho   1492   0.0  0.0  4388988   4216   ??  S    30Jan20   0:02.31 /System/Library/\r\n",
      "miguel.carvalho   1491   0.0  0.0  4349888    716   ??  S    30Jan20   0:02.16 /System/Library/\r\n",
      "jellyadmin        1489   0.0  0.0  4400360   4844   ??  S    30Jan20   0:13.71 /System/Library/\r\n",
      "miguel.carvalho   1487   0.0  0.0  4350044    740   ??  S    30Jan20   0:00.83 /System/Library/\r\n",
      "miguel.carvalho   1486   0.0  0.0  4379948   1288   ??  S    30Jan20   0:01.48 /System/Library/\r\n",
      "miguel.carvalho   1485   0.0  0.0  4389952   2044   ??  S    30Jan20   0:08.21 /usr/libexec/nsu\r\n",
      "miguel.carvalho   1484   0.0  0.0  4380380   3396   ??  S    30Jan20   0:05.84 /System/Library/\r\n",
      "miguel.carvalho   1483   0.0  0.0  4384576   5604   ??  S    30Jan20   0:04.58 /System/Library/\r\n",
      "miguel.carvalho   1482   0.0  0.0  4388980   5156   ??  S    30Jan20   0:08.69 /System/Library/\r\n",
      "miguel.carvalho   1481   0.0  0.0  4381016   3664   ??  S    30Jan20   0:07.03 /System/Library/\r\n",
      "miguel.carvalho   1479   0.0  0.0  4387868   4004   ??  S    30Jan20   0:07.20 /System/Library/\r\n",
      "miguel.carvalho   1478   0.0  0.1  4397184  10056   ??  S    30Jan20   0:16.42 /System/Library/\r\n",
      "miguel.carvalho   1477   0.0  0.0  4381660   1716   ??  S    30Jan20   0:07.66 /System/Library/\r\n",
      "miguel.carvalho   1476   0.0  0.0  4381272   5116   ??  S    30Jan20   0:06.88 /usr/libexec/sec\r\n",
      "miguel.carvalho   1474   0.0  0.2  4410648  30636   ??  S    30Jan20   3:57.73 /usr/libexec/tru\r\n",
      "miguel.carvalho   1473   0.0  0.0  4392400   6564   ??  S    30Jan20   0:06.03 /usr/libexec/lsd\r\n",
      "miguel.carvalho   1472   0.0  0.0  4390056   6092   ??  S    30Jan20   0:32.40 /System/Library/\r\n",
      "miguel.carvalho   1470   0.0  0.0  4350956   5012   ??  S    30Jan20   1:58.80 /usr/sbin/distno\r\n",
      "miguel.carvalho   1467   0.0  0.0  4379692   6448   ??  S    30Jan20   0:49.43 /usr/libexec/Use\r\n",
      "jellyadmin        1466   0.0  0.0  4349972    112   ??  S    30Jan20   0:00.24 /System/Library/\r\n",
      "miguel.carvalho   1383   0.0  0.0  4350368   3512   ??  S    30Jan20  15:08.35 /usr/sbin/cfpref\r\n",
      "miguel.carvalho   1382   0.0  0.0  4376776   3128   ??  S    30Jan20   0:02.41 /System/Library/\r\n"
     ]
    },
    {
     "name": "stdout",
     "output_type": "stream",
     "text": [
      "miguel.carvalho   1335   0.0  0.2  4511204  37012   ??  S    30Jan20   1:24.78 /System/Library/\r\n",
      "_spotlight        1270   0.0  0.0  4380592   4544   ??  S    30Jan20   0:04.64 /usr/libexec/tru\r\n",
      "jellyadmin        1209   0.0  0.1  6001248  21160   ??  S    30Jan20   5:16.46 /System/Library/\r\n",
      "jellyadmin        1208   0.0  0.0  4387488   2460   ??  S    30Jan20   0:07.41 /usr/libexec/key\r\n",
      "jellyadmin        1207   0.0  0.0  4439704   7276   ??  S    30Jan20   0:06.52 /System/Library/\r\n",
      "jellyadmin        1194   0.0  0.0  4380576    496   ??  Ss   30Jan20   0:00.88 /System/Library/\r\n",
      "jellyadmin        1193   0.0  0.0  4404156   4956   ??  S    30Jan20   0:13.85 /System/Library/\r\n",
      "jellyadmin        1192   0.0  0.0  4392340   6000   ??  S    30Jan20   0:09.00 /System/Library/\r\n",
      "jellyadmin        1191   0.0  0.0  4377564    876   ??  S    30Jan20   0:00.83 /System/Library/\r\n",
      "root              1189   0.0  0.1  4389308  11716   ??  Ss   30Jan20   0:01.22 /System/Library/\r\n",
      "_softwareupdate   1188   0.0  0.5  4571352  85704   ??  Ss   30Jan20   2:46.99 /System/Library/\r\n",
      "jellyadmin        1186   0.0  0.0  4351004   2124   ??  S    30Jan20   0:02.27 /System/Library/\r\n",
      "root              1180   0.0  0.0  4382444   2352   ??  Ss   30Jan20   0:04.15 /System/Library/\r\n",
      "jellyadmin        1149   0.0  0.0  4349796   1624   ??  S    30Jan20   2:43.65 /Applications/Ut\r\n",
      "jellyadmin        1147   0.0  0.1  5009372  13140   ??  S    30Jan20   0:24.05 /Applications/Ut\r\n",
      "jellyadmin        1146   0.0  0.0  4987860   7208   ??  S    30Jan20   0:45.95 /Applications/Ut\r\n",
      "jellyadmin        1127   0.0  0.0  4349796   1648   ??  S    30Jan20   2:43.54 /Library/Applica\r\n",
      "jellyadmin        1087   0.0  0.0  5240432   3040   ??  S    30Jan20   0:07.95 /Library/Applica\r\n",
      "jellyadmin        1083   0.0  0.1   914052  14952   ??  S    30Jan20   3:00.20 /Library/Applica\r\n",
      "jellyadmin        1076   0.0  0.0  4378708    196   ??  Ss   30Jan20   0:01.00 /System/Library/\r\n",
      "_gamecontrollerd  1067   0.0  0.0  4350400   1512   ??  Ss   30Jan20   0:16.94 /usr/libexec/gam\r\n",
      "root              1062   0.0  0.0  4377748    224   ??  Ss   30Jan20   0:01.51 /usr/libexec/dmd\r\n",
      "jellyadmin        1053   0.0  0.0  4341888      8   ??  S    30Jan20   0:00.02 /System/Library/\r\n",
      "jellyadmin        1045   0.0  0.0  4378128    172   ??  S    30Jan20   0:00.88 /System/Library/\r\n",
      "jellyadmin        1041   0.0  0.0  4823320      8   ??  S    30Jan20   0:00.02 SafeEjectGPUAgen\r\n",
      "jellyadmin        1039   0.0  0.0  4379064   1348   ??  S    30Jan20   0:02.67 /System/Library/\r\n",
      "jellyadmin        1008   0.0  0.0   713076   2144   ??  S    30Jan20   1:52.60 /Applications/Ut\r\n",
      "jellyadmin         983   0.0  0.0  4377812   1032   ??  Ss   30Jan20   0:01.56 /System/Library/\r\n",
      "jellyadmin         977   0.0  0.0  4377452    328   ??  S    30Jan20   0:00.73 /System/Library/\r\n",
      "jellyadmin         965   0.0  0.0  4404312   4904   ??  S    30Jan20   0:16.66 /System/Library/\r\n",
      "jellyadmin         964   0.0  0.0  4961384   7292   ??  S    30Jan20   0:25.54 /Applications/Ge\r\n",
      "jellyadmin         949   0.0  0.0  4378980    180   ??  S    30Jan20   0:02.19 /usr/libexec/vid\r\n",
      "root               939   0.0  0.0  4377708    532   ??  Ss   30Jan20   0:02.42 /usr/libexec/fin\r\n",
      "jellyadmin         936   0.0  0.0  4349848    148   ??  S    30Jan20   0:00.71 /System/Library/\r\n",
      "jellyadmin         933   0.0  0.0  4350172      8   ??  Ss   30Jan20   0:00.02 /System/Library/\r\n",
      "jellyadmin         932   0.0  0.0  4905528   1344   ??  Ss   30Jan20   0:07.46 /System/Library/\r\n",
      "jellyadmin         930   0.0  0.0  4376836   2080   ??  Ss   30Jan20   0:05.72 /System/Library/\r\n",
      "_fpsd              929   0.0  0.0  4354012    560   ??  Ss   30Jan20   0:01.69 /System/Library/\r\n",
      "jellyadmin         928   0.0  0.0  4351556    120   ??  S    30Jan20   0:00.64 /System/Library/\r\n",
      "jellyadmin         925   0.0  0.0  4377052    208   ??  S    30Jan20   0:01.04 /System/Library/\r\n",
      "jellyadmin         924   0.0  0.0  4381592   1960   ??  S    30Jan20   0:06.06 /System/Library/\r\n",
      "jellyadmin         923   0.0  0.0  4351560   1280   ??  S    30Jan20   0:01.56 /System/Library/\r\n",
      "jellyadmin         922   0.0  0.0  4351120    148   ??  S    30Jan20   0:00.74 /System/Library/\r\n",
      "jellyadmin         919   0.0  0.0  4395156   7964   ??  S    30Jan20   0:11.03 /System/Library/\r\n",
      "jellyadmin         918   0.0  0.0  4393180   4428   ??  S    30Jan20   0:13.73 /System/Library/\r\n",
      "jellyadmin         917   0.0  0.0  4448144   4996   ??  Ss   30Jan20   0:20.06 /Applications/Ut\r\n",
      "root               916   0.0  0.0  4350728   2608   ??  Ss   30Jan20   0:00.80 /usr/sbin/fileco\r\n",
      "jellyadmin         915   0.0  0.0  4917024   8256   ??  Ss   30Jan20   0:17.75 /System/Library/\r\n",
      "root               914   0.0  0.0  4351000    976   ??  Ss   30Jan20   0:00.24 /System/Library/\r\n",
      "jellyadmin         912   0.0  0.0  4399324   4160   ??  S    30Jan20   0:32.18 /Library/Privile\r\n",
      "jellyadmin         910   0.0  0.0  4390404   3912   ??  S    30Jan20   0:06.42 /usr/libexec/adp\r\n",
      "jellyadmin         907   0.0  0.0  4377500   1844   ??  S    30Jan20   0:01.71 /System/Library/\r\n",
      "jellyadmin         906   0.0  0.0  4412540   4940   ??  S    30Jan20   0:19.70 /System/Library/\r\n",
      "jellyadmin         903   0.0  0.0  4378144   1400   ??  S    30Jan20   0:15.63 /System/Library/\r\n",
      "jellyadmin         902   0.0  0.0  4382584   1972   ??  S    30Jan20   0:04.21 /usr/libexec/kno\r\n",
      "jellyadmin         901   0.0  0.0  4908212   5024   ??  S    30Jan20   0:17.12 /System/Library/\r\n",
      "jellyadmin         900   0.0  0.0  4380544   2112   ??  S    30Jan20   0:02.20 /Library/Applica\r\n",
      "jellyadmin         898   0.0  0.0  4421156   8340   ??  S    30Jan20   0:27.29 Applications/NoM\r\n",
      "jellyadmin         897   0.0  0.0        0      0   ??  ?N   30Jan20   0:00.00 /Library/Managed\r\n",
      "jellyadmin         896   0.0  0.0  4377844    864   ??  S    30Jan20   0:04.73 /System/Library/\r\n",
      "jellyadmin         895   0.0  0.0  4380112   2452   ??  S    30Jan20   0:14.42 /System/Library/\r\n",
      "jellyadmin         894   0.0  0.0  4377764    232   ??  S    30Jan20   0:01.58 /usr/libexec/dmd\r\n",
      "jellyadmin         892   0.0  0.0  4377616    840   ??  SN   30Jan20   0:02.07 /usr/local/jamf/\r\n",
      "jellyadmin         891   0.0  0.0  4453860   8320   ??  S    30Jan20   2:58.64 /Applications/MS\r\n",
      "jellyadmin         889   0.0  0.0  4376432    660   ??  S    30Jan20   0:01.15 /System/Library/\r\n",
      "jellyadmin         888   0.0  0.0  4418720   7080   ??  S    30Jan20   1:18.70 /Applications/Ut\r\n",
      "jellyadmin         885   0.0  0.0  4436932   6808   ??  S    30Jan20   0:42.32 /Applications/MS\r\n",
      "jellyadmin         883   0.0  0.0  4377820   2780   ??  S    30Jan20   2:17.01 /System/Library/\r\n",
      "jellyadmin         882   0.0  0.0  4406272   4308   ??  S    30Jan20   0:05.66 /System/Library/\r\n",
      "jellyadmin         881   0.0  0.0  4391620   3192   ??  S    30Jan20   0:10.88 /System/Library/\r\n",
      "jellyadmin         876   0.0  0.0  4404088   4548   ??  S    30Jan20   0:16.18 /System/Library/\r\n",
      "jellyadmin         874   0.0  0.0  4349696    964   ??  Ss   30Jan20   0:01.28 /System/Library/\r\n",
      "jellyadmin         873   0.0  0.0  4349736   1296   ??  S    30Jan20   0:02.22 /System/Library/\r\n",
      "jellyadmin         872   0.0  0.0  4377132    168   ??  S    30Jan20   0:00.90 /System/Library/\r\n",
      "jellyadmin         871   0.0  0.0  4377812    972   ??  Ss   30Jan20   0:01.51 /System/Library/\r\n",
      "jellyadmin         870   0.0  0.0  4378376    740   ??  S    30Jan20   0:01.63 /usr/libexec/fmf\r\n",
      "jellyadmin         869   0.0  0.0  4378696   2552   ??  S    30Jan20   0:15.36 /System/Library/\r\n",
      "jellyadmin         868   0.0  0.0  4387264   7304   ??  S    30Jan20   1:11.79 /usr/libexec/sha\r\n",
      "jellyadmin         867   0.0  0.0  4382528    932   ??  S    30Jan20   0:01.94 /System/Library/\r\n",
      "jellyadmin         866   0.0  0.0  4381820   1292   ??  S    30Jan20   0:04.22 /usr/libexec/nsu\r\n",
      "jellyadmin         864   0.0  0.0  4377812   1168   ??  Ss   30Jan20   0:01.56 /System/Library/\r\n",
      "jellyadmin         863   0.0  0.0  4382392   3292   ??  S    30Jan20   0:03.95 /System/Library/\r\n",
      "jellyadmin         861   0.0  0.0  4382940   3564   ??  Ss   30Jan20   0:08.22 /System/Library/\r\n",
      "jellyadmin         860   0.0  0.0  4378368   2172   ??  S    30Jan20   0:01.11 /usr/libexec/swc\r\n",
      "jellyadmin         858   0.0  0.0  4400844   3528   ??  S    30Jan20   0:14.74 /System/Library/\r\n",
      "jellyadmin         857   0.0  0.0  4349892    244   ??  S    30Jan20   0:00.77 /System/Library/\r\n",
      "jellyadmin         856   0.0  0.0  4377228   2820   ??  S    30Jan20   0:05.04 /System/Library/\r\n",
      "jellyadmin         855   0.0  0.0  4349732    148   ??  S    30Jan20   0:00.35 /System/Library/\r\n",
      "root               853   0.0  0.0  4349756    148   ??  Ss   30Jan20   0:00.71 /System/Library/\r\n",
      "jellyadmin         852   0.0  0.0  4350316    120   ??  S    30Jan20   0:00.59 /System/Library/\r\n",
      "jellyadmin         850   0.0  0.1  4960268  18820   ??  S    30Jan20   0:29.05 /System/Library/\r\n",
      "jellyadmin         849   0.0  0.0  4386148   6232   ??  S    30Jan20   0:08.44 /System/Library/\r\n",
      "jellyadmin         848   0.0  0.0  4378332   1364   ??  S    30Jan20   0:04.66 /usr/libexec/net\r\n",
      "jellyadmin         847   0.0  0.0  4350044    764   ??  S    30Jan20   0:00.76 /System/Library/\r\n",
      "jellyadmin         846   0.0  0.2  4948332  29436   ??  S    30Jan20   2:04.92 /System/Library/\r\n",
      "jellyadmin         845   0.0  0.0  4379752   4952   ??  S    30Jan20   0:05.63 /usr/sbin/userno\r\n",
      "jellyadmin         844   0.0  0.0  4386016   5980   ??  S    30Jan20   0:16.88 /usr/libexec/rou\r\n",
      "jellyadmin         843   0.0  0.0  4379320   1316   ??  S    30Jan20   0:08.71 /System/Library/\r\n",
      "root               842   0.0  0.0  4377812   2788   ??  Ss   30Jan20   0:17.29 /usr/sbin/wirele\r\n",
      "jellyadmin         841   0.0  0.2  6318888  27904   ??  S    30Jan20   3:32.00 /System/Library/\r\n",
      "jellyadmin         840   0.0  0.0  4379616   1720   ??  S    30Jan20   0:02.77 /usr/libexec/sec\r\n",
      "jellyadmin         838   0.0  0.0  4349888    712   ??  S    30Jan20   0:02.09 /System/Library/\r\n",
      "jellyadmin         836   0.0  0.0  4387708    940   ??  S    30Jan20   0:06.98 /usr/libexec/nsu\r\n",
      "jellyadmin         835   0.0  0.0  4377944    948   ??  S    30Jan20   0:01.45 /System/Library/\r\n",
      "jellyadmin         833   0.0  0.0  4377568   1924   ??  S    30Jan20   0:02.14 /System/Library/\r\n",
      "jellyadmin         832   0.0  0.0  4377512   1772   ??  S    30Jan20   0:13.37 /System/Library/\r\n",
      "jellyadmin         831   0.0  0.0  4378332   3324   ??  S    30Jan20   0:05.58 /System/Library/\r\n",
      "jellyadmin         830   0.0  0.0  4379036   1784   ??  S    30Jan20   0:01.82 /System/Library/\r\n",
      "jellyadmin         829   0.0  0.0  4380832   3600   ??  S    30Jan20   0:08.04 /System/Library/\r\n",
      "jellyadmin         828   0.0  0.0  4383760   3616   ??  S    30Jan20   0:18.84 /usr/libexec/pkd\r\n",
      "jellyadmin         826   0.0  0.1  4392132   9472   ??  S    30Jan20   0:16.91 /System/Library/\r\n",
      "jellyadmin         825   0.0  0.0  4378580   2124   ??  S    30Jan20   0:01.30 /System/Library/\r\n",
      "jellyadmin         824   0.0  0.0  4386992   4936   ??  S    30Jan20   0:08.66 /System/Library/\r\n",
      "jellyadmin         821   0.0  0.0  4385820   4128   ??  S    30Jan20   0:07.09 /System/Library/\r\n",
      "root               820   0.0  0.0  4377696   2580   ??  Ss   30Jan20   0:12.95 /usr/sbin/Wirele\r\n",
      "jellyadmin         814   0.0  0.0  4378024   4016   ??  S    30Jan20   0:09.49 /usr/libexec/rap\r\n",
      "root               812   0.0  0.0  4388100   2600   ??  Ss   30Jan20   0:06.68 /usr/sbin/system\r\n",
      "jellyadmin         811   0.0  0.0  4350816    700   ??  S    30Jan20   0:00.48 /usr/libexec/pbo\r\n",
      "jellyadmin         810   0.0  0.0  4381272   4880   ??  S    30Jan20   0:05.80 /usr/libexec/sec\r\n",
      "jellyadmin         806   0.0  0.2  6512976  32708   ??  S    30Jan20   5:43.44 /System/Library/\r\n",
      "jellyadmin         804   0.0  0.8  5218344 128576   ??  S    30Jan20   4:46.43 /System/Library/\r\n",
      "jellyadmin         803   0.0  0.1  4976848  10048   ??  S    30Jan20   0:46.67 /System/Library/\r\n",
      "jellyadmin         802   0.0  0.0  4400748   5748   ??  S    30Jan20   0:18.88 /System/Library/\r\n",
      "jellyadmin         801   0.0  0.0  4377832   1040   ??  S    30Jan20   0:07.21 /System/Library/\r\n",
      "jellyadmin         798   0.0  0.0  4400260   6108   ??  S    30Jan20   0:14.11 /usr/libexec/tru\r\n",
      "jellyadmin         796   0.0  0.0  4385868   5264   ??  S    30Jan20   0:02.34 /usr/libexec/lsd\r\n",
      "jellyadmin         795   0.0  0.0  4390180   5784   ??  S    30Jan20   0:32.30 /System/Library/\r\n",
      "jellyadmin         792   0.0  0.0  4350956   2924   ??  S    30Jan20   1:12.53 /usr/sbin/distno\r\n",
      "jellyadmin         789   0.0  0.0  4379684   6004   ??  S    30Jan20   0:48.90 /usr/libexec/Use\r\n",
      "root               752   0.0  0.0  4326812    536   ??  Ss   30Jan20   0:00.03 /usr/libexec/sec\r\n",
      "root               530   0.0  0.0  4377100    160   ??  Ss   30Jan20   0:00.79 /System/Library/\r\n",
      "root               513   0.0  0.0  4376552    520   ??  Ss   30Jan20   0:01.78 /usr/libexec/bio\r\n",
      "jellyadmin         502   0.0  0.0  4350396   2836   ??  S    30Jan20   6:47.71 /usr/sbin/cfpref\r\n",
      "root               501   0.0  0.0  4378244   4296   ??  Ss   30Jan20   0:21.51 /usr/libexec/bio\r\n",
      "jellyadmin         500   0.0  0.0  4376544    192   ??  S    30Jan20   0:00.93 /System/Library/\r\n",
      "root               499   0.0  0.0  4377924   4360   ??  Ss   30Jan20   5:08.55 /System/Library/\r\n",
      "root               498   0.0  0.0  4379108   4972   ??  Ss   30Jan20   1:52.31 /System/Library/\r\n",
      "root               489   0.0  0.0  4356432   3040   ??  Ss   30Jan20   0:05.62 /System/Library/\r\n",
      "root               488   0.0  0.0  4350956    472   ??  S    30Jan20   0:05.55 /usr/sbin/distno\r\n",
      "root               479   0.0  0.0  4342320    508   ??  Ss   30Jan20   0:01.20 /System/Library/\r\n",
      "root               476   0.0  0.0  4350384   2332   ??  Ss   30Jan20   0:01.78 /System/Library/\r\n",
      "root               475   0.0  0.0  4350212   1280   ??  Ss   30Jan20   0:00.46 /System/Library/\r\n",
      "root               472   0.0  0.0  4350280    100   ??  Ss   30Jan20   0:00.56 /System/Library/\r\n",
      "root               470   0.0  0.0  4384852    732   ??  Ss   30Jan20   0:01.10 /System/Library/\r\n",
      "root               465   0.0  0.0  4378252    812   ??  S    30Jan20   0:05.40 /usr/sbin/system\r\n",
      "root               461   0.0  0.0  4351456   1012   ??  Ss   30Jan20  31:56.24 /usr/libexec/sys\r\n",
      "root               445   0.0  0.0  4350548      8   ??  Ss   30Jan20   0:00.41 /usr/libexec/col\r\n",
      "root               444   0.0  0.0  4349780    132   ??  Ss   30Jan20   0:02.10 /usr/libexec/col\r\n",
      "root               443   0.0  0.0  4400740    420   ??  Ss   30Jan20   0:00.66 /System/Library/\r\n",
      "root               404   0.0  0.0  4378708    672   ??  Ss   30Jan20   0:00.99 /usr/libexec/sec\r\n",
      "_captiveagent      402   0.0  0.0  4378560    612   ??  Ss   30Jan20   0:01.19 /usr/libexec/cap\r\n",
      "root               399   0.0  0.5  5383788  77720   ??  Ss   30Jan20  31:55.63 /System/Library/\r\n",
      "root               392   0.0  0.0  4316964    224   ??  Ss   30Jan20   0:01.84 /usr/libexec/the\r\n",
      "root               354   0.0  0.0  4351664    148   ??  Ss   30Jan20   0:00.92 /System/Library/\r\n",
      "root               302   0.0  0.0  4382336   7112   ??  Ss   30Jan20   0:24.63 /System/Library/\r\n",
      "root               296   0.0  0.0  4351348    720   ??  Ss   30Jan20   0:13.77 /usr/libexec/wat\r\n",
      "_analyticsd        289   0.0  0.0  4378992   2388   ??  Ss   30Jan20   0:13.15 /System/Library/\r\n",
      "root               239   0.0  0.0        0      0   ??  ?s   30Jan20   0:00.00 /Library/Managed\r\n",
      "root               238   0.0  0.0        0      0   ??  ?s   30Jan20   0:00.00 /Library/Managed\r\n",
      "root               237   0.0  0.0        0      0   ??  ?s   30Jan20   0:00.00 /Library/Managed\r\n",
      "root               221   0.0  0.0  4388348   3256   ??  Ss   30Jan20   0:12.07 /System/Library/\r\n",
      "_softwareupdate    219   0.0  0.0  4351980   4348   ??  Ss   30Jan20   0:04.61 /System/Library/\r\n",
      "root               217   0.0  0.0  4333528    304   ??  Ss   30Jan20   0:00.10 /usr/libexec/smd\r\n",
      "root               216   0.0  0.0  4378880    316   ??  Ss   30Jan20   0:03.37 /usr/sbin/cupsd \r\n",
      "_cmiodalassistants   215   0.0  0.0  4407680   2168   ??  Ss   30Jan20   0:26.82 /System/Library/\r\n",
      "root               214   0.0  0.0  4377512    356   ??  Ss   30Jan20   0:02.42 /usr/libexec/usb\r\n",
      "root               213   0.0  0.1  4388544  10032   ??  Ss   30Jan20   5:22.16 /usr/libexec/air\r\n",
      "root               212   0.0  0.0  4349732    600   ??  Ss   30Jan20   0:00.67 /usr/libexec/apf\r\n",
      "root               211   0.0  0.0  4325200    516   ??  Ss   30Jan20   0:00.20 /System/Library/\r\n",
      "root               210   0.0  0.0  4316928      8   ??  Ss   30Jan20   0:00.01 /usr/libexec/mul\r\n",
      "_nsurlstoraged     207   0.0  0.0  4350376   1552   ??  Ss   30Jan20   0:01.43 /usr/libexec/nsu\r\n",
      "root               206   0.0  0.0  4353652   2076   ??  Ss   30Jan20   0:01.42 /System/Library/\r\n",
      "root               204   0.0  0.0  4352424    768   ??  Ss   30Jan20   0:40.55 /System/Library/\r\n",
      "root               203   0.0  0.0  4377432    840   ??  Ss   30Jan20   0:15.50 /usr/sbin/mDNSRe\r\n",
      "_mdnsresponder     201   0.0  0.0  4380340   3804   ??  Ss   30Jan20   1:30.37 /usr/sbin/mDNSRe\r\n",
      "root               197   0.0  0.0  4351332   1780   ??  Ss   30Jan20   0:30.06 /System/Library/\r\n",
      "root               196   0.0  0.0  4380792   5620   ??  Ss   30Jan20   0:48.26 /System/Library/\r\n",
      "root               193   0.0  0.1  4392016   9656   ??  Ss   30Jan20   0:09.06 /usr/libexec/lsd\r\n",
      "_nsurlsessiond     186   0.0  0.0  4388824   3828   ??  Ss   30Jan20   0:11.02 /usr/libexec/nsu\r\n",
      "root               182   0.0  0.1  4385884  10456   ??  Ss   30Jan20   0:10.94 /usr/libexec/mob\r\n",
      "root               179   0.0  0.0  4383080   3240   ??  Ss   30Jan20   0:06.95 /usr/libexec/neh\r\n",
      "_coreaudiod        177   0.0  0.1  4403140  14300   ??  Ss   30Jan20  26:14.17 /usr/sbin/coreau\r\n",
      "root               175   0.0  0.0  4383340   8108   ??  Ss   30Jan20   1:05.96 /System/Library/\r\n",
      "root               174   0.0  0.1  4391520  14572   ??  Ss   30Jan20   2:11.10 /usr/libexec/tru\r\n",
      "_ctkd              166   0.0  0.0  4351448      8   ??  Ss   30Jan20   0:00.02 /System/Library/\r\n",
      "root               160   0.0  0.0  4323620      8   ??  Ss   30Jan20   0:00.02 /System/Library/\r\n",
      "root               131   0.0  0.1  4420976  12712   ??  Ss   30Jan20   5:10.00 /usr/libexec/sys\r\n",
      "root               130   0.0  0.0  4350552    940   ??  Ss   30Jan20   0:00.57 aslmanager\r\n",
      "root               129   0.0  0.0  4351488   4348   ??  Ss   30Jan20  18:40.47 /usr/sbin/cfpref\r\n",
      "root               128   0.0  0.0  4449108   4556   ??  Ss   30Jan20   2:35.93 /System/Library/\r\n",
      "root               126   0.0  0.0  4380268   5852   ??  Ss   30Jan20   0:26.77 /System/Library/\r\n",
      "root               125   0.0  0.0  4389932   2980   ??  Ss   30Jan20   0:02.48 /usr/libexec/tas\r\n",
      "_distnote          124   0.0  0.0  4350956   1644   ??  Ss   30Jan20   1:29.70 /usr/sbin/distno\r\n",
      "root               120   0.0  0.0  4383916   3556   ??  Ss   30Jan20   0:08.92 /usr/libexec/amf\r\n",
      "root               119   0.0  0.0  4309500   2556   ??  Ss   30Jan20   7:39.84 /usr/sbin/notify\r\n",
      "root               118   0.0  0.0  4378180   3060   ??  Ss   30Jan20   0:19.33 /usr/libexec/Air\r\n",
      "root               117   0.0  0.0  4379568   2868   ??  Ss   30Jan20   2:10.81 /usr/libexec/cor\r\n",
      "root               113   0.0  0.0  4383716   5784   ??  Ss   30Jan20   1:45.51 /usr/sbin/blueto\r\n",
      "root               111   0.0  0.0  4394120   2652   ??  Ss   30Jan20   3:09.06 /Library/Privile\r\n",
      "root               110   0.0  0.0  4333780      8   ??  Ss   30Jan20   0:00.03 /usr/sbin/Kernel\r\n",
      "root               109   0.0  0.0  4384164   1180   ??  Ss   30Jan20   0:01.93 /System/Library/\r\n",
      "root               108   0.0  0.0  4349888   1500   ??  Ss   30Jan20   0:04.83 /System/Library/\r\n",
      "jellyadmin         107   0.0  0.1  4943780   8604   ??  Ss   30Jan20   0:31.94 /System/Library/\r\n",
      "root               103   0.0  0.0  4378444    900   ??  Ss   30Jan20   0:01.56 /System/Library/\r\n",
      "root               102   0.0  0.0  4382752   6032   ??  Ss   30Jan20   1:04.35 /usr/libexec/das\r\n",
      "_displaypolicyd    100   0.0  0.0  4352944    956   ??  Ss   30Jan20   0:05.94 /usr/libexec/dis\r\n",
      "root                99   0.0  0.0  4342100      8   ??  Ss   30Jan20   0:00.04 autofsd\r\n",
      "_locationd          97   0.0  0.0  4383768   5316   ??  Ss   30Jan20   1:22.62 /usr/libexec/loc\r\n",
      "_usbmuxd            95   0.0  0.0  4377220    924   ??  Ss   30Jan20   0:04.97 /System/Library/\r\n",
      "root                94   0.0  0.0  4394792   7384   ??  Ss   30Jan20   0:31.85 /usr/sbin/securi\r\n",
      "_timed              92   0.0  0.0  4376644   2696   ??  Ss   30Jan20   0:11.92 /usr/libexec/tim\r\n",
      "root                90   0.0  0.0  4377884    660   ??  Ss   30Jan20   0:01.06 /System/Library/\r\n",
      "root                89   0.0  0.0  4408844    172   ??  Ss   30Jan20   0:00.31 /Library/Privile\r\n",
      "root                88   0.0  0.0  4393356   6296   ??  Ss   30Jan20   3:29.95 /Applications/MS\r\n",
      "root                87   0.0  0.0  4381412   7544   ??  Ss   30Jan20   0:55.48 /System/Library/\r\n",
      "root                86   0.0  0.1  4417504  15260   ??  Ss   30Jan20   5:02.47 /usr/local/rmmag\r\n",
      "root                85   0.0  0.0        0      0   ??  ?Ns  30Jan20   0:00.00 /Library/Managed\r\n",
      "root                84   0.0  0.1  4400936   9392   ??  Ss   30Jan20   4:20.46 /usr/libexec/ope\r\n",
      "root                80   0.0  0.0  4384052   5900   ??  Ss   30Jan20   0:12.82 /usr/libexec/cor\r\n",
      "root                79   0.0  0.0  4355628   1112   ??  Ss   30Jan20   0:03.24 /System/Library/\r\n",
      "root                75   0.0  0.0  4376460   2640   ??  Ss   30Jan20   0:15.17 /usr/libexec/dis\r\n",
      "_iconservices       74   0.0  0.0  4351356   1036   ??  Ss   30Jan20   0:00.11 /System/Library/\r\n",
      "root                73   0.0  0.0  4349648    552   ??  Ss   30Jan20   0:00.27 /Library/Privile\r\n",
      "root                72   0.0  0.3  4592280  51800   ??  Ss   30Jan20  15:18.16 /System/Library/\r\n",
      "root                66   0.0  0.0  4388076   6408   ??  Ss   30Jan20   8:14.76 /usr/bin/python \r\n",
      "root                64   0.0  0.3  4520520  47164   ??  Ss   30Jan20   4:30.35 /usr/libexec/log\r\n",
      "root                61   0.0  0.0  4393056   5284   ??  Rs   30Jan20   9:32.81 /Library/Applica\r\n",
      "root                59   0.0  0.1  4387188   8532   ??  Ss   30Jan20   3:34.38 /usr/libexec/con\r\n",
      "root                57   0.0  0.3  4413464  43476   ??  Ss   30Jan20   9:42.01 /usr/sbin/system\r\n",
      "_appleevents        56   0.0  0.0  4380424   3112   ??  Ss   30Jan20   0:02.21 /System/Library/\r\n",
      "root                52   0.0  0.0  4379200   5040   ??  Ss   30Jan20   0:24.78 /System/Library/\r\n",
      "root                51   0.0  0.0  4384900   4760   ??  Ss   30Jan20   1:00.46 /Applications/MS\r\n",
      "root                50   0.0  0.0  4385296   4204   ??  SNs  30Jan20   0:10.31 /usr/local/jamf/\r\n",
      "root                48   0.0  0.0  5308612   6472   ??  Ss   30Jan20  14:54.35 /System/Library/\r\n",
      "root                47   0.0  0.1  4389064  14240   ??  Ss   30Jan20   0:42.64 /usr/libexec/kex\r\n",
      "root                46   0.0  0.0  4324820    476   ??  Ss   30Jan20   0:10.44 /System/Library/\r\n",
      "root                43   0.0  0.0  4380352   5248   ??  Ss   30Jan20   0:54.12 /usr/libexec/Use\r\n",
      "root                42   0.0  0.0  4351924   1104   ??  Ss   30Jan20   2:18.80 /usr/sbin/syslog\r\n",
      "root              5562   0.0  0.0  4268776   1228 s006  Rs+   4:04pm   0:00.01 ps aux\r\n",
      "root             27662   0.0  0.0        0      0   ??  Z     1Feb20   0:00.00 (gzip)\r\n",
      "miguel.carvalho   5303   0.0  0.2  4789496  37156   ??  S     4:01pm   0:00.09 /Applications/Go\r\n",
      "jellyadmin        5094   0.0  0.1  4335368  14192   ??  S     4:00pm   0:00.06 /System/Library/\r\n",
      "miguel.carvalho   4986   0.0  0.3  4448212  51992   ??  Ss    3:59pm   0:00.21 /Applications/Ut\r\n",
      "root              4977   0.0  0.1  4327956   9704   ??  Ss    3:59pm   0:00.02 automountd\r\n",
      "miguel.carvalho   4964   0.0  0.1  4404428  16940   ??  S     3:59pm   0:00.12 /System/Library/\r\n",
      "miguel.carvalho   4856   0.0  0.2  4391912  27380   ??  S     3:59pm   0:00.37 /Applications/Su\r\n",
      "root              4855   0.0  0.0  4376628   7012   ??  Ss    3:59pm   0:00.07 /usr/sbin/ocspd\r\n",
      "miguel.carvalho   4854   0.0  0.6  5143712  98076   ??  S     3:59pm   0:04.30 /Applications/Su\r\n",
      "miguel.carvalho   4708   0.0  1.7  5383232 280156   ??  S     3:58pm   0:15.06 /Applications/Go\r\n",
      "jellyadmin       98281   0.0  0.1  4391576  15824   ??  S     3:06pm   0:00.21 /System/Library/\r\n",
      "miguel.carvalho  98155   0.0  0.3  4990804  50012   ??  S     3:05pm   0:00.99 /Applications/Sy\r\n",
      "_spotlight       94657   0.0  0.1  4358528  15980   ??  S     2:35pm   0:00.44 /System/Library/\r\n",
      "miguel.carvalho  91286   0.0  0.5  4576904  90872   ??  Ss    2:07pm   0:08.10 /Users/miguel.ca\r\n",
      "_spotlight       88650   0.0  0.1  4358528  16096   ??  S     1:45pm   0:00.33 /System/Library/\r\n",
      "_spotlight       87634   0.0  0.1  4371984  24840   ??  S     1:36pm   0:00.29 /System/Library/\r\n",
      "_spotlight       87621   0.0  0.2  4368896  26652   ??  S     1:36pm   0:00.18 /System/Library/\r\n",
      "root             85596   0.0  0.0  4342484   6036   ??  Ss    1:18pm   0:00.03 /System/Library/\r\n",
      "root             85595   0.0  0.1  4358640  10588   ??  Ss    1:18pm   0:00.02 /System/Library/\r\n",
      "miguel.carvalho  72595   0.0  0.1  4378324  21088   ??  S    11:26am   0:00.40 /System/Library/\r\n",
      "root             71351   0.0  0.0  4309176    852   ??  SNs  11:16am   0:00.01 /usr/libexec/per\r\n",
      "miguel.carvalho  52938   0.0  0.5  4573512  87616   ??  Ss    9:25am   0:08.22 /Users/miguel.ca\r\n",
      "miguel.carvalho  48075   0.0  0.0  4333408   1788 s005  S+    8:47am   0:00.17 -bash\r\n",
      "root             48074   0.0  0.0  4332312   6032 s005  Ss    8:47am   0:00.04 login -pfl migue\r\n",
      "_netbios         46474   0.0  0.1  4351776   8784   ??  SNs   8:32am   0:00.12 /usr/sbin/netbio\r\n",
      "miguel.carvalho  39896   0.0  0.6  5064116 105248   ??  S     9:08pm   0:05.38 /Applications/Go\r\n",
      "root             37074   0.0  0.1  4382752  13100   ??  Ss    8:45pm   2:15.20 /usr/libexec/san\r\n",
      "miguel.carvalho  36932   0.0  0.1  4364748  14640   ??  S     7:34pm   0:50.48 /System/Library/\r\n",
      "root             35776   0.0  0.1  4379340   8428   ??  Ss    5:25pm   0:17.54 /usr/libexec/Per\r\n",
      "miguel.carvalho  34887   0.0  0.1  4370608  24000   ??  S     5:18pm   0:52.85 /System/Library/\r\n",
      "miguel.carvalho  34880   0.0  0.1  4370592  20792   ??  S     5:18pm   1:00.12 /System/Library/\r\n",
      "miguel.carvalho  34879   0.0  0.1  4368916  20320   ??  S     5:18pm   0:53.14 /System/Library/\r\n",
      "miguel.carvalho  33197   0.0  0.1  4453852  11508   ??  Ss    5:03pm   0:02.70 /Applications/Ut\r\n",
      "miguel.carvalho  33196   0.0  0.1  4452992  12888   ??  Ss    5:03pm   0:28.88 /Applications/Eg\r\n",
      "miguel.carvalho  33195   0.0  0.0  4879120      8   ??  Ss    5:03pm   0:00.23 /System/Library/\r\n",
      "miguel.carvalho  33192   0.0  0.4  5056340  63660   ??  Ss    5:03pm   0:18.98 /System/Library/\r\n",
      "miguel.carvalho  32342   0.0  0.4  5026980  68116   ??  S     4:57pm   0:19.29 /Applications/Te\r\n"
     ]
    }
   ],
   "source": [
    "!ps aux"
   ]
  },
  {
   "cell_type": "code",
   "execution_count": null,
   "metadata": {},
   "outputs": [],
   "source": []
  }
 ],
 "metadata": {
  "kernelspec": {
   "display_name": "Python 3",
   "language": "python",
   "name": "python3"
  },
  "language_info": {
   "codemirror_mode": {
    "name": "ipython",
    "version": 3
   },
   "file_extension": ".py",
   "mimetype": "text/x-python",
   "name": "python",
   "nbconvert_exporter": "python",
   "pygments_lexer": "ipython3",
   "version": "3.7.5"
  },
  "toc": {
   "base_numbering": 1,
   "nav_menu": {},
   "number_sections": true,
   "sideBar": true,
   "skip_h1_title": false,
   "title_cell": "Table of Contents",
   "title_sidebar": "Contents",
   "toc_cell": false,
   "toc_position": {},
   "toc_section_display": true,
   "toc_window_display": false
  },
  "varInspector": {
   "cols": {
    "lenName": 16,
    "lenType": 16,
    "lenVar": 40
   },
   "kernels_config": {
    "python": {
     "delete_cmd_postfix": "",
     "delete_cmd_prefix": "del ",
     "library": "var_list.py",
     "varRefreshCmd": "print(var_dic_list())"
    },
    "r": {
     "delete_cmd_postfix": ") ",
     "delete_cmd_prefix": "rm(",
     "library": "var_list.r",
     "varRefreshCmd": "cat(var_dic_list()) "
    }
   },
   "types_to_exclude": [
    "module",
    "function",
    "builtin_function_or_method",
    "instance",
    "_Feature"
   ],
   "window_display": false
  }
 },
 "nbformat": 4,
 "nbformat_minor": 4
}
