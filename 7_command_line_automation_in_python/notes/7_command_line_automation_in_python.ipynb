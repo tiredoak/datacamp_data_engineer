{
 "cells": [
  {
   "cell_type": "markdown",
   "metadata": {},
   "source": [
    "# IPython shell commands"
   ]
  },
  {
   "cell_type": "markdown",
   "metadata": {},
   "source": [
    "The 3 Laws of Automation:\n",
    "\n",
    "1. Any task that is talked about being automated, will be automated\n",
    "2. If it isn't, it's broken\n",
    "3. If a human is doing it, a machine will eventually do it better\n",
    "\n",
    "Learning Objectives:\n",
    "- IPython shell commands\n",
    "- Shell commands with subprocess\n",
    "    - e.g. capturing the output of shell commands and sending as input to processes\n",
    "- Walking the file system\n",
    "    - e.g. find files matching a pattern or look for a specific file type\n",
    "- Command-line functions\n",
    "    - e.g. automate tasks using a library, run scripts in cron\n",
    "    \n",
    "## Using IPython with shell commands\n",
    "    \n",
    "To use shell commands, just precede it with `!`"
   ]
  },
  {
   "cell_type": "code",
   "execution_count": null,
   "metadata": {},
   "outputs": [],
   "source": [
    "# returns an SList datatype\n",
    "!df -h"
   ]
  },
  {
   "cell_type": "code",
   "execution_count": null,
   "metadata": {},
   "outputs": [],
   "source": [
    "# we can assign the output to a python variable\n",
    "ls = !ls"
   ]
  },
  {
   "cell_type": "code",
   "execution_count": null,
   "metadata": {},
   "outputs": [],
   "source": [
    "# the type is SList\n",
    "type(ls)"
   ]
  },
  {
   "cell_type": "markdown",
   "metadata": {},
   "source": [
    "> `!` only works in Jupyter, it will throw an error in python"
   ]
  },
  {
   "cell_type": "markdown",
   "metadata": {},
   "source": [
    "## Passing python programs to the interpreter\n",
    "\n",
    "There are two ways:\n",
    "1. Passing a script to the Python interpreter"
   ]
  },
  {
   "cell_type": "code",
   "execution_count": null,
   "metadata": {},
   "outputs": [],
   "source": [
    "# Create a simple script \n",
    "!echo \"print('hello world!')\" > hello_world.py"
   ]
  },
  {
   "cell_type": "code",
   "execution_count": null,
   "metadata": {},
   "outputs": [],
   "source": [
    "!python hello_world.py"
   ]
  },
  {
   "cell_type": "markdown",
   "metadata": {},
   "source": [
    "2. Passing a program to the Python interpreter via `-c`"
   ]
  },
  {
   "cell_type": "code",
   "execution_count": null,
   "metadata": {},
   "outputs": [],
   "source": [
    "!python -c \"import datetime; print(datetime.datetime.now())\""
   ]
  },
  {
   "cell_type": "markdown",
   "metadata": {},
   "source": [
    "## Using python and shell together\n",
    "\n",
    "We can assign a shell variable to python."
   ]
  },
  {
   "cell_type": "code",
   "execution_count": null,
   "metadata": {},
   "outputs": [],
   "source": [
    "# How many csvs exist in the previous course?\n",
    "csvs = !ls -h ../../6_data_processing_in_shell/notes/*.csv\n",
    "len(csvs)"
   ]
  },
  {
   "cell_type": "code",
   "execution_count": null,
   "metadata": {},
   "outputs": [],
   "source": [
    "# How many txts exist in the previous course?\n",
    "txts = !ls -h ../../6_data_processing_in_shell/notes/*.txt\n",
    "len(txts)"
   ]
  },
  {
   "cell_type": "markdown",
   "metadata": {},
   "source": [
    "## Capture IPython Shell output\n",
    "\n",
    "One of the most important principles of UNIX is that the OS should b+provide simple tools which can be combined to create sophisticated solutions."
   ]
  },
  {
   "cell_type": "markdown",
   "metadata": {},
   "source": [
    "1. Grab the output with `!`"
   ]
  },
  {
   "cell_type": "code",
   "execution_count": null,
   "metadata": {},
   "outputs": [],
   "source": [
    "# Grab the 5th col, filesize, and sum it for all printing the sum in the end\n",
    "total_size = !ls -l | awk '{ SUM+=$5} END {print SUM}'"
   ]
  },
  {
   "cell_type": "code",
   "execution_count": null,
   "metadata": {},
   "outputs": [],
   "source": [
    "total_size"
   ]
  },
  {
   "cell_type": "markdown",
   "metadata": {},
   "source": [
    "2. Grab the output with `%%bash --out output`"
   ]
  },
  {
   "cell_type": "code",
   "execution_count": null,
   "metadata": {},
   "outputs": [],
   "source": [
    "%%bash --out output\n",
    "ls -l | awk '{ SUM+=$5} END {print SUM}'"
   ]
  },
  {
   "cell_type": "code",
   "execution_count": null,
   "metadata": {},
   "outputs": [],
   "source": [
    "type(output)"
   ]
  },
  {
   "cell_type": "code",
   "execution_count": null,
   "metadata": {},
   "outputs": [],
   "source": [
    "output"
   ]
  },
  {
   "cell_type": "markdown",
   "metadata": {},
   "source": [
    "### Comparison\n",
    "\n",
    "They are pretty similar but the first options returns an `SList` file type, which is very useful."
   ]
  },
  {
   "cell_type": "code",
   "execution_count": null,
   "metadata": {},
   "outputs": [],
   "source": [
    "type(total_size)"
   ]
  },
  {
   "cell_type": "markdown",
   "metadata": {},
   "source": [
    "### Capturing the STDERR\n",
    "\n",
    "We might want to capture the standard error stream to debug errors later."
   ]
  },
  {
   "cell_type": "markdown",
   "metadata": {},
   "source": [
    "Saves the output into the variable `output`"
   ]
  },
  {
   "cell_type": "code",
   "execution_count": null,
   "metadata": {},
   "outputs": [],
   "source": [
    "%%bash --out output --err error\n",
    "ls -l | awk '{ SUM+=$5} END {print SUM}'\n",
    "echo \"no error so far\" >&2"
   ]
  },
  {
   "cell_type": "markdown",
   "metadata": {},
   "source": [
    "We now captured the output and the error in different variables"
   ]
  },
  {
   "cell_type": "code",
   "execution_count": null,
   "metadata": {},
   "outputs": [],
   "source": [
    "error"
   ]
  },
  {
   "cell_type": "code",
   "execution_count": null,
   "metadata": {},
   "outputs": [],
   "source": [
    "output"
   ]
  },
  {
   "cell_type": "markdown",
   "metadata": {},
   "source": [
    "## Automate with SList\n",
    "\n",
    "The SList format comes from the need to interface python with IPython shell commands. An SList object comes by default with three methods:\n",
    "- `fields`\n",
    "- `grep`\n",
    "- `sort`"
   ]
  },
  {
   "cell_type": "markdown",
   "metadata": {},
   "source": [
    "### `fields`\n",
    "\n",
    "`fields` simulates the `awk` command. "
   ]
  },
  {
   "cell_type": "code",
   "execution_count": null,
   "metadata": {},
   "outputs": [],
   "source": [
    "ls = !ls -l /usr/bin"
   ]
  },
  {
   "cell_type": "code",
   "execution_count": null,
   "metadata": {},
   "outputs": [],
   "source": [
    "# Confirming it's an SList\n",
    "type(ls)"
   ]
  },
  {
   "cell_type": "code",
   "execution_count": null,
   "metadata": {},
   "outputs": [],
   "source": [
    "# Grabbing just the modification dates for a few ls entries\n",
    "# Collect whitespace-separated fields\n",
    "ls.fields(1,5)[1:4]"
   ]
  },
  {
   "cell_type": "markdown",
   "metadata": {},
   "source": [
    "### `grep`\n",
    "\n",
    "`grep`-like operations on the output of a shell command."
   ]
  },
  {
   "cell_type": "code",
   "execution_count": null,
   "metadata": {},
   "outputs": [],
   "source": [
    "ls = !ls -l /usr/bin"
   ]
  },
  {
   "cell_type": "code",
   "execution_count": null,
   "metadata": {},
   "outputs": [],
   "source": [
    "# Find utilities that will kill UNIX processes\n",
    "ls.grep(\"kill\")"
   ]
  },
  {
   "cell_type": "markdown",
   "metadata": {},
   "source": [
    "### `sort`\n",
    "\n",
    "Performs sorting on the output of a shell command.\n",
    "- first argument is which column to sort on\n",
    "- second argument is whether to sort by alphabetical or numerical values"
   ]
  },
  {
   "cell_type": "code",
   "execution_count": null,
   "metadata": {},
   "outputs": [],
   "source": [
    "disk_usage = !df -h"
   ]
  },
  {
   "cell_type": "code",
   "execution_count": null,
   "metadata": {},
   "outputs": [],
   "source": [
    "disk_usage.sort(5, nums = True)"
   ]
  },
  {
   "cell_type": "markdown",
   "metadata": {},
   "source": [
    "### Python lists and SLists\n",
    "\n",
    "We can use some methods from lists on SLists, like `pop`. It's also very easy to convert SLists to python lists with `list()`"
   ]
  },
  {
   "cell_type": "code",
   "execution_count": null,
   "metadata": {},
   "outputs": [],
   "source": [
    "list(disk_usage)"
   ]
  },
  {
   "cell_type": "markdown",
   "metadata": {},
   "source": [
    "## Find our jupyter notebooks with `grep`\n"
   ]
  },
  {
   "cell_type": "code",
   "execution_count": null,
   "metadata": {},
   "outputs": [],
   "source": [
    "files = !ls ~/dev/stuff/sandbox/miguel"
   ]
  },
  {
   "cell_type": "code",
   "execution_count": null,
   "metadata": {},
   "outputs": [],
   "source": [
    "files.grep(\".ipynb\")"
   ]
  },
  {
   "cell_type": "markdown",
   "metadata": {},
   "source": [
    "# Shell commands with subprocess\n",
    "\n",
    "One of Python's strengths is the ability to glue itself to other languages and systems. There's a Python API for almost everything, including one to interact with the UNIX shell. We can for example:\n",
    "- send data to UNIX processes\n",
    "- listen to output\n",
    "- kill processes\n",
    "\n",
    "## subprocess.run\n",
    "\n",
    "This is the simplest way to run shell commands in Python 3.5+. Takes a list of strings and runs the command without capturing the output."
   ]
  },
  {
   "cell_type": "code",
   "execution_count": null,
   "metadata": {},
   "outputs": [],
   "source": [
    "import subprocess\n",
    "\n",
    "subprocess.run([\"ls\", \"-l\"])"
   ]
  },
  {
   "cell_type": "markdown",
   "metadata": {},
   "source": [
    "Dealing with Unicode in Python 3+ is more powerful but also more complex. Bytes strings need to be converted to `utf-8` to be processed further. This is accomplished with:\n",
    "\n",
    "`regular_string = res.decode(\"utf-8\")`"
   ]
  },
  {
   "cell_type": "markdown",
   "metadata": {},
   "source": [
    "## Status codes\n",
    "\n",
    "UNIX commands return a status code which represents the status of their completion. \n",
    "- `0` means successful\n",
    "- non-zero means unsuccessful"
   ]
  },
  {
   "cell_type": "code",
   "execution_count": null,
   "metadata": {},
   "outputs": [],
   "source": [
    "# Printing the status code of the last run command\n",
    "# Notice the 0 at the end: was successful\n",
    "!ls -l; echo $?"
   ]
  },
  {
   "cell_type": "code",
   "execution_count": null,
   "metadata": {},
   "outputs": [],
   "source": [
    "# A non-successful example; didn't quite work?\n",
    "!ls --bogus | echo $?"
   ]
  },
  {
   "cell_type": "markdown",
   "metadata": {},
   "source": [
    "### Capturing the status code with the subprocess"
   ]
  },
  {
   "cell_type": "code",
   "execution_count": null,
   "metadata": {},
   "outputs": [],
   "source": [
    "## Notice how returncode is part of the CompletedProcess object\n",
    "subprocess.run([\"ls\", \"-l\"])"
   ]
  },
  {
   "cell_type": "code",
   "execution_count": null,
   "metadata": {},
   "outputs": [],
   "source": [
    "## Successful example\n",
    "subprocess.run([\"ls\", \"-l\"]).returncode"
   ]
  },
  {
   "cell_type": "code",
   "execution_count": null,
   "metadata": {},
   "outputs": [],
   "source": [
    "## Non-successful example\n",
    "subprocess.run([\"ls\", \"--lame\"]).returncode"
   ]
  },
  {
   "cell_type": "markdown",
   "metadata": {},
   "source": [
    "### Control flow for status codes\n",
    "\n",
    "We can check for status codes in a control flow structure to account for possible errors."
   ]
  },
  {
   "cell_type": "code",
   "execution_count": null,
   "metadata": {},
   "outputs": [],
   "source": [
    "good_user_input = \"--lame\"\n",
    "out = subprocess.run([\"ls\", good_user_input])"
   ]
  },
  {
   "cell_type": "code",
   "execution_count": null,
   "metadata": {},
   "outputs": [],
   "source": [
    "out"
   ]
  },
  {
   "cell_type": "code",
   "execution_count": null,
   "metadata": {},
   "outputs": [],
   "source": [
    "if out.returncode == 0:\n",
    "    print(\"Success\")\n",
    "else:\n",
    "    print(\"Unsuccessful\")"
   ]
  },
  {
   "cell_type": "code",
   "execution_count": null,
   "metadata": {},
   "outputs": [],
   "source": [
    "# Running two subprocesses from Python\n",
    "import subprocess\n",
    "\n",
    "# Execute Unix command `head` safely as items in a list\n",
    "with subprocess.Popen([\"head\", \"test.txt\"], stdout=subprocess.PIPE) as head:\n",
    "  \n",
    "  # Print each line of list returned by `stdout.readlines()`\n",
    "    for line in head.stdout.readlines():\n",
    "        print(line)\n",
    "\n",
    "    # Execute Unix command `wc -w` safely as items in a list\n",
    "with subprocess.Popen([\"wc\", \"-w\", \"test.txt\"], stdout=subprocess.PIPE) as word_count:\n",
    "\n",
    "    # Print the string output of standard out of `wc -w`\n",
    "    print(word_count.stdout.read())"
   ]
  },
  {
   "cell_type": "code",
   "execution_count": null,
   "metadata": {},
   "outputs": [],
   "source": [
    "import subprocess\n",
    "\n",
    "# Use subprocess to run the `ps aux` command that lists running processes\n",
    "with subprocess.Popen([\"ps\", \"aux\"], stdout=subprocess.PIPE) as proc:\n",
    "    process_output = proc.stdout.readlines()\n",
    "    \n",
    "# Look through each line in the output and skip it if it contains \"python\"\n",
    "for line in process_output:\n",
    "    if b\"python\" in line:\n",
    "        continue\n",
    "    print(line)"
   ]
  },
  {
   "cell_type": "code",
   "execution_count": null,
   "metadata": {},
   "outputs": [],
   "source": [
    "!ps aux"
   ]
  },
  {
   "cell_type": "markdown",
   "metadata": {},
   "source": [
    "## Capturing the output of shell commands\n",
    "\n",
    "The `subprocess.Popen` class is used to capture the output of a process. We can run the shell command in Python and capture its output."
   ]
  },
  {
   "cell_type": "code",
   "execution_count": 11,
   "metadata": {},
   "outputs": [
    {
     "name": "stdout",
     "output_type": "stream",
     "text": [
      "[b'7_command_line_automation_in_python.ipynb\\n', b'hello_world.py\\n', b'test.txt\\n']\n"
     ]
    }
   ],
   "source": [
    "from subprocess import Popen, PIPE, TimeoutExpired\n",
    "\n",
    "with Popen([\"ls\"], stdout=PIPE) as proc:\n",
    "    out = proc.stdout.readlines()\n",
    "    \n",
    "print(out)"
   ]
  },
  {
   "cell_type": "markdown",
   "metadata": {},
   "source": [
    "### `with` statement\n",
    "\n",
    "On exit, the `with` statement automatically waits for processes to finish and automatically closes the files descriptors."
   ]
  },
  {
   "cell_type": "markdown",
   "metadata": {},
   "source": [
    "### `communicate` method\n",
    "\n",
    "The `communicate` method is another commonly used method to communicate with both `stdout` and `stderr`. If it exceeds a certain amount of time, it throws an exception which can be caught."
   ]
  },
  {
   "cell_type": "code",
   "execution_count": 13,
   "metadata": {},
   "outputs": [],
   "source": [
    "# Attempt to commuicat for up to 30 seconds\n",
    "\n",
    "# try:\n",
    "#     out, err = proc.communicate(timeout=30)\n",
    "# except TimeoutExpired:\n",
    "#     # kill the process since a timeout was triggered\n",
    "#     proc.kill()\n",
    "#     # capture both standard output and standard error\n",
    "#     out, error = proc.communicate()"
   ]
  },
  {
   "cell_type": "markdown",
   "metadata": {},
   "source": [
    "### Using `PIPE`\n",
    "\n",
    "To execute a shell command and capture its output there are two required components:\n",
    "1. `PIPE`\n",
    "    - `PIPE` operates just like the UNIX pipe operator\n",
    "    - Allows python to communicate with both the input and output of the process\n",
    "2. `stdout`\n",
    "    - Actual output of the command\n",
    "    - Can be consumed in two ways:\n",
    "        - `stdout.read()`: returns a string\n",
    "        - `stdout.readlines()`: returns an iterator\n",
    "        - `shell=False` always! "
   ]
  },
  {
   "cell_type": "code",
   "execution_count": null,
   "metadata": {},
   "outputs": [],
   "source": [
    "# This is unsafe!\n",
    "# Most engineers pass a variable as input to Popen and this\n",
    "# would allow for arbitrary code to be executed\n",
    "with Popen(\"ls -l /tmp\", shell=True, stdout=PIPE) as proc:\n",
    "    \n",
    "# The correct way is this\n",
    "# shell=False is default\n",
    "with Popen([\"ls\", \"-l\", \"/tmp\"], shell=False, stdout=PIPE) as proc: "
   ]
  },
  {
   "cell_type": "markdown",
   "metadata": {},
   "source": [
    "There are other parameters which are commonly used with the Popen class:\n",
    "- `stderr`: can be used to capture the output of errors"
   ]
  },
  {
   "cell_type": "code",
   "execution_count": 14,
   "metadata": {},
   "outputs": [
    {
     "name": "stdout",
     "output_type": "stream",
     "text": [
      "b'ls: illegal option -- -\\nusage: ls [-ABCFGHLOPRSTUWabcdefghiklmnopqrstuwx1] [file ...]\\n'\n"
     ]
    }
   ],
   "source": [
    "# Capture the error of an invalid command\n",
    "with Popen([\"ls\", \"--noflag\"], shell=False, stdout=PIPE, stderr=PIPE) as proc: \n",
    "    print(proc.stderr.read())"
   ]
  },
  {
   "cell_type": "markdown",
   "metadata": {},
   "source": [
    "### Getting a list of pip installs"
   ]
  },
  {
   "cell_type": "code",
   "execution_count": 1,
   "metadata": {},
   "outputs": [
    {
     "name": "stdout",
     "output_type": "stream",
     "text": [
      "[{'name': 'agate', 'version': '1.6.1'},\n",
      " {'name': 'agate-dbf', 'version': '0.2.1'},\n",
      " {'name': 'agate-excel', 'version': '0.2.3'},\n",
      " {'name': 'agate-sql', 'version': '0.5.4'},\n",
      " {'name': 'ansiwrap', 'version': '0.8.4'},\n",
      " {'name': 'appnope', 'version': '0.1.0'},\n",
      " {'name': 'attrs', 'version': '19.3.0'},\n",
      " {'name': 'Babel', 'version': '2.8.0'},\n",
      " {'name': 'backcall', 'version': '0.1.0'},\n",
      " {'name': 'beautifulsoup4', 'version': '4.8.0'},\n",
      " {'name': 'bleach', 'version': '3.1.0'},\n",
      " {'name': 'cachetools', 'version': '4.0.0'},\n",
      " {'name': 'certifi', 'version': '2019.11.28'},\n",
      " {'name': 'chardet', 'version': '3.0.4'},\n",
      " {'name': 'Click', 'version': '7.0'},\n",
      " {'name': 'colorama', 'version': '0.4.3'},\n",
      " {'name': 'configparser', 'version': '4.0.2'},\n",
      " {'name': 'crayons', 'version': '0.3.0'},\n",
      " {'name': 'csvkit', 'version': '1.0.4'},\n",
      " {'name': 'cycler', 'version': '0.10.0'},\n",
      " {'name': 'dbfread', 'version': '2.0.7'},\n",
      " {'name': 'decorator', 'version': '4.4.1'},\n",
      " {'name': 'defusedxml', 'version': '0.6.0'},\n",
      " {'name': 'entrypoints', 'version': '0.3'},\n",
      " {'name': 'et-xmlfile', 'version': '1.0.1'},\n",
      " {'name': 'flake8', 'version': '3.7.8'},\n",
      " {'name': 'fsspec', 'version': '0.6.2'},\n",
      " {'name': 'future', 'version': '0.18.2'},\n",
      " {'name': 'fuzzywuzzy', 'version': '0.17.0'},\n",
      " {'name': 'gcsfs', 'version': '0.3.0'},\n",
      " {'name': 'gevent', 'version': '1.4.0'},\n",
      " {'name': 'gitdb2', 'version': '2.0.6'},\n",
      " {'name': 'GitPython', 'version': '3.0.5'},\n",
      " {'name': 'google', 'version': '2.0.2'},\n",
      " {'name': 'google-api-core', 'version': '1.16.0'},\n",
      " {'name': 'google-auth', 'version': '1.11.0'},\n",
      " {'name': 'google-auth-oauthlib', 'version': '0.4.1'},\n",
      " {'name': 'google-cloud', 'version': '0.34.0'},\n",
      " {'name': 'google-cloud-bigquery', 'version': '1.20.0'},\n",
      " {'name': 'google-cloud-core', 'version': '1.0.3'},\n",
      " {'name': 'google-cloud-storage', 'version': '1.19.1'},\n",
      " {'name': 'google-cloud-translate', 'version': '1.6.0'},\n",
      " {'name': 'google-resumable-media', 'version': '0.4.1'},\n",
      " {'name': 'googleapis-common-protos', 'version': '1.51.0'},\n",
      " {'name': 'greenlet', 'version': '0.4.15'},\n",
      " {'name': 'grequests', 'version': '0.4.0'},\n",
      " {'name': 'gspread', 'version': '3.1.0'},\n",
      " {'name': 'gspread-dataframe', 'version': '3.0.3'},\n",
      " {'name': 'httplib2', 'version': '0.17.0'},\n",
      " {'name': 'idna', 'version': '2.8'},\n",
      " {'name': 'importlib-metadata', 'version': '1.5.0'},\n",
      " {'name': 'ipdb', 'version': '0.12.3'},\n",
      " {'name': 'ipykernel', 'version': '5.1.4'},\n",
      " {'name': 'ipython', 'version': '7.11.1'},\n",
      " {'name': 'ipython-genutils', 'version': '0.2.0'},\n",
      " {'name': 'ipywidgets', 'version': '7.5.1'},\n",
      " {'name': 'isodate', 'version': '0.6.0'},\n",
      " {'name': 'isort', 'version': '4.3.21'},\n",
      " {'name': 'jdcal', 'version': '1.4.1'},\n",
      " {'name': 'jedi', 'version': '0.16.0'},\n",
      " {'name': 'Jinja2', 'version': '2.11.0'},\n",
      " {'name': 'joblib', 'version': '0.14.1'},\n",
      " {'name': 'json5', 'version': '0.8.5'},\n",
      " {'name': 'jsonschema', 'version': '3.2.0'},\n",
      " {'name': 'jupyter', 'version': '1.0.0'},\n",
      " {'name': 'jupyter-client', 'version': '5.3.4'},\n",
      " {'name': 'jupyter-console', 'version': '6.1.0'},\n",
      " {'name': 'jupyter-contrib-core', 'version': '0.3.3'},\n",
      " {'name': 'jupyter-contrib-nbextensions', 'version': '0.5.1'},\n",
      " {'name': 'jupyter-core', 'version': '4.6.1'},\n",
      " {'name': 'jupyter-highlight-selected-word', 'version': '0.2.0'},\n",
      " {'name': 'jupyter-latex-envs', 'version': '1.4.6'},\n",
      " {'name': 'jupyter-nbextensions-configurator', 'version': '0.4.1'},\n",
      " {'name': 'jupyterlab', 'version': '1.2.6'},\n",
      " {'name': 'jupyterlab-server', 'version': '1.0.6'},\n",
      " {'name': 'kiwisolver', 'version': '1.1.0'},\n",
      " {'name': 'leather', 'version': '0.3.3'},\n",
      " {'name': 'lxml', 'version': '4.4.3'},\n",
      " {'name': 'MarkupSafe', 'version': '1.1.1'},\n",
      " {'name': 'matplotlib', 'version': '3.1.1'},\n",
      " {'name': 'mccabe', 'version': '0.6.1'},\n",
      " {'name': 'mistune', 'version': '0.8.4'},\n",
      " {'name': 'mk', 'version': '2.0'},\n",
      " {'name': 'music21', 'version': '5.7.2'},\n",
      " {'name': 'nbconvert', 'version': '5.6.1'},\n",
      " {'name': 'nbdime', 'version': '1.1.0'},\n",
      " {'name': 'nbformat', 'version': '5.0.4'},\n",
      " {'name': 'nest-asyncio', 'version': '1.2.0'},\n",
      " {'name': 'nltk', 'version': '3.4.5'},\n",
      " {'name': 'notebook', 'version': '6.0.3'},\n",
      " {'name': 'numpy', 'version': '1.17.0'},\n",
      " {'name': 'oauth2client', 'version': '4.1.3'},\n",
      " {'name': 'oauthlib', 'version': '3.1.0'},\n",
      " {'name': 'openpyxl', 'version': '3.0.3'},\n",
      " {'name': 'pandas', 'version': '0.24.2'},\n",
      " {'name': 'pandas-gbq', 'version': '0.11.0'},\n",
      " {'name': 'pandocfilters', 'version': '1.4.2'},\n",
      " {'name': 'papermill', 'version': '1.2.1'},\n",
      " {'name': 'parsedatetime', 'version': '2.5'},\n",
      " {'name': 'parso', 'version': '0.6.0'},\n",
      " {'name': 'patsy', 'version': '0.5.1'},\n",
      " {'name': 'pexpect', 'version': '4.8.0'},\n",
      " {'name': 'pickleshare', 'version': '0.7.5'},\n",
      " {'name': 'Pillow', 'version': '6.2.1'},\n",
      " {'name': 'pip', 'version': '20.0.2'},\n",
      " {'name': 'prometheus-client', 'version': '0.7.1'},\n",
      " {'name': 'prompt-toolkit', 'version': '3.0.3'},\n",
      " {'name': 'protobuf', 'version': '3.11.2'},\n",
      " {'name': 'ptyprocess', 'version': '0.6.0'},\n",
      " {'name': 'py4j', 'version': '0.10.7'},\n",
      " {'name': 'pyarrow', 'version': '0.15.1'},\n",
      " {'name': 'pyasn1', 'version': '0.4.8'},\n",
      " {'name': 'pyasn1-modules', 'version': '0.2.8'},\n",
      " {'name': 'pycodestyle', 'version': '2.5.0'},\n",
      " {'name': 'pydata-google-auth', 'version': '0.2.1'},\n",
      " {'name': 'pyflakes', 'version': '2.1.1'},\n",
      " {'name': 'Pygments', 'version': '2.5.2'},\n",
      " {'name': 'pyparsing', 'version': '2.4.6'},\n",
      " {'name': 'pyrsistent', 'version': '0.15.7'},\n",
      " {'name': 'pyspark', 'version': '2.4.4'},\n",
      " {'name': 'python-dateutil', 'version': '2.8.1'},\n",
      " {'name': 'python-http-client', 'version': '3.2.4'},\n",
      " {'name': 'python-slugify', 'version': '4.0.0'},\n",
      " {'name': 'pytimeparse', 'version': '1.1.8'},\n",
      " {'name': 'pytrends', 'version': '4.6.0'},\n",
      " {'name': 'pytz', 'version': '2019.3'},\n",
      " {'name': 'PyYAML', 'version': '5.3'},\n",
      " {'name': 'pyzmq', 'version': '18.1.1'},\n",
      " {'name': 'qtconsole', 'version': '4.6.0'},\n",
      " {'name': 'requests', 'version': '2.22.0'},\n",
      " {'name': 'requests-oauthlib', 'version': '1.3.0'},\n",
      " {'name': 'rsa', 'version': '4.0'},\n",
      " {'name': 'scikit-learn', 'version': '0.21.3'},\n",
      " {'name': 'scipy', 'version': '1.3.1'},\n",
      " {'name': 'search-ads-two', 'version': '0.1'},\n",
      " {'name': 'selenium', 'version': '3.141.0'},\n",
      " {'name': 'Send2Trash', 'version': '1.5.0'},\n",
      " {'name': 'sendgrid', 'version': '6.1.1'},\n",
      " {'name': 'setuptools', 'version': '41.2.0'},\n",
      " {'name': 'six', 'version': '1.14.0'},\n",
      " {'name': 'smmap2', 'version': '2.0.5'},\n",
      " {'name': 'soupsieve', 'version': '1.9.5'},\n",
      " {'name': 'SQLAlchemy', 'version': '1.3.8'},\n",
      " {'name': 'statsmodels', 'version': '0.10.1'},\n",
      " {'name': 'tenacity', 'version': '6.0.0'},\n",
      " {'name': 'terminado', 'version': '0.8.3'},\n",
      " {'name': 'testpath', 'version': '0.4.4'},\n",
      " {'name': 'text-unidecode', 'version': '1.3'},\n",
      " {'name': 'textwrap3', 'version': '0.9.2'},\n",
      " {'name': 'tornado', 'version': '6.0.3'},\n",
      " {'name': 'tqdm', 'version': '4.42.0'},\n",
      " {'name': 'traitlets', 'version': '4.3.3'},\n",
      " {'name': 'urllib3', 'version': '1.24.3'},\n",
      " {'name': 'wcwidth', 'version': '0.1.8'},\n",
      " {'name': 'webdriver-manager', 'version': '2.3.0'},\n",
      " {'name': 'webencodings', 'version': '0.5.1'},\n",
      " {'name': 'widgetsnbextension', 'version': '3.5.1'},\n",
      " {'name': 'xlrd', 'version': '1.2.0'},\n",
      " {'name': 'zipp', 'version': '2.1.0'}]\n"
     ]
    }
   ],
   "source": [
    "from subprocess import Popen, PIPE\n",
    "import json\n",
    "import pprint\n",
    "\n",
    "# Use the with context manager to run subprocess.Popen()\n",
    "with Popen([\"pip\", \"list\", \"--format=json\"], stdout=PIPE) as proc:\n",
    "    # Pipe the output of subprocess.Popen() to stdout\n",
    "    result = proc.stdout.readlines()\n",
    "    \n",
    "# Convert the JSON payload to a Python dictionary\n",
    "# JSON is a datastructure similar to a Python dictionary\n",
    "converted_result = json.loads(result[0])\n",
    "\n",
    "# Display the result in the IPython terminal\n",
    "pprint.pprint(converted_result)"
   ]
  },
  {
   "cell_type": "markdown",
   "metadata": {},
   "source": [
    "### Dealing with a error process"
   ]
  },
  {
   "cell_type": "code",
   "execution_count": 19,
   "metadata": {},
   "outputs": [
    {
     "name": "stdout",
     "output_type": "stream",
     "text": [
      "Process timed out with output: b'', error: b''\n"
     ]
    }
   ],
   "source": [
    "# Start a long running process using subprocess.Popen()\n",
    "proc = Popen([\"sleep\", \"6\"], stdout=PIPE, stderr=PIPE)\n",
    "\n",
    "# Use subprocess.communicate() to create a timeout \n",
    "try:\n",
    "    output, error = proc.communicate(timeout=5)\n",
    "                                     \n",
    "except TimeoutExpired:\n",
    "\n",
    "    # Cleanup the process if it takes longer than the timeout\n",
    "    proc.kill()\n",
    "\n",
    "    # Read standard out and standard error streams and print\n",
    "    output, error = proc.communicate()\n",
    "    print(f\"Process timed out with output: {output}, error: {error}\")"
   ]
  },
  {
   "cell_type": "markdown",
   "metadata": {},
   "source": [
    "### Finding duplicate files\n",
    "\n",
    "We can calculate the hash of files to see if there are duplicates."
   ]
  },
  {
   "cell_type": "code",
   "execution_count": 29,
   "metadata": {},
   "outputs": [],
   "source": [
    "files = !ls"
   ]
  },
  {
   "cell_type": "code",
   "execution_count": 31,
   "metadata": {},
   "outputs": [
    {
     "name": "stdout",
     "output_type": "stream",
     "text": [
      "Found Duplicates: []\n",
      "Found Duplicates: []\n",
      "Found Duplicates: []\n"
     ]
    }
   ],
   "source": [
    "checksums = {}\n",
    "duplicates = []\n",
    "\n",
    "# Iterate over the list of files filenames\n",
    "for filename in files:\n",
    "    # Use Popen to call the md5sum utility\n",
    "    with Popen([\"md5sum\", filename], stdout=PIPE) as proc:\n",
    "        checksum, _ = proc.stdout.read().split()\n",
    "\n",
    "        # Append duplicate to a list if the checksum is found\n",
    "        if checksum in checksums:\n",
    "            duplicates.append(filename)\n",
    "        checksums[checksum] = filename\n",
    "\n",
    "    print(f\"Found Duplicates: {duplicates}\")"
   ]
  },
  {
   "cell_type": "markdown",
   "metadata": {},
   "source": [
    "## Sending input to processes\n",
    "\n",
    "We can also send input to shell commands from python. There are two common ways of sending the output of a process as input to another from python:\n",
    "1. `Popen`"
   ]
  },
  {
   "cell_type": "code",
   "execution_count": 33,
   "metadata": {},
   "outputs": [],
   "source": [
    "proc1 = Popen([\"process_one.sh\"], stdout=PIPE)\n",
    "Popen([\"process_two.sh\"], stdin=proc1.stdout)"
   ]
  },
  {
   "cell_type": "markdown",
   "metadata": {},
   "source": [
    "2. `run` method (higher level abstraction)"
   ]
  },
  {
   "cell_type": "code",
   "execution_count": null,
   "metadata": {},
   "outputs": [],
   "source": [
    "# Simplifies boilerplate code\n",
    "proc1 = run([\"process_one.sh\"], stdout=PIPE)\n",
    "run([\"process_two.sh\"], input=proc1.stdout)"
   ]
  },
  {
   "cell_type": "markdown",
   "metadata": {},
   "source": [
    "Passing input from one command to another is a classic UNIX paradigm.\n",
    "\n",
    "### The string language of UNIX pipes\n",
    "\n",
    "- Strings are the language of shell pipes\n",
    "- Pass strings via STDOUT"
   ]
  },
  {
   "cell_type": "code",
   "execution_count": 34,
   "metadata": {},
   "outputs": [
    {
     "name": "stdout",
     "output_type": "stream",
     "text": [
      "neve ro ddo reven\r\n"
     ]
    }
   ],
   "source": [
    "!echo \"never odd or even\" | rev"
   ]
  },
  {
   "cell_type": "markdown",
   "metadata": {},
   "source": [
    "### Translating between objects and strings\n",
    "\n",
    "Shell returns strings for everything whereas python uses objects. We need a way of converting between one thing and the other.\n",
    "\n",
    "To recap:\n",
    "- Python objects contain:\n",
    "    - data\n",
    "    - methods\n",
    "- UNIX strings are:\n",
    "    - data only\n",
    "    - often columnar"
   ]
  },
  {
   "cell_type": "markdown",
   "metadata": {},
   "source": [
    "### User input\n",
    "\n",
    "- Bash uses `read`\n",
    "- Python uses `input`\n",
    "- Python can also accept input from command-line libraries\n",
    "- Subprocess can pipe input to scripts that wait for user input"
   ]
  },
  {
   "cell_type": "code",
   "execution_count": 36,
   "metadata": {},
   "outputs": [
    {
     "name": "stdout",
     "output_type": "stream",
     "text": [
      "4\n"
     ]
    }
   ],
   "source": [
    "import subprocess\n",
    "\n",
    "# runs find command to search for files\n",
    "find = subprocess.Popen(\n",
    "    [\"find\", \".\", \"-type\", \"f\", \"-print\"], stdout=subprocess.PIPE)\n",
    "\n",
    "# runs wc and counts the number of lines\n",
    "# this is how we pipe in subprocess\n",
    "word_count = subprocess.Popen(\n",
    "    [\"wc\", \"-l\"], stdin=find.stdout, stdout=subprocess.PIPE)\n",
    "\n",
    "# print the decoded and formatted output\n",
    "output = word_count.stdout.read()\n",
    "print(output.decode(\"utf-8\").strip())"
   ]
  },
  {
   "cell_type": "markdown",
   "metadata": {},
   "source": [
    "## Passing arguments safely to shell commands\n",
    "\n",
    "1. User input should never be trusted! \n",
    "    2. We should always assume that user input can be malicious."
   ]
  },
  {
   "cell_type": "code",
   "execution_count": 37,
   "metadata": {},
   "outputs": [],
   "source": [
    "# expecteed input to a script\n",
    "#/some/dir"
   ]
  },
  {
   "cell_type": "code",
   "execution_count": 38,
   "metadata": {},
   "outputs": [],
   "source": [
    "# actual input from malicious user\n",
    "# some/dir && rm -rf /all/your/dirs"
   ]
  },
  {
   "cell_type": "markdown",
   "metadata": {},
   "source": [
    "Recall:"
   ]
  },
  {
   "cell_type": "code",
   "execution_count": null,
   "metadata": {},
   "outputs": [],
   "source": [
    "# This is unsafe!\n",
    "# Most engineers pass a variable as input to Popen and this\n",
    "# would allow for arbitrary code to be executed\n",
    "with Popen(\"ls -l /tmp\", shell=True, stdout=PIPE) as proc:\n",
    "    \n",
    "# The correct way is this\n",
    "# shell=False is default\n",
    "with Popen([\"ls\", \"-l\", \"/tmp\"], shell=False, stdout=PIPE) as proc: "
   ]
  },
  {
   "cell_type": "markdown",
   "metadata": {},
   "source": [
    "However, if we *must* use `shell=True` we should always sanitise the input with the `shlex` module"
   ]
  },
  {
   "cell_type": "code",
   "execution_count": 40,
   "metadata": {},
   "outputs": [
    {
     "data": {
      "text/plain": [
       "['/tmp', '&&', 'rm', '-rf', '/all/my/dirs']"
      ]
     },
     "execution_count": 40,
     "metadata": {},
     "output_type": "execute_result"
    }
   ],
   "source": [
    "import shlex\n",
    "\n",
    "shlex.split(\"/tmp && rm -rf /all/my/dirs\")"
   ]
  },
  {
   "cell_type": "code",
   "execution_count": 43,
   "metadata": {},
   "outputs": [
    {
     "data": {
      "text/plain": [
       "CompletedProcess(args=['ls', '/tmp'], returncode=0)"
      ]
     },
     "execution_count": 43,
     "metadata": {},
     "output_type": "execute_result"
    }
   ],
   "source": [
    "# here we sanitise the malicious input preventing it from being run\n",
    "directory = shlex.split(\"/tmp\")\n",
    "cmd = [\"ls\"]\n",
    "cmd.extend(directory)\n",
    "subprocess.run(cmd, shell=True)"
   ]
  },
  {
   "cell_type": "markdown",
   "metadata": {},
   "source": [
    "Best practise is using a list, always. It limits the mistakes you can make."
   ]
  },
  {
   "cell_type": "markdown",
   "metadata": {},
   "source": [
    "### Best practices for security\n",
    "\n",
    "- always use `shell=False`\n",
    "- assume all users are malicious\n",
    "- never use security by obscurity\n",
    "- always use the principle of least privilege (postman only needs access to front-yard)\n",
    "- reduce complexity"
   ]
  },
  {
   "cell_type": "markdown",
   "metadata": {},
   "source": [
    "# Dealing with file systems\n",
    "\n",
    "- Learning objectives:\n",
    "    - learn how to walk a filesystem\n",
    "    \n",
    "In a file system, files are tipically created by:\n",
    "- computer\n",
    "    - log files\n",
    "    - build artifacts\n",
    "    - directory trees\n",
    "    - structured data\n",
    "    - unstructured data\n",
    "    - ML models\n",
    "- humans    \n",
    "    - config files\n",
    "    - user profile data\n",
    "    - business documents\n",
    "    - code\n",
    "    - data science projects\n",
    "    - ML models\n",
    "\n",
    "The file system is a hierarchy and the `tree` command is good to visualise this."
   ]
  },
  {
   "cell_type": "code",
   "execution_count": 46,
   "metadata": {},
   "outputs": [
    {
     "name": "stdout",
     "output_type": "stream",
     "text": [
      "\u001b[01;34m../\u001b[00m\r\n",
      "├── \u001b[01;34mdatasets\u001b[00m\r\n",
      "├── \u001b[01;34mnotes\u001b[00m\r\n",
      "│   ├── 7_command_line_automation_in_python.ipynb\r\n",
      "│   ├── hello_world.py\r\n",
      "│   └── test.txt\r\n",
      "└── \u001b[01;34mslides\u001b[00m\r\n",
      "\r\n",
      "3 directories, 3 files\r\n"
     ]
    }
   ],
   "source": [
    "!tree ../"
   ]
  },
  {
   "cell_type": "markdown",
   "metadata": {},
   "source": [
    "## `os.walk`\n",
    "\n",
    "On each traversal, `os.walk` returns:\n",
    "- `root`\n",
    "- `dirs`\n",
    "- `files`\n",
    "\n",
    "in a python generator."
   ]
  },
  {
   "cell_type": "markdown",
   "metadata": {},
   "source": [
    "## Finding file extensions\n",
    "\n",
    "To find just the file extensions, we can"
   ]
  },
  {
   "cell_type": "code",
   "execution_count": 54,
   "metadata": {},
   "outputs": [],
   "source": [
    "fullpath = \"7_command_line_automation_in_python.ipynb\"\n",
    "_, ext = os.path.splitext(fullpath)"
   ]
  },
  {
   "cell_type": "code",
   "execution_count": 55,
   "metadata": {},
   "outputs": [
    {
     "data": {
      "text/plain": [
       "'.ipynb'"
      ]
     },
     "execution_count": 55,
     "metadata": {},
     "output_type": "execute_result"
    }
   ],
   "source": [
    "ext"
   ]
  },
  {
   "cell_type": "code",
   "execution_count": 56,
   "metadata": {},
   "outputs": [
    {
     "data": {
      "text/plain": [
       "('7_command_line_automation_in_python', '.ipynb')"
      ]
     },
     "execution_count": 56,
     "metadata": {},
     "output_type": "execute_result"
    }
   ],
   "source": [
    "os.path.splitext(fullpath)"
   ]
  },
  {
   "cell_type": "code",
   "execution_count": 57,
   "metadata": {},
   "outputs": [
    {
     "name": "stdout",
     "output_type": "stream",
     "text": [
      "Processing file: ../../../datacamp/.DS_Store\n",
      "Processing file: ../../../datacamp/README.md\n",
      "Processing file: ../../../datacamp/1_introduction_to_data_engineering-1_introduction_to_data_engineering.ipynb\n",
      "Processing file: ../../../datacamp/3_software_engineering_for_data_scientists_in_python/.DS_Store\n",
      "Processing file: ../../../datacamp/3_software_engineering_for_data_scientists_in_python/datasets/yay_pep8.py\n",
      "Processing file: ../../../datacamp/3_software_engineering_for_data_scientists_in_python/datasets/.DS_Store\n",
      "Processing file: ../../../datacamp/3_software_engineering_for_data_scientists_in_python/datasets/nay_pep8.py\n",
      "Processing file: ../../../datacamp/3_software_engineering_for_data_scientists_in_python/slides/.DS_Store\n",
      "Processing file: ../../../datacamp/3_software_engineering_for_data_scientists_in_python/notes/.DS_Store\n",
      "Processing file: ../../../datacamp/3_software_engineering_for_data_scientists_in_python/notes/3_software_engineering_for_data_scientists_in_python.ipynb\n",
      "Processing file: ../../../datacamp/3_software_engineering_for_data_scientists_in_python/notes/package_name/.DS_Store\n",
      "Processing file: ../../../datacamp/3_software_engineering_for_data_scientists_in_python/notes/package_name/utils.py\n",
      "Processing file: ../../../datacamp/3_software_engineering_for_data_scientists_in_python/notes/package_name/document.py\n",
      "Processing file: ../../../datacamp/3_software_engineering_for_data_scientists_in_python/notes/package_name/my_class.py\n",
      "Processing file: ../../../datacamp/3_software_engineering_for_data_scientists_in_python/notes/package_name/__init__py\n",
      "Processing file: ../../../datacamp/3_software_engineering_for_data_scientists_in_python/notes/.ipynb_checkpoints/3_software_engineering_for_data_scientists_in_python-checkpoint.ipynb\n",
      "Processing file: ../../../datacamp/5_introduction_to_shell/.DS_Store\n",
      "Processing file: ../../../datacamp/5_introduction_to_shell/datasets/.DS_Store\n",
      "Processing file: ../../../datacamp/5_introduction_to_shell/datasets/agarwal.txt\n",
      "Processing file: ../../../datacamp/5_introduction_to_shell/datasets/cities.csv\n",
      "Processing file: ../../../datacamp/5_introduction_to_shell/datasets/filesys.zip\n",
      "Processing file: ../../../datacamp/5_introduction_to_shell/datasets/sales.csv\n",
      "Processing file: ../../../datacamp/5_introduction_to_shell/datasets/sales_2.csv\n",
      "Processing file: ../../../datacamp/5_introduction_to_shell/datasets/filesys/.DS_Store\n",
      "Processing file: ../../../datacamp/5_introduction_to_shell/datasets/seasonal/autumn.csv\n",
      "Processing file: ../../../datacamp/5_introduction_to_shell/datasets/seasonal/spring.csv\n",
      "Processing file: ../../../datacamp/5_introduction_to_shell/datasets/seasonal/winter.csv\n",
      "Processing file: ../../../datacamp/5_introduction_to_shell/datasets/seasonal/summer.csv\n",
      "Processing file: ../../../datacamp/5_introduction_to_shell/notes/last_five_lines.txt\n",
      "Processing file: ../../../datacamp/5_introduction_to_shell/notes/new_file.out\n",
      "Processing file: ../../../datacamp/5_introduction_to_shell/notes/loop.sh\n",
      "Processing file: ../../../datacamp/5_introduction_to_shell/notes/5_introduction_to_shell.ipynb\n",
      "Processing file: ../../../datacamp/5_introduction_to_shell/notes/dates.sh\n",
      "Processing file: ../../../datacamp/5_introduction_to_shell/notes/single_paramenters.sh\n",
      "Processing file: ../../../datacamp/5_introduction_to_shell/notes/range.out\n",
      "Processing file: ../../../datacamp/5_introduction_to_shell/notes/range.sh\n",
      "Processing file: ../../../datacamp/5_introduction_to_shell/notes/count_records.sh\n",
      "Processing file: ../../../datacamp/5_introduction_to_shell/notes/first_cols.out\n",
      "Processing file: ../../../datacamp/5_introduction_to_shell/notes/.ipynb_checkpoints/5_introduction_to_shell-checkpoint.ipynb\n",
      "Processing file: ../../../datacamp/12_introduction_to_pyspark/.DS_Store\n",
      "Processing file: ../../../datacamp/12_introduction_to_pyspark/datasets/airports.csv\n",
      "Processing file: ../../../datacamp/12_introduction_to_pyspark/datasets/planes.csv\n",
      "Processing file: ../../../datacamp/12_introduction_to_pyspark/datasets/flights.csv\n",
      "Processing file: ../../../datacamp/12_introduction_to_pyspark/notes/11_introduction_to_pyspark.ipynb\n",
      "Processing file: ../../../datacamp/12_introduction_to_pyspark/notes/.ipynb_checkpoints/11_introduction_to_pyspark-checkpoint.ipynb\n",
      "Processing file: ../../../datacamp/1_introduction_to_data_engineering/.DS_Store\n",
      "Processing file: ../../../datacamp/1_introduction_to_data_engineering/slides/1_4_case_study.pdf\n",
      "Processing file: ../../../datacamp/1_introduction_to_data_engineering/slides/1_1_introduction_to_data_engineering.pdf\n",
      "Processing file: ../../../datacamp/1_introduction_to_data_engineering/slides/1_3_etl.pdf\n",
      "Processing file: ../../../datacamp/1_introduction_to_data_engineering/slides/1_2_data_engineering_toolbox.pdf\n",
      "Processing file: ../../../datacamp/1_introduction_to_data_engineering/notes/1_introduction_to_data_engineering-1_introduction_to_data_engineering.ipynb\n",
      "Processing file: ../../../datacamp/6_data_processing_in_shell/.DS_Store\n",
      "Processing file: ../../../datacamp/6_data_processing_in_shell/datasets/Spotify_Popularity_1.csv\n",
      "Processing file: ../../../datacamp/6_data_processing_in_shell/datasets/Spotify201812.zip\n",
      "Processing file: ../../../datacamp/6_data_processing_in_shell/datasets/Spotify_Popularity.csv\n",
      "Processing file: ../../../datacamp/6_data_processing_in_shell/datasets/Spotify_MusicAttributes.csv\n",
      "Processing file: ../../../datacamp/6_data_processing_in_shell/notes/datafile077.txt\n",
      "Processing file: ../../../datacamp/6_data_processing_in_shell/notes/datafile063.txt\n",
      "Processing file: ../../../datacamp/6_data_processing_in_shell/notes/datafile088.txt\n",
      "Processing file: ../../../datacamp/6_data_processing_in_shell/notes/datafile089.txt\n",
      "Processing file: ../../../datacamp/6_data_processing_in_shell/notes/datafile062.txt\n",
      "Processing file: ../../../datacamp/6_data_processing_in_shell/notes/datafile076.txt\n",
      "Processing file: ../../../datacamp/6_data_processing_in_shell/notes/datafile100.txt\n",
      "Processing file: ../../../datacamp/6_data_processing_in_shell/notes/datafile048.txt\n",
      "Processing file: ../../../datacamp/6_data_processing_in_shell/notes/datafile060.txt\n",
      "Processing file: ../../../datacamp/6_data_processing_in_shell/notes/datafile074.txt\n",
      "Processing file: ../../../datacamp/6_data_processing_in_shell/notes/datafile075.txt\n",
      "Processing file: ../../../datacamp/6_data_processing_in_shell/notes/datafile061.txt\n",
      "Processing file: ../../../datacamp/6_data_processing_in_shell/notes/datafile049.txt\n",
      "Processing file: ../../../datacamp/6_data_processing_in_shell/notes/datafile065.txt\n",
      "Processing file: ../../../datacamp/6_data_processing_in_shell/notes/datafile071.txt\n",
      "Processing file: ../../../datacamp/6_data_processing_in_shell/notes/datafile059.txt\n",
      "Processing file: ../../../datacamp/6_data_processing_in_shell/notes/datafile058.txt\n",
      "Processing file: ../../../datacamp/6_data_processing_in_shell/notes/datafile070.txt\n",
      "Processing file: ../../../datacamp/6_data_processing_in_shell/notes/datafile064.txt\n",
      "Processing file: ../../../datacamp/6_data_processing_in_shell/notes/datafile072.txt\n",
      "Processing file: ../../../datacamp/6_data_processing_in_shell/notes/datafile066.txt\n",
      "Processing file: ../../../datacamp/6_data_processing_in_shell/notes/datafile099.txt\n",
      "Processing file: ../../../datacamp/6_data_processing_in_shell/notes/datafile098.txt\n",
      "Processing file: ../../../datacamp/6_data_processing_in_shell/notes/datafile067.txt\n",
      "Processing file: ../../../datacamp/6_data_processing_in_shell/notes/datafile073.txt\n",
      "Processing file: ../../../datacamp/6_data_processing_in_shell/notes/SpotifyDatabase.db\n",
      "Processing file: ../../../datacamp/6_data_processing_in_shell/notes/datafile028.txt\n",
      "Processing file: ../../../datacamp/6_data_processing_in_shell/notes/datafile014.txt\n",
      "Processing file: ../../../datacamp/6_data_processing_in_shell/notes/datafile001.txt\n",
      "Processing file: ../../../datacamp/6_data_processing_in_shell/notes/datafile015.txt\n",
      "Processing file: ../../../datacamp/6_data_processing_in_shell/notes/datafile029.txt\n",
      "Processing file: ../../../datacamp/6_data_processing_in_shell/notes/datafile003.txt\n",
      "Processing file: ../../../datacamp/6_data_processing_in_shell/notes/datafile017.txt\n",
      "Processing file: ../../../datacamp/6_data_processing_in_shell/notes/datafile016.txt\n",
      "Processing file: ../../../datacamp/6_data_processing_in_shell/notes/datafile002.txt\n",
      "Processing file: ../../../datacamp/6_data_processing_in_shell/notes/datafile006.txt\n",
      "Processing file: ../../../datacamp/6_data_processing_in_shell/notes/datafile012.txt\n",
      "Processing file: ../../../datacamp/6_data_processing_in_shell/notes/6_data_processing_in_shell.ipynb\n",
      "Processing file: ../../../datacamp/6_data_processing_in_shell/notes/datafile013.txt\n",
      "Processing file: ../../../datacamp/6_data_processing_in_shell/notes/datafile007.txt\n",
      "Processing file: ../../../datacamp/6_data_processing_in_shell/notes/datafile011.txt\n",
      "Processing file: ../../../datacamp/6_data_processing_in_shell/notes/datafile005.txt\n",
      "Processing file: ../../../datacamp/6_data_processing_in_shell/notes/datafile039.txt\n",
      "Processing file: ../../../datacamp/6_data_processing_in_shell/notes/datafile038.txt\n",
      "Processing file: ../../../datacamp/6_data_processing_in_shell/notes/datafile004.txt\n",
      "Processing file: ../../../datacamp/6_data_processing_in_shell/notes/datafile010.txt\n",
      "Processing file: ../../../datacamp/6_data_processing_in_shell/notes/datafile009.txt\n",
      "Processing file: ../../../datacamp/6_data_processing_in_shell/notes/datafile035.txt\n",
      "Processing file: ../../../datacamp/6_data_processing_in_shell/notes/datafile021.txt\n",
      "Processing file: ../../../datacamp/6_data_processing_in_shell/notes/datafile020.txt\n",
      "Processing file: ../../../datacamp/6_data_processing_in_shell/notes/datafile034.txt\n",
      "Processing file: ../../../datacamp/6_data_processing_in_shell/notes/datafile008.txt\n",
      "Processing file: ../../../datacamp/6_data_processing_in_shell/notes/datafile022.txt\n",
      "Processing file: ../../../datacamp/6_data_processing_in_shell/notes/datafile036.txt\n",
      "Processing file: ../../../datacamp/6_data_processing_in_shell/notes/datafile037.txt\n",
      "Processing file: ../../../datacamp/6_data_processing_in_shell/notes/datafile023.txt\n",
      "Processing file: ../../../datacamp/6_data_processing_in_shell/notes/datafile027.txt\n",
      "Processing file: ../../../datacamp/6_data_processing_in_shell/notes/datafile033.txt\n",
      "Processing file: ../../../datacamp/6_data_processing_in_shell/notes/datafile032.txt\n",
      "Processing file: ../../../datacamp/6_data_processing_in_shell/notes/datafile026.txt\n",
      "Processing file: ../../../datacamp/6_data_processing_in_shell/notes/datafile030.txt\n",
      "Processing file: ../../../datacamp/6_data_processing_in_shell/notes/datafile024.txt\n",
      "Processing file: ../../../datacamp/6_data_processing_in_shell/notes/datafile018.txt\n",
      "Processing file: ../../../datacamp/6_data_processing_in_shell/notes/datafile019.txt\n",
      "Processing file: ../../../datacamp/6_data_processing_in_shell/notes/datafile025.txt\n",
      "Processing file: ../../../datacamp/6_data_processing_in_shell/notes/datafile031.txt\n",
      "Processing file: ../../../datacamp/6_data_processing_in_shell/notes/datafile056.txt\n",
      "Processing file: ../../../datacamp/6_data_processing_in_shell/notes/datafile042.txt\n",
      "Processing file: ../../../datacamp/6_data_processing_in_shell/notes/datafile095.txt\n",
      "Processing file: ../../../datacamp/6_data_processing_in_shell/notes/datafile081.txt\n",
      "Processing file: ../../../datacamp/6_data_processing_in_shell/notes/datafile080.txt\n",
      "Processing file: ../../../datacamp/6_data_processing_in_shell/notes/datafile094.txt\n",
      "Processing file: ../../../datacamp/6_data_processing_in_shell/notes/datafile043.txt\n",
      "Processing file: ../../../datacamp/6_data_processing_in_shell/notes/datafile057.txt\n",
      "Processing file: ../../../datacamp/6_data_processing_in_shell/notes/datafile069.txt\n",
      "Processing file: ../../../datacamp/6_data_processing_in_shell/notes/datafile041.txt\n",
      "Processing file: ../../../datacamp/6_data_processing_in_shell/notes/datafile055.txt\n",
      "Processing file: ../../../datacamp/6_data_processing_in_shell/notes/datafile082.txt\n",
      "Processing file: ../../../datacamp/6_data_processing_in_shell/notes/datafile096.txt\n",
      "Processing file: ../../../datacamp/6_data_processing_in_shell/notes/datafile097.txt\n",
      "Processing file: ../../../datacamp/6_data_processing_in_shell/notes/datafile083.txt\n",
      "Processing file: ../../../datacamp/6_data_processing_in_shell/notes/datafile054.txt\n",
      "Processing file: ../../../datacamp/6_data_processing_in_shell/notes/datafile040.txt\n",
      "Processing file: ../../../datacamp/6_data_processing_in_shell/notes/datafile068.txt\n",
      "Processing file: ../../../datacamp/6_data_processing_in_shell/notes/datafile044.txt\n",
      "Processing file: ../../../datacamp/6_data_processing_in_shell/notes/SpotifyDatabase_2.db\n",
      "Processing file: ../../../datacamp/6_data_processing_in_shell/notes/datafile050.txt\n",
      "Processing file: ../../../datacamp/6_data_processing_in_shell/notes/datafile078.txt\n",
      "Processing file: ../../../datacamp/6_data_processing_in_shell/notes/datafile087.txt\n",
      "Processing file: ../../../datacamp/6_data_processing_in_shell/notes/datafile093.txt\n",
      "Processing file: ../../../datacamp/6_data_processing_in_shell/notes/datafile092.txt\n",
      "Processing file: ../../../datacamp/6_data_processing_in_shell/notes/datafile086.txt\n",
      "Processing file: ../../../datacamp/6_data_processing_in_shell/notes/datafile079.txt\n",
      "Processing file: ../../../datacamp/6_data_processing_in_shell/notes/datafile051.txt\n",
      "Processing file: ../../../datacamp/6_data_processing_in_shell/notes/datafile045.txt\n",
      "Processing file: ../../../datacamp/6_data_processing_in_shell/notes/SpotifyCopy.csv\n",
      "Processing file: ../../../datacamp/6_data_processing_in_shell/notes/datafile053.txt\n",
      "Processing file: ../../../datacamp/6_data_processing_in_shell/notes/datafile047.txt\n",
      "Processing file: ../../../datacamp/6_data_processing_in_shell/notes/datafile090.txt\n",
      "Processing file: ../../../datacamp/6_data_processing_in_shell/notes/datafile084.txt\n",
      "Processing file: ../../../datacamp/6_data_processing_in_shell/notes/datafile085.txt\n",
      "Processing file: ../../../datacamp/6_data_processing_in_shell/notes/datafile091.txt\n",
      "Processing file: ../../../datacamp/6_data_processing_in_shell/notes/datafile046.txt\n",
      "Processing file: ../../../datacamp/6_data_processing_in_shell/notes/datafile052.txt\n",
      "Processing file: ../../../datacamp/6_data_processing_in_shell/notes/.ipynb_checkpoints/6_data_processing_in_shell-checkpoint.ipynb\n",
      "Processing file: ../../../datacamp/2_streamlined_data_ingestion_with_pandas/.DS_Store\n",
      "Processing file: ../../../datacamp/2_streamlined_data_ingestion_with_pandas/datasets/vt_tax_data_2016.csv\n",
      "Processing file: ../../../datacamp/2_streamlined_data_ingestion_with_pandas/datasets/data.db\n",
      "Processing file: ../../../datacamp/2_streamlined_data_ingestion_with_pandas/datasets/dhs_data.json\n",
      "Processing file: ../../../datacamp/2_streamlined_data_ingestion_with_pandas/datasets/fcc-new-coder-survey.xlxs.xlsx\n",
      "Processing file: ../../../datacamp/2_streamlined_data_ingestion_with_pandas/slides/2_2_importing_data_from_excel_files.pdf\n",
      "Processing file: ../../../datacamp/2_streamlined_data_ingestion_with_pandas/slides/.DS_Store\n",
      "Processing file: ../../../datacamp/2_streamlined_data_ingestion_with_pandas/slides/2_4_importing_data_from_json_and_working_with_apis.pdf\n",
      "Processing file: ../../../datacamp/2_streamlined_data_ingestion_with_pandas/slides/2_3_importing_data_from_databases.pdf\n",
      "Processing file: ../../../datacamp/2_streamlined_data_ingestion_with_pandas/slides/2_1_importing_data_from_flat_files.pdf\n",
      "Processing file: ../../../datacamp/2_streamlined_data_ingestion_with_pandas/notes/2_1_introduction_to_flat_files.ipynb\n",
      "Processing file: ../../../datacamp/2_streamlined_data_ingestion_with_pandas/notes/.ipynb_checkpoints/2_1_introduction_to_flat_files-checkpoint.ipynb\n",
      "Processing file: ../../../datacamp/2_streamlined_data_ingestion_with_pandas/.ipynb_checkpoints/2_1_introduction_to_flat_files-checkpoint.ipynb\n",
      "Processing file: ../../../datacamp/7_command_line_automation_in_python/.DS_Store\n",
      "Processing file: ../../../datacamp/7_command_line_automation_in_python/notes/7_command_line_automation_in_python.ipynb\n",
      "Processing file: ../../../datacamp/7_command_line_automation_in_python/notes/hello_world.py\n",
      "Processing file: ../../../datacamp/7_command_line_automation_in_python/notes/test.txt\n",
      "Processing file: ../../../datacamp/7_command_line_automation_in_python/notes/.ipynb_checkpoints/7_command_line_automation_in_python-checkpoint.ipynb\n",
      "Processing file: ../../../datacamp/.ipynb_checkpoints/1_introduction_to_data_engineering-1_introduction_to_data_engineering-checkpoint.ipynb\n",
      "Processing file: ../../../datacamp/.git/config\n",
      "Processing file: ../../../datacamp/.git/HEAD\n",
      "Processing file: ../../../datacamp/.git/description\n",
      "Processing file: ../../../datacamp/.git/index\n",
      "Processing file: ../../../datacamp/.git/COMMIT_EDITMSG\n",
      "Processing file: ../../../datacamp/.git/objects/0d/76f307082ce7e06f60baec7dfa1ea67741f0cd\n",
      "Processing file: ../../../datacamp/.git/objects/95/245ed65be5da8f0fb5c6e2018ffc7f1dfc0769\n",
      "Processing file: ../../../datacamp/.git/objects/66/73176e117f53082c0bbda305444b37dc3cc8ab\n",
      "Processing file: ../../../datacamp/.git/objects/3e/118d338e378f7f5738d1dde84f9cf2ae7a1349\n",
      "Processing file: ../../../datacamp/.git/objects/50/e1f4afb6a579ebc1c2bf007d1e7f52d4fe2c9b\n",
      "Processing file: ../../../datacamp/.git/objects/50/08ddfcf53c02e82d7eee2e57c38e5672ef89f6\n",
      "Processing file: ../../../datacamp/.git/objects/03/8dbb2fc35c60e67729946542bae4fd19394f04\n",
      "Processing file: ../../../datacamp/.git/objects/9b/a53c6c5288a2dadcfeb55d2c9beeb0da555f85\n",
      "Processing file: ../../../datacamp/.git/objects/32/2d1aebf2f2a7316509f3a6bc33833aaa3eb1a4\n",
      "Processing file: ../../../datacamp/.git/objects/32/ac4f0cacf150248fc2eb1d6f2bb68b2eabc7ff\n",
      "Processing file: ../../../datacamp/.git/objects/35/12e880fc031452319e5fb7289f559176b11a25\n",
      "Processing file: ../../../datacamp/.git/objects/3d/3ed8af9df0bd0a017254b84cd810e149f056e7\n",
      "Processing file: ../../../datacamp/.git/objects/67/c58ac49b284c56c792e2a7c6065a50f7f318df\n",
      "Processing file: ../../../datacamp/.git/objects/93/87226bbb2482bc4d4a70818cf3f120382bd6d5\n",
      "Processing file: ../../../datacamp/.git/objects/94/5cd8db99ff77095945510e0333c714276c08ea\n",
      "Processing file: ../../../datacamp/.git/objects/5a/96f72f56df3f87453e3ea998b1d71a7be3d4ff\n",
      "Processing file: ../../../datacamp/.git/objects/33/40b30024c6aaa28b36f5bb191610c49ad4f2ad\n",
      "Processing file: ../../../datacamp/.git/objects/02/669d90b0a158e14e3add892b202032d09fa422\n",
      "Processing file: ../../../datacamp/.git/objects/a4/4ae39f48eb450c2bd68b9d2fb39e1076391b67\n",
      "Processing file: ../../../datacamp/.git/objects/a3/c2b74a8fe219ad5df38f56120fd615ae8d5d40\n",
      "Processing file: ../../../datacamp/.git/objects/d9/8b83173f680bd95b60c6bceb5a5f1d62bb606b\n",
      "Processing file: ../../../datacamp/.git/objects/ac/12550ae6ea1771de27434f769952d849077873\n",
      "Processing file: ../../../datacamp/.git/objects/ad/44d55c8baa22612d1971b133afb95b7c661253\n",
      "Processing file: ../../../datacamp/.git/objects/bb/5a0bfaff19bcc149c5291b1ab551fb4988e5e7\n",
      "Processing file: ../../../datacamp/.git/objects/d0/0156ff7b9398d0ffd8e527d50eea247dec80b3\n",
      "Processing file: ../../../datacamp/.git/objects/b3/049c3b751800970573f3d9d132d1b0e34319eb\n",
      "Processing file: ../../../datacamp/.git/objects/b3/c1688377d37dad432f7a3e7be5af4786aa8e34\n",
      "Processing file: ../../../datacamp/.git/objects/a2/cb9c6a19b6bad50870a07a7eb3c481008092eb\n",
      "Processing file: ../../../datacamp/.git/objects/a5/b7c84173301d1072239e82829867959a8657f2\n",
      "Processing file: ../../../datacamp/.git/objects/a5/5a5d696e58fc440d4543da42acdba9cca93c81\n",
      "Processing file: ../../../datacamp/.git/objects/d1/54fc5468bdc217c67c4cc4bc67ef06db2a8b72\n",
      "Processing file: ../../../datacamp/.git/objects/d6/8cdb3b2f56c4365a0ee4a90afac252a253d9ec\n",
      "Processing file: ../../../datacamp/.git/objects/bc/7277059b20005cedc4bf698fd09da9b9ba314b\n",
      "Processing file: ../../../datacamp/.git/objects/d8/61acbb62af3e9cd56ab1d4faf23a87ffef4899\n",
      "Processing file: ../../../datacamp/.git/objects/ab/79376ebc2975b94e14caa1f4e2e1a3c6d8d895\n",
      "Processing file: ../../../datacamp/.git/objects/ab/7b7d65f56055a85551b46923d0f58afc4d9838\n",
      "Processing file: ../../../datacamp/.git/objects/ab/9648819577c7a8ae5f92c7717934247551e60a\n",
      "Processing file: ../../../datacamp/.git/objects/eb/5767c93e30cf77435273c4d488afa028103dd8\n",
      "Processing file: ../../../datacamp/.git/objects/eb/dd392fd3fa0a5b2c47c526d770bc3f1bd9ba5e\n",
      "Processing file: ../../../datacamp/.git/objects/c7/1b79076cdf9bbd3ca42977b409ba20d1877895\n",
      "Processing file: ../../../datacamp/.git/objects/c0/cf14a38a9c3f84d90c9e7244c35d75fc14d702\n",
      "Processing file: ../../../datacamp/.git/objects/ee/6b058b6df59bac2b3b8eff4c95ec35976d9816\n",
      "Processing file: ../../../datacamp/.git/objects/c9/9fc32acf66eda933a79d837590e32d5f481e50\n",
      "Processing file: ../../../datacamp/.git/objects/c9/ad1d951c8d0bdbfb56ca2881a2175e1fc6cee9\n",
      "Processing file: ../../../datacamp/.git/objects/e3/87f08319c1e2e50bb2f53db3a2d10af387048a\n",
      "Processing file: ../../../datacamp/.git/objects/e3/4e00557714bd932d7ade5702ce1ae07ca8ad04\n",
      "Processing file: ../../../datacamp/.git/objects/e3/1bc365644b56d7d1ad8c107b5c121b3cd85e44\n",
      "Processing file: ../../../datacamp/.git/objects/ed/ee768a8648fd44da5621a6389093b7ec02edca\n",
      "Processing file: ../../../datacamp/.git/objects/ed/39272daa6bd4cb45a731a245fe4aa86f18626a\n",
      "Processing file: ../../../datacamp/.git/objects/ed/b64e489baac5b1fdbea489b42979e13c5bc424\n",
      "Processing file: ../../../datacamp/.git/objects/20/8e99a960cf2afbf3477afeef08a4acbf849b43\n",
      "Processing file: ../../../datacamp/.git/objects/20/ce5da59e7d94cacdca3da53ca8bbe8d5fd8703\n",
      "Processing file: ../../../datacamp/.git/objects/27/525fed8270e3c453f51f73a147999afee734fb\n",
      "Processing file: ../../../datacamp/.git/objects/7c/947dc21ce0b749028ebd910a4fafe053f33958\n",
      "Processing file: ../../../datacamp/.git/objects/16/216f0e739885d6af248f937734a683d978ccb7\n",
      "Processing file: ../../../datacamp/.git/objects/42/b47f587bbfc9a62780764a67445eedd5cc466e\n",
      "Processing file: ../../../datacamp/.git/objects/42/74b039716150b1e4993ee59b2337264d27c389\n",
      "Processing file: ../../../datacamp/.git/objects/42/2e5aa1c786198359354862ec29cf0e1bb73e1f\n",
      "Processing file: ../../../datacamp/.git/objects/45/2e9a1d07f05d493f67c1cb32f8d0b923a0aab8\n",
      "Processing file: ../../../datacamp/.git/objects/87/9daaf45887de236e3beaa84736012d0344e799\n",
      "Processing file: ../../../datacamp/.git/objects/87/7b10fb78f07724a483a948279c1770fa161f86\n",
      "Processing file: ../../../datacamp/.git/objects/28/bbc15bb240e84c881c100e0de6a29775f0e8f0\n",
      "Processing file: ../../../datacamp/.git/objects/17/4a5b207a714b095552b00b8d815cdbf5e743a5\n",
      "Processing file: ../../../datacamp/.git/objects/7b/722c779ee14abf0e7f26f3968f98d7727fa29f\n",
      "Processing file: ../../../datacamp/.git/objects/7e/48e8cd03a24a51e4d82fa8e5f7ca0372c03ced\n",
      "Processing file: ../../../datacamp/.git/objects/10/9cd9cda84c6ea6dee1519a42d796f3cc67f9ef\n",
      "Processing file: ../../../datacamp/.git/objects/19/c099b906bc4675289e228290b89cb8f4189bb0\n",
      "Processing file: ../../../datacamp/.git/objects/26/0ffeca94dd35c32f8db19e1e73b6d26adf80fd\n",
      "Processing file: ../../../datacamp/.git/objects/4d/bda19e26a92b382fef7d24e108d19de3df7cca\n",
      "Processing file: ../../../datacamp/.git/objects/81/c62fee98f4270e6a733a68449e6bc238676ce9\n",
      "Processing file: ../../../datacamp/.git/objects/43/6bafe2fbca4dc51f9c767c3c121cdca544b883\n",
      "Processing file: ../../../datacamp/.git/objects/07/e28fdb83104ddb8faa36f06b0f31404b961727\n",
      "Processing file: ../../../datacamp/.git/objects/07/1f67a577f22e254c6b5d961ea6e9cbf7334244\n",
      "Processing file: ../../../datacamp/.git/objects/07/38c4438de65a763b482406dbd4d6cb8a8f4791\n",
      "Processing file: ../../../datacamp/.git/objects/5c/1e79d876c1726f2664ce3c7fa920dd7ed042c6\n",
      "Processing file: ../../../datacamp/.git/objects/91/9e455ce84d496051e558ad551bf6d888b21504\n",
      "Processing file: ../../../datacamp/.git/objects/65/cd83f855c0a5f1b1a14363e1a9a3688775709d\n",
      "Processing file: ../../../datacamp/.git/objects/65/591a5653375086f85943e73356977f481128d4\n",
      "Processing file: ../../../datacamp/.git/objects/96/8ce89028f5cbe731295b4156c56c0f93de1259\n",
      "Processing file: ../../../datacamp/.git/objects/54/d95f42e94e7462ebf75210fca913fa8d9bf44d\n",
      "Processing file: ../../../datacamp/.git/objects/54/b608c403a387893a80c3744ae1d0e086bfbdd7\n",
      "Processing file: ../../../datacamp/.git/objects/98/0f1f57cac56272ecdea41216be6a60f03e2102\n",
      "Processing file: ../../../datacamp/.git/objects/5e/b7a963ec5e00b2331cc6e4bc73eb9fe78e2d18\n",
      "Processing file: ../../../datacamp/.git/objects/08/cc29d03dcf3d2423c18aa7f85742bac13a70b0\n",
      "Processing file: ../../../datacamp/.git/objects/08/59a574e1755722ce111c47179a65a3569e8ca5\n",
      "Processing file: ../../../datacamp/.git/objects/6d/87f4d6c45ea8fcfa6fe80f03db8b25a3eb6d48\n",
      "Processing file: ../../../datacamp/.git/objects/06/34bfa112423a422b81a5aa8ad04acba8799a17\n",
      "Processing file: ../../../datacamp/.git/objects/52/02eec4e7aa744d8d9364ed36eddf60c53a5db6\n",
      "Processing file: ../../../datacamp/.git/objects/97/37a681811bee28fb2e181e3391a9eed9c2af5a\n",
      "Processing file: ../../../datacamp/.git/objects/63/56d839cfe6cbb7d3d99aec90dc298934df1bb6\n",
      "Processing file: ../../../datacamp/.git/objects/0f/bfb6d2649580848c607bc22e7e67c0f345f25d\n",
      "Processing file: ../../../datacamp/.git/objects/0f/16d39c474e2e93ab9d2eb280598b2d03c1329a\n",
      "Processing file: ../../../datacamp/.git/objects/64/4929e3f591dcbcdf9fdbb008f1fd4264fa7f77\n",
      "Processing file: ../../../datacamp/.git/objects/bf/887dadc55d1c897cf3e04ac824c26d1860c976\n",
      "Processing file: ../../../datacamp/.git/objects/bf/7e3b29d221bd3f3b82a2d6165b1332a885aa78\n",
      "Processing file: ../../../datacamp/.git/objects/bf/534baf0fd7581e43485e689cef8f98dba2c7df\n",
      "Processing file: ../../../datacamp/.git/objects/d3/d77cd5ad80797e826051d7643715ca931f6195\n",
      "Processing file: ../../../datacamp/.git/objects/ba/5f01e252f6418fd1603d2479245cff3c5688e3\n",
      "Processing file: ../../../datacamp/.git/objects/a0/dbe0aeffcfa5380f6a608a0ea6895883fd58e5\n",
      "Processing file: ../../../datacamp/.git/objects/b8/72d2678edd612b4518e1fab0bba6e7665078c8\n",
      "Processing file: ../../../datacamp/.git/objects/af/4df67c28edeace42cc0623383f9511f5d2ee40\n",
      "Processing file: ../../../datacamp/.git/objects/b7/0c634674518afd00d738213defb7f756237c72\n",
      "Processing file: ../../../datacamp/.git/objects/b7/6fabd2c5f18436468b1e6e7f2ebe4be0a5b08e\n",
      "Processing file: ../../../datacamp/.git/objects/b7/b0d8610d3ab8c30aa3d53cfa84e412f90a3dae\n",
      "Processing file: ../../../datacamp/.git/objects/a6/1f4e3538d1cf0fbac2b056109e8258a0588d8e\n",
      "Processing file: ../../../datacamp/.git/objects/ef/581defbf7e5664b6baa6de8345e413c94977e2\n",
      "Processing file: ../../../datacamp/.git/objects/c3/f68f811b351da5bab33896c4c3870d2c751810\n",
      "Processing file: ../../../datacamp/.git/objects/c3/59e21efd23123f54e271047ef4b66fb2f6d702\n",
      "Processing file: ../../../datacamp/.git/objects/cd/a706b894fdba114bcee788af995e96b6a6aef0\n",
      "Processing file: ../../../datacamp/.git/objects/cd/0a154daf83907189a097e4af7fe528c3bd30ec\n",
      "Processing file: ../../../datacamp/.git/objects/cc/9699c9be49ce7217b2daf24e5a5eefa13b69fb\n",
      "Processing file: ../../../datacamp/.git/objects/e6/7b53aa32bb9a76ca69daea5e1e9de3d579b5e7\n",
      "Processing file: ../../../datacamp/.git/objects/e6/d0a341d6fbc0919b8f690daf9782b3cb358ddd\n",
      "Processing file: ../../../datacamp/.git/objects/e6/9de29bb2d1d6434b8b29ae775ad8c2e48c5391\n",
      "Processing file: ../../../datacamp/.git/objects/f0/4007cb9253458f4d00f0397bed5b2b3a8b7e93\n",
      "Processing file: ../../../datacamp/.git/objects/f0/0a49e1d6bc5044d8223d7151ed564327a7f466\n",
      "Processing file: ../../../datacamp/.git/objects/f7/2f3e75fdd18f1d1443ec841a33e4b79c0b0893\n",
      "Processing file: ../../../datacamp/.git/objects/fa/94a7eacc3a3f155a3d7f1ccec2976184b033ca\n",
      "Processing file: ../../../datacamp/.git/objects/ff/cbcfcdde103b67533414b87286bf6c19884027\n",
      "Processing file: ../../../datacamp/.git/objects/ff/d7279d38e8e3d7843e2ab8fef1e8dc7c480a36\n",
      "Processing file: ../../../datacamp/.git/objects/f8/6d5de429294c9e0c6978a2cfd8eb482c6c201c\n",
      "Processing file: ../../../datacamp/.git/objects/41/cb144300ed187cd5e3a6b4db23fefa7c13ffbe\n",
      "Processing file: ../../../datacamp/.git/objects/41/6b67f4b4c3923dff88a085875dee5914ca4e15\n",
      "Processing file: ../../../datacamp/.git/objects/83/7385bc40dde935b0aec8d25a285d7ef60ccd1a\n",
      "Processing file: ../../../datacamp/.git/objects/1b/a39144580e32e1cf62e902f01ea0b326454c84\n",
      "Processing file: ../../../datacamp/.git/objects/1b/dcc72e16c4bfa43a8945a73c10b3a75bf8f499\n",
      "Processing file: ../../../datacamp/.git/objects/84/3e552136d2e1b7e4ccd77ce80ecf2b345eca24\n",
      "Processing file: ../../../datacamp/.git/objects/4a/df85f118684a8829e3edd67a5d06e7cc3182db\n",
      "Processing file: ../../../datacamp/.git/objects/24/7069c201a55f181e6ce136bd40d009b00a472f\n",
      "Processing file: ../../../datacamp/.git/objects/23/2737931f6008efc79feeb58c5bcf7245a6b98d\n",
      "Processing file: ../../../datacamp/.git/objects/4f/139f0890ccde0c2addc6055f6885a192355fe8\n",
      "Processing file: ../../../datacamp/.git/objects/15/5fa48f0f30943203d55a5137f84a7020dfb4ff\n",
      "Processing file: ../../../datacamp/.git/objects/15/da99eb1cb6370e3a777df17b45e3043b6d2921\n",
      "Processing file: ../../../datacamp/.git/objects/8c/be21f899f124ba1563901050523aba37ba354b\n",
      "Processing file: ../../../datacamp/.git/objects/85/66c4303e05ed207b565a64eb8b4eeb4be1f534\n",
      "Processing file: ../../../datacamp/.git/objects/71/3bd8f0d53754d2d4d4aedb2df45d23b96c811f\n",
      "Processing file: ../../../datacamp/.git/objects/2e/e3c0eb8b0951b7dee7554637194d607b307806\n",
      "Processing file: ../../../datacamp/.git/objects/78/94f7ee5deb29cde30a7f1d4c3197e877aabb9f\n",
      "Processing file: ../../../datacamp/.git/objects/8b/62c22b24d21cc220bc2a8fec917f5d85d4ad23\n",
      "Processing file: ../../../datacamp/.git/objects/13/72d196b9ab9071a25594cf58f967582140e60a\n",
      "Processing file: ../../../datacamp/.git/objects/13/f4cdfc246ad1162d85e82e1ea4d507c8b872e6\n",
      "Processing file: ../../../datacamp/.git/objects/7f/453c0e0f825057584c845ea6357171def40930\n",
      "Processing file: ../../../datacamp/.git/objects/7f/ec51502cbc3200b3d0ffc6bbba1fe85e197f3d\n",
      "Processing file: ../../../datacamp/.git/objects/8e/890a31424d52a39ff2dc183f537581bd0f8940\n",
      "Processing file: ../../../datacamp/.git/objects/22/9a610d94dd2843ee9fcce2a675b0f7487a8aca\n",
      "Processing file: ../../../datacamp/.git/info/exclude\n",
      "Processing file: ../../../datacamp/.git/logs/HEAD\n",
      "Processing file: ../../../datacamp/.git/logs/refs/heads/master\n",
      "Processing file: ../../../datacamp/.git/logs/refs/remotes/origin/master\n",
      "Processing file: ../../../datacamp/.git/hooks/commit-msg.sample\n",
      "Processing file: ../../../datacamp/.git/hooks/pre-rebase.sample\n",
      "Processing file: ../../../datacamp/.git/hooks/pre-commit.sample\n",
      "Processing file: ../../../datacamp/.git/hooks/applypatch-msg.sample\n",
      "Processing file: ../../../datacamp/.git/hooks/fsmonitor-watchman.sample\n",
      "Processing file: ../../../datacamp/.git/hooks/pre-receive.sample\n",
      "Processing file: ../../../datacamp/.git/hooks/prepare-commit-msg.sample\n",
      "Processing file: ../../../datacamp/.git/hooks/post-update.sample\n",
      "Processing file: ../../../datacamp/.git/hooks/pre-applypatch.sample\n",
      "Processing file: ../../../datacamp/.git/hooks/pre-push.sample\n",
      "Processing file: ../../../datacamp/.git/hooks/update.sample\n",
      "Processing file: ../../../datacamp/.git/refs/heads/master\n",
      "Processing file: ../../../datacamp/.git/refs/remotes/origin/master\n",
      "['../../../datacamp/5_introduction_to_shell/datasets/cities.csv', '../../../datacamp/5_introduction_to_shell/datasets/sales.csv', '../../../datacamp/5_introduction_to_shell/datasets/sales_2.csv', '../../../datacamp/5_introduction_to_shell/datasets/seasonal/autumn.csv', '../../../datacamp/5_introduction_to_shell/datasets/seasonal/spring.csv', '../../../datacamp/5_introduction_to_shell/datasets/seasonal/winter.csv', '../../../datacamp/5_introduction_to_shell/datasets/seasonal/summer.csv', '../../../datacamp/12_introduction_to_pyspark/datasets/airports.csv', '../../../datacamp/12_introduction_to_pyspark/datasets/planes.csv', '../../../datacamp/12_introduction_to_pyspark/datasets/flights.csv', '../../../datacamp/6_data_processing_in_shell/datasets/Spotify_Popularity_1.csv', '../../../datacamp/6_data_processing_in_shell/datasets/Spotify_Popularity.csv', '../../../datacamp/6_data_processing_in_shell/datasets/Spotify_MusicAttributes.csv', '../../../datacamp/6_data_processing_in_shell/notes/SpotifyCopy.csv', '../../../datacamp/2_streamlined_data_ingestion_with_pandas/datasets/vt_tax_data_2016.csv']\n"
     ]
    }
   ],
   "source": [
    "matches = []\n",
    "# Walk the filesystem starting at the test_dir\n",
    "for root, _, files in os.walk('../../../datacamp/'):\n",
    "    for name in files:\n",
    "        # Create the full path to the file by using os.path.join()\n",
    "        fullpath = os.path.join(root, name)\n",
    "        print(f\"Processing file: {fullpath}\")\n",
    "        # Split off the extension and discard the rest of the path\n",
    "        _, ext = os.path.splitext(fullpath)\n",
    "        # Match the extension pattern .csv\n",
    "        if ext == \".csv\":\n",
    "            matches.append(fullpath)\n",
    "            \n",
    "# Print the matches you find          \n",
    "print(matches)"
   ]
  },
  {
   "cell_type": "markdown",
   "metadata": {},
   "source": [
    "## Find files matching a pattern\n",
    "\n",
    "- `Path.glob()`s main capabilities:\n",
    "    - finds patterns in directories\n",
    "    - yields matches\n",
    "    - can recursively search\n",
    "    \n",
    "It is intuitive to write patterns in `glob`."
   ]
  },
  {
   "cell_type": "code",
   "execution_count": 66,
   "metadata": {},
   "outputs": [
    {
     "data": {
      "text/plain": [
       "<generator object Path.glob at 0x11cdacf50>"
      ]
     },
     "execution_count": 66,
     "metadata": {},
     "output_type": "execute_result"
    }
   ],
   "source": [
    "from pathlib import Path\n",
    "\n",
    "# it does not search recursively inside\n",
    "path = Path(\"../../5_introduction_to_shell/datasets/\")\n",
    "result = path.glob(\"*.csv\")\n",
    "result"
   ]
  },
  {
   "cell_type": "code",
   "execution_count": 68,
   "metadata": {},
   "outputs": [
    {
     "data": {
      "text/plain": [
       "[PosixPath('../../5_introduction_to_shell/datasets/cities.csv'),\n",
       " PosixPath('../../5_introduction_to_shell/datasets/sales.csv'),\n",
       " PosixPath('../../5_introduction_to_shell/datasets/sales_2.csv')]"
      ]
     },
     "execution_count": 68,
     "metadata": {},
     "output_type": "execute_result"
    }
   ],
   "source": [
    "# note it returns a generator which is a key performance optimisation\n",
    "[*result]"
   ]
  },
  {
   "cell_type": "markdown",
   "metadata": {},
   "source": [
    "### Recursive glob patterns"
   ]
  },
  {
   "cell_type": "code",
   "execution_count": 71,
   "metadata": {},
   "outputs": [
    {
     "data": {
      "text/plain": [
       "[PosixPath('../../../datacamp/5_introduction_to_shell/datasets/cities.csv'),\n",
       " PosixPath('../../../datacamp/5_introduction_to_shell/datasets/sales.csv'),\n",
       " PosixPath('../../../datacamp/5_introduction_to_shell/datasets/sales_2.csv'),\n",
       " PosixPath('../../../datacamp/5_introduction_to_shell/datasets/seasonal/autumn.csv'),\n",
       " PosixPath('../../../datacamp/5_introduction_to_shell/datasets/seasonal/spring.csv'),\n",
       " PosixPath('../../../datacamp/5_introduction_to_shell/datasets/seasonal/winter.csv'),\n",
       " PosixPath('../../../datacamp/5_introduction_to_shell/datasets/seasonal/summer.csv'),\n",
       " PosixPath('../../../datacamp/12_introduction_to_pyspark/datasets/airports.csv'),\n",
       " PosixPath('../../../datacamp/12_introduction_to_pyspark/datasets/planes.csv'),\n",
       " PosixPath('../../../datacamp/12_introduction_to_pyspark/datasets/flights.csv'),\n",
       " PosixPath('../../../datacamp/6_data_processing_in_shell/datasets/Spotify_Popularity_1.csv'),\n",
       " PosixPath('../../../datacamp/6_data_processing_in_shell/datasets/Spotify_Popularity.csv'),\n",
       " PosixPath('../../../datacamp/6_data_processing_in_shell/datasets/Spotify_MusicAttributes.csv'),\n",
       " PosixPath('../../../datacamp/6_data_processing_in_shell/notes/SpotifyCopy.csv'),\n",
       " PosixPath('../../../datacamp/2_streamlined_data_ingestion_with_pandas/datasets/vt_tax_data_2016.csv')]"
      ]
     },
     "execution_count": 71,
     "metadata": {},
     "output_type": "execute_result"
    }
   ],
   "source": [
    "from pathlib import Path\n",
    "\n",
    "path = Path(\"../../../datacamp/\")\n",
    "# by using ** we are recursively searching\n",
    "# one line of code traverses the whole file system\n",
    "[*path.glob(\"**/*.csv\")]"
   ]
  },
  {
   "cell_type": "markdown",
   "metadata": {},
   "source": [
    "### Using `os.walk` to find patterns\n",
    "\n",
    "- `os.walk` pattern matching:\n",
    "    - more explicit\n",
    "    - can explicitly look at dirs or files\n",
    "    - doesn't return `Path` object\n",
    "    \n",
    "It is a more low-level way of traversing."
   ]
  },
  {
   "cell_type": "code",
   "execution_count": 76,
   "metadata": {},
   "outputs": [
    {
     "data": {
      "text/plain": [
       "('/tmp',\n",
       " ['com.epsecurity.dmg',\n",
       "  'com.google.Keystone',\n",
       "  'powerlog',\n",
       "  'KSDownloadAction.sPCkxeJKy7',\n",
       "  'tmp000013b4',\n",
       "  'com.apple.launchd.AUUwN25ZrI',\n",
       "  'com.apple.launchd.7zZ6Nw6FWy',\n",
       "  'com.apple.launchd.wNS2e1pTx0',\n",
       "  'com.apple.launchd.l2VcmXU8ED'],\n",
       " ['05CBD2EF-2465-460F-8461-2CAA90FE3300',\n",
       "  '8D0C7BB0-4EE4-448D-B750-52C501E76DB0',\n",
       "  '58380972-590B-4C06-9AB6-1A0EFDB17D0A',\n",
       "  '7454626B-9AA6-44A2-BB44-6800A2A45DF1',\n",
       "  'A8F1F488-5569-4783-B4A7-739172F57301',\n",
       "  'com.adobe.AdobeIPCBroker.ctrl-miguel.carvalho',\n",
       "  'AlTest1.out',\n",
       "  'dlm_message_server_out#1',\n",
       "  'E7E328B0-6CCC-4F6C-9A23-6752759A3DEE',\n",
       "  'com.googlecode.munki.installatlogout',\n",
       "  '96DA018E-92E4-4A97-B9E4-19A58C52C3B2',\n",
       "  'CA80DBCD-063E-4107-9ECA-D540B2F132E6',\n",
       "  'BC88B4FF-4F5C-4592-BE12-E9DFE3A66398',\n",
       "  'DEA990DB-9D84-4A8E-99C3-857AC053C8A4',\n",
       "  'freshservice_agent_status',\n",
       "  '628D1BE6-1958-4D1F-9662-0FBF07FD2604',\n",
       "  '92E1D3A0-0BF3-4559-A226-236598844EC9',\n",
       "  'self_protect_comm',\n",
       "  '08148B41-AAB7-4056-BA3E-67656B0E7F8A',\n",
       "  '2EB87A3C-CA6E-4DD6-A8A1-0C671E4EF58B',\n",
       "  'D9017B3F-7A50-482A-ABF6-D9CB0E901225',\n",
       "  '3CBF7729-40FD-435E-8148-1631C08CBA71',\n",
       "  'D3A6F42C-2EE5-4E9E-80E1-87AAF2738F0D',\n",
       "  'AlTest1.err',\n",
       "  'FC5C308D-F517-4D72-8FDD-37BF9B9AE9AC',\n",
       "  '895DDCAB-65F2-406D-BA9F-75081F940F8E',\n",
       "  '36A2F47B-0703-492D-B19F-E36B5833EAC4',\n",
       "  'drivefs_ipc.502_shell',\n",
       "  'EFDE8772-0BD3-46EC-BAEA-7AE0C8EE81F3',\n",
       "  '96DAB70E-C157-484A-9DC8-0103682E4B7C',\n",
       "  '03CD704B-4C56-439B-B709-822980AA6B4B',\n",
       "  'DAC8B5E5-84B8-4B2E-BA03-A1954AB9ADFB',\n",
       "  'F956EDE8-CE79-4404-B14B-E58FAFA87D51',\n",
       "  'F839DC1E-EE85-4200-BF37-916B8585F140',\n",
       "  'FD4669DF-B9B6-4B9C-91BA-79C890830271',\n",
       "  'CB39FA5F-6E8D-4D5F-A805-8B54376131AA',\n",
       "  '4CD4B4B0-FCC2-4073-820C-9F63848F409A',\n",
       "  'E616EBD1-25A2-4CE1-849B-A472DFE80FFF',\n",
       "  '9E5095F9-1836-4E22-9970-8F388BFAEA8E',\n",
       "  '4A4B06C8-9C9A-47FC-9136-E31A5B5317D1',\n",
       "  '207832B2-9DC6-4C68-9F4D-D30E2650923F',\n",
       "  '3883922C-0354-4C7F-BF87-D49B15B98AF2',\n",
       "  '24E88F30-318F-4A70-9F78-6B3CBB626F91',\n",
       "  'freshservice.agent.daemon.stdout',\n",
       "  'adobegc.log',\n",
       "  '766919D7-71EB-46E3-BF56-8ADF82B7BF8D',\n",
       "  'DC0188C4-010D-4103-9381-A5AF38B4AC58',\n",
       "  'A045CF08-AB8B-42AC-B1D9-B150EB878866',\n",
       "  '2AAFD6EE-87AA-429C-9133-74B26F06317D',\n",
       "  'com.adobe.AdobeIPCBroker.ctrl-jellyadmin',\n",
       "  'C83B8534-87E8-45C8-A1F8-1CEFC2B29BA4',\n",
       "  '2401EF80-411B-4E87-A389-7E3E8E59599F',\n",
       "  '8B3AB60E-69D0-4E7B-BBE4-B57D6C85D6EF',\n",
       "  'B251C0D1-BFE6-4363-ACB8-B42A36F75184',\n",
       "  'drivefs_ipc.502',\n",
       "  '6A7249E8-6F31-4468-B84A-64C181EF54B3',\n",
       "  '92690D3E-8A9D-49AD-93C2-952AA4FBAB93',\n",
       "  'BF31480F-FCBC-4292-944E-B2E8B2C55EF7',\n",
       "  '3A22EE5C-F52E-4123-8D1E-CDCC4BD46166',\n",
       "  '086B0959-783B-4831-B846-1D28812CEC5D',\n",
       "  'dlm_message_server_in#1',\n",
       "  '702EBC1A-8669-448A-978C-0E191F3DBBEA',\n",
       "  'D3408E65-6CB9-4FC5-B041-83C373F66848',\n",
       "  '7A11D436-BF44-4764-8AC5-58E401DA4734',\n",
       "  '852736B8-E00A-4CF4-9ADE-84F3D47A0C28',\n",
       "  'F4EE0029-D184-416A-B600-4E095AB923C4',\n",
       "  '19D9DBAF-A023-4415-874B-FE1E0330F409',\n",
       "  '81E3E6F7-6C6B-41E2-A3F8-D06F719405A4',\n",
       "  '4404C1FD-7B49-46A9-AC3C-7451F39AEB74',\n",
       "  'freshservice.agent.daemon.stderr',\n",
       "  'C1DDD8C7-218C-4B70-AEEA-07C3B87D7D12'])"
      ]
     },
     "execution_count": 76,
     "metadata": {},
     "output_type": "execute_result"
    }
   ],
   "source": [
    "import os\n",
    "\n",
    "result = os.walk(\"/tmp\")\n",
    "# consume the generator\n",
    "next(result)\n",
    "# find the pattern here"
   ]
  },
  {
   "cell_type": "markdown",
   "metadata": {},
   "source": [
    "### Using `fnmatch`\n",
    "\n",
    "`fnmatch.fnmatch` tests if a pattern is true or false which can be used to build simple UNIX wildcard matches.\n",
    "\n",
    "- Supports UNIX shell wildcard matches\n",
    "- Can be converted to a regular expression"
   ]
  },
  {
   "cell_type": "code",
   "execution_count": 80,
   "metadata": {},
   "outputs": [],
   "source": [
    "import fnmatch\n",
    "\n",
    "if fnmatch.fnmatch(\"file\", \"*.ipynb\"):\n",
    "    log.info(f\"Found match {file}\")"
   ]
  },
  {
   "cell_type": "markdown",
   "metadata": {},
   "source": [
    "`fnmatch.translate` converts a pattern/UNIX wildcard to a regex expression."
   ]
  },
  {
   "cell_type": "code",
   "execution_count": 82,
   "metadata": {},
   "outputs": [
    {
     "name": "stdout",
     "output_type": "stream",
     "text": [
      "re.compile('(?s:.*\\\\.csv)\\\\Z')\n"
     ]
    }
   ],
   "source": [
    "import re, fnmatch\n",
    "\n",
    "regex = fnmatch.translate(\"*.csv\")\n",
    "pattern = re.compile(regex)\n",
    "print(pattern)"
   ]
  },
  {
   "cell_type": "code",
   "execution_count": 83,
   "metadata": {},
   "outputs": [
    {
     "data": {
      "text/plain": [
       "<re.Match object; span=(0, 11), match='titanic.csv'>"
      ]
     },
     "execution_count": 83,
     "metadata": {},
     "output_type": "execute_result"
    }
   ],
   "source": [
    "pattern.match(\"titanic.csv\")"
   ]
  },
  {
   "cell_type": "markdown",
   "metadata": {},
   "source": [
    "## High-level file and directory operations\n",
    "\n",
    "There are two main modules to assist with high-level file and directory operations:\n",
    "\n",
    "- `shutil`: high-level operations\n",
    "    - copy tree\n",
    "    - delete tree\n",
    "    - archive tree\n",
    "- `tempfile`: generates temporary files and directories"
   ]
  },
  {
   "cell_type": "markdown",
   "metadata": {},
   "source": [
    "### `shutil.copytree`\n",
    "\n",
    "Can recursively copy a tree of files and folders"
   ]
  },
  {
   "cell_type": "code",
   "execution_count": 84,
   "metadata": {},
   "outputs": [],
   "source": [
    "from shutil import copytree, ignore_patterns"
   ]
  },
  {
   "cell_type": "code",
   "execution_count": 88,
   "metadata": {},
   "outputs": [],
   "source": [
    "# create dummy tree to copy\n",
    "!mkdir sometree && touch sometree/somefile.txt && touch sometree/somefile.csv"
   ]
  },
  {
   "cell_type": "code",
   "execution_count": 91,
   "metadata": {},
   "outputs": [
    {
     "data": {
      "text/plain": [
       "'newtree'"
      ]
     },
     "execution_count": 91,
     "metadata": {},
     "output_type": "execute_result"
    }
   ],
   "source": [
    "copytree(\"sometree\", \"newtree\", ignore=ignore_patterns(\"*.csv\"))"
   ]
  },
  {
   "cell_type": "code",
   "execution_count": 92,
   "metadata": {},
   "outputs": [
    {
     "name": "stdout",
     "output_type": "stream",
     "text": [
      "7_command_line_automation_in_python.ipynb \u001b[34msometree\u001b[m\u001b[m\r\n",
      "hello_world.py                            test.txt\r\n",
      "\u001b[34mnewtree\u001b[m\u001b[m\r\n"
     ]
    }
   ],
   "source": [
    "!ls"
   ]
  },
  {
   "cell_type": "code",
   "execution_count": 93,
   "metadata": {},
   "outputs": [
    {
     "name": "stdout",
     "output_type": "stream",
     "text": [
      "somefile.txt\r\n"
     ]
    }
   ],
   "source": [
    "!ls newtree/"
   ]
  },
  {
   "cell_type": "markdown",
   "metadata": {},
   "source": [
    "### `shutil.rmtree`\n",
    "\n",
    "- can recursively delete tree of files and folders"
   ]
  },
  {
   "cell_type": "code",
   "execution_count": 94,
   "metadata": {},
   "outputs": [],
   "source": [
    "from shutil import rmtree\n",
    "\n",
    "# rmtree(source, destination)"
   ]
  },
  {
   "cell_type": "markdown",
   "metadata": {},
   "source": [
    "### `shutil.make_archive`"
   ]
  },
  {
   "cell_type": "code",
   "execution_count": 95,
   "metadata": {},
   "outputs": [],
   "source": [
    "from shutil import make_archive"
   ]
  },
  {
   "cell_type": "code",
   "execution_count": 96,
   "metadata": {},
   "outputs": [],
   "source": [
    "# make_archive(\"somearchive\", \"gztar\", \"inside_tmp_dir\")"
   ]
  },
  {
   "cell_type": "markdown",
   "metadata": {},
   "source": [
    "## Using pathlib\n",
    "\n",
    "Ability to use object-oriented file system paths"
   ]
  },
  {
   "cell_type": "code",
   "execution_count": 100,
   "metadata": {},
   "outputs": [
    {
     "data": {
      "text/plain": [
       "[PosixPath('/tmp/05CBD2EF-2465-460F-8461-2CAA90FE3300'),\n",
       " PosixPath('/tmp/8D0C7BB0-4EE4-448D-B750-52C501E76DB0'),\n",
       " PosixPath('/tmp/58380972-590B-4C06-9AB6-1A0EFDB17D0A'),\n",
       " PosixPath('/tmp/7454626B-9AA6-44A2-BB44-6800A2A45DF1')]"
      ]
     },
     "execution_count": 100,
     "metadata": {},
     "output_type": "execute_result"
    }
   ],
   "source": [
    "from pathlib import Path\n",
    "\n",
    "path = Path(\"/tmp\")\n",
    "files = [*path.glob(\"*\")][0:4]\n",
    "\n",
    "# notice they are PosixPath objects\n",
    "files"
   ]
  },
  {
   "cell_type": "code",
   "execution_count": 104,
   "metadata": {},
   "outputs": [],
   "source": [
    "first_file = files[0]"
   ]
  },
  {
   "cell_type": "code",
   "execution_count": 105,
   "metadata": {},
   "outputs": [
    {
     "data": {
      "text/plain": [
       "PosixPath('/Users/miguel.carvalho/dev/datacamp/7_command_line_automation_in_python/notes')"
      ]
     },
     "execution_count": 105,
     "metadata": {},
     "output_type": "execute_result"
    }
   ],
   "source": [
    "# check the current working directory\n",
    "first_file.cwd()"
   ]
  },
  {
   "cell_type": "code",
   "execution_count": 106,
   "metadata": {},
   "outputs": [
    {
     "data": {
      "text/plain": [
       "True"
      ]
     },
     "execution_count": 106,
     "metadata": {},
     "output_type": "execute_result"
    }
   ],
   "source": [
    "# check path exists\n",
    "first_file.exists()"
   ]
  },
  {
   "cell_type": "code",
   "execution_count": 108,
   "metadata": {},
   "outputs": [
    {
     "data": {
      "text/plain": [
       "'/tmp/05CBD2EF-2465-460F-8461-2CAA90FE3300'"
      ]
     },
     "execution_count": 108,
     "metadata": {},
     "output_type": "execute_result"
    }
   ],
   "source": [
    "# return as a full path\n",
    "first_file.as_posix()"
   ]
  },
  {
   "cell_type": "code",
   "execution_count": 110,
   "metadata": {},
   "outputs": [
    {
     "name": "stdout",
     "output_type": "stream",
     "text": [
      "['}\\n']\n"
     ]
    }
   ],
   "source": [
    "# open a file directly from the object\n",
    "some_file = Path(\"7_command_line_automation_in_python.ipynb\")\n",
    "\n",
    "with some_file.open() as file_to_read:\n",
    "    print(file_to_read.readlines()[-1:])"
   ]
  },
  {
   "cell_type": "code",
   "execution_count": 111,
   "metadata": {},
   "outputs": [],
   "source": [
    "# creating a directory with pathlib\n",
    "tmp = Path(\"/Users/miguel.carvalho/dev/datacamp/7_command_line_automation_in_python/test\")\n",
    "tmp.mkdir()"
   ]
  },
  {
   "cell_type": "code",
   "execution_count": 113,
   "metadata": {},
   "outputs": [
    {
     "name": "stdout",
     "output_type": "stream",
     "text": [
      "\u001b[34mdatasets\u001b[m\u001b[m \u001b[34mnotes\u001b[m\u001b[m    \u001b[34mslides\u001b[m\u001b[m   \u001b[34mtest\u001b[m\u001b[m\r\n"
     ]
    }
   ],
   "source": [
    "!ls ../"
   ]
  },
  {
   "cell_type": "code",
   "execution_count": 117,
   "metadata": {},
   "outputs": [
    {
     "data": {
      "text/plain": [
       "3"
      ]
     },
     "execution_count": 117,
     "metadata": {},
     "output_type": "execute_result"
    }
   ],
   "source": [
    "# write text to files\n",
    "# note how the file didn't even exist at this point\n",
    "write_path = Path(\"../some_random_file.txt\")\n",
    "write_path.write_text(\"Wow\")"
   ]
  },
  {
   "cell_type": "code",
   "execution_count": 118,
   "metadata": {},
   "outputs": [
    {
     "name": "stdout",
     "output_type": "stream",
     "text": [
      "Wow\n"
     ]
    }
   ],
   "source": [
    "print(write_path.read_text())"
   ]
  },
  {
   "cell_type": "code",
   "execution_count": 119,
   "metadata": {},
   "outputs": [],
   "source": [
    "# renaming files\n",
    "modify_file = Path(\"../some_random_file.txt\")\n",
    "modify_file.rename(\"../some_random_file_2.txt\")"
   ]
  },
  {
   "cell_type": "code",
   "execution_count": 120,
   "metadata": {},
   "outputs": [
    {
     "name": "stdout",
     "output_type": "stream",
     "text": [
      "\u001b[34mdatasets\u001b[m\u001b[m               \u001b[34mnotes\u001b[m\u001b[m                  \u001b[34mslides\u001b[m\u001b[m                 some_random_file_2.txt \u001b[34mtest\u001b[m\u001b[m\r\n"
     ]
    }
   ],
   "source": [
    "!ls ../"
   ]
  },
  {
   "cell_type": "markdown",
   "metadata": {},
   "source": [
    "# Command line functions"
   ]
  },
  {
   "cell_type": "markdown",
   "metadata": {},
   "source": [
    "Python functions can be very helpful when automating."
   ]
  },
  {
   "cell_type": "markdown",
   "metadata": {},
   "source": [
    "## Decorators\n",
    "\n",
    "Decorators are functions which wrap other functions and make them more powerful.\n",
    "\n",
    "Decorators are incredibly powerful syntactic sugar for automation "
   ]
  },
  {
   "cell_type": "code",
   "execution_count": 126,
   "metadata": {},
   "outputs": [],
   "source": [
    "from functools import wraps\n",
    "import time\n",
    "\n",
    "def instrument(f):\n",
    "    # this decorator print out the time the function it wraps takes to  \n",
    "    # execute as well as the arguments it took and the wrapped function's\n",
    "    # name\n",
    "    @wraps(f)\n",
    "    def wrap(*args, **kw):\n",
    "        ts = time.time()\n",
    "        results = f(*args, **kw)\n",
    "        te = time.time()\n",
    "        print(f\"function: {f.__name__}, args: [{args}, {kw}] took: {te-ts} sec\")\n",
    "        return result\n",
    "    return wrap"
   ]
  },
  {
   "cell_type": "markdown",
   "metadata": {},
   "source": [
    "## How does a decorator work?\n",
    "\n",
    "An important part of writing a decorator is to use the `wraps` function from the `functools` module to preserve the docstring and name of the function being wrapped."
   ]
  },
  {
   "cell_type": "code",
   "execution_count": 130,
   "metadata": {},
   "outputs": [],
   "source": [
    "from functools import wraps\n",
    "\n",
    "def do_nothing_decorator(f):\n",
    "    @wraps(f)\n",
    "    def wrapper(*args, **kwds):\n",
    "        print(\"INSIDE DECORATOR: This is called before the function\")\n",
    "        return f(*args, **kwds)\n",
    "    return wrapper\n",
    "\n",
    "@do_nothing_decorator\n",
    "def hello_world():\n",
    "    print(\"\"\"This is a hello world function\"\"\")"
   ]
  },
  {
   "cell_type": "code",
   "execution_count": 131,
   "metadata": {},
   "outputs": [
    {
     "name": "stdout",
     "output_type": "stream",
     "text": [
      "INSIDE DECORATOR: This is called before the function\n",
      "This is a hello world function\n"
     ]
    }
   ],
   "source": [
    "hello_world()"
   ]
  },
  {
   "cell_type": "code",
   "execution_count": 132,
   "metadata": {},
   "outputs": [
    {
     "name": "stdout",
     "output_type": "stream",
     "text": [
      "Function name: hello_world\n"
     ]
    }
   ],
   "source": [
    "# note how the name of the function is preserved\n",
    "print(f\"Function name: {hello_world.__name__}\")"
   ]
  },
  {
   "cell_type": "code",
   "execution_count": 133,
   "metadata": {},
   "outputs": [],
   "source": [
    "@instrument\n",
    "def lazy_work(x, y, sleep=2):\n",
    "    \"\"\"Sleeps then works\"\"\"\n",
    "    time.sleep(sleep)\n",
    "    return x + y"
   ]
  },
  {
   "cell_type": "code",
   "execution_count": 136,
   "metadata": {},
   "outputs": [
    {
     "name": "stdout",
     "output_type": "stream",
     "text": [
      "function: lazy_work, args: [(1, 3), {'sleep': 4}] took: 4.004442930221558 sec\n"
     ]
    },
    {
     "data": {
      "text/plain": [
       "<generator object walk at 0x11e1c53d0>"
      ]
     },
     "execution_count": 136,
     "metadata": {},
     "output_type": "execute_result"
    }
   ],
   "source": [
    "lazy_work(1, 3, sleep=4)"
   ]
  },
  {
   "cell_type": "markdown",
   "metadata": {},
   "source": [
    "Many automation tasks involve functions and decorators:\n",
    "- `flask` web framework\n",
    "- `click` command line tool framework\n",
    "- `numba` open source JIT compiler\n",
    "- custom profiling, tracing and timing"
   ]
  },
  {
   "cell_type": "markdown",
   "metadata": {},
   "source": [
    "> Remember a decorator must return the the function is wraps. This is the last line of a decorator."
   ]
  },
  {
   "cell_type": "markdown",
   "metadata": {},
   "source": [
    "## Understand script input\n",
    "\n",
    "`sys.argv` captures input to a script as a list"
   ]
  },
  {
   "cell_type": "code",
   "execution_count": 140,
   "metadata": {},
   "outputs": [
    {
     "data": {
      "text/plain": [
       "['/Users/miguel.carvalho/.pyenv/versions/3.7.5/envs/myenv/lib/python3.7/site-packages/ipykernel_launcher.py',\n",
       " '-f',\n",
       " '/Users/miguel.carvalho/Library/Jupyter/runtime/kernel-eb9bde70-85e5-46c4-8ba5-1e2ccfb38e86.json']"
      ]
     },
     "execution_count": 140,
     "metadata": {},
     "output_type": "execute_result"
    }
   ],
   "source": [
    "import sys\n",
    "\n",
    "args = sys.argv\n",
    "args"
   ]
  },
  {
   "cell_type": "code",
   "execution_count": 139,
   "metadata": {},
   "outputs": [
    {
     "data": {
      "text/plain": [
       "'/Users/miguel.carvalho/.pyenv/versions/3.7.5/envs/myenv/lib/python3.7/site-packages/ipykernel_launcher.py'"
      ]
     },
     "execution_count": 139,
     "metadata": {},
     "output_type": "execute_result"
    }
   ],
   "source": [
    "# grabbing the first argument\n",
    "args[0]"
   ]
  },
  {
   "cell_type": "code",
   "execution_count": 148,
   "metadata": {},
   "outputs": [
    {
     "name": "stdout",
     "output_type": "stream",
     "text": [
      "\r\n",
      "import sys\r\n",
      "\r\n",
      "def hello(user_input):\r\n",
      "\tprint(f\"From a user: {user_input}\")\r\n",
      "\r\n",
      "\r\n",
      "if __name__ == \"__main__\":\r\n",
      "\targ1 = sys.argv[1]\r\n",
      "\thello(arg1)"
     ]
    }
   ],
   "source": [
    "!cat script.py"
   ]
  },
  {
   "cell_type": "code",
   "execution_count": 147,
   "metadata": {},
   "outputs": [
    {
     "name": "stdout",
     "output_type": "stream",
     "text": [
      "From a user: miguel\r\n"
     ]
    }
   ],
   "source": [
    "!python script.py miguel"
   ]
  },
  {
   "cell_type": "code",
   "execution_count": 16,
   "metadata": {},
   "outputs": [
    {
     "name": "stdout",
     "output_type": "stream",
     "text": [
      "b'desrever eb lliw i\\n'\n"
     ]
    }
   ],
   "source": [
    "import subprocess\n",
    "\n",
    "# runs python script that reverse strings in a file line by line\n",
    "run_script = subprocess.Popen(\n",
    "    # assuming we had the reverse.py script\n",
    "    [\"python\", \"reverseit.py\", \"i will be reversed\"], stdout=subprocess.PIPE)\n",
    "\n",
    "# print out the script output\n",
    "for line in run_script.stdout.readlines():\n",
    "    print(line)"
   ]
  },
  {
   "cell_type": "markdown",
   "metadata": {},
   "source": [
    "## Introduction to Click\n",
    "\n",
    "`click` automate the difficult part of writing command-line tools.\n",
    "\n",
    "- Python package for creating beautiful command line interfaces\n",
    "- Three main features:\n",
    "    - arbitrary nesting of commands\n",
    "    - automatic help page generation (saves a lot of time!)\n",
    "    - lazy loading of subcommands at runtime"
   ]
  },
  {
   "cell_type": "markdown",
   "metadata": {},
   "source": [
    "### Basic click structure"
   ]
  },
  {
   "cell_type": "code",
   "execution_count": 19,
   "metadata": {},
   "outputs": [
    {
     "name": "stdout",
     "output_type": "stream",
     "text": [
      "Enter a phrase: ^C\n",
      "Aborted!\n"
     ]
    }
   ],
   "source": [
    "# run this from the command line\n",
    "!python click_example.py"
   ]
  },
  {
   "cell_type": "code",
   "execution_count": 22,
   "metadata": {},
   "outputs": [
    {
     "name": "stdout",
     "output_type": "stream",
     "text": [
      "My choice is: Cleveland\n"
     ]
    }
   ],
   "source": [
    "import click\n",
    "import random\n",
    "\n",
    "# Create random values to choose from\n",
    "values = [\"Nashville\", \"Austin\", \"Denver\", \"Cleveland\"]\n",
    "\n",
    "# Select a random choice\n",
    "result = random.choice(values)\n",
    "\n",
    "# Print the random choice using click echo\n",
    "# We can add color formatting as well! \n",
    "click.echo(f\"My choice is: {result}\")"
   ]
  },
  {
   "cell_type": "markdown",
   "metadata": {},
   "source": [
    "## Mapping functions to subcommands\n",
    "\n",
    "In the example, an initial `click` application is created with the `cli` function. This is designed by the `click.group()` decorator."
   ]
  },
  {
   "cell_type": "code",
   "execution_count": 26,
   "metadata": {},
   "outputs": [],
   "source": [
    "# import click\n",
    "\n",
    "# @click.group()\n",
    "# def cli():\n",
    "#     pass\n",
    "\n",
    "# @cli.command()\n",
    "# def one():\n",
    "#     click.echo(\"One-1\")\n",
    "\n",
    "# @cli.command()\n",
    "# def two():\n",
    "#     click.echo(\"Two-2\")\n",
    "    \n",
    "# if __name__ == \"__main__\":\n",
    "#     cli()"
   ]
  },
  {
   "cell_type": "markdown",
   "metadata": {},
   "source": [
    "### `click` utilities\n",
    "\n",
    "- `click` utilities can:\n",
    "    - generate colored output\n",
    "    - generate paginated output\n",
    "    - clear the screen\n",
    "    - wait for key press\n",
    "    - launch editors\n",
    "    - write files"
   ]
  },
  {
   "cell_type": "code",
   "execution_count": 28,
   "metadata": {},
   "outputs": [],
   "source": [
    "# write with click\n",
    "with click.open_file(\"test.txt\", 'w') as f:\n",
    "    f.write(\"jazz flute\")"
   ]
  },
  {
   "cell_type": "markdown",
   "metadata": {},
   "source": [
    "`click` prints messages with `click.echo`. With it we can:\n",
    "- generate colored output\n",
    "- generate blinking or bold text\n",
    "- print both unicode and binary data"
   ]
  },
  {
   "cell_type": "markdown",
   "metadata": {},
   "source": [
    "### Testing `click` applications\n",
    "\n"
   ]
  },
  {
   "cell_type": "code",
   "execution_count": 29,
   "metadata": {},
   "outputs": [],
   "source": [
    "import click\n",
    "from click.testing import CliRunner"
   ]
  },
  {
   "cell_type": "code",
   "execution_count": 32,
   "metadata": {},
   "outputs": [],
   "source": [
    "@click.command()\n",
    "@click.argument('phrase')\n",
    "def echo_phrase(phrase):\n",
    "    click.echo(f\"You said: {phrase}\")"
   ]
  },
  {
   "cell_type": "code",
   "execution_count": 34,
   "metadata": {},
   "outputs": [
    {
     "ename": "SyntaxError",
     "evalue": "invalid syntax (<ipython-input-34-e452db2975df>, line 4)",
     "output_type": "error",
     "traceback": [
      "\u001b[0;36m  File \u001b[0;32m\"<ipython-input-34-e452db2975df>\"\u001b[0;36m, line \u001b[0;32m4\u001b[0m\n\u001b[0;31m    assert == result.output == \"You said: Have data will camp\\n\"\u001b[0m\n\u001b[0m         ^\u001b[0m\n\u001b[0;31mSyntaxError\u001b[0m\u001b[0;31m:\u001b[0m invalid syntax\n"
     ]
    }
   ],
   "source": [
    "runner = CliRunner(\n",
    "result = runner.invoke(echo_phrase, [\"Have data will camp\"])\n",
    "\n",
    "assert == result.output == \"You said: Have data will camp\\n\""
   ]
  },
  {
   "cell_type": "code",
   "execution_count": null,
   "metadata": {},
   "outputs": [],
   "source": []
  }
 ],
 "metadata": {
  "kernelspec": {
   "display_name": "Python 3",
   "language": "python",
   "name": "python3"
  },
  "language_info": {
   "codemirror_mode": {
    "name": "ipython",
    "version": 3
   },
   "file_extension": ".py",
   "mimetype": "text/x-python",
   "name": "python",
   "nbconvert_exporter": "python",
   "pygments_lexer": "ipython3",
   "version": "3.7.5"
  },
  "toc": {
   "base_numbering": 1,
   "nav_menu": {},
   "number_sections": true,
   "sideBar": true,
   "skip_h1_title": false,
   "title_cell": "Table of Contents",
   "title_sidebar": "Contents",
   "toc_cell": false,
   "toc_position": {},
   "toc_section_display": true,
   "toc_window_display": false
  },
  "varInspector": {
   "cols": {
    "lenName": 16,
    "lenType": 16,
    "lenVar": 40
   },
   "kernels_config": {
    "python": {
     "delete_cmd_postfix": "",
     "delete_cmd_prefix": "del ",
     "library": "var_list.py",
     "varRefreshCmd": "print(var_dic_list())"
    },
    "r": {
     "delete_cmd_postfix": ") ",
     "delete_cmd_prefix": "rm(",
     "library": "var_list.r",
     "varRefreshCmd": "cat(var_dic_list()) "
    }
   },
   "types_to_exclude": [
    "module",
    "function",
    "builtin_function_or_method",
    "instance",
    "_Feature"
   ],
   "window_display": false
  }
 },
 "nbformat": 4,
 "nbformat_minor": 4
}
