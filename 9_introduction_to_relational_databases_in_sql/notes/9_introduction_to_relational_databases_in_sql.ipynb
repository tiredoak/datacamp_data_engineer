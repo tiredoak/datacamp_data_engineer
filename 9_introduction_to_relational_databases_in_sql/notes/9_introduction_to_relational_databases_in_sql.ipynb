{
 "cells": [
  {
   "cell_type": "markdown",
   "metadata": {},
   "source": [
    "# Your First Database"
   ]
  },
  {
   "cell_type": "markdown",
   "metadata": {},
   "source": [
    "A relational database:\n",
    "\n",
    "- real-life *entities* become tables\n",
    "- reduced redundancy\n",
    "- data integrity by *relationships*"
   ]
  },
  {
   "cell_type": "markdown",
   "metadata": {},
   "source": [
    "In the course, we will:\n",
    "- work with real data\n",
    "- create a database from scratch\n",
    "- learn three concepts:\n",
    "    - constraints\n",
    "    - keys\n",
    "    - referential integrity"
   ]
  },
  {
   "cell_type": "markdown",
   "metadata": {},
   "source": [
    "## Creating tables"
   ]
  },
  {
   "cell_type": "code",
   "execution_count": null,
   "metadata": {},
   "outputs": [],
   "source": [
    "-- Create a table for the universities entity type\n",
    "CREATE TABLE universities (\n",
    "    university_shortname text,\n",
    "    university text,\n",
    "    university_city text\n",
    ");\n",
    "\n",
    "-- Print the contents of this table\n",
    "SELECT * \n",
    "FROM universities"
   ]
  },
  {
   "cell_type": "markdown",
   "metadata": {},
   "source": [
    "## Meta-database\n",
    "\n",
    "A *meta-database* holds information about our current database. \n",
    "\n",
    "This would look like:\n",
    "- Database: `information_schema`\n",
    "    - Tables:\n",
    "        - `tables`: information about all tables in the database\n",
    "        - `columns`: information about all columns in all of the tables in the current database"
   ]
  },
  {
   "cell_type": "markdown",
   "metadata": {},
   "source": [
    "## `CREATE` tables\n",
    "\n",
    "The syntax for creating tables is"
   ]
  },
  {
   "cell_type": "code",
   "execution_count": null,
   "metadata": {},
   "outputs": [],
   "source": [
    "# notice last semi-colon and no trailing commna\n",
    "CREATE TABLE table_name (\n",
    "    column_a data_type,\n",
    "    column_b data_type,\n",
    "    column_c data_type\n",
    ");    "
   ]
  },
  {
   "cell_type": "markdown",
   "metadata": {},
   "source": [
    "## `ALTER`ing tables and `ADD`ing columns\n",
    "\n",
    "We can alter tables easily and add new columns as need.\n",
    "\n",
    "The syntax for altering is"
   ]
  },
  {
   "cell_type": "code",
   "execution_count": null,
   "metadata": {},
   "outputs": [],
   "source": [
    "ALTER TABLE table_name\n",
    "ADD COLUMN column_name data_type;"
   ]
  },
  {
   "cell_type": "markdown",
   "metadata": {},
   "source": [
    "## `RENAME` columns\n",
    "\n",
    "We can also just rename a column"
   ]
  },
  {
   "cell_type": "code",
   "execution_count": null,
   "metadata": {},
   "outputs": [],
   "source": [
    "ALTER TABLE table_name\n",
    "RENAME COLUMN old_name TO new_name;"
   ]
  },
  {
   "cell_type": "markdown",
   "metadata": {},
   "source": [
    "## `DELETE` a column"
   ]
  },
  {
   "cell_type": "code",
   "execution_count": null,
   "metadata": {},
   "outputs": [],
   "source": [
    "ALTER TABLE table_name\n",
    "DROP COLUMN column_name;"
   ]
  },
  {
   "cell_type": "markdown",
   "metadata": {},
   "source": [
    "## Migrating data with `INSERT`\n",
    "\n",
    "We can also migrate data from one table to another"
   ]
  },
  {
   "cell_type": "code",
   "execution_count": null,
   "metadata": {},
   "outputs": [],
   "source": [
    "INSERT INTO table_name\n",
    "SELECT DISTINCT column_name1, column_name2\n",
    "FROM table_a;"
   ]
  },
  {
   "cell_type": "markdown",
   "metadata": {},
   "source": [
    "This is read in reverse order. First, we `SELECT` something which we `INSERT` into the `table_name`"
   ]
  },
  {
   "cell_type": "markdown",
   "metadata": {},
   "source": [
    "## `DELETE` a table"
   ]
  },
  {
   "cell_type": "code",
   "execution_count": null,
   "metadata": {},
   "outputs": [],
   "source": [
    "DROP TABLE table_name;"
   ]
  },
  {
   "cell_type": "markdown",
   "metadata": {},
   "source": [
    "# Enforcing data integrity\n",
    "\n",
    "The idea of a database is to push data into a pre-defined structure, where we info datatypes, relationships and other rules. These rules are called *integrity constraints*.\n",
    "\n",
    "There are 3 types of integrity constraints:\n",
    "1. Attribute constraints (data types on columns)\n",
    "    - data types that can be specified for each column of a table\n",
    "    - they restrict operations on a table (can't multiply `int` and `string`)\n",
    "2. Key constraints (keys)\n",
    "3. Referential integrity constraints\n",
    "\n",
    "This chapter focuses on attribute constraints."
   ]
  },
  {
   "cell_type": "markdown",
   "metadata": {},
   "source": [
    "## Why constraints?\n",
    "\n",
    "- They give data structure\n",
    "- Help with consistency and consequently data quality\n",
    "    - Data quality is a business advantage / data science pre-requisite\n",
    "- Enforcing is difficult but PostgreSQL helps"
   ]
  },
  {
   "cell_type": "code",
   "execution_count": null,
   "metadata": {},
   "outputs": [],
   "source": [
    "# if the columns data types do not match we can CAST\n",
    "SELECT transaction_date, amount + CAST(fee AS integer) AS net_amount \n",
    "FROM transactions;"
   ]
  },
  {
   "cell_type": "markdown",
   "metadata": {},
   "source": [
    "## Working with data types\n",
    "\n",
    "- Enforced on columns (i.e. attributes)\n",
    "- Defined the so-called \"domain\" of a column\n",
    "- Define what operations are possible\n",
    "- Enforce consistent storage of values\n",
    "\n",
    "### Some common datatypes\n",
    "\n",
    "- `text`\n",
    "    - character strings of any length\n",
    "- `varchar`\n",
    "    - a maximum of n characters\n",
    "- `char`\n",
    "    - a fixed-length string of n characters\n",
    "- `boolean`\n",
    "    - can only take 3 states: `TRUE`, `FALSE`, `NULL`\n",
    "- `date`, `time`, `timestamp`\n",
    "    - formats for data and time calculations\n",
    "- `numeric`\n",
    "    - arbitrary precision numbers\n",
    "- `integer`\n",
    "    - whole numbers"
   ]
  },
  {
   "cell_type": "markdown",
   "metadata": {},
   "source": [
    "## `INSERT`ing data and conforming with data types"
   ]
  },
  {
   "cell_type": "code",
   "execution_count": null,
   "metadata": {},
   "outputs": [],
   "source": [
    "INSERT INTO table_name (col_text, col_int, col_date)\n",
    "VALUES (\"Text\", 1, \"2020-02-15\");"
   ]
  },
  {
   "cell_type": "markdown",
   "metadata": {},
   "source": [
    "## `CAST`ing columns to other values"
   ]
  },
  {
   "cell_type": "code",
   "execution_count": null,
   "metadata": {},
   "outputs": [],
   "source": [
    "SELECT transaction_date, amount + CAST(fee AS inteeger) AS net_amount\n",
    "FROM transactions;"
   ]
  },
  {
   "cell_type": "markdown",
   "metadata": {},
   "source": [
    "## `ALTER`ing column types"
   ]
  },
  {
   "cell_type": "code",
   "execution_count": null,
   "metadata": {},
   "outputs": [],
   "source": [
    "ALTER TABLE professors\n",
    "ALTER COLUMN university_shortname\n",
    "TYPE varchar(10)"
   ]
  },
  {
   "cell_type": "markdown",
   "metadata": {},
   "source": [
    "## `USING`"
   ]
  },
  {
   "cell_type": "markdown",
   "metadata": {},
   "source": [
    "In this example we retain the first 3 characters from a column so we can change its type."
   ]
  },
  {
   "cell_type": "code",
   "execution_count": null,
   "metadata": {},
   "outputs": [],
   "source": [
    "ALTER TABLE table_name\n",
    "ALTER COLUMN column_name\n",
    "TYPE varchar(3)\n",
    "USING SUBSTRING(column_name FROM 1 FOR 3)"
   ]
  },
  {
   "cell_type": "markdown",
   "metadata": {},
   "source": [
    "## The not-null and unique constraints"
   ]
  },
  {
   "cell_type": "markdown",
   "metadata": {},
   "source": [
    "The not-null constraint:\n",
    "- disallows `NULL` values in a certain column\n",
    "- must hold true for the current state \n",
    "- must hold true for any future state"
   ]
  },
  {
   "cell_type": "markdown",
   "metadata": {},
   "source": [
    "### Meaning of `NULL`\n",
    "\n",
    "`NULL` can mean that a value:\n",
    "- is unknown\n",
    "- does not exist\n",
    "- does not apply"
   ]
  },
  {
   "cell_type": "markdown",
   "metadata": {},
   "source": [
    "> `NULL != NULL` is *always* `FALSE`"
   ]
  },
  {
   "cell_type": "markdown",
   "metadata": {},
   "source": [
    "## Adding `NULL` constraints when creating a table"
   ]
  },
  {
   "cell_type": "code",
   "execution_count": null,
   "metadata": {},
   "outputs": [],
   "source": [
    "CREATE TABLE students (\n",
    "    ssn integer not null,\n",
    "    lastname, varchar(64) not null,\n",
    "    home_phone integer, # default is to allow NULL\n",
    "    office_phone integer # default is to allow NULL\n",
    ");"
   ]
  },
  {
   "cell_type": "markdown",
   "metadata": {},
   "source": [
    "## Adding `NULL` constraints *after* creating a table"
   ]
  },
  {
   "cell_type": "code",
   "execution_count": null,
   "metadata": {},
   "outputs": [],
   "source": [
    "# adding a not NULL constraint\n",
    "ALTER TABLE students\n",
    "ALTER COLUMN home_phone\n",
    "SET NOT NULL;"
   ]
  },
  {
   "cell_type": "code",
   "execution_count": null,
   "metadata": {},
   "outputs": [],
   "source": [
    "# removing a not NULL constraint\n",
    "ALTER TABLE students\n",
    "ALTER COLUMN ssn\n",
    "DROP NOT NULL;"
   ]
  },
  {
   "cell_type": "markdown",
   "metadata": {},
   "source": [
    "## The unique constraint\n",
    "\n",
    "- Disallows duplicates in a column\n",
    "- Must hold true in the current state\n",
    "- Must hold true in any future state"
   ]
  },
  {
   "cell_type": "markdown",
   "metadata": {},
   "source": [
    "### Adding `UNIQUE` constraints when creating a table"
   ]
  },
  {
   "cell_type": "code",
   "execution_count": null,
   "metadata": {},
   "outputs": [],
   "source": [
    "CREATE TABLE table_name(\n",
    "    column_name UNIQUE\n",
    ");"
   ]
  },
  {
   "cell_type": "markdown",
   "metadata": {},
   "source": [
    "### Adding `UNIQUE` constraints *after* creating a table"
   ]
  },
  {
   "cell_type": "code",
   "execution_count": null,
   "metadata": {},
   "outputs": [],
   "source": [
    "ALTER TABLE table_name\n",
    "ADD CONSTRAINT some_name UNIQUE(column_name);"
   ]
  },
  {
   "cell_type": "markdown",
   "metadata": {},
   "source": [
    "# Keys and Superkeys"
   ]
  },
  {
   "cell_type": "markdown",
   "metadata": {},
   "source": [
    "## What is a key?\n",
    "\n",
    "Tipically a database table has an attribute (or a combination of attributes) which uniquely identify a record. \n",
    "\n",
    "We can also consider that the table as a whole is a key in itself. However, this is a *superkey*. In a *superkey* some attributes are redundant so they can be removed. Upon removal, we'd still have a key i.e. a set of attributes which can still identify uniquely a row.\n",
    "\n",
    "When we get to a key where no more attributes can be removed (or the key would no longer be a key), we have a *minimal key*."
   ]
  },
  {
   "cell_type": "markdown",
   "metadata": {},
   "source": [
    "## Primary keys\n",
    "\n",
    "- one primary key per table, chosen from candidate keys\n",
    "- uniquely identifies records e.g. for referencing in other tables\n",
    "- unique *and* not null constraints apply\n",
    "- primary keys an+re time-invariant: choose wisely! "
   ]
  },
  {
   "cell_type": "markdown",
   "metadata": {},
   "source": [
    "### Specifying a `PRIMARY KEY` when creating a table"
   ]
  },
  {
   "cell_type": "code",
   "execution_count": null,
   "metadata": {},
   "outputs": [],
   "source": [
    "CREATE TABLE products (\n",
    "    product_no integer PRIMARY KEY,\n",
    "    name text,\n",
    "    price numeric\n",
    ");"
   ]
  },
  {
   "cell_type": "markdown",
   "metadata": {},
   "source": [
    "Note how this is equivalent to"
   ]
  },
  {
   "cell_type": "code",
   "execution_count": null,
   "metadata": {},
   "outputs": [],
   "source": [
    "CREATE TABLE products (\n",
    "    product_no integer UNIQUE NOT NULL,\n",
    "    name text,\n",
    "    price numeric\n",
    ");"
   ]
  },
  {
   "cell_type": "markdown",
   "metadata": {},
   "source": [
    "A `PRIMARY KEY` can also be a combination of columns"
   ]
  },
  {
   "cell_type": "code",
   "execution_count": null,
   "metadata": {},
   "outputs": [],
   "source": [
    "CREATE TABLE example (\n",
    "    a integer,\n",
    "    b integer,\n",
    "    c integer,\n",
    "    PRIMARY KEY (a, c)\n",
    ")"
   ]
  },
  {
   "cell_type": "markdown",
   "metadata": {},
   "source": [
    "A `PRIMARY KEY` should have as few columns as possible."
   ]
  },
  {
   "cell_type": "markdown",
   "metadata": {},
   "source": [
    "## Surrogate keys\n",
    "\n",
    "Surrogate keys are used to define an artificial primary key. This is used because:\n",
    "- primary keys should be built from as few columns as possible\n",
    "- primary keys should never change over time"
   ]
  },
  {
   "cell_type": "markdown",
   "metadata": {},
   "source": [
    "## Adding a `SERIAL` type"
   ]
  },
  {
   "cell_type": "code",
   "execution_count": null,
   "metadata": {},
   "outputs": [],
   "source": [
    "ALTER TABLE cars\n",
    "ADD COLUMN id serial PRIMARY KEY"
   ]
  },
  {
   "cell_type": "markdown",
   "metadata": {},
   "source": [
    "## `CONCAT`ing to get a key"
   ]
  },
  {
   "cell_type": "code",
   "execution_count": null,
   "metadata": {},
   "outputs": [],
   "source": [
    "ALTER TABLE table_name\n",
    "ADD COLUMN column_c varchar(256)\n",
    "\n",
    "UPDATE table_name\n",
    "SET column_c = CONCAT(column_a, column_b);\n",
    "\n",
    "ALTER TABLE table_name\n",
    "ADD CONSTRAINT pk PRIMARY KEY (column_c);"
   ]
  },
  {
   "cell_type": "markdown",
   "metadata": {},
   "source": [
    "# Glue together tables with foreign keys"
   ]
  },
  {
   "cell_type": "markdown",
   "metadata": {},
   "source": [
    "- a foreign key points to the primary key of another table\n",
    "- domain of FK must be equal to the domain of PK\n",
    "- each value of FK must exist in PK of thee other table (this is the FK constraint, aka *referential integrity*)\n",
    "- FK are not actual keys because duplicates are allowed"
   ]
  },
  {
   "cell_type": "markdown",
   "metadata": {},
   "source": [
    "## Specifying a foreign key when creating a table"
   ]
  },
  {
   "cell_type": "markdown",
   "metadata": {},
   "source": [
    "Notice the `REFERENCES` keyword"
   ]
  },
  {
   "cell_type": "code",
   "execution_count": null,
   "metadata": {},
   "outputs": [],
   "source": [
    "CREATE TABLE manufacturers (\n",
    "    name varchar(255) PRIMARY KEY\n",
    ");\n",
    "\n",
    "INSERT INTO manufacturers\n",
    "VALUES (\"Ford\"), (\"VW\"), (\"GM\");\n",
    "\n",
    "CREATE TABLE cars (\n",
    "    model varchar(255) PRIMARY KEY,\n",
    "    manufacturer_name integer REFERENCES manufacturers (name)\n",
    ");"
   ]
  },
  {
   "cell_type": "markdown",
   "metadata": {},
   "source": [
    "## Adding a foreign key to an existing table"
   ]
  },
  {
   "cell_type": "code",
   "execution_count": null,
   "metadata": {},
   "outputs": [],
   "source": [
    "ALTER TABLE a\n",
    "ADD CONSTRAINT a_fkey FOREIGN KEY (b_id) REFERENCES b (id);"
   ]
  },
  {
   "cell_type": "markdown",
   "metadata": {},
   "source": [
    "Foreign keys model 1:N relationships. We can model N:M relationships with affiliate tables. The purpose of these tables is to connect two other tables: as such, their columns are usually foreign keys to other tables so they can then be joined."
   ]
  },
  {
   "cell_type": "markdown",
   "metadata": {},
   "source": [
    "## Updating the values of a column with the values of another column"
   ]
  },
  {
   "cell_type": "code",
   "execution_count": 2,
   "metadata": {},
   "outputs": [],
   "source": [
    "# for each row in table_a, find the corresponding row in table_b\n",
    "# where condition1 AND condition2 etc\n",
    "# and set the value of column_to_update to the value of \n",
    "# column_to_update_from\n",
    "\n",
    "# this only make sense if there is only one matching row in table_b!\n",
    "UPDATE table_a\n",
    "SET column_to_update = table_b.column_to_update_from\n",
    "FROM table_b\n",
    "WHERE condition1 AND condition2 AND ...;"
   ]
  },
  {
   "cell_type": "markdown",
   "metadata": {},
   "source": [
    "## Referential Integrity\n",
    "\n",
    "The definition is\n",
    "> A record referencing another table must refer to an existing record in that table\n",
    "\n",
    "- Enforced  through foreign keys\n",
    "- Specified between two tables\n",
    "\n",
    "### Violations\n",
    "\n",
    "There are two ways referential integrity can be violated:\n",
    "1. If a record in table B that is referenced from a record in table A is deleted\n",
    "2. If a record in table A referencing a non-existing record from table B is inserted\n",
    "3. Foreign keys prevent violations! "
   ]
  },
  {
   "cell_type": "markdown",
   "metadata": {},
   "source": [
    "### Dealing with violations"
   ]
  },
  {
   "cell_type": "markdown",
   "metadata": {},
   "source": [
    "We can specify what should happens in the primary key elsewhere is deleted."
   ]
  },
  {
   "cell_type": "code",
   "execution_count": null,
   "metadata": {},
   "outputs": [],
   "source": [
    "CREATE TABLE a (\n",
    "    id integer PRIMARY KEY,\n",
    "    column_a varchar(64),\n",
    "    ...\n",
    "    b_id integer REFERENCES b (id) ON DELETE NO ACTION\n",
    ");\n",
    "\n",
    "# if we try to delete a record from table B which is referenced \n",
    "# from table A, the system will throw an error"
   ]
  },
  {
   "cell_type": "markdown",
   "metadata": {},
   "source": [
    "Another options are"
   ]
  },
  {
   "cell_type": "code",
   "execution_count": null,
   "metadata": {},
   "outputs": [],
   "source": [
    "CREATE TABLE a (\n",
    "    id integer PRIMARY KEY,\n",
    "    column_a varchar(64),\n",
    "    ...\n",
    "    b_id integer REFERENCES b (id) ON DELETE CASCADE\n",
    ");\n",
    "\n",
    "# CASCADE: if we try to delete a record from table B which is referenced \n",
    "# from table A, if deletes the record from table B and then all references\n",
    "# in table A"
   ]
  },
  {
   "cell_type": "markdown",
   "metadata": {},
   "source": [
    "There is also:\n",
    "- `NO ACTION`: throws an error;\n",
    "- `RESTRICT`: also throws an error;\n",
    "- `SET NULL`: set the referencing column to `NULL`\n",
    "- `SET DEFAULT`: set the referencing column to its default value"
   ]
  },
  {
   "cell_type": "code",
   "execution_count": null,
   "metadata": {},
   "outputs": [],
   "source": []
  }
 ],
 "metadata": {
  "kernelspec": {
   "display_name": "Python 3",
   "language": "python",
   "name": "python3"
  },
  "language_info": {
   "codemirror_mode": {
    "name": "ipython",
    "version": 3
   },
   "file_extension": ".py",
   "mimetype": "text/x-python",
   "name": "python",
   "nbconvert_exporter": "python",
   "pygments_lexer": "ipython3",
   "version": "3.7.5"
  },
  "toc": {
   "base_numbering": 1,
   "nav_menu": {},
   "number_sections": true,
   "sideBar": true,
   "skip_h1_title": false,
   "title_cell": "Table of Contents",
   "title_sidebar": "Contents",
   "toc_cell": false,
   "toc_position": {},
   "toc_section_display": true,
   "toc_window_display": false
  },
  "varInspector": {
   "cols": {
    "lenName": 16,
    "lenType": 16,
    "lenVar": 40
   },
   "kernels_config": {
    "python": {
     "delete_cmd_postfix": "",
     "delete_cmd_prefix": "del ",
     "library": "var_list.py",
     "varRefreshCmd": "print(var_dic_list())"
    },
    "r": {
     "delete_cmd_postfix": ") ",
     "delete_cmd_prefix": "rm(",
     "library": "var_list.r",
     "varRefreshCmd": "cat(var_dic_list()) "
    }
   },
   "types_to_exclude": [
    "module",
    "function",
    "builtin_function_or_method",
    "instance",
    "_Feature"
   ],
   "window_display": false
  }
 },
 "nbformat": 4,
 "nbformat_minor": 4
}
