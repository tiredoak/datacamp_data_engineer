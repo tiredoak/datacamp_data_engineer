{
 "cells": [
  {
   "cell_type": "markdown",
   "metadata": {},
   "source": [
    "# Software Engineering & Data Science\n",
    "\n",
    "This is a course about:\n",
    "\n",
    "- Modularity\n",
    "    - improve readability\n",
    "    - improve maintainability\n",
    "    - solve problems once\n",
    "        - packages, classes and methods (in Python)\n",
    "- Documentation \n",
    "    - show people how to use your project\n",
    "    - prevent confusion from collaborators\n",
    "    - prevent frustration from future reads\n",
    "- Testing\n",
    "    - save time over manual testing\n",
    "    - find and fix bugs\n",
    "    - run tests anywhere/anytime\n",
    "- Git and version control"
   ]
  },
  {
   "cell_type": "markdown",
   "metadata": {},
   "source": [
    "## Implementing PEP8\n",
    "\n"
   ]
  },
  {
   "cell_type": "markdown",
   "metadata": {},
   "source": [
    "We can use `pycodestyle` to check for PEP8 violations in our scripts"
   ]
  },
  {
   "cell_type": "code",
   "execution_count": 1,
   "metadata": {},
   "outputs": [
    {
     "name": "stdout",
     "output_type": "stream",
     "text": [
      "Requirement already satisfied: pycodestyle in /Users/miguel.carvalho/.pyenv/versions/3.7.5/envs/myenv/lib/python3.7/site-packages (2.5.0)\r\n"
     ]
    }
   ],
   "source": [
    "!pip install pycodestyle"
   ]
  },
  {
   "cell_type": "code",
   "execution_count": 2,
   "metadata": {},
   "outputs": [
    {
     "name": "stdout",
     "output_type": "stream",
     "text": [
      "../datasets/nay_pep8.py:1:1: E265 block comment should start with '# '\n",
      "../datasets/nay_pep8.py:2:6: E225 missing whitespace around operator\n",
      "../datasets/nay_pep8.py:4:2: E131 continuation line unaligned for hanging indent\n",
      "../datasets/nay_pep8.py:5:6: E131 continuation line unaligned for hanging indent\n",
      "../datasets/nay_pep8.py:6:1: E122 continuation line missing indentation or outdented\n",
      "../datasets/nay_pep8.py:7:1: E265 block comment should start with '# '\n",
      "../datasets/nay_pep8.py:8:1: E402 module level import not at top of file\n",
      "../datasets/nay_pep8.py:9:1: E265 block comment should start with '# '\n",
      "../datasets/nay_pep8.py:10:1: E302 expected 2 blank lines, found 0\n",
      "../datasets/nay_pep8.py:10:18: E231 missing whitespace after ','\n",
      "../datasets/nay_pep8.py:11:2: E111 indentation is not a multiple of four\n",
      "../datasets/nay_pep8.py:12:2: E111 indentation is not a multiple of four\n",
      "../datasets/nay_pep8.py:14:1: E265 block comment should start with '# '\n",
      "../datasets/nay_pep8.py:15:1: E305 expected 2 blank lines after class or function definition, found 1\n",
      "../datasets/nay_pep8.py:16:11: E111 indentation is not a multiple of four\n",
      "../datasets/nay_pep8.py:16:11: E117 over-indented\n",
      "../datasets/nay_pep8.py:16:17: E225 missing whitespace around operator\n",
      "../datasets/nay_pep8.py:16:32: E222 multiple spaces after operator\n",
      "../datasets/nay_pep8.py:16:32: E251 unexpected spaces around keyword / parameter equals\n",
      "../datasets/nay_pep8.py:16:38: E231 missing whitespace after ','\n",
      "../datasets/nay_pep8.py:16:44: E221 multiple spaces before operator\n",
      "../datasets/nay_pep8.py:16:44: E251 unexpected spaces around keyword / parameter equals\n",
      "../datasets/nay_pep8.py:16:47: E251 unexpected spaces around keyword / parameter equals\n",
      "../datasets/nay_pep8.py:17:11: E111 indentation is not a multiple of four\n",
      "../datasets/nay_pep8.py:17:17: E201 whitespace after '('\n",
      "../datasets/nay_pep8.py:17:25: E202 whitespace before ')'\n",
      "../datasets/nay_pep8.py:17:27: W292 no newline at end of file\n",
      "../datasets/yay_pep8.py:21:18: W292 no newline at end of file\n"
     ]
    }
   ],
   "source": [
    "import pycodestyle\n",
    "\n",
    "style_checker = pycodestyle.StyleGuide()\n",
    "\n",
    "# run PEP8 check on multiple files\n",
    "result = style_checker.check_files([\"../datasets/nay_pep8.py\", \"../datasets/yay_pep8.py\"])"
   ]
  },
  {
   "cell_type": "markdown",
   "metadata": {},
   "source": [
    "# Writing a Python module\n",
    "\n",
    "A minimal Python package consists of 2 elements: a directory and a python file. The name of the directory should be the name of the package. According to PEP8, it should be `package_name`, in a way that describes its functionality. The file in the file **must** be called `__init__.py`\n",
    "\n",
    "> As of Python 3.3, any directory can be imported as if it were a package without error even if it doesn't follow the structure"
   ]
  },
  {
   "cell_type": "markdown",
   "metadata": {},
   "source": [
    "Our structure is:\n",
    "\n",
    "`\n",
    "work_dir\n",
    "|-- my_script.py\n",
    "|-- package_name\n",
    "|----__init__py\n",
    "`"
   ]
  },
  {
   "cell_type": "code",
   "execution_count": 3,
   "metadata": {},
   "outputs": [
    {
     "name": "stdout",
     "output_type": "stream",
     "text": [
      "Help on package package_name:\n",
      "\n",
      "NAME\n",
      "    package_name\n",
      "\n",
      "PACKAGE CONTENTS\n",
      "    utils\n",
      "\n",
      "FILE\n",
      "    (built-in)\n",
      "\n",
      "\n"
     ]
    }
   ],
   "source": [
    "import package_name\n",
    "\n",
    "# shouldn't output anything useful since we haven't added help docs\n",
    "help(package_name)"
   ]
  },
  {
   "cell_type": "markdown",
   "metadata": {},
   "source": [
    "We can add other files to our package, changing the tree to\n",
    "\n",
    "`\n",
    "work_dir\n",
    "|-- my_script.py\n",
    "|-- package_name\n",
    "|---- __init__py\n",
    "|---- utils.py\n",
    "`"
   ]
  },
  {
   "cell_type": "markdown",
   "metadata": {},
   "source": [
    "In this case, `utils.py` is a submodule and can be imported with \n",
    "\n",
    "`import my_package.utils`"
   ]
  },
  {
   "cell_type": "code",
   "execution_count": 4,
   "metadata": {},
   "outputs": [
    {
     "name": "stdout",
     "output_type": "stream",
     "text": [
      "It's not you, it's me...\n"
     ]
    }
   ],
   "source": [
    "import package_name.utils\n",
    "\n",
    "package_name.utils.we_need_to_talk(break_up=True)"
   ]
  },
  {
   "cell_type": "markdown",
   "metadata": {},
   "source": [
    "We can also use the package's `__init__.py` file to make our utils functions more easily accessible."
   ]
  },
  {
   "cell_type": "code",
   "execution_count": 5,
   "metadata": {},
   "outputs": [],
   "source": [
    "# in __init__.py\n",
    "\n",
    "# from .utils import we_need_to_talk"
   ]
  },
  {
   "cell_type": "markdown",
   "metadata": {},
   "source": [
    "We can continue extending the tree like so\n",
    "\n",
    "We can add other files to our package, changing the tree to\n",
    "\n",
    "`\n",
    "work_dir\n",
    "|-- my_script.py\n",
    "|-- package_name\n",
    "|---- __init__py\n",
    "|---- utils.py\n",
    "|---- datacamp.py\n",
    "|---- analysis.py\n",
    "`"
   ]
  },
  {
   "cell_type": "markdown",
   "metadata": {},
   "source": [
    "We should only import the package's key functionality in the `__init__.py` file to make it directly and easily accessible."
   ]
  },
  {
   "cell_type": "markdown",
   "metadata": {},
   "source": [
    "We can also add subpackages to our module, making the tree look like so\n",
    "\n",
    "`\n",
    "work_dir\n",
    "|-- my_script.py\n",
    "|-- package_name\n",
    "|---- __init__py\n",
    "|---- utils.py\n",
    "|---- datacamp.py\n",
    "|---- analysis.py\n",
    "|---- sub_package\n",
    "|-------- __init__.py\n",
    "|-------- functionality.py\n",
    "`"
   ]
  },
  {
   "cell_type": "markdown",
   "metadata": {},
   "source": [
    "## Making our package portable\n",
    "\n",
    "The two main steps to sharing a package are creating:\n",
    "- `setup.py`\n",
    "- `requirements.txt`\n",
    "\n",
    "These should go in the tree in\n",
    "\n",
    "`\n",
    "work_dir\n",
    "|-- my_script.py\n",
    "|-- package_name\n",
    "|-- requirements.txt\n",
    "|-- setup.py\n",
    "|---- __init__py\n",
    "|---- utils.py\n",
    "|---- datacamp.py\n",
    "|---- analysis.py\n",
    "|---- sub_package\n",
    "|-------- __init__.py\n",
    "|-------- functionality.py\n",
    "`"
   ]
  },
  {
   "cell_type": "markdown",
   "metadata": {},
   "source": [
    "### Requirements \n",
    "\n",
    "- How to recreate the environment needed to properly use your package\n",
    "    - list of python packages and (optionally) the version requirement for each package "
   ]
  },
  {
   "cell_type": "code",
   "execution_count": null,
   "metadata": {},
   "outputs": [],
   "source": [
    "# needed packages/versions\n",
    "# 3 ways of specifying the packages and versions\n",
    "matplotlib\n",
    "numpy==1.15.4\n",
    "pycodestyle>=2.4.0"
   ]
  },
  {
   "cell_type": "code",
   "execution_count": null,
   "metadata": {},
   "outputs": [],
   "source": [
    "# this installs the enviroment specified\n",
    "!pip install -r requirements.txt"
   ]
  },
  {
   "cell_type": "markdown",
   "metadata": {},
   "source": [
    "### `setup.py`\n",
    "\n",
    "- How to install our package\n",
    "- Provide info to PyPy if we decide to publish"
   ]
  },
  {
   "cell_type": "code",
   "execution_count": null,
   "metadata": {},
   "outputs": [],
   "source": [
    "# Import needed function from setuptools\n",
    "from setuptools import setup\n",
    "\n",
    "# Create proper setup to be used by pip\n",
    "setup(name='text_analyzer',\n",
    "      version='0.0.1',\n",
    "      description='Perform and visualize a text anaylsis.',\n",
    "      author='Miguel Carvalho',\n",
    "      # packages is the location of all __init__ files\n",
    "      packages=['text_analyzer'],\n",
    "      # requirements for the package to work\n",
    "      install_requires=['matplotlib>=3.0.0'])"
   ]
  },
  {
   "cell_type": "markdown",
   "metadata": {},
   "source": [
    "# Utilizing Classes"
   ]
  },
  {
   "cell_type": "markdown",
   "metadata": {},
   "source": [
    "If we want to leverage modularity in Python, we will use *classes* (we won't go into Object-Oriented Programming fully here)\n",
    "\n",
    "A minimal class definition consists of"
   ]
  },
  {
   "cell_type": "code",
   "execution_count": 10,
   "metadata": {},
   "outputs": [],
   "source": [
    "# Camel-case, never underscore\n",
    "class MyClass:\n",
    "    \"\"\"A minimal class example\n",
    "    \n",
    "    :param value: value to set as the ''attribute'' attribute\n",
    "    :ivar value: contains the contents of the ''value'' passed in init\n",
    "    \"\"\"\n",
    "    \n",
    "    # Method to create a new instance of MyClass\n",
    "    def __init__(self, value):\n",
    "        # Define aatribute with the contents of the value param\n",
    "        self.attribute = value"
   ]
  },
  {
   "cell_type": "markdown",
   "metadata": {},
   "source": [
    "## Using a class in a package"
   ]
  },
  {
   "cell_type": "code",
   "execution_count": 2,
   "metadata": {},
   "outputs": [
    {
     "ename": "AttributeError",
     "evalue": "module 'package_name' has no attribute 'MyClass'",
     "output_type": "error",
     "traceback": [
      "\u001b[0;31m---------------------------------------------------------------------------\u001b[0m",
      "\u001b[0;31mAttributeError\u001b[0m                            Traceback (most recent call last)",
      "\u001b[0;32m<ipython-input-2-aa22356fc660>\u001b[0m in \u001b[0;36m<module>\u001b[0;34m\u001b[0m\n\u001b[1;32m      1\u001b[0m \u001b[0;32mimport\u001b[0m \u001b[0mpackage_name\u001b[0m\u001b[0;34m\u001b[0m\u001b[0;34m\u001b[0m\u001b[0m\n\u001b[1;32m      2\u001b[0m \u001b[0;34m\u001b[0m\u001b[0m\n\u001b[0;32m----> 3\u001b[0;31m \u001b[0mmy_instance\u001b[0m \u001b[0;34m=\u001b[0m \u001b[0mpackage_name\u001b[0m\u001b[0;34m.\u001b[0m\u001b[0mMyClass\u001b[0m\u001b[0;34m(\u001b[0m\u001b[0;34m)\u001b[0m\u001b[0;34m\u001b[0m\u001b[0;34m\u001b[0m\u001b[0m\n\u001b[0m",
      "\u001b[0;31mAttributeError\u001b[0m: module 'package_name' has no attribute 'MyClass'"
     ]
    }
   ],
   "source": [
    "import package_name\n",
    "\n",
    "my_instance = package_name.MyClass()"
   ]
  },
  {
   "cell_type": "markdown",
   "metadata": {},
   "source": [
    "## `self`\n",
    "\n",
    "- A way to refer to a class instance, even though we don't know what the user will name their instance\n",
    "- When defining typical class instance methods, like `__init__`, `self` is the first argument\n",
    "- However, when the user creates an instance, he does not need to pass `self` explicitly: this is done under the hood\n",
    "- Once in the method body, we can use `self` to access or define attributes"
   ]
  },
  {
   "cell_type": "markdown",
   "metadata": {},
   "source": [
    "## Methods in the class\n",
    "\n",
    "- According to convention, methods which are not to be called by the user themselves and instead only through other class methods, should be prefixed with a single \"_\"\n",
    "- This marks the method as private and not intended for direct usage by the user (even though it technically is possible)"
   ]
  },
  {
   "cell_type": "code",
   "execution_count": null,
   "metadata": {},
   "outputs": [],
   "source": [
    "class Document:\n",
    "    def __init__(self, text):\n",
    "        self.text = text\n",
    "        # Tokenize the document with non-public tokenize method\n",
    "        self.tokens = self._tokenize()\n",
    "        # Perform word count with non-public count_words method\n",
    "        self.word_counts = self._count_words()\n",
    "\n",
    "    def _tokenize(self):\n",
    "        return tokenize(self.text)\n",
    "\n",
    "    # non-public method to tally document's word counts with Counter\n",
    "    def _count_words(self):\n",
    "        return Counter(self.tokens)"
   ]
  },
  {
   "cell_type": "markdown",
   "metadata": {},
   "source": [
    "## Classes and the DRY principle\n",
    "\n"
   ]
  },
  {
   "cell_type": "markdown",
   "metadata": {},
   "source": [
    "- Don't Repeat Yourself\n",
    "    - Reuse code\n",
    "    - Improve maintainability\n",
    "- Inheritance\n",
    "    - Start with a parent class and we pass on its functionality to a child class\n",
    "    - The child inherits all methods and attributes of the parent class and is able to extend its functionality\n",
    "    \n",
    "### How to use inheritance in Python?\n",
    "\n",
    "1. Import the parent class\n",
    "2. Pass the parent class as an argument to child class  statement\n",
    "3. Call the parent class's init method (recall: init builds an instance of a class and accepts `self` as its first argument)\n",
    "    1. With this call we're building an instance of the parent class and storing it right back into `self`\n",
    "    2. This means `self` now has all the methods and attributes the parent class would"
   ]
  },
  {
   "cell_type": "code",
   "execution_count": null,
   "metadata": {},
   "outputs": [],
   "source": [
    "class Document:\n",
    "    # Initialize a new Document instance\n",
    "    def __init__(self, text):\n",
    "        self.text = text\n",
    "        # Pre tokenize the document with non-public tokenize method\n",
    "        self.tokens = self._tokenize()\n",
    "        # Pre tokenize the document with non-public count_words\n",
    "        self.word_counts = self._count_words()\n",
    "\n",
    "    def _tokenize(self):\n",
    "        return tokenize(self.text)\n",
    "\n",
    "    # Non-public method to tally document's word counts\n",
    "    def _count_words(self):\n",
    "        # Use collections.Counter to count the document's tokens\n",
    "        return Counter(self.tokens)"
   ]
  },
  {
   "cell_type": "code",
   "execution_count": null,
   "metadata": {},
   "outputs": [],
   "source": [
    "# Define a SocialMedia class that is a child of the `Document class`\n",
    "class SocialMedia(Document):\n",
    "    def __init__(self, text):\n",
    "        Document.__init__(self, text)\n",
    "        self.hashtag_counts = self._count_hashtags()\n",
    "        self.mention_counts = self._count_mentions()\n",
    "        \n",
    "    def _count_hashtags(self):\n",
    "        # Filter attribute so only words starting with '#' remain\n",
    "        return filter_word_counts(self.word_counts, first_char='#')      \n",
    "    \n",
    "    def _count_mentions(self):\n",
    "        # Filter attribute so only words starting with '@' remain\n",
    "        return filter_word_counts(self.word_counts, first_char='@')\n"
   ]
  },
  {
   "cell_type": "markdown",
   "metadata": {},
   "source": [
    "## Multilevel Inheritance"
   ]
  },
  {
   "cell_type": "markdown",
   "metadata": {},
   "source": [
    "If we want to continue the inheritance tree, we can. We can create a class which is a subset of the `SocialMedia` class which inherits from it. \n",
    "\n",
    "We can even have a class which inherits from multiple parents - i.e. multiple inheritance."
   ]
  },
  {
   "cell_type": "markdown",
   "metadata": {},
   "source": [
    "### Two ways for multiple inheritance: `super` and parent class"
   ]
  },
  {
   "cell_type": "code",
   "execution_count": 7,
   "metadata": {},
   "outputs": [],
   "source": [
    "class Parent():\n",
    "    def __init__(self):\n",
    "        print(\"I'm a parent!\")\n",
    "        \n",
    "class Child(Parent):\n",
    "    def __init__(self):\n",
    "        Parent.__init__()\n",
    "        print(\"I'm a super child!\")\n",
    "        \n",
    "class Grandchild(SuperChild):\n",
    "    def __init__(self):\n",
    "        # instead of calling directly the init of parent\n",
    "        # we use the super function\n",
    "        \n",
    "        # no functional difference but better for maintainability\n",
    "        super().__init__()\n",
    "        print(\"I'm a grandchild!\")"
   ]
  },
  {
   "cell_type": "code",
   "execution_count": 8,
   "metadata": {},
   "outputs": [
    {
     "name": "stdout",
     "output_type": "stream",
     "text": [
      "I'm a parent!\n",
      "I'm a super child!\n",
      "I'm a grandchild!\n"
     ]
    },
    {
     "data": {
      "text/plain": [
       "<__main__.Grandchild at 0x10c02c950>"
      ]
     },
     "execution_count": 8,
     "metadata": {},
     "output_type": "execute_result"
    }
   ],
   "source": [
    "Grandchild()"
   ]
  },
  {
   "cell_type": "code",
   "execution_count": 9,
   "metadata": {},
   "outputs": [],
   "source": [
    "class Parent():\n",
    "    def __init__(self):\n",
    "        print(\"I'm a parent!\")\n",
    "        \n",
    "class SuperChild(Parent):\n",
    "    def __init__(self):\n",
    "        # notice super() and not calling directly parent class\n",
    "        super().__init__() \n",
    "        print(\"I'm a super child!\")\n",
    "        \n",
    "class Grandchild(SuperChild):\n",
    "    def __init__(self):\n",
    "        # notice super() and not calling directly parent class\n",
    "        super().__init__()\n",
    "        print(\"I'm a grandchild!\")"
   ]
  },
  {
   "cell_type": "code",
   "execution_count": 10,
   "metadata": {},
   "outputs": [
    {
     "name": "stdout",
     "output_type": "stream",
     "text": [
      "I'm a parent!\n",
      "I'm a super child!\n",
      "I'm a grandchild!\n"
     ]
    },
    {
     "data": {
      "text/plain": [
       "<__main__.Grandchild at 0x110ae53d0>"
      ]
     },
     "execution_count": 10,
     "metadata": {},
     "output_type": "execute_result"
    }
   ],
   "source": [
    "Grandchild()"
   ]
  },
  {
   "cell_type": "markdown",
   "metadata": {},
   "source": [
    "If we need to find out all the methods of the class"
   ]
  },
  {
   "cell_type": "code",
   "execution_count": 12,
   "metadata": {},
   "outputs": [
    {
     "data": {
      "text/plain": [
       "['__class__',\n",
       " '__delattr__',\n",
       " '__dict__',\n",
       " '__dir__',\n",
       " '__doc__',\n",
       " '__eq__',\n",
       " '__format__',\n",
       " '__ge__',\n",
       " '__getattribute__',\n",
       " '__gt__',\n",
       " '__hash__',\n",
       " '__init__',\n",
       " '__init_subclass__',\n",
       " '__le__',\n",
       " '__lt__',\n",
       " '__module__',\n",
       " '__ne__',\n",
       " '__new__',\n",
       " '__reduce__',\n",
       " '__reduce_ex__',\n",
       " '__repr__',\n",
       " '__setattr__',\n",
       " '__sizeof__',\n",
       " '__str__',\n",
       " '__subclasshook__',\n",
       " '__weakref__']"
      ]
     },
     "execution_count": 12,
     "metadata": {},
     "output_type": "execute_result"
    }
   ],
   "source": [
    "# do not use in scripts\n",
    "dir(Grandchild)"
   ]
  },
  {
   "cell_type": "markdown",
   "metadata": {},
   "source": [
    "# Documentation\n",
    "\n",
    "Documentation can come in many forms:\n",
    "- Comments\n",
    "    - used inline to explain code\n",
    "    - goal is to make code more readable for people\n",
    "    - explain *why* a line of code is doing something instead of *what*\n",
    "    -\n",
    "- Docstrings\n",
    "    - Audience is end-users\n",
    "    - It's what Python outputs when a user calls `help`\n",
    "    \n",
    "## Anatomy of a docstring"
   ]
  },
  {
   "cell_type": "code",
   "execution_count": null,
   "metadata": {},
   "outputs": [],
   "source": [
    "def function(x):\n",
    "    \"\"\"High level description of function\n",
    "    \n",
    "    Additional details on function\n",
    "    \n",
    "    :param x: description of parameter x\n",
    "    :return: description of return value\n",
    "    \n",
    "    >>> # Example function page\n",
    "    Expected output of example function usage\n",
    "    \"\"\""
   ]
  },
  {
   "cell_type": "markdown",
   "metadata": {},
   "source": [
    "This syntax is used by convention since downstream tools can optimise for it and convert into website based docs."
   ]
  },
  {
   "cell_type": "code",
   "execution_count": 13,
   "metadata": {},
   "outputs": [],
   "source": [
    "def square(x):\n",
    "    \"\"\"Square the number x\n",
    "    \n",
    "    :param x: number to square\n",
    "    :return: x squared\n",
    "    \n",
    "    >>> square(2)\n",
    "    4\n",
    "    \"\"\"\n",
    "    # 'x * x' is faster than 'x ** 2'\n",
    "    # reference: https://stackoverflow.com/a/29055266/5731525\n",
    "    return x * x"
   ]
  },
  {
   "cell_type": "code",
   "execution_count": 14,
   "metadata": {},
   "outputs": [
    {
     "name": "stdout",
     "output_type": "stream",
     "text": [
      "Help on function square in module __main__:\n",
      "\n",
      "square(x)\n",
      "    Square the number x\n",
      "    \n",
      "    :param x: number to square\n",
      "    :return: x squared\n",
      "    \n",
      "    >>> square(2)\n",
      "    4\n",
      "\n"
     ]
    }
   ],
   "source": [
    "help(square)"
   ]
  },
  {
   "cell_type": "markdown",
   "metadata": {},
   "source": [
    "## Readability counts"
   ]
  },
  {
   "cell_type": "markdown",
   "metadata": {},
   "source": [
    "Some rules of thumb:\n",
    "- Good to describe what the function does without being overly descriptive\n",
    "- If a function cannot fit on the screen it's probably too big\n",
    "- We should split different functionality across functions\n",
    "- Functions should achieve only one thing\n",
    "- If it's hard to think of a meaningful name for the function, then ti's probably doing too much"
   ]
  },
  {
   "cell_type": "code",
   "execution_count": null,
   "metadata": {},
   "outputs": [],
   "source": []
  }
 ],
 "metadata": {
  "kernelspec": {
   "display_name": "Python 3",
   "language": "python",
   "name": "python3"
  },
  "language_info": {
   "codemirror_mode": {
    "name": "ipython",
    "version": 3
   },
   "file_extension": ".py",
   "mimetype": "text/x-python",
   "name": "python",
   "nbconvert_exporter": "python",
   "pygments_lexer": "ipython3",
   "version": "3.7.5"
  },
  "toc": {
   "base_numbering": 1,
   "nav_menu": {},
   "number_sections": true,
   "sideBar": true,
   "skip_h1_title": false,
   "title_cell": "Table of Contents",
   "title_sidebar": "Contents",
   "toc_cell": false,
   "toc_position": {},
   "toc_section_display": true,
   "toc_window_display": false
  },
  "varInspector": {
   "cols": {
    "lenName": 16,
    "lenType": 16,
    "lenVar": 40
   },
   "kernels_config": {
    "python": {
     "delete_cmd_postfix": "",
     "delete_cmd_prefix": "del ",
     "library": "var_list.py",
     "varRefreshCmd": "print(var_dic_list())"
    },
    "r": {
     "delete_cmd_postfix": ") ",
     "delete_cmd_prefix": "rm(",
     "library": "var_list.r",
     "varRefreshCmd": "cat(var_dic_list()) "
    }
   },
   "types_to_exclude": [
    "module",
    "function",
    "builtin_function_or_method",
    "instance",
    "_Feature"
   ],
   "window_display": false
  }
 },
 "nbformat": 4,
 "nbformat_minor": 4
}
