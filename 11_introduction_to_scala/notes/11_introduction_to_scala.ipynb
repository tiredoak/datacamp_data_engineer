{
 "cells": [
  {
   "cell_type": "markdown",
   "metadata": {},
   "source": [
    "# A Scalable Language"
   ]
  },
  {
   "cell_type": "markdown",
   "metadata": {},
   "source": [
    "Scala is a general-purpose programming language providing support for functional programming and a strong static type system. Designed to be concise, many of Scala's design decision aimed to address criticisms of Java.\n",
    "\n",
    "Scala source code is intended to be compiled to Java bytecode, so that the resulting executable code runs on a Java virtual machine."
   ]
  },
  {
   "cell_type": "markdown",
   "metadata": {},
   "source": [
    "## Why use Scala?\n",
    "\n",
    "Scala is designed to be scalable language. It is:\n",
    "- flexible:\n",
    "    - we can add new types, collections, and control structures that feel like they are built-in to the language\n",
    "- convenient:\n",
    "    - the Scala standard library has a set of convenient predefined types, collections, and control constructs\n",
    "- concise\n",
    "- high-level\n",
    "- compatible"
   ]
  },
  {
   "cell_type": "markdown",
   "metadata": {},
   "source": [
    "## Who uses Scala?\n",
    "\n",
    "- Software Engineer\n",
    "- Data Engineer\n",
    "- Data Scientist\n",
    "- Machine Learning Engineer"
   ]
  },
  {
   "cell_type": "markdown",
   "metadata": {},
   "source": [
    "## A bit about Scala\n",
    "\n",
    "Scala combines Object-Oriented Programming with Functional Programming.\n",
    "\n",
    "OOP:\n",
    "- Every value is an object\n",
    "- Every operation is a method call\n",
    "\n",
    "FP:\n",
    "- Functions are first-class values\n",
    "- Operations of a program should map input values to output values rather than change data in place (functions should not have side-effects)"
   ]
  },
  {
   "cell_type": "markdown",
   "metadata": {},
   "source": [
    "## Scala basics"
   ]
  },
  {
   "cell_type": "code",
   "execution_count": 5,
   "metadata": {},
   "outputs": [
    {
     "name": "stdout",
     "output_type": "stream",
     "text": [
      "3\n"
     ]
    },
    {
     "data": {
      "text/plain": [
       "difference: Int = 3\n"
      ]
     },
     "execution_count": 5,
     "metadata": {},
     "output_type": "execute_result"
    }
   ],
   "source": [
    "val difference = 8 - 5\n",
    "// this is the same as \n",
    "// val difference = 8.-(5)\n",
    "\n",
    "println(difference)"
   ]
  },
  {
   "cell_type": "markdown",
   "metadata": {},
   "source": [
    "## Immutable variables (`val`) and value types"
   ]
  },
  {
   "cell_type": "markdown",
   "metadata": {},
   "source": [
    "We're coding a 21 game\n",
    "\n",
    "- 2-10: face value\n",
    "- J, Q, K: 10\n",
    "- A: 1-11 (player's choice)\n",
    "- Each player starts with 2 cards\n",
    "- Goal: get 21 points or as close to it as possible\n",
    "    - More than 21 points, you lose"
   ]
  },
  {
   "cell_type": "markdown",
   "metadata": {},
   "source": [
    "### `val` and `var`\n",
    "\n",
    "Scala has two types of variables: `val` and `var`\n",
    "\n",
    "`val`:\n",
    "- `val` is **immutable** (once initialised, it cannot be reassigned)\n",
    "- e.g. 4 in the game 21\n",
    "- defined with `val fourHearts: Int = 4`"
   ]
  },
  {
   "cell_type": "code",
   "execution_count": 8,
   "metadata": {},
   "outputs": [
    {
     "data": {
      "text/plain": [
       "fourHearts: Int = 4\n"
      ]
     },
     "execution_count": 8,
     "metadata": {},
     "output_type": "execute_result"
    }
   ],
   "source": [
    "val fourHearts: Int = 4"
   ]
  },
  {
   "cell_type": "code",
   "execution_count": 9,
   "metadata": {},
   "outputs": [
    {
     "ename": "<console>",
     "evalue": "27: error: reassignment to val",
     "output_type": "error",
     "traceback": [
      "<console>:27: error: reassignment to val",
      "       fourHearts = 5",
      "                  ^",
      ""
     ]
    }
   ],
   "source": [
    "// because it's a val we cannot change its value\n",
    "fourHearts = 5"
   ]
  },
  {
   "cell_type": "markdown",
   "metadata": {},
   "source": [
    "`var`:\n",
    "- mutable\n",
    "- e.g. an Ace in 21\n",
    "- defined with `var aceSpaces: Int = 1`"
   ]
  },
  {
   "cell_type": "code",
   "execution_count": 17,
   "metadata": {},
   "outputs": [
    {
     "data": {
      "text/plain": [
       "aceSpaces: Int = 1\n"
      ]
     },
     "execution_count": 17,
     "metadata": {},
     "output_type": "execute_result"
    }
   ],
   "source": [
    "var aceSpaces: Int = 1"
   ]
  },
  {
   "cell_type": "code",
   "execution_count": 18,
   "metadata": {},
   "outputs": [
    {
     "data": {
      "text/plain": [
       "aceSpaces: Int = 3\n"
      ]
     },
     "execution_count": 18,
     "metadata": {},
     "output_type": "execute_result"
    }
   ],
   "source": [
    "// note ehow we can reassign\n",
    "aceSpaces = 3"
   ]
  },
  {
   "cell_type": "markdown",
   "metadata": {},
   "source": [
    "#### Pros and cons of immutability\n",
    "\n",
    "In Scala, we prefer to use `val`s whenever possible.\n",
    "\n",
    "Pros:\n",
    "- Your data won't change inadvertently (this is a form of defensive coding)\n",
    "- The code is easier to reason about (since we don't have to mentally juggle all the places where the data can change)\n",
    "- Fewer tests\n",
    "\n",
    "Cons:\n",
    "- More memory required due to data copying (since `val`s cannot be reassigned the variable is copied more frequently which can make the program a little larger)\n",
    "\n",
    "> Scala nudges use towards immutability. Because we are forced to copy our objects each time we want to make a change, we become much more conscious of how and when we change our application's state. With this philosophy, we receive fewer possible states within our app, fewer defects, and a codebase that is easier to maintain."
   ]
  },
  {
   "cell_type": "markdown",
   "metadata": {},
   "source": [
    "## Scala value types\n",
    "\n",
    "**All** variables have types. \n",
    "\n",
    "The following are the variable types in Scala:\n",
    "\n",
    "- `Double`\n",
    "- `Float`\n",
    "- `Long`\n",
    "- `Int`\n",
    "- `Short`\n",
    "- `Byte`\n",
    "- `Char` (a sequence of `Char` makes a `String`)\n",
    "- `Boolean`\n",
    "- `Unit`\n",
    "\n",
    "All of these scala types (except for `Unit`) have equivalent Java primitive types that live in the package `java.lang`. When we compile Scala code to Java bytecode, the Scala compiler will choose these Java types where possible, which greatly helps with performance."
   ]
  },
  {
   "cell_type": "markdown",
   "metadata": {},
   "source": [
    "### `Double`s vs `Float`s"
   ]
  },
  {
   "cell_type": "code",
   "execution_count": 10,
   "metadata": {},
   "outputs": [
    {
     "data": {
      "text/plain": [
       "piDouble: Double = 3.141592653589793\n"
      ]
     },
     "execution_count": 10,
     "metadata": {},
     "output_type": "execute_result"
    }
   ],
   "source": [
    "val piDouble: Double = 3.1415926535897932384626433832795028"
   ]
  },
  {
   "cell_type": "markdown",
   "metadata": {},
   "source": [
    "- `Double` is more precise than `Float` (it can store pi to 15 points past the decimal point)"
   ]
  },
  {
   "cell_type": "code",
   "execution_count": 11,
   "metadata": {},
   "outputs": [
    {
     "data": {
      "text/plain": [
       "piFloat: Float = 3.1415927\n"
      ]
     },
     "execution_count": 11,
     "metadata": {},
     "output_type": "execute_result"
    }
   ],
   "source": [
    "// notice the 'f' at the end - that specifies we want a float\n",
    "val piFloat: Float = 3.1415926535897932384626433832795028f"
   ]
  },
  {
   "cell_type": "code",
   "execution_count": 12,
   "metadata": {},
   "outputs": [
    {
     "ename": "<console>",
     "evalue": "24: error: type mismatch;",
     "output_type": "error",
     "traceback": [
      "<console>:24: error: type mismatch;",
      " found   : Double(3.141592653589793)",
      " required: Float",
      "       val piFloat2: Float = 3.1415926535897932384626433832795028",
      "                             ^",
      ""
     ]
    }
   ],
   "source": [
    "// if we don't specify the 'f' we get a type mismatch error\n",
    "val piFloat2: Float = 3.1415926535897932384626433832795028"
   ]
  },
  {
   "cell_type": "markdown",
   "metadata": {},
   "source": [
    "### `Int`\n",
    "\n",
    "- 32-bit signed integer\n",
    "- -2^31 to 2^31-1, inclusive"
   ]
  },
  {
   "cell_type": "markdown",
   "metadata": {},
   "source": [
    "### `Boolean`\n"
   ]
  },
  {
   "cell_type": "code",
   "execution_count": 13,
   "metadata": {},
   "outputs": [
    {
     "data": {
      "text/plain": [
       "handBusts: Boolean = true\n"
      ]
     },
     "execution_count": 13,
     "metadata": {},
     "output_type": "execute_result"
    }
   ],
   "source": [
    "val handBusts: Boolean = true"
   ]
  },
  {
   "cell_type": "markdown",
   "metadata": {},
   "source": [
    "### `String`\n",
    "\n",
    "A `String` is a sequence of `Char`"
   ]
  },
  {
   "cell_type": "code",
   "execution_count": 14,
   "metadata": {},
   "outputs": [
    {
     "data": {
      "text/plain": [
       "symbolAceSpaces: String = A♠\n"
      ]
     },
     "execution_count": 14,
     "metadata": {},
     "output_type": "execute_result"
    }
   ],
   "source": [
    "val symbolAceSpaces: String = \"A♠\""
   ]
  },
  {
   "cell_type": "markdown",
   "metadata": {},
   "source": [
    "### A deeper look at `Int`\n",
    "\n",
    "The full name of `Int` is `scala.Int` but we can omit `scala` since it's automatically imported to scala source file.\n",
    "\n",
    "Every value in scala is an object. `fourHearts` is an object."
   ]
  },
  {
   "cell_type": "markdown",
   "metadata": {},
   "source": [
    "## Creating 21 in Scala"
   ]
  },
  {
   "cell_type": "code",
   "execution_count": 15,
   "metadata": {},
   "outputs": [
    {
     "data": {
      "text/plain": [
       "twoClubs: Int = 2\n",
       "threeClubs: Int = 3\n",
       "fourClubs: Int = 4\n"
      ]
     },
     "execution_count": 15,
     "metadata": {},
     "output_type": "execute_result"
    }
   ],
   "source": [
    "// Define immutable variables for clubs 2♣ through 4♣\n",
    "val twoClubs: Int = 2\n",
    "val threeClubs: Int = 3\n",
    "val fourClubs: Int = 4"
   ]
  },
  {
   "cell_type": "code",
   "execution_count": 16,
   "metadata": {},
   "outputs": [
    {
     "data": {
      "text/plain": [
       "playerA: String = Alex\n",
       "playerB: String = Chen\n",
       "playerC: String = Umberto\n"
      ]
     },
     "execution_count": 16,
     "metadata": {},
     "output_type": "execute_result"
    }
   ],
   "source": [
    "// Define immutable variables for player names\n",
    "val playerA: String = \"Alex\"\n",
    "val playerB: String = \"Chen\"\n",
    "val playerC: String = \"Umberto\""
   ]
  },
  {
   "cell_type": "markdown",
   "metadata": {},
   "source": [
    "## Type Inference\n",
    "\n",
    "Scala is actually smart in that we don't have to specify types all the time."
   ]
  },
  {
   "cell_type": "code",
   "execution_count": 19,
   "metadata": {},
   "outputs": [
    {
     "data": {
      "text/plain": [
       "fiveHearts: Int = 4\n"
      ]
     },
     "execution_count": 19,
     "metadata": {},
     "output_type": "execute_result"
    }
   ],
   "source": [
    "// we are omitting \": Int\" but type inference makes Scala \"get it\"\n",
    "val fiveHearts = 4"
   ]
  },
  {
   "cell_type": "markdown",
   "metadata": {},
   "source": [
    "Also notice how there are no `;` at the end of the lines. We could add them, but most Scala programmers do not."
   ]
  },
  {
   "cell_type": "markdown",
   "metadata": {},
   "source": [
    "## Back to the 21 game"
   ]
  },
  {
   "cell_type": "code",
   "execution_count": 20,
   "metadata": {},
   "outputs": [
    {
     "data": {
      "text/plain": [
       "aceClubs: Int = 1\n",
       "aceDiamonds: Int = 1\n",
       "aceHearts: Int = 1\n",
       "aceSpades: Int = 1\n"
      ]
     },
     "execution_count": 20,
     "metadata": {},
     "output_type": "execute_result"
    }
   ],
   "source": [
    "// Define mutable variables for all aces\n",
    "// levering type inference\n",
    "var aceClubs = 1\n",
    "var aceDiamonds = 1\n",
    "var aceHearts = 1\n",
    "var aceSpades = 1"
   ]
  },
  {
   "cell_type": "markdown",
   "metadata": {},
   "source": [
    "# Workflows, Functions, Collections"
   ]
  },
  {
   "cell_type": "markdown",
   "metadata": {},
   "source": [
    "## Scala Scripts\n",
    "\n",
    "- A sequence of isntructions in a file, executed sequentially\n",
    "- Useful for smaller projects\n",
    "- At a command prompt, the `scala` command executes a script  by wrapping  it in a template and then compiling and executing the resulting program\n",
    "\n",
    "If we write this to `game.scala`"
   ]
  },
  {
   "cell_type": "code",
   "execution_count": 21,
   "metadata": {},
   "outputs": [
    {
     "name": "stdout",
     "output_type": "stream",
     "text": [
      "Let's play Twenty-One!\n"
     ]
    }
   ],
   "source": [
    "// game.scala\n",
    "println(\"Let's play Twenty-One!\")"
   ]
  },
  {
   "cell_type": "code",
   "execution_count": 22,
   "metadata": {},
   "outputs": [],
   "source": [
    "!touch game.scala"
   ]
  },
  {
   "cell_type": "code",
   "execution_count": 23,
   "metadata": {},
   "outputs": [
    {
     "name": "stdout",
     "output_type": "stream",
     "text": [
      "Let's play Twenty-One!\r\n",
      "\n"
     ]
    }
   ],
   "source": [
    "// this runs the scala script\n",
    "!scala game.scala"
   ]
  },
  {
   "cell_type": "markdown",
   "metadata": {},
   "source": [
    "## Interpreted language vs compiled language\n",
    "\n",
    "**Interpreter**: a program that directly executes instructions written in a programming language, without requiring them previously to have been compiled into machine code. \n",
    "\n",
    "**Compiler**: a program that translates source code from a high-level programming language to a lower level language (e.g. machine code) to create an executable program.\n",
    "\n",
    "The Scala interpreter hides the compilation step making it seem the code is run immediately. The same applies to scala scripts."
   ]
  },
  {
   "cell_type": "markdown",
   "metadata": {},
   "source": [
    "## Scala Applications\n",
    "\n",
    "Scala applications *must be* compiled explicitly then run explicitly. Scala applications:\n",
    "- Consist of many source files that can be compiled individually\n",
    "- Useful for larger programs\n",
    "- No lag time since applications are precompiled (whereas scripts are compileed and executed every time)"
   ]
  },
  {
   "cell_type": "markdown",
   "metadata": {},
   "source": [
    "## Converting the script `game.scala` to an application\n",
    "\n",
    "1. Change the code in the file"
   ]
  },
  {
   "cell_type": "code",
   "execution_count": 24,
   "metadata": {},
   "outputs": [
    {
     "data": {
      "text/plain": [
       "defined object Game\n"
      ]
     },
     "execution_count": 24,
     "metadata": {},
     "output_type": "execute_result"
    }
   ],
   "source": [
    "object Game extends App {\n",
    "    println(\"Let's play Twenty-One!\")\n",
    "}"
   ]
  },
  {
   "cell_type": "code",
   "execution_count": 28,
   "metadata": {},
   "outputs": [],
   "source": [
    "!touch GameApp.scala"
   ]
  },
  {
   "cell_type": "markdown",
   "metadata": {},
   "source": [
    "2. Compile with `scalac` (scala compiler, `scalac`, translates the scala code to bytecode)"
   ]
  },
  {
   "cell_type": "code",
   "execution_count": 29,
   "metadata": {},
   "outputs": [],
   "source": [
    "!scalac GameApp.scala"
   ]
  },
  {
   "cell_type": "markdown",
   "metadata": {},
   "source": [
    "3. Run with scala (it's at this step that the compiled code is executed on the Java Virtual Machine)"
   ]
  },
  {
   "cell_type": "code",
   "execution_count": 30,
   "metadata": {},
   "outputs": [
    {
     "name": "stdout",
     "output_type": "stream",
     "text": [
      "Let's play Twenty-One!\r\n",
      "\n"
     ]
    }
   ],
   "source": [
    "!scala GameApp.scala"
   ]
  },
  {
   "cell_type": "markdown",
   "metadata": {},
   "source": [
    "## Pros and cons of compiled languages\n",
    "\n",
    "Pros:\n",
    "- Increased performance once compiled\n",
    "\n",
    "Cons:\n",
    "- It takes time to compile code (sometimes minutes!)\n",
    "\n",
    "The main benefit of compiled code is that it's faster, which becomes evident in large programs. The drawback is that it takes time to do the compiling, sometimes on the order of minutes for large Scala programs. This trade-off is usually worth it, especially for applications with pieces of code that will be run many many times (example: Twitter)."
   ]
  },
  {
   "cell_type": "markdown",
   "metadata": {},
   "source": [
    "## Programming in Scala\n",
    "\n",
    "Programmers either program in Scala:\n",
    "1. Using the command line\n",
    "2. Using an IDE (most popular is IntelliJ IDEA with Scala plug-in)\n",
    "3. Jupyter with `almond` kernel"
   ]
  },
  {
   "cell_type": "markdown",
   "metadata": {},
   "source": [
    "## Build files in Scala\n",
    "\n",
    "The most popular tool for building Scala apps is called `sbt`\n",
    "- Simple build tool\n",
    "- Compiles, runs and test Scala applications"
   ]
  },
  {
   "cell_type": "markdown",
   "metadata": {},
   "source": [
    "## Functions\n",
    "\n",
    "Being a functional programming language is one of Scala's core differentiating traits. \n",
    "\n",
    "Our goal in this course is to understand:\n",
    "- What functions are\n",
    "- How to call a function\n",
    "\n",
    "### What do functions do?\n",
    "\n",
    "- Functions are invoked with a list of arguments to produce a result\n",
    "\n",
    "### What are the parts of a function?\n",
    "\n",
    "1. Parameter list\n",
    "2. Body\n",
    "3. Result type\n",
    "\n",
    "In this course, we'll focus on the body."
   ]
  },
  {
   "cell_type": "markdown",
   "metadata": {},
   "source": [
    "### Defining a function for going bust in 21"
   ]
  },
  {
   "cell_type": "code",
   "execution_count": 31,
   "metadata": {},
   "outputs": [
    {
     "data": {
      "text/plain": [
       "bust: (hand: Int)Boolean\n"
      ]
     },
     "execution_count": 31,
     "metadata": {},
     "output_type": "execute_result"
    }
   ],
   "source": [
    "// \": Boolean\" is optional\n",
    "def bust(hand: Int): Boolean = {\n",
    "    // function body\n",
    "    hand > 21\n",
    "}"
   ]
  },
  {
   "cell_type": "code",
   "execution_count": 36,
   "metadata": {},
   "outputs": [
    {
     "data": {
      "text/plain": [
       "bust: (hand: Int)Boolean\n"
      ]
     },
     "execution_count": 36,
     "metadata": {},
     "output_type": "execute_result"
    }
   ],
   "source": [
    "// simpler syntax\n",
    "// notice \"=\" and recall functions are first class values!\n",
    "def bust(hand: Int) = {\n",
    "    hand > 21\n",
    "}"
   ]
  },
  {
   "cell_type": "markdown",
   "metadata": {},
   "source": [
    "- Functions are invoked/called with a list of arguments to produce a result\n",
    "- Functions are first-class **values**\n",
    "- All functions produce a result\n",
    "    - All results have values\n",
    "        - All values have value types"
   ]
  },
  {
   "cell_type": "markdown",
   "metadata": {},
   "source": [
    "## Sneak peek at future course\n",
    "\n",
    "Future courses discuss the different *kings of functions*\n",
    "- Method\n",
    "    - functions that are members of a class, trait, or singleton object\n",
    "- Local function\n",
    "    - functions that are defined inside other functions\n",
    "- Procedure\n",
    "    - functions with the result type of `Unit`\n",
    "- Function literal\n",
    "    - anonymous functions in source code (at run time, function literals are instantiated into objects called *function values*)"
   ]
  },
  {
   "cell_type": "markdown",
   "metadata": {},
   "source": [
    "## Collections\n",
    "\n",
    "Collections are very useful in Scala. Just like variables, they can be *mutable* or *immutable*.\n",
    "\n",
    "- Mutable collections\n",
    "    - Can be updated or extended in place\n",
    "        - We can change, add, or remove elements of the collection\n",
    "- Immutable collections\n",
    "    - Never change\n",
    "    - They have operations which simulate the changing, adding or removal of the collection but they return a copy of the original collection with the operation applied to it\n",
    "    \n",
    "### Array\n",
    "\n",
    "Arrays are mutable sequences of objects that *share the same type*.\n",
    "\n",
    "- Parameterizing an array means to configure its types and parameters values\n",
    "- Initializing elements of an array means to give the array data"
   ]
  },
  {
   "cell_type": "code",
   "execution_count": 37,
   "metadata": {},
   "outputs": [
    {
     "data": {
      "text/plain": [
       "players: Array[String] = Array(Alex, Chen, Marta)\n"
      ]
     },
     "execution_count": 37,
     "metadata": {},
     "output_type": "execute_result"
    }
   ],
   "source": [
    "val players = Array(\"Alex\", \"Chen\", \"Marta\")"
   ]
  },
  {
   "cell_type": "markdown",
   "metadata": {},
   "source": [
    "We can be more explicit and separate the parameterization from the initialization."
   ]
  },
  {
   "cell_type": "code",
   "execution_count": 38,
   "metadata": {},
   "outputs": [
    {
     "data": {
      "text/plain": [
       "players: Array[String] = Array(null, null, null)\n"
      ]
     },
     "execution_count": 38,
     "metadata": {},
     "output_type": "execute_result"
    }
   ],
   "source": [
    "// all Collections have a type parameter specifying what type they hold\n",
    "// here, it's String\n",
    "val players = new Array[String](3)"
   ]
  },
  {
   "cell_type": "markdown",
   "metadata": {},
   "source": [
    "The type of players is `Array[String]` not `Array[String](3)` (naturally)"
   ]
  },
  {
   "cell_type": "markdown",
   "metadata": {},
   "source": [
    "#### Initializing elements of the array"
   ]
  },
  {
   "cell_type": "code",
   "execution_count": 41,
   "metadata": {},
   "outputs": [],
   "source": [
    "// notice we use \"()\" and not \"[]\" like in Python\n",
    "players(0) = \"Alex\"\n",
    "players(1) = \"Chen\"\n",
    "players(2) = \"Marta\""
   ]
  },
  {
   "cell_type": "markdown",
   "metadata": {},
   "source": [
    "#### About mutability and arrays\n",
    "\n",
    "Note that `players` is a `val` and `val`s cannot be reassigned. However, if the object to which that `val` refers is mutable (like an `Array` is) that object *can* change."
   ]
  },
  {
   "cell_type": "code",
   "execution_count": 42,
   "metadata": {},
   "outputs": [],
   "source": [
    "// possible because Arrays are mutable\n",
    "players(0) = \"Sindhu\""
   ]
  },
  {
   "cell_type": "code",
   "execution_count": 43,
   "metadata": {},
   "outputs": [
    {
     "ename": "<console>",
     "evalue": "30: error: type mismatch;",
     "output_type": "error",
     "traceback": [
      "<console>:30: error: type mismatch;",
      " found   : Int(500)",
      " required: String",
      "       players(0) = 500",
      "                    ^",
      ""
     ]
    }
   ],
   "source": [
    "// this only works if the new type is the same \n",
    "// will crash because Int is not a String\n",
    "players(0) = 500"
   ]
  },
  {
   "cell_type": "markdown",
   "metadata": {},
   "source": [
    "> In Scala it is recommended to make mutable collections `val`s so we don't have to keep track of two things that can change."
   ]
  },
  {
   "cell_type": "markdown",
   "metadata": {},
   "source": [
    "#### `Any`\n",
    "\n",
    "We can mix and match types with the type `Any` (we'll see this better later)"
   ]
  },
  {
   "cell_type": "code",
   "execution_count": 44,
   "metadata": {},
   "outputs": [
    {
     "data": {
      "text/plain": [
       "mixedTypes: Array[Any] = Array(null, null, null)\n"
      ]
     },
     "execution_count": 44,
     "metadata": {},
     "output_type": "execute_result"
    }
   ],
   "source": [
    "val mixedTypes = new Array[Any](3)"
   ]
  },
  {
   "cell_type": "code",
   "execution_count": 45,
   "metadata": {},
   "outputs": [],
   "source": [
    "mixedTypes(0) = \"Miguel Carvalho\"\n",
    "mixedTypes(1) = 28\n",
    "mixedTypes(2) = true"
   ]
  },
  {
   "cell_type": "code",
   "execution_count": 46,
   "metadata": {},
   "outputs": [
    {
     "data": {
      "text/plain": [
       "res13: Array[Any] = Array(Miguel Carvalho, 28, true)\n"
      ]
     },
     "execution_count": 46,
     "metadata": {},
     "output_type": "execute_result"
    }
   ],
   "source": [
    "mixedTypes"
   ]
  },
  {
   "cell_type": "markdown",
   "metadata": {},
   "source": [
    "## Back to 21 game"
   ]
  },
  {
   "cell_type": "code",
   "execution_count": 47,
   "metadata": {},
   "outputs": [
    {
     "data": {
      "text/plain": [
       "handsExplicit: Array[Int] = Array(0, 0, 0)\n"
      ]
     },
     "execution_count": 47,
     "metadata": {},
     "output_type": "execute_result"
    }
   ],
   "source": [
    "// Create and parameterize an array for a round of Twenty-One\n",
    "// larger syntax\n",
    "val handsExplicit: Array[Int] = new Array[Int](3)"
   ]
  },
  {
   "cell_type": "code",
   "execution_count": 48,
   "metadata": {},
   "outputs": [
    {
     "data": {
      "text/plain": [
       "hands: Array[Int] = Array(0, 0, 0)\n"
      ]
     },
     "execution_count": 48,
     "metadata": {},
     "output_type": "execute_result"
    }
   ],
   "source": [
    "// we  can sue this shorter syntax because Scala can infer it from \n",
    "// the Array[Int] on the right hand side\n",
    "val hands = new Array[Int](3)"
   ]
  },
  {
   "cell_type": "code",
   "execution_count": 50,
   "metadata": {},
   "outputs": [
    {
     "data": {
      "text/plain": [
       "tenClubs: Int = 10\n",
       "fourDiamonds: Int = 10\n",
       "nineSpades: Int = 9\n",
       "nineHearts: Int = 9\n",
       "twoClubs: Int = 2\n",
       "threeSpades: Int = 3\n"
      ]
     },
     "execution_count": 50,
     "metadata": {},
     "output_type": "execute_result"
    }
   ],
   "source": [
    "val tenClubs = 10\n",
    "val fourDiamonds = 10\n",
    "val nineSpades = 9\n",
    "val nineHearts = 9\n",
    "val twoClubs = 2\n",
    "val threeSpades = 3"
   ]
  },
  {
   "cell_type": "code",
   "execution_count": 51,
   "metadata": {},
   "outputs": [
    {
     "data": {
      "text/plain": [
       "hands: Array[Int] = Array(20, 18, 5)\n"
      ]
     },
     "execution_count": 51,
     "metadata": {},
     "output_type": "execute_result"
    }
   ],
   "source": [
    "// Create, parameterize, and initialize an array for a round of \n",
    "// Twenty-One\n",
    "val hands = Array(tenClubs + fourDiamonds,\n",
    "              nineSpades + nineHearts,\n",
    "              twoClubs + threeSpades)"
   ]
  },
  {
   "cell_type": "markdown",
   "metadata": {},
   "source": [
    "We'll often use this technique in practice but note that the code loses clarity since the type `Int` isn't explicit. It could be that one of the variables was not an `Int` and if we accidentally initialized the array with a variable that is not an `Int`, the array's type would be `Array[Any]` since the array would have mixed types."
   ]
  },
  {
   "cell_type": "markdown",
   "metadata": {},
   "source": [
    "> Arrays aren't commonly used in Scala as their mutability encourages side effects"
   ]
  },
  {
   "cell_type": "markdown",
   "metadata": {},
   "source": [
    "## Lists\n",
    "\n",
    "This is the most commonly used `Collection` is Scala. `Array`s are mutable `Collection`s while `List`s is an *immutable* list of objects."
   ]
  },
  {
   "cell_type": "markdown",
   "metadata": {},
   "source": [
    "`List`s are immutable collections which share the same type (a gotcha is that they *can* have mixed types if they share the same `Any` type)"
   ]
  },
  {
   "cell_type": "code",
   "execution_count": 57,
   "metadata": {},
   "outputs": [
    {
     "data": {
      "text/plain": [
       "playersList: List[String] = List(Alex, Chen, Marta)\n"
      ]
     },
     "execution_count": 57,
     "metadata": {},
     "output_type": "execute_result"
    }
   ],
   "source": [
    "// defining a list\n",
    "// the type of this variable is \"List String\"\n",
    "val playersList = List(\"Alex\", \"Chen\", \"Marta\")"
   ]
  },
  {
   "cell_type": "markdown",
   "metadata": {},
   "source": [
    "### How are `List`s useful while immutable?\n",
    "\n",
    "`List`s have methods, like all of Scala collections\n",
    "- *methods* are functions which belong to objects\n",
    "\n",
    "There are **many** `List` methods:\n",
    "- `myList.drop()`\n",
    "- `myList.mkString(\", \")`\n",
    "- `myList.length`\n",
    "- `myList.reverse`\n",
    "- ..."
   ]
  },
  {
   "cell_type": "code",
   "execution_count": 59,
   "metadata": {},
   "outputs": [
    {
     "data": {
      "text/plain": [
       "newPlayers: List[String] = List(Sindhu, Alex, Chen, Marta)\n"
      ]
     },
     "execution_count": 59,
     "metadata": {},
     "output_type": "execute_result"
    }
   ],
   "source": [
    "// example method\n",
    "// pre-pending a new player to our list\n",
    "// this is a new list with a new value\n",
    "val newPlayers = \"Sindhu\" :: playersList"
   ]
  },
  {
   "cell_type": "markdown",
   "metadata": {},
   "source": [
    "Alternatively, we can define a `List` as a `var` and assign the new list with Sindhu prepended to itself."
   ]
  },
  {
   "cell_type": "code",
   "execution_count": 60,
   "metadata": {},
   "outputs": [
    {
     "data": {
      "text/plain": [
       "players: List[String] = List(Alex, Chen, Marta)\n"
      ]
     },
     "execution_count": 60,
     "metadata": {},
     "output_type": "execute_result"
    }
   ],
   "source": [
    "var players = List(\"Alex\", \"Chen\", \"Marta\")"
   ]
  },
  {
   "cell_type": "code",
   "execution_count": 61,
   "metadata": {},
   "outputs": [
    {
     "data": {
      "text/plain": [
       "players: List[String] = List(Sindhu, Alex, Chen, Marta)\n"
      ]
     },
     "execution_count": 61,
     "metadata": {},
     "output_type": "execute_result"
    }
   ],
   "source": [
    "// this \"::\" is pronounced \"cons\" and it's unique to Lists\n",
    "players = \"Sindhu\" :: players"
   ]
  },
  {
   "cell_type": "markdown",
   "metadata": {},
   "source": [
    "> An append operation exists but it's rarely used since it's not efficient"
   ]
  },
  {
   "cell_type": "markdown",
   "metadata": {},
   "source": [
    "### `Nil`\n",
    "\n",
    "`Nil` is shorthand to specify and empty `List`"
   ]
  },
  {
   "cell_type": "code",
   "execution_count": 62,
   "metadata": {},
   "outputs": [
    {
     "data": {
      "text/plain": [
       "res15: scala.collection.immutable.Nil.type = List()\n"
      ]
     },
     "execution_count": 62,
     "metadata": {},
     "output_type": "execute_result"
    }
   ],
   "source": [
    "Nil"
   ]
  },
  {
   "cell_type": "markdown",
   "metadata": {},
   "source": [
    "A common way to initialize new lists is as follows"
   ]
  },
  {
   "cell_type": "code",
   "execution_count": 64,
   "metadata": {},
   "outputs": [
    {
     "data": {
      "text/plain": [
       "players: List[String] = List(Alex, Chen, Marta)\n"
      ]
     },
     "execution_count": 64,
     "metadata": {},
     "output_type": "execute_result"
    }
   ],
   "source": [
    "// notice the last Nil\n",
    "val players = \"Alex\" :: \"Chen\" :: \"Marta\" :: Nil"
   ]
  },
  {
   "cell_type": "code",
   "execution_count": 65,
   "metadata": {},
   "outputs": [
    {
     "ename": "<console>",
     "evalue": "24: error: value :: is not a member of String",
     "output_type": "error",
     "traceback": [
      "<console>:24: error: value :: is not a member of String",
      "       val players = \"Alex\" :: \"Chen\" :: \"Marta\"",
      "                                      ^",
      ""
     ]
    }
   ],
   "source": [
    "// without it it throws an error\n",
    "// Nil is needed because the cons operator is actually a method that\n",
    "// belongs to list objects\n",
    "val players = \"Alex\" :: \"Chen\" :: \"Marta\""
   ]
  },
  {
   "cell_type": "markdown",
   "metadata": {},
   "source": [
    "### Concatenating lists\n",
    "\n",
    "This can be done with `:::` "
   ]
  },
  {
   "cell_type": "code",
   "execution_count": 66,
   "metadata": {},
   "outputs": [
    {
     "data": {
      "text/plain": [
       "playersA: List[String] = List(Sindhu, Alex)\n",
       "playersB: List[String] = List(Chen, Marta)\n",
       "allPlayers: List[String] = List(Sindhu, Alex, Chen, Marta)\n"
      ]
     },
     "execution_count": 66,
     "metadata": {},
     "output_type": "execute_result"
    }
   ],
   "source": [
    "val playersA = List(\"Sindhu\", \"Alex\")\n",
    "val playersB = List(\"Chen\", \"Marta\")\n",
    "\n",
    "val allPlayers = playersA ::: playersB"
   ]
  },
  {
   "cell_type": "markdown",
   "metadata": {},
   "source": [
    "> Notice that `allPlayers` is a new list!"
   ]
  },
  {
   "cell_type": "markdown",
   "metadata": {},
   "source": [
    "## Back to 21"
   ]
  },
  {
   "cell_type": "code",
   "execution_count": 67,
   "metadata": {},
   "outputs": [
    {
     "name": "stdout",
     "output_type": "stream",
     "text": [
      "List(10, 15, 20, 25, 30)\n",
      "List(5, 10, 15, 20, 25, 30)\n"
     ]
    },
    {
     "data": {
      "text/plain": [
       "prizes: List[Int] = List(10, 15, 20, 25, 30)\n",
       "newPrizes: List[Int] = List(5, 10, 15, 20, 25, 30)\n"
      ]
     },
     "execution_count": 67,
     "metadata": {},
     "output_type": "execute_result"
    }
   ],
   "source": [
    "// Initialize a list with an element for each round's prize\n",
    "val prizes = List(10, 15, 20, 25, 30)\n",
    "println(prizes)\n",
    "\n",
    "// Prepend to prizes to add another round and prize\n",
    "val newPrizes = 5 :: prizes\n",
    "println(newPrizes)"
   ]
  },
  {
   "cell_type": "code",
   "execution_count": null,
   "metadata": {},
   "outputs": [],
   "source": [
    "// Initialize a list with an element each round's prize\n",
    "// this is more common syntax\n",
    "val prizes = 10 :: 15 :: 20 :: 25 :: 30 :: Nil\n",
    "println(prizes)"
   ]
  },
  {
   "cell_type": "code",
   "execution_count": 68,
   "metadata": {},
   "outputs": [
    {
     "data": {
      "text/plain": [
       "venuesNTOA: List[String] = List(The Grand Ballroom, Atlantis Casino, Doug's House)\n",
       "venuesEuroTO: List[String] = List(Five Seasons Hotel, The Electric Unicorn)\n",
       "venuesTOWorld: List[String] = List(The Grand Ballroom, Atlantis Casino, Doug's House, Five Seasons Hotel, The Electric Unicorn)\n"
      ]
     },
     "execution_count": 68,
     "metadata": {},
     "output_type": "execute_result"
    }
   ],
   "source": [
    "// The original NTOA and EuroTO venue lists\n",
    "val venuesNTOA = List(\"The Grand Ballroom\", \"Atlantis Casino\", \"Doug's House\")\n",
    "val venuesEuroTO = \"Five Seasons Hotel\" :: \"The Electric Unicorn\" :: Nil\n",
    "\n",
    "// Concatenate the North American and European venues\n",
    "val venuesTOWorld = venuesNTOA ::: venuesEuroTO"
   ]
  },
  {
   "cell_type": "markdown",
   "metadata": {},
   "source": [
    "# Type Systems, Control Structures and Style"
   ]
  },
  {
   "cell_type": "markdown",
   "metadata": {},
   "source": [
    "**Scala's static types help avoid bugs in complex applications**: let's analyze this more thoroughly."
   ]
  },
  {
   "cell_type": "markdown",
   "metadata": {},
   "source": [
    "##  Some definitions\n",
    "\n",
    "- **Type**: restricts the possible values to which a variable can refer, or an expression can produce, at run time\n",
    "- **Compile time**: when source code is translated into machine code, i.e. code that a computer can read\n",
    "- **Run time**: when a program is executing commands (after compilation, if compiled)\n",
    "\n",
    "- **Static type systems**: a language is statically typed if the type of a variable is known at compile time (that is, types are checked before run-time)\n",
    "    - Examples: C, C++, Fortran, Java, Scala\n",
    "- **Dynamic type systems**: a language is dynamically typed if types are checked on the fly, that is, types are checked during execution (i.e. run time)\n",
    "    - Examples: JavaScript, Ruby, R, Python"
   ]
  },
  {
   "cell_type": "markdown",
   "metadata": {},
   "source": [
    "### Pros and cons of static types\n",
    "\n",
    "Pros\n",
    "- Increased performance at run-time (by not having to \"guess\" types at run time)\n",
    "- Properties of the program are verified (i.e. prove the absence of common type-related bugs)\n",
    "-  Safe refactorings (when we re-compile the system after refactoring, Scala alerts of the lines we tweaked which caused a type error)\n",
    "- Documentation  (type annotations tell us what we expect the variable, collection or function to do; it's never out of date because the compiler checks  for correctness)\n",
    "\n",
    "Cons:\n",
    "- Takes time to check types (i.e. delay before execution)\n",
    "- Code is verbose\n",
    "    - partly solved through:\n",
    "        - advanced type inference\n",
    "- The language is not flexible\n",
    "    - partly solved through:\n",
    "        - pattern matching\n",
    "        - innovative  ways to write and compose types"
   ]
  },
  {
   "cell_type": "markdown",
   "metadata": {},
   "source": [
    "## Make decision with if and else"
   ]
  },
  {
   "cell_type": "code",
   "execution_count": 73,
   "metadata": {},
   "outputs": [
    {
     "data": {
      "text/plain": [
       "hand: Int = 24\n"
      ]
     },
     "execution_count": 73,
     "metadata": {},
     "output_type": "execute_result"
    }
   ],
   "source": [
    "val hand = 24"
   ]
  },
  {
   "cell_type": "code",
   "execution_count": 74,
   "metadata": {},
   "outputs": [
    {
     "name": "stdout",
     "output_type": "stream",
     "text": [
      "This hand busts!\n"
     ]
    }
   ],
   "source": [
    "// If this hand busts, print to output\n",
    "if (hand > 21) {\n",
    "    println(\"This hand busts!\")\n",
    "}"
   ]
  },
  {
   "cell_type": "code",
   "execution_count": 84,
   "metadata": {},
   "outputs": [
    {
     "name": "stdout",
     "output_type": "stream",
     "text": [
      "26\n"
     ]
    },
    {
     "data": {
      "text/plain": [
       "handA: Int = 26\n",
       "handB: Int = 20\n"
      ]
     },
     "execution_count": 84,
     "metadata": {},
     "output_type": "execute_result"
    }
   ],
   "source": [
    "val handA = 26\n",
    "val handB = 20\n",
    "\n",
    "// no curly braces if we use else!\n",
    "if (handA > handB) println(handA)\n",
    "else println(handB)"
   ]
  },
  {
   "cell_type": "code",
   "execution_count": 85,
   "metadata": {},
   "outputs": [
    {
     "name": "stdout",
     "output_type": "stream",
     "text": [
      "26\n"
     ]
    }
   ],
   "source": [
    "// Good style is also\n",
    "if (handA > handB)\n",
    "    println(handA)\n",
    "else\n",
    "    println(handB)"
   ]
  },
  {
   "cell_type": "code",
   "execution_count": 86,
   "metadata": {},
   "outputs": [
    {
     "name": "stdout",
     "output_type": "stream",
     "text": [
      "26\n"
     ]
    }
   ],
   "source": [
    "// if the line is short and readable we can one-line it\n",
    "if (handA > handB) println(handA) else println(handB)"
   ]
  },
  {
   "cell_type": "code",
   "execution_count": 87,
   "metadata": {},
   "outputs": [
    {
     "name": "stdout",
     "output_type": "stream",
     "text": [
      "20\n"
     ]
    }
   ],
   "source": [
    "// using else if\n",
    "if (bust(handA) & bust(handB)) println(0)\n",
    "else  if (bust(handA)) println(handB)\n",
    "else  if (bust(handB)) println(handA)\n",
    "else  if (handA > handB) println(handA)\n",
    "else println(handB)"
   ]
  },
  {
   "cell_type": "markdown",
   "metadata": {},
   "source": [
    "In Scala, `if` is an expression and expressions result in values. This means we can assign the result of an `if` to a `val`."
   ]
  },
  {
   "cell_type": "code",
   "execution_count": 88,
   "metadata": {},
   "outputs": [
    {
     "data": {
      "text/plain": [
       "maxHand: Int = 26\n"
      ]
     },
     "execution_count": 88,
     "metadata": {},
     "output_type": "execute_result"
    }
   ],
   "source": [
    "val maxHand = if (handA > handB) handA else handB"
   ]
  },
  {
   "cell_type": "markdown",
   "metadata": {},
   "source": [
    "## Back to 21"
   ]
  },
  {
   "cell_type": "code",
   "execution_count": 89,
   "metadata": {},
   "outputs": [
    {
     "name": "stdout",
     "output_type": "stream",
     "text": [
      "6\n"
     ]
    },
    {
     "data": {
      "text/plain": [
       "pointsToBust: (hand: Int)Int\n",
       "myHandPointsToBust: Int = 6\n"
      ]
     },
     "execution_count": 89,
     "metadata": {},
     "output_type": "execute_result"
    }
   ],
   "source": [
    "// Find the number of points that will cause a bust\n",
    "def pointsToBust(hand: Int): Int = {\n",
    "  // If the hand is a bust, 0 points remain\n",
    "  if (bust(hand))\n",
    "    0\n",
    "  // Otherwise, calculate the difference between 21 and the current hand\n",
    "  else\n",
    "    21 - hand\n",
    "}\n",
    "\n",
    "// Test pointsToBust with 10♠ and 5♣\n",
    "val myHandPointsToBust = pointsToBust(10 + 5)\n",
    "println(myHandPointsToBust)"
   ]
  },
  {
   "cell_type": "markdown",
   "metadata": {},
   "source": [
    "## while and imperative style\n",
    "\n"
   ]
  },
  {
   "cell_type": "code",
   "execution_count": 90,
   "metadata": {},
   "outputs": [
    {
     "name": "stdout",
     "output_type": "stream",
     "text": [
      "Hip hip hurray\n",
      "Hip hip hurray\n",
      "Hip hip hurray\n"
     ]
    },
    {
     "data": {
      "text/plain": [
       "i: Int = 3\n",
       "numRepetitions: Int = 3\n"
      ]
     },
     "execution_count": 90,
     "metadata": {},
     "output_type": "execute_result"
    }
   ],
   "source": [
    "var i = 0\n",
    "val numRepetitions = 3\n",
    "\n",
    "while (i < numRepetitions) {\n",
    "    // body of loop\n",
    "    println(\"Hip hip hurray\")\n",
    "    i += 1 // ++i and i++ do not work\n",
    "}"
   ]
  },
  {
   "cell_type": "markdown",
   "metadata": {},
   "source": [
    "### Looping over collections"
   ]
  },
  {
   "cell_type": "code",
   "execution_count": 91,
   "metadata": {},
   "outputs": [
    {
     "name": "stdout",
     "output_type": "stream",
     "text": [
      "false\n",
      "true\n",
      "false\n"
     ]
    },
    {
     "data": {
      "text/plain": [
       "i: Int = 3\n",
       "hands: Array[Int] = Array(17, 24, 21)\n"
      ]
     },
     "execution_count": 91,
     "metadata": {},
     "output_type": "execute_result"
    }
   ],
   "source": [
    "// Define counter variable\n",
    "var i = 0\n",
    "\n",
    "// Create an array with each player's hand\n",
    "var hands = Array(17, 24, 21)\n",
    "\n",
    "// Loop through hands and see if each busts\n",
    "while (i < hands.length) {\n",
    "    // body of loop\n",
    "    println(bust(hands(i)))\n",
    "    i += 1\n",
    "}"
   ]
  },
  {
   "cell_type": "markdown",
   "metadata": {},
   "source": [
    "## foreach and the functional style"
   ]
  },
  {
   "cell_type": "markdown",
   "metadata": {},
   "source": [
    "Scala is a *hybrid* imperative/functional language: it does not force functional style but it nudges towards it."
   ]
  },
  {
   "cell_type": "markdown",
   "metadata": {},
   "source": [
    "### Imperative\n",
    "\n",
    "In programming languages, **imperative** (C, Python, etc) means:\n",
    "1. One command at a time\n",
    "2. Iterating with loops\n",
    "3. Mutating shared state (e.g. mutating variables out of scope)"
   ]
  },
  {
   "cell_type": "code",
   "execution_count": 92,
   "metadata": {},
   "outputs": [
    {
     "name": "stdout",
     "output_type": "stream",
     "text": [
      "false\n",
      "true\n",
      "false\n"
     ]
    },
    {
     "data": {
      "text/plain": [
       "i: Int = 3\n",
       "hands: Array[Int] = Array(17, 24, 21)\n"
      ]
     },
     "execution_count": 92,
     "metadata": {},
     "output_type": "execute_result"
    }
   ],
   "source": [
    "// sample code in imperative style\n",
    "\n",
    "// 1. one command at a time\n",
    "var i = 0\n",
    "\n",
    "var hands = Array(17, 24, 21)\n",
    "\n",
    "// 2. iterating with loops\n",
    "while (i < hands.length) {\n",
    "    println(bust(hands(i)))\n",
    "    // 3. mutating shared state\n",
    "    i += 1\n",
    "}"
   ]
  },
  {
   "cell_type": "markdown",
   "metadata": {},
   "source": [
    "### Functional\n",
    "\n",
    "Scala favors functional style. \n",
    "\n",
    "1. Functions are first-class values\n",
    "2. Operations of a program should map input values to output values rather than change data in place (side effects should be avoided)\n",
    "    - *side effects*: code that modifies some variable outside of its local scope"
   ]
  },
  {
   "cell_type": "code",
   "execution_count": 93,
   "metadata": {},
   "outputs": [
    {
     "data": {
      "text/plain": [
       "bust: (hand: Int)Unit\n"
      ]
     },
     "execution_count": 93,
     "metadata": {},
     "output_type": "execute_result"
    }
   ],
   "source": [
    "// let's move the printing inside bust for the example\n",
    "def bust(hand: Int) = {\n",
    "    println(hand > 21)\n",
    "}"
   ]
  },
  {
   "cell_type": "code",
   "execution_count": 94,
   "metadata": {},
   "outputs": [
    {
     "name": "stdout",
     "output_type": "stream",
     "text": [
      "false\n",
      "true\n",
      "false\n"
     ]
    },
    {
     "data": {
      "text/plain": [
       "hands: Array[Int] = Array(17, 24, 21)\n"
      ]
     },
     "execution_count": 94,
     "metadata": {},
     "output_type": "execute_result"
    }
   ],
   "source": [
    "// sample code in functional style\n",
    "var hands = Array(17, 24, 21)\n",
    "\n",
    "// 2. iterating with foreach, a method of the Array object\n",
    "hands.foreach(bust)"
   ]
  },
  {
   "cell_type": "code",
   "execution_count": 95,
   "metadata": {},
   "outputs": [
    {
     "name": "stdout",
     "output_type": "stream",
     "text": [
      "true\n"
     ]
    },
    {
     "data": {
      "text/plain": [
       "myHand: Unit = ()\n"
      ]
     },
     "execution_count": 95,
     "metadata": {},
     "output_type": "execute_result"
    }
   ],
   "source": [
    "// here, printing to the standard output stream IS a side effect\n",
    "// when we provide 22 as input to bust then assign the result to a val\n",
    "// named myHand in the interpreter we see two lines of output: true and \n",
    "// myHand: Unit = ()\n",
    "\n",
    "// the input type hand no longer maps to a true output value with the\n",
    "// print statement present\n",
    "val myHand = bust(22)"
   ]
  },
  {
   "cell_type": "markdown",
   "metadata": {},
   "source": [
    "About modifying a variable outside of its scope"
   ]
  },
  {
   "cell_type": "code",
   "execution_count": null,
   "metadata": {},
   "outputs": [],
   "source": [
    "// i is defined in this scope\n",
    "var i = 0\n",
    "\n",
    "var hands = Array(17, 24, 21)\n",
    "\n",
    "while (i < hands.length) {\n",
    "    println(bust(hands(i)))\n",
    "    // but its value is changed in this scope\n",
    "    i += 1\n",
    "}\n",
    "\n",
    "// this is also considered a side effect"
   ]
  },
  {
   "cell_type": "markdown",
   "metadata": {},
   "source": [
    "## The spectrum of functional style\n",
    "\n",
    "- If we add `println` to the `bust` function, our code becomes less functional\n",
    "- If we replace the loop with `foreach`, our code becomes more functional"
   ]
  },
  {
   "cell_type": "markdown",
   "metadata": {},
   "source": [
    "## Signs of style\n",
    "\n",
    "Imperative style:\n",
    "- `var`\n",
    "- Side effects\n",
    "- `Unit`\n",
    "\n",
    "Functional style:\n",
    "- `val`\n",
    "- No side effects\n",
    "- Non-`Unit` value types\n",
    "    - `Int`\n",
    "    - `Boolean`\n",
    "    - `Double`\n"
   ]
  },
  {
   "cell_type": "code",
   "execution_count": null,
   "metadata": {},
   "outputs": [],
   "source": []
  }
 ],
 "metadata": {
  "kernelspec": {
   "display_name": "spylon-kernel",
   "language": "scala",
   "name": "spylon-kernel"
  },
  "language_info": {
   "codemirror_mode": "text/x-scala",
   "file_extension": ".scala",
   "help_links": [
    {
     "text": "MetaKernel Magics",
     "url": "https://metakernel.readthedocs.io/en/latest/source/README.html"
    }
   ],
   "mimetype": "text/x-scala",
   "name": "scala",
   "pygments_lexer": "scala",
   "version": "0.4.1"
  },
  "toc": {
   "base_numbering": 1,
   "nav_menu": {},
   "number_sections": true,
   "sideBar": true,
   "skip_h1_title": false,
   "title_cell": "Table of Contents",
   "title_sidebar": "Contents",
   "toc_cell": false,
   "toc_position": {},
   "toc_section_display": true,
   "toc_window_display": false
  },
  "varInspector": {
   "cols": {
    "lenName": 16,
    "lenType": 16,
    "lenVar": 40
   },
   "kernels_config": {
    "python": {
     "delete_cmd_postfix": "",
     "delete_cmd_prefix": "del ",
     "library": "var_list.py",
     "varRefreshCmd": "print(var_dic_list())"
    },
    "r": {
     "delete_cmd_postfix": ") ",
     "delete_cmd_prefix": "rm(",
     "library": "var_list.r",
     "varRefreshCmd": "cat(var_dic_list()) "
    }
   },
   "types_to_exclude": [
    "module",
    "function",
    "builtin_function_or_method",
    "instance",
    "_Feature"
   ],
   "window_display": false
  }
 },
 "nbformat": 4,
 "nbformat_minor": 4
}
